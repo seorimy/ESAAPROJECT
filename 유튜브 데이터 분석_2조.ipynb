{
 "cells": [
  {
   "cell_type": "code",
   "execution_count": 1,
   "metadata": {},
   "outputs": [],
   "source": [
    "import pandas as pd\n",
    "import numpy as np\n",
    "\n",
    "%matplotlib inline \n",
    "import matplotlib.pyplot as plt\n",
    "import matplotlib as mpl\n",
    "import seaborn as sns\n",
    "\n",
    "import os\n",
    "from subprocess import check_output"
   ]
  },
  {
   "cell_type": "markdown",
   "metadata": {},
   "source": [
    "# 1. 데이터 불러오기"
   ]
  },
  {
   "cell_type": "code",
   "execution_count": 2,
   "metadata": {},
   "outputs": [],
   "source": [
    "usvideos=pd.read_csv(\"USvideos.csv\")"
   ]
  },
  {
   "cell_type": "code",
   "execution_count": 3,
   "metadata": {},
   "outputs": [
    {
     "data": {
      "text/html": [
       "<div>\n",
       "<style scoped>\n",
       "    .dataframe tbody tr th:only-of-type {\n",
       "        vertical-align: middle;\n",
       "    }\n",
       "\n",
       "    .dataframe tbody tr th {\n",
       "        vertical-align: top;\n",
       "    }\n",
       "\n",
       "    .dataframe thead th {\n",
       "        text-align: right;\n",
       "    }\n",
       "</style>\n",
       "<table border=\"1\" class=\"dataframe\">\n",
       "  <thead>\n",
       "    <tr style=\"text-align: right;\">\n",
       "      <th></th>\n",
       "      <th>video_id</th>\n",
       "      <th>trending_date</th>\n",
       "      <th>title</th>\n",
       "      <th>channel_title</th>\n",
       "      <th>category_id</th>\n",
       "      <th>publish_time</th>\n",
       "      <th>tags</th>\n",
       "      <th>views</th>\n",
       "      <th>likes</th>\n",
       "      <th>dislikes</th>\n",
       "      <th>comment_count</th>\n",
       "      <th>thumbnail_link</th>\n",
       "      <th>comments_disabled</th>\n",
       "      <th>ratings_disabled</th>\n",
       "      <th>video_error_or_removed</th>\n",
       "      <th>description</th>\n",
       "    </tr>\n",
       "  </thead>\n",
       "  <tbody>\n",
       "    <tr>\n",
       "      <th>0</th>\n",
       "      <td>2kyS6SvSYSE</td>\n",
       "      <td>17.14.11</td>\n",
       "      <td>WE WANT TO TALK ABOUT OUR MARRIAGE</td>\n",
       "      <td>CaseyNeistat</td>\n",
       "      <td>22</td>\n",
       "      <td>2017-11-13T17:13:01.000Z</td>\n",
       "      <td>SHANtell martin</td>\n",
       "      <td>748374</td>\n",
       "      <td>57527</td>\n",
       "      <td>2966</td>\n",
       "      <td>15954</td>\n",
       "      <td>https://i.ytimg.com/vi/2kyS6SvSYSE/default.jpg</td>\n",
       "      <td>False</td>\n",
       "      <td>False</td>\n",
       "      <td>False</td>\n",
       "      <td>SHANTELL'S CHANNEL - https://www.youtube.com/s...</td>\n",
       "    </tr>\n",
       "    <tr>\n",
       "      <th>1</th>\n",
       "      <td>1ZAPwfrtAFY</td>\n",
       "      <td>17.14.11</td>\n",
       "      <td>The Trump Presidency: Last Week Tonight with J...</td>\n",
       "      <td>LastWeekTonight</td>\n",
       "      <td>24</td>\n",
       "      <td>2017-11-13T07:30:00.000Z</td>\n",
       "      <td>last week tonight trump presidency|\"last week ...</td>\n",
       "      <td>2418783</td>\n",
       "      <td>97185</td>\n",
       "      <td>6146</td>\n",
       "      <td>12703</td>\n",
       "      <td>https://i.ytimg.com/vi/1ZAPwfrtAFY/default.jpg</td>\n",
       "      <td>False</td>\n",
       "      <td>False</td>\n",
       "      <td>False</td>\n",
       "      <td>One year after the presidential election, John...</td>\n",
       "    </tr>\n",
       "    <tr>\n",
       "      <th>2</th>\n",
       "      <td>5qpjK5DgCt4</td>\n",
       "      <td>17.14.11</td>\n",
       "      <td>Racist Superman | Rudy Mancuso, King Bach &amp; Le...</td>\n",
       "      <td>Rudy Mancuso</td>\n",
       "      <td>23</td>\n",
       "      <td>2017-11-12T19:05:24.000Z</td>\n",
       "      <td>racist superman|\"rudy\"|\"mancuso\"|\"king\"|\"bach\"...</td>\n",
       "      <td>3191434</td>\n",
       "      <td>146033</td>\n",
       "      <td>5339</td>\n",
       "      <td>8181</td>\n",
       "      <td>https://i.ytimg.com/vi/5qpjK5DgCt4/default.jpg</td>\n",
       "      <td>False</td>\n",
       "      <td>False</td>\n",
       "      <td>False</td>\n",
       "      <td>WATCH MY PREVIOUS VIDEO ▶ \\n\\nSUBSCRIBE ► http...</td>\n",
       "    </tr>\n",
       "    <tr>\n",
       "      <th>3</th>\n",
       "      <td>puqaWrEC7tY</td>\n",
       "      <td>17.14.11</td>\n",
       "      <td>Nickelback Lyrics: Real or Fake?</td>\n",
       "      <td>Good Mythical Morning</td>\n",
       "      <td>24</td>\n",
       "      <td>2017-11-13T11:00:04.000Z</td>\n",
       "      <td>rhett and link|\"gmm\"|\"good mythical morning\"|\"...</td>\n",
       "      <td>343168</td>\n",
       "      <td>10172</td>\n",
       "      <td>666</td>\n",
       "      <td>2146</td>\n",
       "      <td>https://i.ytimg.com/vi/puqaWrEC7tY/default.jpg</td>\n",
       "      <td>False</td>\n",
       "      <td>False</td>\n",
       "      <td>False</td>\n",
       "      <td>Today we find out if Link is a Nickelback amat...</td>\n",
       "    </tr>\n",
       "    <tr>\n",
       "      <th>4</th>\n",
       "      <td>d380meD0W0M</td>\n",
       "      <td>17.14.11</td>\n",
       "      <td>I Dare You: GOING BALD!?</td>\n",
       "      <td>nigahiga</td>\n",
       "      <td>24</td>\n",
       "      <td>2017-11-12T18:01:41.000Z</td>\n",
       "      <td>ryan|\"higa\"|\"higatv\"|\"nigahiga\"|\"i dare you\"|\"...</td>\n",
       "      <td>2095731</td>\n",
       "      <td>132235</td>\n",
       "      <td>1989</td>\n",
       "      <td>17518</td>\n",
       "      <td>https://i.ytimg.com/vi/d380meD0W0M/default.jpg</td>\n",
       "      <td>False</td>\n",
       "      <td>False</td>\n",
       "      <td>False</td>\n",
       "      <td>I know it's been a while since we did this sho...</td>\n",
       "    </tr>\n",
       "  </tbody>\n",
       "</table>\n",
       "</div>"
      ],
      "text/plain": [
       "      video_id trending_date  \\\n",
       "0  2kyS6SvSYSE      17.14.11   \n",
       "1  1ZAPwfrtAFY      17.14.11   \n",
       "2  5qpjK5DgCt4      17.14.11   \n",
       "3  puqaWrEC7tY      17.14.11   \n",
       "4  d380meD0W0M      17.14.11   \n",
       "\n",
       "                                               title          channel_title  \\\n",
       "0                 WE WANT TO TALK ABOUT OUR MARRIAGE           CaseyNeistat   \n",
       "1  The Trump Presidency: Last Week Tonight with J...        LastWeekTonight   \n",
       "2  Racist Superman | Rudy Mancuso, King Bach & Le...           Rudy Mancuso   \n",
       "3                   Nickelback Lyrics: Real or Fake?  Good Mythical Morning   \n",
       "4                           I Dare You: GOING BALD!?               nigahiga   \n",
       "\n",
       "   category_id              publish_time  \\\n",
       "0           22  2017-11-13T17:13:01.000Z   \n",
       "1           24  2017-11-13T07:30:00.000Z   \n",
       "2           23  2017-11-12T19:05:24.000Z   \n",
       "3           24  2017-11-13T11:00:04.000Z   \n",
       "4           24  2017-11-12T18:01:41.000Z   \n",
       "\n",
       "                                                tags    views   likes  \\\n",
       "0                                    SHANtell martin   748374   57527   \n",
       "1  last week tonight trump presidency|\"last week ...  2418783   97185   \n",
       "2  racist superman|\"rudy\"|\"mancuso\"|\"king\"|\"bach\"...  3191434  146033   \n",
       "3  rhett and link|\"gmm\"|\"good mythical morning\"|\"...   343168   10172   \n",
       "4  ryan|\"higa\"|\"higatv\"|\"nigahiga\"|\"i dare you\"|\"...  2095731  132235   \n",
       "\n",
       "   dislikes  comment_count                                  thumbnail_link  \\\n",
       "0      2966          15954  https://i.ytimg.com/vi/2kyS6SvSYSE/default.jpg   \n",
       "1      6146          12703  https://i.ytimg.com/vi/1ZAPwfrtAFY/default.jpg   \n",
       "2      5339           8181  https://i.ytimg.com/vi/5qpjK5DgCt4/default.jpg   \n",
       "3       666           2146  https://i.ytimg.com/vi/puqaWrEC7tY/default.jpg   \n",
       "4      1989          17518  https://i.ytimg.com/vi/d380meD0W0M/default.jpg   \n",
       "\n",
       "   comments_disabled  ratings_disabled  video_error_or_removed  \\\n",
       "0              False             False                   False   \n",
       "1              False             False                   False   \n",
       "2              False             False                   False   \n",
       "3              False             False                   False   \n",
       "4              False             False                   False   \n",
       "\n",
       "                                         description  \n",
       "0  SHANTELL'S CHANNEL - https://www.youtube.com/s...  \n",
       "1  One year after the presidential election, John...  \n",
       "2  WATCH MY PREVIOUS VIDEO ▶ \\n\\nSUBSCRIBE ► http...  \n",
       "3  Today we find out if Link is a Nickelback amat...  \n",
       "4  I know it's been a while since we did this sho...  "
      ]
     },
     "execution_count": 3,
     "metadata": {},
     "output_type": "execute_result"
    }
   ],
   "source": [
    "usvideos.head()"
   ]
  },
  {
   "cell_type": "code",
   "execution_count": 4,
   "metadata": {},
   "outputs": [
    {
     "name": "stdout",
     "output_type": "stream",
     "text": [
      "<class 'pandas.core.frame.DataFrame'>\n",
      "RangeIndex: 40949 entries, 0 to 40948\n",
      "Data columns (total 16 columns):\n",
      " #   Column                  Non-Null Count  Dtype \n",
      "---  ------                  --------------  ----- \n",
      " 0   video_id                40949 non-null  object\n",
      " 1   trending_date           40949 non-null  object\n",
      " 2   title                   40949 non-null  object\n",
      " 3   channel_title           40949 non-null  object\n",
      " 4   category_id             40949 non-null  int64 \n",
      " 5   publish_time            40949 non-null  object\n",
      " 6   tags                    40949 non-null  object\n",
      " 7   views                   40949 non-null  int64 \n",
      " 8   likes                   40949 non-null  int64 \n",
      " 9   dislikes                40949 non-null  int64 \n",
      " 10  comment_count           40949 non-null  int64 \n",
      " 11  thumbnail_link          40949 non-null  object\n",
      " 12  comments_disabled       40949 non-null  bool  \n",
      " 13  ratings_disabled        40949 non-null  bool  \n",
      " 14  video_error_or_removed  40949 non-null  bool  \n",
      " 15  description             40379 non-null  object\n",
      "dtypes: bool(3), int64(5), object(8)\n",
      "memory usage: 4.2+ MB\n"
     ]
    }
   ],
   "source": [
    "usvideos.info()"
   ]
  },
  {
   "cell_type": "code",
   "execution_count": 5,
   "metadata": {},
   "outputs": [
    {
     "data": {
      "text/html": [
       "<div>\n",
       "<style scoped>\n",
       "    .dataframe tbody tr th:only-of-type {\n",
       "        vertical-align: middle;\n",
       "    }\n",
       "\n",
       "    .dataframe tbody tr th {\n",
       "        vertical-align: top;\n",
       "    }\n",
       "\n",
       "    .dataframe thead th {\n",
       "        text-align: right;\n",
       "    }\n",
       "</style>\n",
       "<table border=\"1\" class=\"dataframe\">\n",
       "  <thead>\n",
       "    <tr style=\"text-align: right;\">\n",
       "      <th></th>\n",
       "      <th>category_id</th>\n",
       "      <th>views</th>\n",
       "      <th>likes</th>\n",
       "      <th>dislikes</th>\n",
       "      <th>comment_count</th>\n",
       "    </tr>\n",
       "  </thead>\n",
       "  <tbody>\n",
       "    <tr>\n",
       "      <th>count</th>\n",
       "      <td>40949.000000</td>\n",
       "      <td>4.094900e+04</td>\n",
       "      <td>4.094900e+04</td>\n",
       "      <td>4.094900e+04</td>\n",
       "      <td>4.094900e+04</td>\n",
       "    </tr>\n",
       "    <tr>\n",
       "      <th>mean</th>\n",
       "      <td>19.972429</td>\n",
       "      <td>2.360785e+06</td>\n",
       "      <td>7.426670e+04</td>\n",
       "      <td>3.711401e+03</td>\n",
       "      <td>8.446804e+03</td>\n",
       "    </tr>\n",
       "    <tr>\n",
       "      <th>std</th>\n",
       "      <td>7.568327</td>\n",
       "      <td>7.394114e+06</td>\n",
       "      <td>2.288853e+05</td>\n",
       "      <td>2.902971e+04</td>\n",
       "      <td>3.743049e+04</td>\n",
       "    </tr>\n",
       "    <tr>\n",
       "      <th>min</th>\n",
       "      <td>1.000000</td>\n",
       "      <td>5.490000e+02</td>\n",
       "      <td>0.000000e+00</td>\n",
       "      <td>0.000000e+00</td>\n",
       "      <td>0.000000e+00</td>\n",
       "    </tr>\n",
       "    <tr>\n",
       "      <th>25%</th>\n",
       "      <td>17.000000</td>\n",
       "      <td>2.423290e+05</td>\n",
       "      <td>5.424000e+03</td>\n",
       "      <td>2.020000e+02</td>\n",
       "      <td>6.140000e+02</td>\n",
       "    </tr>\n",
       "    <tr>\n",
       "      <th>50%</th>\n",
       "      <td>24.000000</td>\n",
       "      <td>6.818610e+05</td>\n",
       "      <td>1.809100e+04</td>\n",
       "      <td>6.310000e+02</td>\n",
       "      <td>1.856000e+03</td>\n",
       "    </tr>\n",
       "    <tr>\n",
       "      <th>75%</th>\n",
       "      <td>25.000000</td>\n",
       "      <td>1.823157e+06</td>\n",
       "      <td>5.541700e+04</td>\n",
       "      <td>1.938000e+03</td>\n",
       "      <td>5.755000e+03</td>\n",
       "    </tr>\n",
       "    <tr>\n",
       "      <th>max</th>\n",
       "      <td>43.000000</td>\n",
       "      <td>2.252119e+08</td>\n",
       "      <td>5.613827e+06</td>\n",
       "      <td>1.674420e+06</td>\n",
       "      <td>1.361580e+06</td>\n",
       "    </tr>\n",
       "  </tbody>\n",
       "</table>\n",
       "</div>"
      ],
      "text/plain": [
       "        category_id         views         likes      dislikes  comment_count\n",
       "count  40949.000000  4.094900e+04  4.094900e+04  4.094900e+04   4.094900e+04\n",
       "mean      19.972429  2.360785e+06  7.426670e+04  3.711401e+03   8.446804e+03\n",
       "std        7.568327  7.394114e+06  2.288853e+05  2.902971e+04   3.743049e+04\n",
       "min        1.000000  5.490000e+02  0.000000e+00  0.000000e+00   0.000000e+00\n",
       "25%       17.000000  2.423290e+05  5.424000e+03  2.020000e+02   6.140000e+02\n",
       "50%       24.000000  6.818610e+05  1.809100e+04  6.310000e+02   1.856000e+03\n",
       "75%       25.000000  1.823157e+06  5.541700e+04  1.938000e+03   5.755000e+03\n",
       "max       43.000000  2.252119e+08  5.613827e+06  1.674420e+06   1.361580e+06"
      ]
     },
     "execution_count": 5,
     "metadata": {},
     "output_type": "execute_result"
    }
   ],
   "source": [
    "usvideos.describe()"
   ]
  },
  {
   "cell_type": "code",
   "execution_count": 6,
   "metadata": {},
   "outputs": [
    {
     "data": {
      "text/html": [
       "<div>\n",
       "<style scoped>\n",
       "    .dataframe tbody tr th:only-of-type {\n",
       "        vertical-align: middle;\n",
       "    }\n",
       "\n",
       "    .dataframe tbody tr th {\n",
       "        vertical-align: top;\n",
       "    }\n",
       "\n",
       "    .dataframe thead th {\n",
       "        text-align: right;\n",
       "    }\n",
       "</style>\n",
       "<table border=\"1\" class=\"dataframe\">\n",
       "  <thead>\n",
       "    <tr style=\"text-align: right;\">\n",
       "      <th></th>\n",
       "      <th>video_id</th>\n",
       "      <th>trending_date</th>\n",
       "      <th>title</th>\n",
       "      <th>channel_title</th>\n",
       "      <th>publish_time</th>\n",
       "      <th>tags</th>\n",
       "      <th>thumbnail_link</th>\n",
       "      <th>description</th>\n",
       "    </tr>\n",
       "  </thead>\n",
       "  <tbody>\n",
       "    <tr>\n",
       "      <th>count</th>\n",
       "      <td>40949</td>\n",
       "      <td>40949</td>\n",
       "      <td>40949</td>\n",
       "      <td>40949</td>\n",
       "      <td>40949</td>\n",
       "      <td>40949</td>\n",
       "      <td>40949</td>\n",
       "      <td>40379</td>\n",
       "    </tr>\n",
       "    <tr>\n",
       "      <th>unique</th>\n",
       "      <td>6351</td>\n",
       "      <td>205</td>\n",
       "      <td>6455</td>\n",
       "      <td>2207</td>\n",
       "      <td>6269</td>\n",
       "      <td>6055</td>\n",
       "      <td>6352</td>\n",
       "      <td>6901</td>\n",
       "    </tr>\n",
       "    <tr>\n",
       "      <th>top</th>\n",
       "      <td>j4KvrAUjn6c</td>\n",
       "      <td>18.16.04</td>\n",
       "      <td>WE MADE OUR MOM CRY...HER DREAM CAME TRUE!</td>\n",
       "      <td>ESPN</td>\n",
       "      <td>2018-05-18T14:00:04.000Z</td>\n",
       "      <td>[none]</td>\n",
       "      <td>https://i.ytimg.com/vi/j4KvrAUjn6c/default.jpg</td>\n",
       "      <td>► Listen LIVE: http://power1051fm.com/\\n► Face...</td>\n",
       "    </tr>\n",
       "    <tr>\n",
       "      <th>freq</th>\n",
       "      <td>30</td>\n",
       "      <td>200</td>\n",
       "      <td>30</td>\n",
       "      <td>203</td>\n",
       "      <td>50</td>\n",
       "      <td>1535</td>\n",
       "      <td>30</td>\n",
       "      <td>58</td>\n",
       "    </tr>\n",
       "  </tbody>\n",
       "</table>\n",
       "</div>"
      ],
      "text/plain": [
       "           video_id trending_date                                       title  \\\n",
       "count         40949         40949                                       40949   \n",
       "unique         6351           205                                        6455   \n",
       "top     j4KvrAUjn6c      18.16.04  WE MADE OUR MOM CRY...HER DREAM CAME TRUE!   \n",
       "freq             30           200                                          30   \n",
       "\n",
       "       channel_title              publish_time    tags  \\\n",
       "count          40949                     40949   40949   \n",
       "unique          2207                      6269    6055   \n",
       "top             ESPN  2018-05-18T14:00:04.000Z  [none]   \n",
       "freq             203                        50    1535   \n",
       "\n",
       "                                        thumbnail_link  \\\n",
       "count                                            40949   \n",
       "unique                                            6352   \n",
       "top     https://i.ytimg.com/vi/j4KvrAUjn6c/default.jpg   \n",
       "freq                                                30   \n",
       "\n",
       "                                              description  \n",
       "count                                               40379  \n",
       "unique                                               6901  \n",
       "top     ► Listen LIVE: http://power1051fm.com/\\n► Face...  \n",
       "freq                                                   58  "
      ]
     },
     "execution_count": 6,
     "metadata": {},
     "output_type": "execute_result"
    }
   ],
   "source": [
    "usvideos.describe(include=[np.object])"
   ]
  },
  {
   "cell_type": "code",
   "execution_count": null,
   "metadata": {},
   "outputs": [],
   "source": []
  },
  {
   "cell_type": "markdown",
   "metadata": {},
   "source": [
    "# 2. 데이터 살펴보기, 전처리"
   ]
  },
  {
   "cell_type": "code",
   "execution_count": 7,
   "metadata": {},
   "outputs": [
    {
     "data": {
      "text/plain": [
       "False    40316\n",
       "True       633\n",
       "Name: comments_disabled, dtype: int64"
      ]
     },
     "execution_count": 7,
     "metadata": {},
     "output_type": "execute_result"
    }
   ],
   "source": [
    "usvideos['comments_disabled'].value_counts()"
   ]
  },
  {
   "cell_type": "code",
   "execution_count": 8,
   "metadata": {},
   "outputs": [
    {
     "data": {
      "text/plain": [
       "False    40780\n",
       "True       169\n",
       "Name: ratings_disabled, dtype: int64"
      ]
     },
     "execution_count": 8,
     "metadata": {},
     "output_type": "execute_result"
    }
   ],
   "source": [
    "usvideos['ratings_disabled'].value_counts()"
   ]
  },
  {
   "cell_type": "code",
   "execution_count": 9,
   "metadata": {},
   "outputs": [
    {
     "data": {
      "text/plain": [
       "False    40926\n",
       "True        23\n",
       "Name: video_error_or_removed, dtype: int64"
      ]
     },
     "execution_count": 9,
     "metadata": {},
     "output_type": "execute_result"
    }
   ],
   "source": [
    "usvideos['video_error_or_removed'].value_counts()"
   ]
  },
  {
   "cell_type": "markdown",
   "metadata": {},
   "source": [
    "views, likes, dislikes, comment_count 간의 관계를 이용하여 분석할 예정이므로 comments_disabled, ratings_disabled, video_error_or_removed가 True인 관측치는 제외한다. "
   ]
  },
  {
   "cell_type": "code",
   "execution_count": 3,
   "metadata": {},
   "outputs": [],
   "source": [
    "filter = (usvideos['comments_disabled'] == 'False') & (usvideos['ratings_disabled'] == 'False') & (usvideos['video_error_or_removed'] == 'False')\n",
    "usvideos_new = usvideos.loc[filter]"
   ]
  },
  {
   "cell_type": "code",
   "execution_count": 4,
   "metadata": {},
   "outputs": [],
   "source": [
    "us_new = usvideos.loc[:,usvideos_new.columns.isin(['video_id', 'category_id','views','likes','dislikes','comment_count'])]"
   ]
  },
  {
   "cell_type": "code",
   "execution_count": 5,
   "metadata": {},
   "outputs": [
    {
     "data": {
      "text/html": [
       "<div>\n",
       "<style scoped>\n",
       "    .dataframe tbody tr th:only-of-type {\n",
       "        vertical-align: middle;\n",
       "    }\n",
       "\n",
       "    .dataframe tbody tr th {\n",
       "        vertical-align: top;\n",
       "    }\n",
       "\n",
       "    .dataframe thead th {\n",
       "        text-align: right;\n",
       "    }\n",
       "</style>\n",
       "<table border=\"1\" class=\"dataframe\">\n",
       "  <thead>\n",
       "    <tr style=\"text-align: right;\">\n",
       "      <th></th>\n",
       "      <th>video_id</th>\n",
       "      <th>category_id</th>\n",
       "      <th>views</th>\n",
       "      <th>likes</th>\n",
       "      <th>dislikes</th>\n",
       "      <th>comment_count</th>\n",
       "    </tr>\n",
       "  </thead>\n",
       "  <tbody>\n",
       "    <tr>\n",
       "      <th>0</th>\n",
       "      <td>2kyS6SvSYSE</td>\n",
       "      <td>22</td>\n",
       "      <td>748374</td>\n",
       "      <td>57527</td>\n",
       "      <td>2966</td>\n",
       "      <td>15954</td>\n",
       "    </tr>\n",
       "    <tr>\n",
       "      <th>1</th>\n",
       "      <td>1ZAPwfrtAFY</td>\n",
       "      <td>24</td>\n",
       "      <td>2418783</td>\n",
       "      <td>97185</td>\n",
       "      <td>6146</td>\n",
       "      <td>12703</td>\n",
       "    </tr>\n",
       "    <tr>\n",
       "      <th>2</th>\n",
       "      <td>5qpjK5DgCt4</td>\n",
       "      <td>23</td>\n",
       "      <td>3191434</td>\n",
       "      <td>146033</td>\n",
       "      <td>5339</td>\n",
       "      <td>8181</td>\n",
       "    </tr>\n",
       "    <tr>\n",
       "      <th>3</th>\n",
       "      <td>puqaWrEC7tY</td>\n",
       "      <td>24</td>\n",
       "      <td>343168</td>\n",
       "      <td>10172</td>\n",
       "      <td>666</td>\n",
       "      <td>2146</td>\n",
       "    </tr>\n",
       "    <tr>\n",
       "      <th>4</th>\n",
       "      <td>d380meD0W0M</td>\n",
       "      <td>24</td>\n",
       "      <td>2095731</td>\n",
       "      <td>132235</td>\n",
       "      <td>1989</td>\n",
       "      <td>17518</td>\n",
       "    </tr>\n",
       "  </tbody>\n",
       "</table>\n",
       "</div>"
      ],
      "text/plain": [
       "      video_id  category_id    views   likes  dislikes  comment_count\n",
       "0  2kyS6SvSYSE           22   748374   57527      2966          15954\n",
       "1  1ZAPwfrtAFY           24  2418783   97185      6146          12703\n",
       "2  5qpjK5DgCt4           23  3191434  146033      5339           8181\n",
       "3  puqaWrEC7tY           24   343168   10172       666           2146\n",
       "4  d380meD0W0M           24  2095731  132235      1989          17518"
      ]
     },
     "execution_count": 5,
     "metadata": {},
     "output_type": "execute_result"
    }
   ],
   "source": [
    "us_new.head()"
   ]
  },
  {
   "cell_type": "code",
   "execution_count": 6,
   "metadata": {},
   "outputs": [
    {
     "data": {
      "text/plain": [
       "(40949, 6)"
      ]
     },
     "execution_count": 6,
     "metadata": {},
     "output_type": "execute_result"
    }
   ],
   "source": [
    "us_new.shape"
   ]
  },
  {
   "cell_type": "code",
   "execution_count": null,
   "metadata": {},
   "outputs": [],
   "source": []
  },
  {
   "cell_type": "markdown",
   "metadata": {},
   "source": [
    "### video_id"
   ]
  },
  {
   "cell_type": "code",
   "execution_count": 7,
   "metadata": {},
   "outputs": [
    {
     "data": {
      "text/plain": [
       "j4KvrAUjn6c    30\n",
       "8h--kFui1JA    29\n",
       "MAjY8mCTXWk    29\n",
       "QBL8IRJ5yHU    29\n",
       "r-3iathMo7o    29\n",
       "               ..\n",
       "P4YJwy_T9pM     1\n",
       "Y6eKxjMA9ek     1\n",
       "PozbOaVdPp0     1\n",
       "rxUfRhVYeKI     1\n",
       "y86ymJNswlE     1\n",
       "Name: video_id, Length: 6351, dtype: int64"
      ]
     },
     "execution_count": 7,
     "metadata": {},
     "output_type": "execute_result"
    }
   ],
   "source": [
    "us_new[\"video_id\"].value_counts()"
   ]
  },
  {
   "cell_type": "markdown",
   "metadata": {},
   "source": [
    "특정 video_id가 많이 관측된것을 보면 특정 영상이 trending video에 오랫동안 올라와있었다는 것을 알 수 있다. "
   ]
  },
  {
   "cell_type": "code",
   "execution_count": 8,
   "metadata": {},
   "outputs": [
    {
     "data": {
      "text/html": [
       "<div>\n",
       "<style scoped>\n",
       "    .dataframe tbody tr th:only-of-type {\n",
       "        vertical-align: middle;\n",
       "    }\n",
       "\n",
       "    .dataframe tbody tr th {\n",
       "        vertical-align: top;\n",
       "    }\n",
       "\n",
       "    .dataframe thead th {\n",
       "        text-align: right;\n",
       "    }\n",
       "</style>\n",
       "<table border=\"1\" class=\"dataframe\">\n",
       "  <thead>\n",
       "    <tr style=\"text-align: right;\">\n",
       "      <th></th>\n",
       "      <th>video_id</th>\n",
       "      <th>trending_date</th>\n",
       "      <th>title</th>\n",
       "      <th>channel_title</th>\n",
       "      <th>category_id</th>\n",
       "      <th>publish_time</th>\n",
       "      <th>tags</th>\n",
       "      <th>views</th>\n",
       "      <th>likes</th>\n",
       "      <th>dislikes</th>\n",
       "      <th>comment_count</th>\n",
       "      <th>thumbnail_link</th>\n",
       "      <th>comments_disabled</th>\n",
       "      <th>ratings_disabled</th>\n",
       "      <th>video_error_or_removed</th>\n",
       "      <th>description</th>\n",
       "    </tr>\n",
       "  </thead>\n",
       "  <tbody>\n",
       "    <tr>\n",
       "      <th>34550</th>\n",
       "      <td>j4KvrAUjn6c</td>\n",
       "      <td>18.14.05</td>\n",
       "      <td>WE MADE OUR MOM CRY...HER DREAM CAME TRUE!</td>\n",
       "      <td>Lucas and Marcus</td>\n",
       "      <td>24</td>\n",
       "      <td>2018-05-13T18:03:56.000Z</td>\n",
       "      <td>Lucas and Marcus|\"Marcus and Lucas\"|\"Dobre\"|\"D...</td>\n",
       "      <td>2131702</td>\n",
       "      <td>54280</td>\n",
       "      <td>4696</td>\n",
       "      <td>10705</td>\n",
       "      <td>https://i.ytimg.com/vi/j4KvrAUjn6c/default.jpg</td>\n",
       "      <td>False</td>\n",
       "      <td>False</td>\n",
       "      <td>False</td>\n",
       "      <td>BEST MOM EVER! TIX ON SALE NOW!! https://www.d...</td>\n",
       "    </tr>\n",
       "    <tr>\n",
       "      <th>34752</th>\n",
       "      <td>j4KvrAUjn6c</td>\n",
       "      <td>18.15.05</td>\n",
       "      <td>WE MADE OUR MOM CRY...HER DREAM CAME TRUE!</td>\n",
       "      <td>Lucas and Marcus</td>\n",
       "      <td>24</td>\n",
       "      <td>2018-05-13T18:03:56.000Z</td>\n",
       "      <td>Lucas and Marcus|\"Marcus and Lucas\"|\"Dobre\"|\"D...</td>\n",
       "      <td>3906727</td>\n",
       "      <td>77378</td>\n",
       "      <td>12160</td>\n",
       "      <td>15874</td>\n",
       "      <td>https://i.ytimg.com/vi/j4KvrAUjn6c/default.jpg</td>\n",
       "      <td>False</td>\n",
       "      <td>False</td>\n",
       "      <td>False</td>\n",
       "      <td>BEST MOM EVER! WANT TO SEE US IN NYC &amp; NJ?!BUY...</td>\n",
       "    </tr>\n",
       "    <tr>\n",
       "      <th>34901</th>\n",
       "      <td>j4KvrAUjn6c</td>\n",
       "      <td>18.15.05</td>\n",
       "      <td>WE MADE OUR MOM CRY...HER DREAM CAME TRUE!</td>\n",
       "      <td>Lucas and Marcus</td>\n",
       "      <td>24</td>\n",
       "      <td>2018-05-13T18:03:56.000Z</td>\n",
       "      <td>Lucas and Marcus|\"Marcus and Lucas\"|\"Dobre\"|\"D...</td>\n",
       "      <td>3906727</td>\n",
       "      <td>77378</td>\n",
       "      <td>12160</td>\n",
       "      <td>15874</td>\n",
       "      <td>https://i.ytimg.com/vi/j4KvrAUjn6c/default.jpg</td>\n",
       "      <td>False</td>\n",
       "      <td>False</td>\n",
       "      <td>False</td>\n",
       "      <td>BEST MOM EVER! WANT TO SEE US IN NYC &amp; NJ?!BUY...</td>\n",
       "    </tr>\n",
       "    <tr>\n",
       "      <th>34966</th>\n",
       "      <td>j4KvrAUjn6c</td>\n",
       "      <td>18.16.05</td>\n",
       "      <td>WE MADE OUR MOM CRY...HER DREAM CAME TRUE!</td>\n",
       "      <td>Lucas and Marcus</td>\n",
       "      <td>24</td>\n",
       "      <td>2018-05-13T18:03:56.000Z</td>\n",
       "      <td>Lucas and Marcus|\"Marcus and Lucas\"|\"Dobre\"|\"D...</td>\n",
       "      <td>4862649</td>\n",
       "      <td>90451</td>\n",
       "      <td>14792</td>\n",
       "      <td>18035</td>\n",
       "      <td>https://i.ytimg.com/vi/j4KvrAUjn6c/default.jpg</td>\n",
       "      <td>False</td>\n",
       "      <td>False</td>\n",
       "      <td>False</td>\n",
       "      <td>BEST MOM EVER! WANT TO SEE US IN NYC &amp; NJ?!BUY...</td>\n",
       "    </tr>\n",
       "    <tr>\n",
       "      <th>35180</th>\n",
       "      <td>j4KvrAUjn6c</td>\n",
       "      <td>18.17.05</td>\n",
       "      <td>WE MADE OUR MOM CRY...HER DREAM CAME TRUE!</td>\n",
       "      <td>Lucas and Marcus</td>\n",
       "      <td>24</td>\n",
       "      <td>2018-05-13T18:03:56.000Z</td>\n",
       "      <td>Lucas and Marcus|\"Marcus and Lucas\"|\"Dobre\"|\"D...</td>\n",
       "      <td>5665445</td>\n",
       "      <td>101461</td>\n",
       "      <td>16170</td>\n",
       "      <td>19395</td>\n",
       "      <td>https://i.ytimg.com/vi/j4KvrAUjn6c/default.jpg</td>\n",
       "      <td>False</td>\n",
       "      <td>False</td>\n",
       "      <td>False</td>\n",
       "      <td>BEST MOM EVER! WANT TO SEE US IN NYC &amp; NJ?!BUY...</td>\n",
       "    </tr>\n",
       "    <tr>\n",
       "      <th>35396</th>\n",
       "      <td>j4KvrAUjn6c</td>\n",
       "      <td>18.18.05</td>\n",
       "      <td>WE MADE OUR MOM CRY...HER DREAM CAME TRUE!</td>\n",
       "      <td>Lucas and Marcus</td>\n",
       "      <td>24</td>\n",
       "      <td>2018-05-13T18:03:56.000Z</td>\n",
       "      <td>Lucas and Marcus|\"Marcus and Lucas\"|\"Dobre\"|\"D...</td>\n",
       "      <td>6290796</td>\n",
       "      <td>110373</td>\n",
       "      <td>17131</td>\n",
       "      <td>20365</td>\n",
       "      <td>https://i.ytimg.com/vi/j4KvrAUjn6c/default.jpg</td>\n",
       "      <td>False</td>\n",
       "      <td>False</td>\n",
       "      <td>False</td>\n",
       "      <td>BEST MOM EVER! WANT TO SEE US IN NYC &amp; NJ?!BUY...</td>\n",
       "    </tr>\n",
       "    <tr>\n",
       "      <th>35600</th>\n",
       "      <td>j4KvrAUjn6c</td>\n",
       "      <td>18.19.05</td>\n",
       "      <td>WE MADE OUR MOM CRY...HER DREAM CAME TRUE!</td>\n",
       "      <td>Lucas and Marcus</td>\n",
       "      <td>24</td>\n",
       "      <td>2018-05-13T18:03:56.000Z</td>\n",
       "      <td>Lucas and Marcus|\"Marcus and Lucas\"|\"Dobre\"|\"D...</td>\n",
       "      <td>6773604</td>\n",
       "      <td>116508</td>\n",
       "      <td>17787</td>\n",
       "      <td>20941</td>\n",
       "      <td>https://i.ytimg.com/vi/j4KvrAUjn6c/default.jpg</td>\n",
       "      <td>False</td>\n",
       "      <td>False</td>\n",
       "      <td>False</td>\n",
       "      <td>BEST MOM EVER! WANT TO SEE US IN NYC &amp; NJ?!BUY...</td>\n",
       "    </tr>\n",
       "    <tr>\n",
       "      <th>35804</th>\n",
       "      <td>j4KvrAUjn6c</td>\n",
       "      <td>18.20.05</td>\n",
       "      <td>WE MADE OUR MOM CRY...HER DREAM CAME TRUE!</td>\n",
       "      <td>Lucas and Marcus</td>\n",
       "      <td>24</td>\n",
       "      <td>2018-05-13T18:03:56.000Z</td>\n",
       "      <td>Lucas and Marcus|\"Marcus and Lucas\"|\"Dobre\"|\"D...</td>\n",
       "      <td>7204004</td>\n",
       "      <td>121673</td>\n",
       "      <td>18323</td>\n",
       "      <td>21459</td>\n",
       "      <td>https://i.ytimg.com/vi/j4KvrAUjn6c/default.jpg</td>\n",
       "      <td>False</td>\n",
       "      <td>False</td>\n",
       "      <td>False</td>\n",
       "      <td>BEST MOM EVER! WANT TO SEE US IN NYC &amp; NJ?!BUY...</td>\n",
       "    </tr>\n",
       "    <tr>\n",
       "      <th>36035</th>\n",
       "      <td>j4KvrAUjn6c</td>\n",
       "      <td>18.21.05</td>\n",
       "      <td>WE MADE OUR MOM CRY...HER DREAM CAME TRUE!</td>\n",
       "      <td>Lucas and Marcus</td>\n",
       "      <td>24</td>\n",
       "      <td>2018-05-13T18:03:56.000Z</td>\n",
       "      <td>Lucas and Marcus|\"Marcus and Lucas\"|\"Dobre\"|\"D...</td>\n",
       "      <td>7512530</td>\n",
       "      <td>125317</td>\n",
       "      <td>18633</td>\n",
       "      <td>21812</td>\n",
       "      <td>https://i.ytimg.com/vi/j4KvrAUjn6c/default.jpg</td>\n",
       "      <td>False</td>\n",
       "      <td>False</td>\n",
       "      <td>False</td>\n",
       "      <td>BEST MOM EVER! WANT TO SEE US IN NYC &amp; NJ?!BUY...</td>\n",
       "    </tr>\n",
       "    <tr>\n",
       "      <th>36245</th>\n",
       "      <td>j4KvrAUjn6c</td>\n",
       "      <td>18.22.05</td>\n",
       "      <td>WE MADE OUR MOM CRY...HER DREAM CAME TRUE!</td>\n",
       "      <td>Lucas and Marcus</td>\n",
       "      <td>24</td>\n",
       "      <td>2018-05-13T18:03:56.000Z</td>\n",
       "      <td>Lucas and Marcus|\"Marcus and Lucas\"|\"Dobre\"|\"D...</td>\n",
       "      <td>7740671</td>\n",
       "      <td>128377</td>\n",
       "      <td>18901</td>\n",
       "      <td>22052</td>\n",
       "      <td>https://i.ytimg.com/vi/j4KvrAUjn6c/default.jpg</td>\n",
       "      <td>False</td>\n",
       "      <td>False</td>\n",
       "      <td>False</td>\n",
       "      <td>BEST MOM EVER! WANT TO SEE US IN NYC &amp; NJ?!BUY...</td>\n",
       "    </tr>\n",
       "    <tr>\n",
       "      <th>36453</th>\n",
       "      <td>j4KvrAUjn6c</td>\n",
       "      <td>18.23.05</td>\n",
       "      <td>WE MADE OUR MOM CRY...HER DREAM CAME TRUE!</td>\n",
       "      <td>Lucas and Marcus</td>\n",
       "      <td>24</td>\n",
       "      <td>2018-05-13T18:03:56.000Z</td>\n",
       "      <td>Lucas and Marcus|\"Marcus and Lucas\"|\"Dobre\"|\"D...</td>\n",
       "      <td>7935926</td>\n",
       "      <td>130906</td>\n",
       "      <td>19082</td>\n",
       "      <td>22305</td>\n",
       "      <td>https://i.ytimg.com/vi/j4KvrAUjn6c/default.jpg</td>\n",
       "      <td>False</td>\n",
       "      <td>False</td>\n",
       "      <td>False</td>\n",
       "      <td>BEST MOM EVER! WANT TO SEE US IN NYC &amp; NJ?!BUY...</td>\n",
       "    </tr>\n",
       "    <tr>\n",
       "      <th>36661</th>\n",
       "      <td>j4KvrAUjn6c</td>\n",
       "      <td>18.24.05</td>\n",
       "      <td>WE MADE OUR MOM CRY...HER DREAM CAME TRUE!</td>\n",
       "      <td>Lucas and Marcus</td>\n",
       "      <td>24</td>\n",
       "      <td>2018-05-13T18:03:56.000Z</td>\n",
       "      <td>Lucas and Marcus|\"Marcus and Lucas\"|\"Dobre\"|\"D...</td>\n",
       "      <td>8111785</td>\n",
       "      <td>133189</td>\n",
       "      <td>19203</td>\n",
       "      <td>22499</td>\n",
       "      <td>https://i.ytimg.com/vi/j4KvrAUjn6c/default.jpg</td>\n",
       "      <td>False</td>\n",
       "      <td>False</td>\n",
       "      <td>False</td>\n",
       "      <td>BEST MOM EVER! WANT TO SEE US IN NYC &amp; NJ?!BUY...</td>\n",
       "    </tr>\n",
       "    <tr>\n",
       "      <th>36868</th>\n",
       "      <td>j4KvrAUjn6c</td>\n",
       "      <td>18.25.05</td>\n",
       "      <td>WE MADE OUR MOM CRY...HER DREAM CAME TRUE!</td>\n",
       "      <td>Lucas and Marcus</td>\n",
       "      <td>24</td>\n",
       "      <td>2018-05-13T18:03:56.000Z</td>\n",
       "      <td>Lucas and Marcus|\"Marcus and Lucas\"|\"Dobre\"|\"D...</td>\n",
       "      <td>8269671</td>\n",
       "      <td>135425</td>\n",
       "      <td>19324</td>\n",
       "      <td>22601</td>\n",
       "      <td>https://i.ytimg.com/vi/j4KvrAUjn6c/default.jpg</td>\n",
       "      <td>False</td>\n",
       "      <td>False</td>\n",
       "      <td>False</td>\n",
       "      <td>BEST MOM EVER! WANT TO SEE US IN NYC &amp; NJ?!BUY...</td>\n",
       "    </tr>\n",
       "    <tr>\n",
       "      <th>37080</th>\n",
       "      <td>j4KvrAUjn6c</td>\n",
       "      <td>18.26.05</td>\n",
       "      <td>WE MADE OUR MOM CRY...HER DREAM CAME TRUE!</td>\n",
       "      <td>Lucas and Marcus</td>\n",
       "      <td>24</td>\n",
       "      <td>2018-05-13T18:03:56.000Z</td>\n",
       "      <td>Lucas and Marcus|\"Marcus and Lucas\"|\"Dobre\"|\"D...</td>\n",
       "      <td>8447036</td>\n",
       "      <td>137831</td>\n",
       "      <td>19469</td>\n",
       "      <td>22788</td>\n",
       "      <td>https://i.ytimg.com/vi/j4KvrAUjn6c/default.jpg</td>\n",
       "      <td>False</td>\n",
       "      <td>False</td>\n",
       "      <td>False</td>\n",
       "      <td>BEST MOM EVER! WANT TO SEE US IN NYC &amp; NJ?!BUY...</td>\n",
       "    </tr>\n",
       "    <tr>\n",
       "      <th>37291</th>\n",
       "      <td>j4KvrAUjn6c</td>\n",
       "      <td>18.27.05</td>\n",
       "      <td>WE MADE OUR MOM CRY...HER DREAM CAME TRUE!</td>\n",
       "      <td>Lucas and Marcus</td>\n",
       "      <td>24</td>\n",
       "      <td>2018-05-13T18:03:56.000Z</td>\n",
       "      <td>Lucas and Marcus|\"Marcus and Lucas\"|\"Dobre\"|\"D...</td>\n",
       "      <td>8566954</td>\n",
       "      <td>139338</td>\n",
       "      <td>19559</td>\n",
       "      <td>22957</td>\n",
       "      <td>https://i.ytimg.com/vi/j4KvrAUjn6c/default.jpg</td>\n",
       "      <td>False</td>\n",
       "      <td>False</td>\n",
       "      <td>False</td>\n",
       "      <td>BEST MOM EVER! WANT TO SEE US IN NYC &amp; NJ?!BUY...</td>\n",
       "    </tr>\n",
       "    <tr>\n",
       "      <th>37493</th>\n",
       "      <td>j4KvrAUjn6c</td>\n",
       "      <td>18.28.05</td>\n",
       "      <td>WE MADE OUR MOM CRY...HER DREAM CAME TRUE!</td>\n",
       "      <td>Lucas and Marcus</td>\n",
       "      <td>24</td>\n",
       "      <td>2018-05-13T18:03:56.000Z</td>\n",
       "      <td>Lucas and Marcus|\"Marcus and Lucas\"|\"Dobre\"|\"D...</td>\n",
       "      <td>8696486</td>\n",
       "      <td>140940</td>\n",
       "      <td>19645</td>\n",
       "      <td>23104</td>\n",
       "      <td>https://i.ytimg.com/vi/j4KvrAUjn6c/default.jpg</td>\n",
       "      <td>False</td>\n",
       "      <td>False</td>\n",
       "      <td>False</td>\n",
       "      <td>BEST MOM EVER! WANT TO SEE US IN NYC &amp; NJ?!BUY...</td>\n",
       "    </tr>\n",
       "    <tr>\n",
       "      <th>37694</th>\n",
       "      <td>j4KvrAUjn6c</td>\n",
       "      <td>18.29.05</td>\n",
       "      <td>WE MADE OUR MOM CRY...HER DREAM CAME TRUE!</td>\n",
       "      <td>Lucas and Marcus</td>\n",
       "      <td>24</td>\n",
       "      <td>2018-05-13T18:03:56.000Z</td>\n",
       "      <td>Lucas and Marcus|\"Marcus and Lucas\"|\"Dobre\"|\"D...</td>\n",
       "      <td>8813246</td>\n",
       "      <td>142441</td>\n",
       "      <td>19706</td>\n",
       "      <td>23284</td>\n",
       "      <td>https://i.ytimg.com/vi/j4KvrAUjn6c/default.jpg</td>\n",
       "      <td>False</td>\n",
       "      <td>False</td>\n",
       "      <td>False</td>\n",
       "      <td>BEST MOM EVER! WANT TO SEE US IN NYC &amp; NJ?!BUY...</td>\n",
       "    </tr>\n",
       "    <tr>\n",
       "      <th>37899</th>\n",
       "      <td>j4KvrAUjn6c</td>\n",
       "      <td>18.30.05</td>\n",
       "      <td>WE MADE OUR MOM CRY...HER DREAM CAME TRUE!</td>\n",
       "      <td>Lucas and Marcus</td>\n",
       "      <td>24</td>\n",
       "      <td>2018-05-13T18:03:56.000Z</td>\n",
       "      <td>Lucas and Marcus|\"Marcus and Lucas\"|\"Dobre\"|\"D...</td>\n",
       "      <td>8919607</td>\n",
       "      <td>143957</td>\n",
       "      <td>19784</td>\n",
       "      <td>23431</td>\n",
       "      <td>https://i.ytimg.com/vi/j4KvrAUjn6c/default.jpg</td>\n",
       "      <td>False</td>\n",
       "      <td>False</td>\n",
       "      <td>False</td>\n",
       "      <td>BEST MOM EVER! WANT TO SEE US IN NYC &amp; NJ?!BUY...</td>\n",
       "    </tr>\n",
       "    <tr>\n",
       "      <th>38108</th>\n",
       "      <td>j4KvrAUjn6c</td>\n",
       "      <td>18.31.05</td>\n",
       "      <td>WE MADE OUR MOM CRY...HER DREAM CAME TRUE!</td>\n",
       "      <td>Lucas and Marcus</td>\n",
       "      <td>24</td>\n",
       "      <td>2018-05-13T18:03:56.000Z</td>\n",
       "      <td>Lucas and Marcus|\"Marcus and Lucas\"|\"Dobre\"|\"D...</td>\n",
       "      <td>9081270</td>\n",
       "      <td>146110</td>\n",
       "      <td>19887</td>\n",
       "      <td>23701</td>\n",
       "      <td>https://i.ytimg.com/vi/j4KvrAUjn6c/default.jpg</td>\n",
       "      <td>False</td>\n",
       "      <td>False</td>\n",
       "      <td>False</td>\n",
       "      <td>BEST MOM EVER! WANT TO SEE US IN NYC &amp; NJ?!BUY...</td>\n",
       "    </tr>\n",
       "    <tr>\n",
       "      <th>38307</th>\n",
       "      <td>j4KvrAUjn6c</td>\n",
       "      <td>18.01.06</td>\n",
       "      <td>WE MADE OUR MOM CRY...HER DREAM CAME TRUE!</td>\n",
       "      <td>Lucas and Marcus</td>\n",
       "      <td>24</td>\n",
       "      <td>2018-05-13T18:03:56.000Z</td>\n",
       "      <td>Lucas and Marcus|\"Marcus and Lucas\"|\"Dobre\"|\"D...</td>\n",
       "      <td>9146279</td>\n",
       "      <td>146847</td>\n",
       "      <td>19925</td>\n",
       "      <td>23760</td>\n",
       "      <td>https://i.ytimg.com/vi/j4KvrAUjn6c/default.jpg</td>\n",
       "      <td>False</td>\n",
       "      <td>False</td>\n",
       "      <td>False</td>\n",
       "      <td>BEST MOM EVER! WANT TO SEE US IN NYC &amp; NJ?!BUY...</td>\n",
       "    </tr>\n",
       "    <tr>\n",
       "      <th>38510</th>\n",
       "      <td>j4KvrAUjn6c</td>\n",
       "      <td>18.02.06</td>\n",
       "      <td>WE MADE OUR MOM CRY...HER DREAM CAME TRUE!</td>\n",
       "      <td>Lucas and Marcus</td>\n",
       "      <td>24</td>\n",
       "      <td>2018-05-13T18:03:56.000Z</td>\n",
       "      <td>Lucas and Marcus|\"Marcus and Lucas\"|\"Dobre\"|\"D...</td>\n",
       "      <td>9246304</td>\n",
       "      <td>148140</td>\n",
       "      <td>19980</td>\n",
       "      <td>23834</td>\n",
       "      <td>https://i.ytimg.com/vi/j4KvrAUjn6c/default.jpg</td>\n",
       "      <td>False</td>\n",
       "      <td>False</td>\n",
       "      <td>False</td>\n",
       "      <td>BEST MOM EVER! WANT TO SEE US IN NYC &amp; NJ?!BUY...</td>\n",
       "    </tr>\n",
       "    <tr>\n",
       "      <th>38715</th>\n",
       "      <td>j4KvrAUjn6c</td>\n",
       "      <td>18.03.06</td>\n",
       "      <td>WE MADE OUR MOM CRY...HER DREAM CAME TRUE!</td>\n",
       "      <td>Lucas and Marcus</td>\n",
       "      <td>24</td>\n",
       "      <td>2018-05-13T18:03:56.000Z</td>\n",
       "      <td>Lucas and Marcus|\"Marcus and Lucas\"|\"Dobre\"|\"D...</td>\n",
       "      <td>9353414</td>\n",
       "      <td>149538</td>\n",
       "      <td>20048</td>\n",
       "      <td>23982</td>\n",
       "      <td>https://i.ytimg.com/vi/j4KvrAUjn6c/default.jpg</td>\n",
       "      <td>False</td>\n",
       "      <td>False</td>\n",
       "      <td>False</td>\n",
       "      <td>BEST MOM EVER! WANT TO SEE US IN NYC &amp; NJ?!BUY...</td>\n",
       "    </tr>\n",
       "    <tr>\n",
       "      <th>38918</th>\n",
       "      <td>j4KvrAUjn6c</td>\n",
       "      <td>18.04.06</td>\n",
       "      <td>WE MADE OUR MOM CRY...HER DREAM CAME TRUE!</td>\n",
       "      <td>Lucas and Marcus</td>\n",
       "      <td>24</td>\n",
       "      <td>2018-05-13T18:03:56.000Z</td>\n",
       "      <td>Lucas and Marcus|\"Marcus and Lucas\"|\"Dobre\"|\"D...</td>\n",
       "      <td>9469242</td>\n",
       "      <td>151029</td>\n",
       "      <td>20123</td>\n",
       "      <td>24167</td>\n",
       "      <td>https://i.ytimg.com/vi/j4KvrAUjn6c/default.jpg</td>\n",
       "      <td>False</td>\n",
       "      <td>False</td>\n",
       "      <td>False</td>\n",
       "      <td>BEST MOM EVER! WANT TO SEE US IN NYC &amp; NJ?!BUY...</td>\n",
       "    </tr>\n",
       "    <tr>\n",
       "      <th>39122</th>\n",
       "      <td>j4KvrAUjn6c</td>\n",
       "      <td>18.05.06</td>\n",
       "      <td>WE MADE OUR MOM CRY...HER DREAM CAME TRUE!</td>\n",
       "      <td>Lucas and Marcus</td>\n",
       "      <td>24</td>\n",
       "      <td>2018-05-13T18:03:56.000Z</td>\n",
       "      <td>Lucas and Marcus|\"Marcus and Lucas\"|\"Dobre\"|\"D...</td>\n",
       "      <td>9581434</td>\n",
       "      <td>152552</td>\n",
       "      <td>20232</td>\n",
       "      <td>24353</td>\n",
       "      <td>https://i.ytimg.com/vi/j4KvrAUjn6c/default.jpg</td>\n",
       "      <td>False</td>\n",
       "      <td>False</td>\n",
       "      <td>False</td>\n",
       "      <td>BEST MOM EVER! WANT TO SEE US IN NYC &amp; NJ?!BUY...</td>\n",
       "    </tr>\n",
       "    <tr>\n",
       "      <th>39326</th>\n",
       "      <td>j4KvrAUjn6c</td>\n",
       "      <td>18.06.06</td>\n",
       "      <td>WE MADE OUR MOM CRY...HER DREAM CAME TRUE!</td>\n",
       "      <td>Lucas and Marcus</td>\n",
       "      <td>24</td>\n",
       "      <td>2018-05-13T18:03:56.000Z</td>\n",
       "      <td>Lucas and Marcus|\"Marcus and Lucas\"|\"Dobre\"|\"D...</td>\n",
       "      <td>9741685</td>\n",
       "      <td>154861</td>\n",
       "      <td>20398</td>\n",
       "      <td>24504</td>\n",
       "      <td>https://i.ytimg.com/vi/j4KvrAUjn6c/default.jpg</td>\n",
       "      <td>False</td>\n",
       "      <td>False</td>\n",
       "      <td>False</td>\n",
       "      <td>BEST MOM EVER! WANT TO SEE US IN NYC &amp; NJ?!BUY...</td>\n",
       "    </tr>\n",
       "    <tr>\n",
       "      <th>39529</th>\n",
       "      <td>j4KvrAUjn6c</td>\n",
       "      <td>18.07.06</td>\n",
       "      <td>WE MADE OUR MOM CRY...HER DREAM CAME TRUE!</td>\n",
       "      <td>Lucas and Marcus</td>\n",
       "      <td>24</td>\n",
       "      <td>2018-05-13T18:03:56.000Z</td>\n",
       "      <td>Lucas and Marcus|\"Marcus and Lucas\"|\"Dobre\"|\"D...</td>\n",
       "      <td>9855179</td>\n",
       "      <td>156308</td>\n",
       "      <td>20494</td>\n",
       "      <td>24653</td>\n",
       "      <td>https://i.ytimg.com/vi/j4KvrAUjn6c/default.jpg</td>\n",
       "      <td>False</td>\n",
       "      <td>False</td>\n",
       "      <td>False</td>\n",
       "      <td>BEST MOM EVER! WANT TO SEE US IN NYC &amp; NJ?!BUY...</td>\n",
       "    </tr>\n",
       "    <tr>\n",
       "      <th>39731</th>\n",
       "      <td>j4KvrAUjn6c</td>\n",
       "      <td>18.08.06</td>\n",
       "      <td>WE MADE OUR MOM CRY...HER DREAM CAME TRUE!</td>\n",
       "      <td>Lucas and Marcus</td>\n",
       "      <td>24</td>\n",
       "      <td>2018-05-13T18:03:56.000Z</td>\n",
       "      <td>Lucas and Marcus|\"Marcus and Lucas\"|\"Dobre\"|\"D...</td>\n",
       "      <td>10000226</td>\n",
       "      <td>158478</td>\n",
       "      <td>20617</td>\n",
       "      <td>24850</td>\n",
       "      <td>https://i.ytimg.com/vi/j4KvrAUjn6c/default.jpg</td>\n",
       "      <td>False</td>\n",
       "      <td>False</td>\n",
       "      <td>False</td>\n",
       "      <td>BEST MOM EVER! WANT TO SEE US IN NYC &amp; NJ?!BUY...</td>\n",
       "    </tr>\n",
       "    <tr>\n",
       "      <th>39937</th>\n",
       "      <td>j4KvrAUjn6c</td>\n",
       "      <td>18.09.06</td>\n",
       "      <td>WE MADE OUR MOM CRY...HER DREAM CAME TRUE!</td>\n",
       "      <td>Lucas and Marcus</td>\n",
       "      <td>24</td>\n",
       "      <td>2018-05-13T18:03:56.000Z</td>\n",
       "      <td>Lucas and Marcus|\"Marcus and Lucas\"|\"Dobre\"|\"D...</td>\n",
       "      <td>10133947</td>\n",
       "      <td>160160</td>\n",
       "      <td>20717</td>\n",
       "      <td>24976</td>\n",
       "      <td>https://i.ytimg.com/vi/j4KvrAUjn6c/default.jpg</td>\n",
       "      <td>False</td>\n",
       "      <td>False</td>\n",
       "      <td>False</td>\n",
       "      <td>BEST MOM EVER! WANT TO SEE US IN NYC &amp; NJ?!BUY...</td>\n",
       "    </tr>\n",
       "    <tr>\n",
       "      <th>40146</th>\n",
       "      <td>j4KvrAUjn6c</td>\n",
       "      <td>18.10.06</td>\n",
       "      <td>WE MADE OUR MOM CRY...HER DREAM CAME TRUE!</td>\n",
       "      <td>Lucas and Marcus</td>\n",
       "      <td>24</td>\n",
       "      <td>2018-05-13T18:03:56.000Z</td>\n",
       "      <td>Lucas and Marcus|\"Marcus and Lucas\"|\"Dobre\"|\"D...</td>\n",
       "      <td>10330588</td>\n",
       "      <td>162696</td>\n",
       "      <td>20861</td>\n",
       "      <td>25212</td>\n",
       "      <td>https://i.ytimg.com/vi/j4KvrAUjn6c/default.jpg</td>\n",
       "      <td>False</td>\n",
       "      <td>False</td>\n",
       "      <td>False</td>\n",
       "      <td>BEST MOM EVER! WANT TO SEE US IN NYC &amp; NJ?!BUY...</td>\n",
       "    </tr>\n",
       "    <tr>\n",
       "      <th>40346</th>\n",
       "      <td>j4KvrAUjn6c</td>\n",
       "      <td>18.11.06</td>\n",
       "      <td>WE MADE OUR MOM CRY...HER DREAM CAME TRUE!</td>\n",
       "      <td>Lucas and Marcus</td>\n",
       "      <td>24</td>\n",
       "      <td>2018-05-13T18:03:56.000Z</td>\n",
       "      <td>Lucas and Marcus|\"Marcus and Lucas\"|\"Dobre\"|\"D...</td>\n",
       "      <td>10381263</td>\n",
       "      <td>163325</td>\n",
       "      <td>20892</td>\n",
       "      <td>25323</td>\n",
       "      <td>https://i.ytimg.com/vi/j4KvrAUjn6c/default.jpg</td>\n",
       "      <td>False</td>\n",
       "      <td>False</td>\n",
       "      <td>False</td>\n",
       "      <td>BEST MOM EVER! WANT TO SEE US IN NYC &amp; NJ?!BUY...</td>\n",
       "    </tr>\n",
       "  </tbody>\n",
       "</table>\n",
       "</div>"
      ],
      "text/plain": [
       "          video_id trending_date                                       title  \\\n",
       "34550  j4KvrAUjn6c      18.14.05  WE MADE OUR MOM CRY...HER DREAM CAME TRUE!   \n",
       "34752  j4KvrAUjn6c      18.15.05  WE MADE OUR MOM CRY...HER DREAM CAME TRUE!   \n",
       "34901  j4KvrAUjn6c      18.15.05  WE MADE OUR MOM CRY...HER DREAM CAME TRUE!   \n",
       "34966  j4KvrAUjn6c      18.16.05  WE MADE OUR MOM CRY...HER DREAM CAME TRUE!   \n",
       "35180  j4KvrAUjn6c      18.17.05  WE MADE OUR MOM CRY...HER DREAM CAME TRUE!   \n",
       "35396  j4KvrAUjn6c      18.18.05  WE MADE OUR MOM CRY...HER DREAM CAME TRUE!   \n",
       "35600  j4KvrAUjn6c      18.19.05  WE MADE OUR MOM CRY...HER DREAM CAME TRUE!   \n",
       "35804  j4KvrAUjn6c      18.20.05  WE MADE OUR MOM CRY...HER DREAM CAME TRUE!   \n",
       "36035  j4KvrAUjn6c      18.21.05  WE MADE OUR MOM CRY...HER DREAM CAME TRUE!   \n",
       "36245  j4KvrAUjn6c      18.22.05  WE MADE OUR MOM CRY...HER DREAM CAME TRUE!   \n",
       "36453  j4KvrAUjn6c      18.23.05  WE MADE OUR MOM CRY...HER DREAM CAME TRUE!   \n",
       "36661  j4KvrAUjn6c      18.24.05  WE MADE OUR MOM CRY...HER DREAM CAME TRUE!   \n",
       "36868  j4KvrAUjn6c      18.25.05  WE MADE OUR MOM CRY...HER DREAM CAME TRUE!   \n",
       "37080  j4KvrAUjn6c      18.26.05  WE MADE OUR MOM CRY...HER DREAM CAME TRUE!   \n",
       "37291  j4KvrAUjn6c      18.27.05  WE MADE OUR MOM CRY...HER DREAM CAME TRUE!   \n",
       "37493  j4KvrAUjn6c      18.28.05  WE MADE OUR MOM CRY...HER DREAM CAME TRUE!   \n",
       "37694  j4KvrAUjn6c      18.29.05  WE MADE OUR MOM CRY...HER DREAM CAME TRUE!   \n",
       "37899  j4KvrAUjn6c      18.30.05  WE MADE OUR MOM CRY...HER DREAM CAME TRUE!   \n",
       "38108  j4KvrAUjn6c      18.31.05  WE MADE OUR MOM CRY...HER DREAM CAME TRUE!   \n",
       "38307  j4KvrAUjn6c      18.01.06  WE MADE OUR MOM CRY...HER DREAM CAME TRUE!   \n",
       "38510  j4KvrAUjn6c      18.02.06  WE MADE OUR MOM CRY...HER DREAM CAME TRUE!   \n",
       "38715  j4KvrAUjn6c      18.03.06  WE MADE OUR MOM CRY...HER DREAM CAME TRUE!   \n",
       "38918  j4KvrAUjn6c      18.04.06  WE MADE OUR MOM CRY...HER DREAM CAME TRUE!   \n",
       "39122  j4KvrAUjn6c      18.05.06  WE MADE OUR MOM CRY...HER DREAM CAME TRUE!   \n",
       "39326  j4KvrAUjn6c      18.06.06  WE MADE OUR MOM CRY...HER DREAM CAME TRUE!   \n",
       "39529  j4KvrAUjn6c      18.07.06  WE MADE OUR MOM CRY...HER DREAM CAME TRUE!   \n",
       "39731  j4KvrAUjn6c      18.08.06  WE MADE OUR MOM CRY...HER DREAM CAME TRUE!   \n",
       "39937  j4KvrAUjn6c      18.09.06  WE MADE OUR MOM CRY...HER DREAM CAME TRUE!   \n",
       "40146  j4KvrAUjn6c      18.10.06  WE MADE OUR MOM CRY...HER DREAM CAME TRUE!   \n",
       "40346  j4KvrAUjn6c      18.11.06  WE MADE OUR MOM CRY...HER DREAM CAME TRUE!   \n",
       "\n",
       "          channel_title  category_id              publish_time  \\\n",
       "34550  Lucas and Marcus           24  2018-05-13T18:03:56.000Z   \n",
       "34752  Lucas and Marcus           24  2018-05-13T18:03:56.000Z   \n",
       "34901  Lucas and Marcus           24  2018-05-13T18:03:56.000Z   \n",
       "34966  Lucas and Marcus           24  2018-05-13T18:03:56.000Z   \n",
       "35180  Lucas and Marcus           24  2018-05-13T18:03:56.000Z   \n",
       "35396  Lucas and Marcus           24  2018-05-13T18:03:56.000Z   \n",
       "35600  Lucas and Marcus           24  2018-05-13T18:03:56.000Z   \n",
       "35804  Lucas and Marcus           24  2018-05-13T18:03:56.000Z   \n",
       "36035  Lucas and Marcus           24  2018-05-13T18:03:56.000Z   \n",
       "36245  Lucas and Marcus           24  2018-05-13T18:03:56.000Z   \n",
       "36453  Lucas and Marcus           24  2018-05-13T18:03:56.000Z   \n",
       "36661  Lucas and Marcus           24  2018-05-13T18:03:56.000Z   \n",
       "36868  Lucas and Marcus           24  2018-05-13T18:03:56.000Z   \n",
       "37080  Lucas and Marcus           24  2018-05-13T18:03:56.000Z   \n",
       "37291  Lucas and Marcus           24  2018-05-13T18:03:56.000Z   \n",
       "37493  Lucas and Marcus           24  2018-05-13T18:03:56.000Z   \n",
       "37694  Lucas and Marcus           24  2018-05-13T18:03:56.000Z   \n",
       "37899  Lucas and Marcus           24  2018-05-13T18:03:56.000Z   \n",
       "38108  Lucas and Marcus           24  2018-05-13T18:03:56.000Z   \n",
       "38307  Lucas and Marcus           24  2018-05-13T18:03:56.000Z   \n",
       "38510  Lucas and Marcus           24  2018-05-13T18:03:56.000Z   \n",
       "38715  Lucas and Marcus           24  2018-05-13T18:03:56.000Z   \n",
       "38918  Lucas and Marcus           24  2018-05-13T18:03:56.000Z   \n",
       "39122  Lucas and Marcus           24  2018-05-13T18:03:56.000Z   \n",
       "39326  Lucas and Marcus           24  2018-05-13T18:03:56.000Z   \n",
       "39529  Lucas and Marcus           24  2018-05-13T18:03:56.000Z   \n",
       "39731  Lucas and Marcus           24  2018-05-13T18:03:56.000Z   \n",
       "39937  Lucas and Marcus           24  2018-05-13T18:03:56.000Z   \n",
       "40146  Lucas and Marcus           24  2018-05-13T18:03:56.000Z   \n",
       "40346  Lucas and Marcus           24  2018-05-13T18:03:56.000Z   \n",
       "\n",
       "                                                    tags     views   likes  \\\n",
       "34550  Lucas and Marcus|\"Marcus and Lucas\"|\"Dobre\"|\"D...   2131702   54280   \n",
       "34752  Lucas and Marcus|\"Marcus and Lucas\"|\"Dobre\"|\"D...   3906727   77378   \n",
       "34901  Lucas and Marcus|\"Marcus and Lucas\"|\"Dobre\"|\"D...   3906727   77378   \n",
       "34966  Lucas and Marcus|\"Marcus and Lucas\"|\"Dobre\"|\"D...   4862649   90451   \n",
       "35180  Lucas and Marcus|\"Marcus and Lucas\"|\"Dobre\"|\"D...   5665445  101461   \n",
       "35396  Lucas and Marcus|\"Marcus and Lucas\"|\"Dobre\"|\"D...   6290796  110373   \n",
       "35600  Lucas and Marcus|\"Marcus and Lucas\"|\"Dobre\"|\"D...   6773604  116508   \n",
       "35804  Lucas and Marcus|\"Marcus and Lucas\"|\"Dobre\"|\"D...   7204004  121673   \n",
       "36035  Lucas and Marcus|\"Marcus and Lucas\"|\"Dobre\"|\"D...   7512530  125317   \n",
       "36245  Lucas and Marcus|\"Marcus and Lucas\"|\"Dobre\"|\"D...   7740671  128377   \n",
       "36453  Lucas and Marcus|\"Marcus and Lucas\"|\"Dobre\"|\"D...   7935926  130906   \n",
       "36661  Lucas and Marcus|\"Marcus and Lucas\"|\"Dobre\"|\"D...   8111785  133189   \n",
       "36868  Lucas and Marcus|\"Marcus and Lucas\"|\"Dobre\"|\"D...   8269671  135425   \n",
       "37080  Lucas and Marcus|\"Marcus and Lucas\"|\"Dobre\"|\"D...   8447036  137831   \n",
       "37291  Lucas and Marcus|\"Marcus and Lucas\"|\"Dobre\"|\"D...   8566954  139338   \n",
       "37493  Lucas and Marcus|\"Marcus and Lucas\"|\"Dobre\"|\"D...   8696486  140940   \n",
       "37694  Lucas and Marcus|\"Marcus and Lucas\"|\"Dobre\"|\"D...   8813246  142441   \n",
       "37899  Lucas and Marcus|\"Marcus and Lucas\"|\"Dobre\"|\"D...   8919607  143957   \n",
       "38108  Lucas and Marcus|\"Marcus and Lucas\"|\"Dobre\"|\"D...   9081270  146110   \n",
       "38307  Lucas and Marcus|\"Marcus and Lucas\"|\"Dobre\"|\"D...   9146279  146847   \n",
       "38510  Lucas and Marcus|\"Marcus and Lucas\"|\"Dobre\"|\"D...   9246304  148140   \n",
       "38715  Lucas and Marcus|\"Marcus and Lucas\"|\"Dobre\"|\"D...   9353414  149538   \n",
       "38918  Lucas and Marcus|\"Marcus and Lucas\"|\"Dobre\"|\"D...   9469242  151029   \n",
       "39122  Lucas and Marcus|\"Marcus and Lucas\"|\"Dobre\"|\"D...   9581434  152552   \n",
       "39326  Lucas and Marcus|\"Marcus and Lucas\"|\"Dobre\"|\"D...   9741685  154861   \n",
       "39529  Lucas and Marcus|\"Marcus and Lucas\"|\"Dobre\"|\"D...   9855179  156308   \n",
       "39731  Lucas and Marcus|\"Marcus and Lucas\"|\"Dobre\"|\"D...  10000226  158478   \n",
       "39937  Lucas and Marcus|\"Marcus and Lucas\"|\"Dobre\"|\"D...  10133947  160160   \n",
       "40146  Lucas and Marcus|\"Marcus and Lucas\"|\"Dobre\"|\"D...  10330588  162696   \n",
       "40346  Lucas and Marcus|\"Marcus and Lucas\"|\"Dobre\"|\"D...  10381263  163325   \n",
       "\n",
       "       dislikes  comment_count  \\\n",
       "34550      4696          10705   \n",
       "34752     12160          15874   \n",
       "34901     12160          15874   \n",
       "34966     14792          18035   \n",
       "35180     16170          19395   \n",
       "35396     17131          20365   \n",
       "35600     17787          20941   \n",
       "35804     18323          21459   \n",
       "36035     18633          21812   \n",
       "36245     18901          22052   \n",
       "36453     19082          22305   \n",
       "36661     19203          22499   \n",
       "36868     19324          22601   \n",
       "37080     19469          22788   \n",
       "37291     19559          22957   \n",
       "37493     19645          23104   \n",
       "37694     19706          23284   \n",
       "37899     19784          23431   \n",
       "38108     19887          23701   \n",
       "38307     19925          23760   \n",
       "38510     19980          23834   \n",
       "38715     20048          23982   \n",
       "38918     20123          24167   \n",
       "39122     20232          24353   \n",
       "39326     20398          24504   \n",
       "39529     20494          24653   \n",
       "39731     20617          24850   \n",
       "39937     20717          24976   \n",
       "40146     20861          25212   \n",
       "40346     20892          25323   \n",
       "\n",
       "                                       thumbnail_link  comments_disabled  \\\n",
       "34550  https://i.ytimg.com/vi/j4KvrAUjn6c/default.jpg              False   \n",
       "34752  https://i.ytimg.com/vi/j4KvrAUjn6c/default.jpg              False   \n",
       "34901  https://i.ytimg.com/vi/j4KvrAUjn6c/default.jpg              False   \n",
       "34966  https://i.ytimg.com/vi/j4KvrAUjn6c/default.jpg              False   \n",
       "35180  https://i.ytimg.com/vi/j4KvrAUjn6c/default.jpg              False   \n",
       "35396  https://i.ytimg.com/vi/j4KvrAUjn6c/default.jpg              False   \n",
       "35600  https://i.ytimg.com/vi/j4KvrAUjn6c/default.jpg              False   \n",
       "35804  https://i.ytimg.com/vi/j4KvrAUjn6c/default.jpg              False   \n",
       "36035  https://i.ytimg.com/vi/j4KvrAUjn6c/default.jpg              False   \n",
       "36245  https://i.ytimg.com/vi/j4KvrAUjn6c/default.jpg              False   \n",
       "36453  https://i.ytimg.com/vi/j4KvrAUjn6c/default.jpg              False   \n",
       "36661  https://i.ytimg.com/vi/j4KvrAUjn6c/default.jpg              False   \n",
       "36868  https://i.ytimg.com/vi/j4KvrAUjn6c/default.jpg              False   \n",
       "37080  https://i.ytimg.com/vi/j4KvrAUjn6c/default.jpg              False   \n",
       "37291  https://i.ytimg.com/vi/j4KvrAUjn6c/default.jpg              False   \n",
       "37493  https://i.ytimg.com/vi/j4KvrAUjn6c/default.jpg              False   \n",
       "37694  https://i.ytimg.com/vi/j4KvrAUjn6c/default.jpg              False   \n",
       "37899  https://i.ytimg.com/vi/j4KvrAUjn6c/default.jpg              False   \n",
       "38108  https://i.ytimg.com/vi/j4KvrAUjn6c/default.jpg              False   \n",
       "38307  https://i.ytimg.com/vi/j4KvrAUjn6c/default.jpg              False   \n",
       "38510  https://i.ytimg.com/vi/j4KvrAUjn6c/default.jpg              False   \n",
       "38715  https://i.ytimg.com/vi/j4KvrAUjn6c/default.jpg              False   \n",
       "38918  https://i.ytimg.com/vi/j4KvrAUjn6c/default.jpg              False   \n",
       "39122  https://i.ytimg.com/vi/j4KvrAUjn6c/default.jpg              False   \n",
       "39326  https://i.ytimg.com/vi/j4KvrAUjn6c/default.jpg              False   \n",
       "39529  https://i.ytimg.com/vi/j4KvrAUjn6c/default.jpg              False   \n",
       "39731  https://i.ytimg.com/vi/j4KvrAUjn6c/default.jpg              False   \n",
       "39937  https://i.ytimg.com/vi/j4KvrAUjn6c/default.jpg              False   \n",
       "40146  https://i.ytimg.com/vi/j4KvrAUjn6c/default.jpg              False   \n",
       "40346  https://i.ytimg.com/vi/j4KvrAUjn6c/default.jpg              False   \n",
       "\n",
       "       ratings_disabled  video_error_or_removed  \\\n",
       "34550             False                   False   \n",
       "34752             False                   False   \n",
       "34901             False                   False   \n",
       "34966             False                   False   \n",
       "35180             False                   False   \n",
       "35396             False                   False   \n",
       "35600             False                   False   \n",
       "35804             False                   False   \n",
       "36035             False                   False   \n",
       "36245             False                   False   \n",
       "36453             False                   False   \n",
       "36661             False                   False   \n",
       "36868             False                   False   \n",
       "37080             False                   False   \n",
       "37291             False                   False   \n",
       "37493             False                   False   \n",
       "37694             False                   False   \n",
       "37899             False                   False   \n",
       "38108             False                   False   \n",
       "38307             False                   False   \n",
       "38510             False                   False   \n",
       "38715             False                   False   \n",
       "38918             False                   False   \n",
       "39122             False                   False   \n",
       "39326             False                   False   \n",
       "39529             False                   False   \n",
       "39731             False                   False   \n",
       "39937             False                   False   \n",
       "40146             False                   False   \n",
       "40346             False                   False   \n",
       "\n",
       "                                             description  \n",
       "34550  BEST MOM EVER! TIX ON SALE NOW!! https://www.d...  \n",
       "34752  BEST MOM EVER! WANT TO SEE US IN NYC & NJ?!BUY...  \n",
       "34901  BEST MOM EVER! WANT TO SEE US IN NYC & NJ?!BUY...  \n",
       "34966  BEST MOM EVER! WANT TO SEE US IN NYC & NJ?!BUY...  \n",
       "35180  BEST MOM EVER! WANT TO SEE US IN NYC & NJ?!BUY...  \n",
       "35396  BEST MOM EVER! WANT TO SEE US IN NYC & NJ?!BUY...  \n",
       "35600  BEST MOM EVER! WANT TO SEE US IN NYC & NJ?!BUY...  \n",
       "35804  BEST MOM EVER! WANT TO SEE US IN NYC & NJ?!BUY...  \n",
       "36035  BEST MOM EVER! WANT TO SEE US IN NYC & NJ?!BUY...  \n",
       "36245  BEST MOM EVER! WANT TO SEE US IN NYC & NJ?!BUY...  \n",
       "36453  BEST MOM EVER! WANT TO SEE US IN NYC & NJ?!BUY...  \n",
       "36661  BEST MOM EVER! WANT TO SEE US IN NYC & NJ?!BUY...  \n",
       "36868  BEST MOM EVER! WANT TO SEE US IN NYC & NJ?!BUY...  \n",
       "37080  BEST MOM EVER! WANT TO SEE US IN NYC & NJ?!BUY...  \n",
       "37291  BEST MOM EVER! WANT TO SEE US IN NYC & NJ?!BUY...  \n",
       "37493  BEST MOM EVER! WANT TO SEE US IN NYC & NJ?!BUY...  \n",
       "37694  BEST MOM EVER! WANT TO SEE US IN NYC & NJ?!BUY...  \n",
       "37899  BEST MOM EVER! WANT TO SEE US IN NYC & NJ?!BUY...  \n",
       "38108  BEST MOM EVER! WANT TO SEE US IN NYC & NJ?!BUY...  \n",
       "38307  BEST MOM EVER! WANT TO SEE US IN NYC & NJ?!BUY...  \n",
       "38510  BEST MOM EVER! WANT TO SEE US IN NYC & NJ?!BUY...  \n",
       "38715  BEST MOM EVER! WANT TO SEE US IN NYC & NJ?!BUY...  \n",
       "38918  BEST MOM EVER! WANT TO SEE US IN NYC & NJ?!BUY...  \n",
       "39122  BEST MOM EVER! WANT TO SEE US IN NYC & NJ?!BUY...  \n",
       "39326  BEST MOM EVER! WANT TO SEE US IN NYC & NJ?!BUY...  \n",
       "39529  BEST MOM EVER! WANT TO SEE US IN NYC & NJ?!BUY...  \n",
       "39731  BEST MOM EVER! WANT TO SEE US IN NYC & NJ?!BUY...  \n",
       "39937  BEST MOM EVER! WANT TO SEE US IN NYC & NJ?!BUY...  \n",
       "40146  BEST MOM EVER! WANT TO SEE US IN NYC & NJ?!BUY...  \n",
       "40346  BEST MOM EVER! WANT TO SEE US IN NYC & NJ?!BUY...  "
      ]
     },
     "execution_count": 8,
     "metadata": {},
     "output_type": "execute_result"
    }
   ],
   "source": [
    "filter=usvideos[\"video_id\"]==\"j4KvrAUjn6c\"\n",
    "usvideos.loc[filter]"
   ]
  },
  {
   "cell_type": "markdown",
   "metadata": {},
   "source": [
    "가장 오랫동안 trending video에 있었던 영상은 Lucas ans Marcus 채널의 _WE MADE OUR MOM CRY...HER DREAM CAME TRUE!_ 라는 영상이고 18년 5월 14일부터 18년 6월 11일까지 30일간 trending video에 있었다.  "
   ]
  },
  {
   "cell_type": "code",
   "execution_count": null,
   "metadata": {},
   "outputs": [],
   "source": []
  },
  {
   "cell_type": "markdown",
   "metadata": {},
   "source": [
    "### category_id"
   ]
  },
  {
   "cell_type": "code",
   "execution_count": 55,
   "metadata": {},
   "outputs": [
    {
     "data": {
      "image/png": "[encoded data removed]",
      "text/plain": [
       "<Figure size 432x288 with 1 Axes>"
      ]
     },
     "metadata": {
      "needs_background": "light"
     },
     "output_type": "display_data"
    }
   ],
   "source": [
    "us_new[\"category_id\"].hist()\n",
    "plt.title(\"category id\")\n",
    "plt.show()"
   ]
  },
  {
   "cell_type": "markdown",
   "metadata": {},
   "source": [
    "이 데이터는 category id가 특정 값에 몰려있다. "
   ]
  },
  {
   "cell_type": "code",
   "execution_count": 51,
   "metadata": {},
   "outputs": [
    {
     "data": {
      "text/plain": [
       "24    9964\n",
       "10    6472\n",
       "26    4146\n",
       "23    3457\n",
       "22    3210\n",
       "25    2487\n",
       "28    2401\n",
       "1     2345\n",
       "17    2174\n",
       "27    1656\n",
       "15     920\n",
       "20     817\n",
       "19     402\n",
       "2      384\n",
       "29      57\n",
       "43      57\n",
       "Name: category_id, dtype: int64"
      ]
     },
     "execution_count": 51,
     "metadata": {},
     "output_type": "execute_result"
    }
   ],
   "source": [
    "us_new[\"category_id\"].value_counts()"
   ]
  },
  {
   "cell_type": "markdown",
   "metadata": {},
   "source": [
    "가장 많이 등장하는 카테고리는 순서대로 Entertainment(24), Music(10), Howto&Style(26) 이고   \n",
    "가장 적게 등장하는 카테고리는 Shows(43), Nonprofits&Activism(29) 이다. "
   ]
  },
  {
   "cell_type": "code",
   "execution_count": null,
   "metadata": {},
   "outputs": [],
   "source": []
  },
  {
   "cell_type": "markdown",
   "metadata": {},
   "source": [
    "### views"
   ]
  },
  {
   "cell_type": "code",
   "execution_count": 56,
   "metadata": {},
   "outputs": [
    {
     "data": {
      "text/plain": [
       "<AxesSubplot:>"
      ]
     },
     "execution_count": 56,
     "metadata": {},
     "output_type": "execute_result"
    },
    {
     "data": {
      "image/png": "[encoded data removed]",
      "text/plain": [
       "<Figure size 432x288 with 1 Axes>"
      ]
     },
     "metadata": {
      "needs_background": "light"
     },
     "output_type": "display_data"
    }
   ],
   "source": [
    "us_new.boxplot(column=['views'])"
   ]
  },
  {
   "cell_type": "markdown",
   "metadata": {},
   "source": [
    "outlier 제거"
   ]
  },
  {
   "cell_type": "code",
   "execution_count": 57,
   "metadata": {},
   "outputs": [
    {
     "name": "stdout",
     "output_type": "stream",
     "text": [
      "-2128913.0 4194399.0\n",
      "original size :  40949\n",
      "new size :  36450\n"
     ]
    },
    {
     "data": {
      "image/png": "[encoded data removed]",
      "text/plain": [
       "<Figure size 432x288 with 1 Axes>"
      ]
     },
     "metadata": {
      "needs_background": "light"
     },
     "output_type": "display_data"
    }
   ],
   "source": [
    "Q1 = us_new['views'].quantile(0.25)\n",
    "Q3 = us_new['views'].quantile(0.75)\n",
    "IQR = Q3 - Q1    #IQR is interquartile range. \n",
    "\n",
    "filter = (us_new['views'] >= Q1 - 1.5 * IQR) & (us_new['views'] <= Q3 + 1.5 *IQR)\n",
    "print(Q1 - 1.5 * IQR,Q3 + 1.5 *IQR)\n",
    "\n",
    "filter = (us_new['views'] <= Q3 + 1.5 *IQR)\n",
    "us_new1 = us_new.loc[filter]\n",
    "us_new1.boxplot(column=['views'])\n",
    "\n",
    "print(\"original size : \",len(us_new['views']))\n",
    "print(\"new size : \",len(us_new1['views']))"
   ]
  },
  {
   "cell_type": "code",
   "execution_count": null,
   "metadata": {},
   "outputs": [],
   "source": []
  },
  {
   "cell_type": "markdown",
   "metadata": {},
   "source": [
    "### likes"
   ]
  },
  {
   "cell_type": "code",
   "execution_count": 74,
   "metadata": {},
   "outputs": [
    {
     "data": {
      "text/plain": [
       "<AxesSubplot:>"
      ]
     },
     "execution_count": 74,
     "metadata": {},
     "output_type": "execute_result"
    },
    {
     "data": {
      "image/png": "[encoded data removed]",
      "text/plain": [
       "<Figure size 432x288 with 1 Axes>"
      ]
     },
     "metadata": {
      "needs_background": "light"
     },
     "output_type": "display_data"
    }
   ],
   "source": [
    "us_new.boxplot(column=['likes'])"
   ]
  },
  {
   "cell_type": "code",
   "execution_count": 59,
   "metadata": {},
   "outputs": [
    {
     "name": "stdout",
     "output_type": "stream",
     "text": [
      "-69565.5 130406.5\n",
      "original size :  40949\n",
      "new size :  40050  ->'likes'는 outlier가 많아 outlier 제거하면 data가 꽤 작아짐.\n"
     ]
    },
    {
     "data": {
      "image/png": "[encoded data removed]",
      "text/plain": [
       "<Figure size 432x288 with 1 Axes>"
      ]
     },
     "metadata": {
      "needs_background": "light"
     },
     "output_type": "display_data"
    }
   ],
   "source": [
    "Q1 = us_new['likes'].quantile(0.25)\n",
    "Q3 = us_new['likes'].quantile(0.75)\n",
    "IQR = Q3 - Q1    #IQR is interquartile range. \n",
    "\n",
    "filter = (us_new['likes'] >= Q1 - 1.5 * IQR) & (us_new['likes'] <= Q3 + 1.5 *IQR)\n",
    "print(Q1 - 1.5 * IQR,Q3 + 1.5 *IQR)\n",
    "\n",
    "filter = (us_new['likes'] <= Q3 + 1.5 *IQR)\n",
    "filter = (us_new['likes'] <= 550000)\n",
    "us_new2 = us_new.loc[filter]\n",
    "us_new2.boxplot(column=['likes'])\n",
    "\n",
    "print(\"original size : \",len(us_new['likes']))\n",
    "print(\"new size : \",len(us_new2['likes']),\" ->'likes'는 outlier가 많아 outlier 제거하면 data가 꽤 작아짐.\")"
   ]
  },
  {
   "cell_type": "code",
   "execution_count": null,
   "metadata": {},
   "outputs": [],
   "source": []
  },
  {
   "cell_type": "markdown",
   "metadata": {},
   "source": [
    "### dislikes"
   ]
  },
  {
   "cell_type": "code",
   "execution_count": 72,
   "metadata": {},
   "outputs": [
    {
     "data": {
      "text/plain": [
       "<AxesSubplot:>"
      ]
     },
     "execution_count": 72,
     "metadata": {},
     "output_type": "execute_result"
    },
    {
     "data": {
      "image/png": "[encoded data removed]",
      "text/plain": [
       "<Figure size 432x288 with 1 Axes>"
      ]
     },
     "metadata": {
      "needs_background": "light"
     },
     "output_type": "display_data"
    }
   ],
   "source": [
    "us_new.boxplot(column=['dislikes'])"
   ]
  },
  {
   "cell_type": "code",
   "execution_count": 73,
   "metadata": {},
   "outputs": [
    {
     "name": "stdout",
     "output_type": "stream",
     "text": [
      "-2402.0 4542.0\n",
      "original size :  40949\n",
      "new size :  38447  ->'dislikes'는 많이 받은 영상만 많이 받음.\n"
     ]
    },
    {
     "data": {
      "image/png": "[encoded data removed]",
      "text/plain": [
       "<Figure size 432x288 with 1 Axes>"
      ]
     },
     "metadata": {
      "needs_background": "light"
     },
     "output_type": "display_data"
    }
   ],
   "source": [
    "Q1 = us_new['dislikes'].quantile(0.25)\n",
    "Q3 = us_new['dislikes'].quantile(0.75)\n",
    "IQR = Q3 - Q1    #IQR is interquartile range. \n",
    "\n",
    "filter = (us_new['dislikes'] >= Q1 - 1.5 * IQR) & (us_new['dislikes'] <= Q3 + 1.5 *IQR)\n",
    "print(Q1 - 1.5 * IQR,Q3 + 1.5 *IQR)\n",
    "\n",
    "filter = (us_new['dislikes'] <= Q3 + 1.5 *IQR)\n",
    "filter = (us_new['dislikes'] <= 10000)\n",
    "us_new3 = us_new.loc[filter]\n",
    "us_new3.boxplot(column=['dislikes'])\n",
    "\n",
    "print(\"original size : \",len(us_new['likes']))\n",
    "print(\"new size : \",len(us_new3['likes']),\" ->'dislikes'는 많이 받은 영상만 많이 받음.\")"
   ]
  },
  {
   "cell_type": "code",
   "execution_count": null,
   "metadata": {},
   "outputs": [],
   "source": []
  },
  {
   "cell_type": "markdown",
   "metadata": {},
   "source": [
    "### comment_count"
   ]
  },
  {
   "cell_type": "code",
   "execution_count": 75,
   "metadata": {},
   "outputs": [
    {
     "data": {
      "text/plain": [
       "<AxesSubplot:>"
      ]
     },
     "execution_count": 75,
     "metadata": {},
     "output_type": "execute_result"
    },
    {
     "data": {
      "image/png": "[encoded data removed]",
      "text/plain": [
       "<Figure size 432x288 with 1 Axes>"
      ]
     },
     "metadata": {
      "needs_background": "light"
     },
     "output_type": "display_data"
    }
   ],
   "source": [
    "us_new.boxplot(column=['comment_count'])"
   ]
  },
  {
   "cell_type": "code",
   "execution_count": 76,
   "metadata": {},
   "outputs": [
    {
     "name": "stdout",
     "output_type": "stream",
     "text": [
      "-7097.5 13466.5\n",
      "original size :  40949\n",
      "new size :  36388  ->'comment_count'는 많이 받은 영상만 많이 받음.\n"
     ]
    },
    {
     "data": {
      "image/png": "[encoded data removed]",
      "text/plain": [
       "<Figure size 432x288 with 1 Axes>"
      ]
     },
     "metadata": {
      "needs_background": "light"
     },
     "output_type": "display_data"
    }
   ],
   "source": [
    "Q1 = us_new['comment_count'].quantile(0.25)\n",
    "Q3 = us_new['comment_count'].quantile(0.75)\n",
    "IQR = Q3 - Q1    #IQR is interquartile range. \n",
    "\n",
    "filter = (us_new['comment_count'] >= Q1 - 1.5 * IQR) & (us_new['comment_count'] <= Q3 + 1.5 *IQR)\n",
    "print(Q1 - 1.5 * IQR,Q3 + 1.5 *IQR)\n",
    "\n",
    "#filter = (us_new['comment_count'] <= Q3 + 1.5 *IQR)\n",
    "filter = (us_new['comment_count'] <= 15000)\n",
    "us_new4 = us_new.loc[filter]\n",
    "us_new4.boxplot(column=['comment_count'])\n",
    "\n",
    "print(\"original size : \",len(us_new['comment_count']))\n",
    "print(\"new size : \",len(us_new4['comment_count']),\" ->'comment_count'는 많이 받은 영상만 많이 받음.\")"
   ]
  },
  {
   "cell_type": "code",
   "execution_count": null,
   "metadata": {},
   "outputs": [],
   "source": []
  },
  {
   "cell_type": "markdown",
   "metadata": {},
   "source": [
    "views, likes, dislikes, comment_count 모두 outlier에 해당되는 관측치 제외한 데이터 이용."
   ]
  },
  {
   "cell_type": "code",
   "execution_count": 6,
   "metadata": {},
   "outputs": [
    {
     "name": "stdout",
     "output_type": "stream",
     "text": [
      "original size :  40949\n",
      "new size :  33646\n"
     ]
    }
   ],
   "source": [
    "Q1 = us_new['views'].quantile(0.25)\n",
    "Q3 = us_new['views'].quantile(0.75)\n",
    "IQR = Q3 - Q1 \n",
    "\n",
    "filter = (us_new['views'] <= Q3 + 1.5 *IQR) & (us_new['likes'] <= 550000) & (us_new['dislikes'] <= 10000) & (us_new['comment_count'] <= 15000)\n",
    "filter2 = (us_new['views'] >0) & (us_new['likes'] >0) & (us_new['dislikes'] >0) & (us_new['comment_count'] >0)\n",
    "my_us = us_new.loc[filter]\n",
    "my_us = my_us.loc[filter2]\n",
    "\n",
    "print(\"original size : \",len(us_new.iloc[:,]))\n",
    "print(\"new size : \",len(my_us.iloc[:,]))"
   ]
  },
  {
   "cell_type": "code",
   "execution_count": 8,
   "metadata": {},
   "outputs": [
    {
     "name": "stdout",
     "output_type": "stream",
     "text": [
      "33646\n"
     ]
    }
   ],
   "source": [
    "n = len(my_us.iloc[:,])\n",
    "print(n)"
   ]
  },
  {
   "cell_type": "code",
   "execution_count": 9,
   "metadata": {},
   "outputs": [
    {
     "data": {
      "text/html": [
       "<div>\n",
       "<style scoped>\n",
       "    .dataframe tbody tr th:only-of-type {\n",
       "        vertical-align: middle;\n",
       "    }\n",
       "\n",
       "    .dataframe tbody tr th {\n",
       "        vertical-align: top;\n",
       "    }\n",
       "\n",
       "    .dataframe thead th {\n",
       "        text-align: right;\n",
       "    }\n",
       "</style>\n",
       "<table border=\"1\" class=\"dataframe\">\n",
       "  <thead>\n",
       "    <tr style=\"text-align: right;\">\n",
       "      <th></th>\n",
       "      <th>video_id</th>\n",
       "      <th>category_id</th>\n",
       "      <th>views</th>\n",
       "      <th>likes</th>\n",
       "      <th>dislikes</th>\n",
       "      <th>comment_count</th>\n",
       "    </tr>\n",
       "  </thead>\n",
       "  <tbody>\n",
       "    <tr>\n",
       "      <th>1</th>\n",
       "      <td>1ZAPwfrtAFY</td>\n",
       "      <td>24</td>\n",
       "      <td>2418783</td>\n",
       "      <td>97185</td>\n",
       "      <td>6146</td>\n",
       "      <td>12703</td>\n",
       "    </tr>\n",
       "    <tr>\n",
       "      <th>2</th>\n",
       "      <td>5qpjK5DgCt4</td>\n",
       "      <td>23</td>\n",
       "      <td>3191434</td>\n",
       "      <td>146033</td>\n",
       "      <td>5339</td>\n",
       "      <td>8181</td>\n",
       "    </tr>\n",
       "    <tr>\n",
       "      <th>3</th>\n",
       "      <td>puqaWrEC7tY</td>\n",
       "      <td>24</td>\n",
       "      <td>343168</td>\n",
       "      <td>10172</td>\n",
       "      <td>666</td>\n",
       "      <td>2146</td>\n",
       "    </tr>\n",
       "    <tr>\n",
       "      <th>5</th>\n",
       "      <td>gHZ1Qz0KiKM</td>\n",
       "      <td>28</td>\n",
       "      <td>119180</td>\n",
       "      <td>9763</td>\n",
       "      <td>511</td>\n",
       "      <td>1434</td>\n",
       "    </tr>\n",
       "    <tr>\n",
       "      <th>6</th>\n",
       "      <td>39idVpFF7NQ</td>\n",
       "      <td>24</td>\n",
       "      <td>2103417</td>\n",
       "      <td>15993</td>\n",
       "      <td>2445</td>\n",
       "      <td>1970</td>\n",
       "    </tr>\n",
       "  </tbody>\n",
       "</table>\n",
       "</div>"
      ],
      "text/plain": [
       "      video_id  category_id    views   likes  dislikes  comment_count\n",
       "1  1ZAPwfrtAFY           24  2418783   97185      6146          12703\n",
       "2  5qpjK5DgCt4           23  3191434  146033      5339           8181\n",
       "3  puqaWrEC7tY           24   343168   10172       666           2146\n",
       "5  gHZ1Qz0KiKM           28   119180    9763       511           1434\n",
       "6  39idVpFF7NQ           24  2103417   15993      2445           1970"
      ]
     },
     "execution_count": 9,
     "metadata": {},
     "output_type": "execute_result"
    }
   ],
   "source": [
    "my_us.head(5)"
   ]
  },
  {
   "cell_type": "code",
   "execution_count": 10,
   "metadata": {},
   "outputs": [
    {
     "data": {
      "text/plain": [
       "(34472, 16)"
      ]
     },
     "execution_count": 10,
     "metadata": {},
     "output_type": "execute_result"
    }
   ],
   "source": [
    "us_new = usvideos.loc[filter]\n",
    "us_new.shape"
   ]
  },
  {
   "cell_type": "code",
   "execution_count": 9,
   "metadata": {},
   "outputs": [
    {
     "data": {
      "text/html": [
       "<div>\n",
       "<style scoped>\n",
       "    .dataframe tbody tr th:only-of-type {\n",
       "        vertical-align: middle;\n",
       "    }\n",
       "\n",
       "    .dataframe tbody tr th {\n",
       "        vertical-align: top;\n",
       "    }\n",
       "\n",
       "    .dataframe thead th {\n",
       "        text-align: right;\n",
       "    }\n",
       "</style>\n",
       "<table border=\"1\" class=\"dataframe\">\n",
       "  <thead>\n",
       "    <tr style=\"text-align: right;\">\n",
       "      <th></th>\n",
       "      <th>video_id</th>\n",
       "      <th>trending_date</th>\n",
       "      <th>title</th>\n",
       "      <th>channel_title</th>\n",
       "      <th>category_id</th>\n",
       "      <th>publish_time</th>\n",
       "      <th>tags</th>\n",
       "      <th>views</th>\n",
       "      <th>likes</th>\n",
       "      <th>dislikes</th>\n",
       "      <th>comment_count</th>\n",
       "      <th>thumbnail_link</th>\n",
       "      <th>comments_disabled</th>\n",
       "      <th>ratings_disabled</th>\n",
       "      <th>video_error_or_removed</th>\n",
       "      <th>description</th>\n",
       "    </tr>\n",
       "  </thead>\n",
       "  <tbody>\n",
       "    <tr>\n",
       "      <th>1</th>\n",
       "      <td>1ZAPwfrtAFY</td>\n",
       "      <td>17.14.11</td>\n",
       "      <td>The Trump Presidency: Last Week Tonight with J...</td>\n",
       "      <td>LastWeekTonight</td>\n",
       "      <td>24</td>\n",
       "      <td>2017-11-13T07:30:00.000Z</td>\n",
       "      <td>last week tonight trump presidency|\"last week ...</td>\n",
       "      <td>2418783</td>\n",
       "      <td>97185</td>\n",
       "      <td>6146</td>\n",
       "      <td>12703</td>\n",
       "      <td>https://i.ytimg.com/vi/1ZAPwfrtAFY/default.jpg</td>\n",
       "      <td>False</td>\n",
       "      <td>False</td>\n",
       "      <td>False</td>\n",
       "      <td>One year after the presidential election, John...</td>\n",
       "    </tr>\n",
       "    <tr>\n",
       "      <th>2</th>\n",
       "      <td>5qpjK5DgCt4</td>\n",
       "      <td>17.14.11</td>\n",
       "      <td>Racist Superman | Rudy Mancuso, King Bach &amp; Le...</td>\n",
       "      <td>Rudy Mancuso</td>\n",
       "      <td>23</td>\n",
       "      <td>2017-11-12T19:05:24.000Z</td>\n",
       "      <td>racist superman|\"rudy\"|\"mancuso\"|\"king\"|\"bach\"...</td>\n",
       "      <td>3191434</td>\n",
       "      <td>146033</td>\n",
       "      <td>5339</td>\n",
       "      <td>8181</td>\n",
       "      <td>https://i.ytimg.com/vi/5qpjK5DgCt4/default.jpg</td>\n",
       "      <td>False</td>\n",
       "      <td>False</td>\n",
       "      <td>False</td>\n",
       "      <td>WATCH MY PREVIOUS VIDEO ▶ \\n\\nSUBSCRIBE ► http...</td>\n",
       "    </tr>\n",
       "    <tr>\n",
       "      <th>3</th>\n",
       "      <td>puqaWrEC7tY</td>\n",
       "      <td>17.14.11</td>\n",
       "      <td>Nickelback Lyrics: Real or Fake?</td>\n",
       "      <td>Good Mythical Morning</td>\n",
       "      <td>24</td>\n",
       "      <td>2017-11-13T11:00:04.000Z</td>\n",
       "      <td>rhett and link|\"gmm\"|\"good mythical morning\"|\"...</td>\n",
       "      <td>343168</td>\n",
       "      <td>10172</td>\n",
       "      <td>666</td>\n",
       "      <td>2146</td>\n",
       "      <td>https://i.ytimg.com/vi/puqaWrEC7tY/default.jpg</td>\n",
       "      <td>False</td>\n",
       "      <td>False</td>\n",
       "      <td>False</td>\n",
       "      <td>Today we find out if Link is a Nickelback amat...</td>\n",
       "    </tr>\n",
       "    <tr>\n",
       "      <th>5</th>\n",
       "      <td>gHZ1Qz0KiKM</td>\n",
       "      <td>17.14.11</td>\n",
       "      <td>2 Weeks with iPhone X</td>\n",
       "      <td>iJustine</td>\n",
       "      <td>28</td>\n",
       "      <td>2017-11-13T19:07:23.000Z</td>\n",
       "      <td>ijustine|\"week with iPhone X\"|\"iphone x\"|\"appl...</td>\n",
       "      <td>119180</td>\n",
       "      <td>9763</td>\n",
       "      <td>511</td>\n",
       "      <td>1434</td>\n",
       "      <td>https://i.ytimg.com/vi/gHZ1Qz0KiKM/default.jpg</td>\n",
       "      <td>False</td>\n",
       "      <td>False</td>\n",
       "      <td>False</td>\n",
       "      <td>Using the iPhone for the past two weeks -- her...</td>\n",
       "    </tr>\n",
       "    <tr>\n",
       "      <th>6</th>\n",
       "      <td>39idVpFF7NQ</td>\n",
       "      <td>17.14.11</td>\n",
       "      <td>Roy Moore &amp; Jeff Sessions Cold Open - SNL</td>\n",
       "      <td>Saturday Night Live</td>\n",
       "      <td>24</td>\n",
       "      <td>2017-11-12T05:37:17.000Z</td>\n",
       "      <td>SNL|\"Saturday Night Live\"|\"SNL Season 43\"|\"Epi...</td>\n",
       "      <td>2103417</td>\n",
       "      <td>15993</td>\n",
       "      <td>2445</td>\n",
       "      <td>1970</td>\n",
       "      <td>https://i.ytimg.com/vi/39idVpFF7NQ/default.jpg</td>\n",
       "      <td>False</td>\n",
       "      <td>False</td>\n",
       "      <td>False</td>\n",
       "      <td>Embattled Alabama Senate candidate Roy Moore (...</td>\n",
       "    </tr>\n",
       "  </tbody>\n",
       "</table>\n",
       "</div>"
      ],
      "text/plain": [
       "      video_id trending_date  \\\n",
       "1  1ZAPwfrtAFY      17.14.11   \n",
       "2  5qpjK5DgCt4      17.14.11   \n",
       "3  puqaWrEC7tY      17.14.11   \n",
       "5  gHZ1Qz0KiKM      17.14.11   \n",
       "6  39idVpFF7NQ      17.14.11   \n",
       "\n",
       "                                               title          channel_title  \\\n",
       "1  The Trump Presidency: Last Week Tonight with J...        LastWeekTonight   \n",
       "2  Racist Superman | Rudy Mancuso, King Bach & Le...           Rudy Mancuso   \n",
       "3                   Nickelback Lyrics: Real or Fake?  Good Mythical Morning   \n",
       "5                              2 Weeks with iPhone X               iJustine   \n",
       "6          Roy Moore & Jeff Sessions Cold Open - SNL    Saturday Night Live   \n",
       "\n",
       "   category_id              publish_time  \\\n",
       "1           24  2017-11-13T07:30:00.000Z   \n",
       "2           23  2017-11-12T19:05:24.000Z   \n",
       "3           24  2017-11-13T11:00:04.000Z   \n",
       "5           28  2017-11-13T19:07:23.000Z   \n",
       "6           24  2017-11-12T05:37:17.000Z   \n",
       "\n",
       "                                                tags    views   likes  \\\n",
       "1  last week tonight trump presidency|\"last week ...  2418783   97185   \n",
       "2  racist superman|\"rudy\"|\"mancuso\"|\"king\"|\"bach\"...  3191434  146033   \n",
       "3  rhett and link|\"gmm\"|\"good mythical morning\"|\"...   343168   10172   \n",
       "5  ijustine|\"week with iPhone X\"|\"iphone x\"|\"appl...   119180    9763   \n",
       "6  SNL|\"Saturday Night Live\"|\"SNL Season 43\"|\"Epi...  2103417   15993   \n",
       "\n",
       "   dislikes  comment_count                                  thumbnail_link  \\\n",
       "1      6146          12703  https://i.ytimg.com/vi/1ZAPwfrtAFY/default.jpg   \n",
       "2      5339           8181  https://i.ytimg.com/vi/5qpjK5DgCt4/default.jpg   \n",
       "3       666           2146  https://i.ytimg.com/vi/puqaWrEC7tY/default.jpg   \n",
       "5       511           1434  https://i.ytimg.com/vi/gHZ1Qz0KiKM/default.jpg   \n",
       "6      2445           1970  https://i.ytimg.com/vi/39idVpFF7NQ/default.jpg   \n",
       "\n",
       "   comments_disabled  ratings_disabled  video_error_or_removed  \\\n",
       "1              False             False                   False   \n",
       "2              False             False                   False   \n",
       "3              False             False                   False   \n",
       "5              False             False                   False   \n",
       "6              False             False                   False   \n",
       "\n",
       "                                         description  \n",
       "1  One year after the presidential election, John...  \n",
       "2  WATCH MY PREVIOUS VIDEO ▶ \\n\\nSUBSCRIBE ► http...  \n",
       "3  Today we find out if Link is a Nickelback amat...  \n",
       "5  Using the iPhone for the past two weeks -- her...  \n",
       "6  Embattled Alabama Senate candidate Roy Moore (...  "
      ]
     },
     "execution_count": 9,
     "metadata": {},
     "output_type": "execute_result"
    }
   ],
   "source": [
    "us_new.head(5)"
   ]
  },
  {
   "cell_type": "code",
   "execution_count": null,
   "metadata": {},
   "outputs": [],
   "source": []
  },
  {
   "cell_type": "markdown",
   "metadata": {},
   "source": [
    "# 3. views, likes, dislikes, comment_count 사이 관계"
   ]
  },
  {
   "cell_type": "markdown",
   "metadata": {},
   "source": [
    "## 3-1. 다항회귀\n",
    " views, likes 사이 관계"
   ]
  },
  {
   "cell_type": "code",
   "execution_count": 82,
   "metadata": {},
   "outputs": [],
   "source": [
    "X = pd.DataFrame(my_us['views'])\n",
    "y = pd.DataFrame(my_us['likes'])"
   ]
  },
  {
   "cell_type": "code",
   "execution_count": 83,
   "metadata": {},
   "outputs": [
    {
     "data": {
      "image/png": "[encoded data removed]",
      "text/plain": [
       "<Figure size 432x288 with 1 Axes>"
      ]
     },
     "metadata": {
      "needs_background": "light"
     },
     "output_type": "display_data"
    }
   ],
   "source": [
    "plt.plot(X, y, \"b.\")\n",
    "plt.xlabel(\"$x_1$\", fontsize=18)\n",
    "plt.ylabel(\"$y$\", rotation=0, fontsize=18)\n",
    "plt.show()"
   ]
  },
  {
   "cell_type": "code",
   "execution_count": 84,
   "metadata": {},
   "outputs": [],
   "source": [
    "\n",
    "X = np.log(X)\n",
    "y = np.log(y)"
   ]
  },
  {
   "cell_type": "code",
   "execution_count": 85,
   "metadata": {},
   "outputs": [
    {
     "data": {
      "image/png": "[encoded data removed]",
      "text/plain": [
       "<Figure size 432x288 with 1 Axes>"
      ]
     },
     "metadata": {
      "needs_background": "light"
     },
     "output_type": "display_data"
    }
   ],
   "source": [
    "plt.plot(X, y, \"b.\")\n",
    "plt.xlabel(\"$x_1$\", fontsize=18)\n",
    "plt.ylabel(\"$y$\", rotation=0, fontsize=18)\n",
    "plt.show()"
   ]
  },
  {
   "cell_type": "code",
   "execution_count": 86,
   "metadata": {},
   "outputs": [],
   "source": [
    "from sklearn.preprocessing import PolynomialFeatures\n",
    "\n",
    "poly_features = PolynomialFeatures(degree=2, include_bias=False)\n",
    "X_poly = poly_features.fit_transform(X)\n",
    "#print('X[0] :', X[0])\n",
    "#print('X_poly[0] :', X_poly[0])"
   ]
  },
  {
   "cell_type": "code",
   "execution_count": 87,
   "metadata": {},
   "outputs": [
    {
     "data": {
      "text/plain": [
       "LinearRegression()"
      ]
     },
     "execution_count": 87,
     "metadata": {},
     "output_type": "execute_result"
    }
   ],
   "source": [
    "from sklearn.linear_model import LinearRegression\n",
    "\n",
    "lin_reg = LinearRegression()\n",
    "lin_reg.fit(X_poly, y)"
   ]
  },
  {
   "cell_type": "code",
   "execution_count": 88,
   "metadata": {},
   "outputs": [
    {
     "data": {
      "text/plain": [
       "(array([-10.78953674]), array([[ 2.10834771, -0.04285754]]))"
      ]
     },
     "execution_count": 88,
     "metadata": {},
     "output_type": "execute_result"
    }
   ],
   "source": [
    "lin_reg.intercept_, lin_reg.coef_"
   ]
  },
  {
   "cell_type": "markdown",
   "metadata": {},
   "source": [
    "최종적으로 예측된 모델은 다음과 같다. (log transformation 반영)\n",
    "\n",
    "$$\n",
    "exp^y = exp^{-0.042 x^2 + 2.108 x - 10.789}\n",
    "$$\n",
    "                                                               \n",
    "즉, $$ y = -0.042 x^2 + 2.108 x - 10.789 $$"
   ]
  },
  {
   "cell_type": "code",
   "execution_count": 89,
   "metadata": {},
   "outputs": [
    {
     "name": "stderr",
     "output_type": "stream",
     "text": [
      "C:\\ProgramData\\Anaconda3\\envs\\testtest\\lib\\site-packages\\matplotlib\\backends\\backend_agg.py:238: RuntimeWarning: Glyph 50696 missing from current font.\n",
      "  font.set_text(s, 0.0, flags=flags)\n",
      "C:\\ProgramData\\Anaconda3\\envs\\testtest\\lib\\site-packages\\matplotlib\\backends\\backend_agg.py:238: RuntimeWarning: Glyph 52769 missing from current font.\n",
      "  font.set_text(s, 0.0, flags=flags)\n",
      "C:\\ProgramData\\Anaconda3\\envs\\testtest\\lib\\site-packages\\matplotlib\\backends\\backend_agg.py:201: RuntimeWarning: Glyph 50696 missing from current font.\n",
      "  font.set_text(s, 0, flags=flags)\n",
      "C:\\ProgramData\\Anaconda3\\envs\\testtest\\lib\\site-packages\\matplotlib\\backends\\backend_agg.py:201: RuntimeWarning: Glyph 52769 missing from current font.\n",
      "  font.set_text(s, 0, flags=flags)\n"
     ]
    },
    {
     "data": {
      "image/png": "[encoded data removed]",
      "text/plain": [
       "<Figure size 432x288 with 1 Axes>"
      ]
     },
     "metadata": {
      "needs_background": "light"
     },
     "output_type": "display_data"
    }
   ],
   "source": [
    "\n",
    "X_new=np.linspace(0, 15, 35000).reshape(35000, 1)\n",
    "X_new_poly = poly_features.transform(X_new)\n",
    "y_new = lin_reg.predict(X_new_poly)\n",
    "plt.plot(X, y, \"b.\")\n",
    "plt.plot(X_new, y_new, \"r-\", linewidth=2, label=\"예측\")\n",
    "plt.xlabel(\"$x_1$\", fontsize=18)\n",
    "plt.ylabel(\"$y$\", rotation=0, fontsize=18)\n",
    "plt.legend(loc=\"upper left\", fontsize=14)\n",
    "plt.axis([6, 15, 0, 15])\n",
    "plt.show()"
   ]
  },
  {
   "cell_type": "markdown",
   "metadata": {},
   "source": [
    "### train set, test set으로 나눠서 설명"
   ]
  },
  {
   "cell_type": "code",
   "execution_count": 90,
   "metadata": {},
   "outputs": [
    {
     "name": "stdout",
     "output_type": "stream",
     "text": [
      "(25234, 1) (8412, 1) (25234, 1) (8412, 1)\n"
     ]
    }
   ],
   "source": [
    "from sklearn.model_selection import train_test_split\n",
    "\n",
    "X_train, X_test, y_train, y_test = train_test_split(X, y, random_state=42)\n",
    "print(X_train.shape, X_test.shape, y_train.shape, y_test.shape)"
   ]
  },
  {
   "cell_type": "code",
   "execution_count": 91,
   "metadata": {},
   "outputs": [
    {
     "data": {
      "image/png": "[encoded data removed]",
      "text/plain": [
       "<Figure size 432x288 with 1 Axes>"
      ]
     },
     "metadata": {
      "needs_background": "light"
     },
     "output_type": "display_data"
    }
   ],
   "source": [
    "plt.plot(X_train, y_train, \"b.\")\n",
    "plt.xlabel(\"$x_1$\", fontsize=18)\n",
    "plt.ylabel(\"$y$\", rotation=0, fontsize=18)\n",
    "plt.show()"
   ]
  },
  {
   "cell_type": "code",
   "execution_count": 92,
   "metadata": {},
   "outputs": [],
   "source": [
    "from sklearn.preprocessing import PolynomialFeatures\n",
    "\n",
    "poly_features = PolynomialFeatures(degree=2, include_bias=False)\n",
    "X_poly = poly_features.fit_transform(X_train)\n",
    "#print('X[0] :', X[0])\n",
    "#print('X_poly[0] :', X_poly[0])"
   ]
  },
  {
   "cell_type": "code",
   "execution_count": 93,
   "metadata": {},
   "outputs": [
    {
     "data": {
      "text/plain": [
       "LinearRegression()"
      ]
     },
     "execution_count": 93,
     "metadata": {},
     "output_type": "execute_result"
    }
   ],
   "source": [
    "from sklearn.linear_model import LinearRegression\n",
    "\n",
    "lin_reg = LinearRegression()\n",
    "lin_reg.fit(X_poly, y_train)"
   ]
  },
  {
   "cell_type": "code",
   "execution_count": 94,
   "metadata": {},
   "outputs": [
    {
     "data": {
      "text/plain": [
       "(array([-10.72894491]), array([[ 2.10055068, -0.04261066]]))"
      ]
     },
     "execution_count": 94,
     "metadata": {},
     "output_type": "execute_result"
    }
   ],
   "source": [
    "lin_reg.intercept_, lin_reg.coef_"
   ]
  },
  {
   "cell_type": "markdown",
   "metadata": {},
   "source": [
    "최종적으로 예측된 모델은 다음과 같다. (log transformation 반영)\n",
    "\n",
    "$$\n",
    "exp^y = exp^{-0.043 x^2 + 2.101 x - 10.789}\n",
    "$$\n",
    "즉,\n",
    "$$ y = -0.043 x^2 + 2.101 x - 10.789 $$"
   ]
  },
  {
   "cell_type": "code",
   "execution_count": 95,
   "metadata": {},
   "outputs": [
    {
     "name": "stderr",
     "output_type": "stream",
     "text": [
      "C:\\ProgramData\\Anaconda3\\envs\\testtest\\lib\\site-packages\\matplotlib\\backends\\backend_agg.py:238: RuntimeWarning: Glyph 50696 missing from current font.\n",
      "  font.set_text(s, 0.0, flags=flags)\n",
      "C:\\ProgramData\\Anaconda3\\envs\\testtest\\lib\\site-packages\\matplotlib\\backends\\backend_agg.py:238: RuntimeWarning: Glyph 52769 missing from current font.\n",
      "  font.set_text(s, 0.0, flags=flags)\n",
      "C:\\ProgramData\\Anaconda3\\envs\\testtest\\lib\\site-packages\\matplotlib\\backends\\backend_agg.py:201: RuntimeWarning: Glyph 50696 missing from current font.\n",
      "  font.set_text(s, 0, flags=flags)\n",
      "C:\\ProgramData\\Anaconda3\\envs\\testtest\\lib\\site-packages\\matplotlib\\backends\\backend_agg.py:201: RuntimeWarning: Glyph 52769 missing from current font.\n",
      "  font.set_text(s, 0, flags=flags)\n"
     ]
    },
    {
     "data": {
      "image/png": "[encoded data removed]",
      "text/plain": [
       "<Figure size 432x288 with 1 Axes>"
      ]
     },
     "metadata": {
      "needs_background": "light"
     },
     "output_type": "display_data"
    }
   ],
   "source": [
    "\n",
    "X_new=np.linspace(0, 15, 35000).reshape(35000, 1)\n",
    "X_new_poly = poly_features.transform(X_new)\n",
    "y_new = lin_reg.predict(X_new_poly)\n",
    "plt.plot(X_test, y_test, \"b.\")\n",
    "plt.plot(X_new, y_new, \"r-\", linewidth=2, label=\"예측\")\n",
    "plt.xlabel(\"$x_1$\", fontsize=18)\n",
    "plt.ylabel(\"$y$\", rotation=0, fontsize=18)\n",
    "plt.legend(loc=\"upper left\", fontsize=14)\n",
    "plt.axis([6, 15, 0, 15])\n",
    "plt.show()"
   ]
  },
  {
   "cell_type": "markdown",
   "metadata": {},
   "source": [
    "## 3-2. NonLinear SVM Classification\n",
    "likes, dislikes, comment_count 사이 관계"
   ]
  },
  {
   "cell_type": "markdown",
   "metadata": {},
   "source": [
    "실제 데이터셋은 위에서 살펴본 Linear SVM으로 분류할 수 없는 즉, 선형적으로 분류할 수 없는 비선형 적인 데이터셋이 많다.\n",
    "\n",
    "이러한, 비선형 데이터셋을 다루는 한 가지 방법은 다항 특성(polynomial features)과 같은 특성을 추가하는 방법이 있다.\n",
    "\n",
    "이번엔 likesd와 dislikes를 통해 사람들이 직접 comment를 다는 횟수를 살펴보자.\n",
    "여기서 comment_count가 이상값, 즉 IQR 밖의 점들을 comment가 많다고 판단하며,\n",
    "likes와 dislikes로 이를 분류할 수 있는지 살펴보도록 한다."
   ]
  },
  {
   "cell_type": "code",
   "execution_count": 96,
   "metadata": {},
   "outputs": [],
   "source": [
    "from sklearn.model_selection import train_test_split\n",
    "\n",
    "X_train, X_test, y_train, y_test = train_test_split(X, y, random_state=42)"
   ]
  },
  {
   "cell_type": "code",
   "execution_count": 97,
   "metadata": {},
   "outputs": [
    {
     "name": "stdout",
     "output_type": "stream",
     "text": [
      "(33646, 2) (33646,)\n"
     ]
    }
   ],
   "source": [
    "X = pd.DataFrame(my_us[['likes','dislikes']])\n",
    "\n",
    "Q1 = my_us['comment_count'].quantile(0.25)\n",
    "Q3 = my_us['comment_count'].quantile(0.75)\n",
    "IQR = Q3 - Q1\n",
    "y = my_us['comment_count'] > Q3+1.5*IQR\n",
    "\n",
    "print(X.shape, y.shape)"
   ]
  },
  {
   "cell_type": "code",
   "execution_count": 98,
   "metadata": {},
   "outputs": [
    {
     "data": {
      "image/png": "[encoded data removed]",
      "text/plain": [
       "<Figure size 432x288 with 1 Axes>"
      ]
     },
     "metadata": {
      "needs_background": "light"
     },
     "output_type": "display_data"
    }
   ],
   "source": [
    "plt.plot(X.iloc[:,0], X.iloc[:,1], \"b.\")\n",
    "plt.show()"
   ]
  },
  {
   "cell_type": "code",
   "execution_count": 99,
   "metadata": {},
   "outputs": [
    {
     "data": {
      "image/png": "[encoded data removed]",
      "text/plain": [
       "<Figure size 432x288 with 1 Axes>"
      ]
     },
     "metadata": {
      "needs_background": "light"
     },
     "output_type": "display_data"
    }
   ],
   "source": [
    "def plot_dataset(X, y, axes):\n",
    "    plt.plot(X.iloc[:, 0][y==0], X.iloc[:, 1][y==0], \"bs\")\n",
    "    plt.plot(X.iloc[:, 0][y==1], X.iloc[:, 1][y==1], \"g^\")\n",
    "    plt.axis(axes)\n",
    "    plt.grid(True, which='both')\n",
    "    plt.xlabel(r\"$x_1$\", fontsize=20)\n",
    "    plt.ylabel(r\"$x_2$\", fontsize=20, rotation=0)\n",
    "\n",
    "plot_dataset(X, y, [-0.5, 350000, -0.5, 10000])\n",
    "plt.show()"
   ]
  },
  {
   "cell_type": "markdown",
   "metadata": {},
   "source": [
    "분명 분류할 수 있을 것 같은데 명확하게 나뉘지 않는다. 데이터를 조정해보자."
   ]
  },
  {
   "cell_type": "code",
   "execution_count": 100,
   "metadata": {},
   "outputs": [],
   "source": [
    "X = np.log(X)\n",
    "y = y"
   ]
  },
  {
   "cell_type": "code",
   "execution_count": 102,
   "metadata": {},
   "outputs": [
    {
     "data": {
      "image/png": "[encoded data removed]",
      "text/plain": [
       "<Figure size 432x288 with 1 Axes>"
      ]
     },
     "metadata": {
      "needs_background": "light"
     },
     "output_type": "display_data"
    }
   ],
   "source": [
    "plt.plot(X.iloc[:,0], X.iloc[:,1], \"b.\")\n",
    "plt.show()"
   ]
  },
  {
   "cell_type": "markdown",
   "metadata": {},
   "source": [
    "다항 특성을 추가하는 PolynomialFeatures와 StandardScaler 그리고 LinearSVC를 Pipeline을 이용해 분류기를 만들어 보자"
   ]
  },
  {
   "cell_type": "code",
   "execution_count": 103,
   "metadata": {},
   "outputs": [
    {
     "data": {
      "image/png": "[encoded data removed]",
      "text/plain": [
       "<Figure size 432x288 with 1 Axes>"
      ]
     },
     "metadata": {
      "needs_background": "light"
     },
     "output_type": "display_data"
    }
   ],
   "source": [
    "def plot_dataset(X, y, axes):\n",
    "    plt.plot(X.iloc[:, 0][y==0], X.iloc[:, 1][y==0], \"bs\")\n",
    "    plt.plot(X.iloc[:, 0][y==1], X.iloc[:, 1][y==1], \"g^\")\n",
    "    plt.axis(axes)\n",
    "    plt.grid(True, which='both')\n",
    "    plt.xlabel(r\"$x_1$\", fontsize=20)\n",
    "    plt.ylabel(r\"$x_2$\", fontsize=20, rotation=0)\n",
    "\n",
    "plot_dataset(X, y, [-0.5, 15, -0.5, 15])\n",
    "plt.show()"
   ]
  },
  {
   "cell_type": "code",
   "execution_count": 110,
   "metadata": {},
   "outputs": [],
   "source": [
    "from sklearn.pipeline import Pipeline\n",
    "from sklearn.preprocessing import StandardScaler\n",
    "from sklearn.svm import LinearSVC"
   ]
  },
  {
   "cell_type": "code",
   "execution_count": 111,
   "metadata": {},
   "outputs": [
    {
     "name": "stderr",
     "output_type": "stream",
     "text": [
      "C:\\ProgramData\\Anaconda3\\envs\\testtest\\lib\\site-packages\\sklearn\\svm\\_base.py:977: ConvergenceWarning: Liblinear failed to converge, increase the number of iterations.\n",
      "  \"the number of iterations.\", ConvergenceWarning)\n"
     ]
    },
    {
     "data": {
      "text/plain": [
       "Pipeline(steps=[('poly_features', PolynomialFeatures(degree=3)),\n",
       "                ('scaler', StandardScaler()),\n",
       "                ('svm_clf', LinearSVC(C=10, loss='hinge', random_state=42))])"
      ]
     },
     "execution_count": 111,
     "metadata": {},
     "output_type": "execute_result"
    }
   ],
   "source": [
    "from sklearn.preprocessing import PolynomialFeatures\n",
    "\n",
    "polynomial_svm_clf = Pipeline([\n",
    "    ('poly_features', PolynomialFeatures(degree=3)),\n",
    "    ('scaler', StandardScaler()),\n",
    "    ('svm_clf', LinearSVC(C=10, loss='hinge', random_state=42))\n",
    "])\n",
    "\n",
    "polynomial_svm_clf.fit(X, y)"
   ]
  },
  {
   "cell_type": "code",
   "execution_count": 112,
   "metadata": {},
   "outputs": [
    {
     "data": {
      "image/png": "[encoded data removed]",
      "text/plain": [
       "<Figure size 432x288 with 1 Axes>"
      ]
     },
     "metadata": {
      "needs_background": "light"
     },
     "output_type": "display_data"
    }
   ],
   "source": [
    "def plot_predictions(clf, axes):\n",
    "    x0s = np.linspace(axes[0], axes[1], 100)\n",
    "    x1s = np.linspace(axes[2], axes[3], 100)\n",
    "    x0, x1 = np.meshgrid(x0s, x1s)\n",
    "    X = np.c_[x0.ravel(), x1.ravel()]\n",
    "    y_pred = clf.predict(X).reshape(x0.shape)\n",
    "    y_decision = clf.decision_function(X).reshape(x0.shape)\n",
    "    plt.contourf(x0, x1, y_pred, cmap=plt.cm.brg, alpha=0.2)\n",
    "    plt.contourf(x0, x1, y_decision, cmap=plt.cm.brg, alpha=0.1)\n",
    "\n",
    "plot_predictions(polynomial_svm_clf, [-0.5, 15, -0.5, 15])\n",
    "plot_dataset(X, y, [-0.5, 15, -0.5, 15])\n",
    "plt.title('Linear SVM')\n",
    "plt.show()"
   ]
  },
  {
   "cell_type": "markdown",
   "metadata": {},
   "source": [
    "likes와 dislikes를 통해 comment_count를 분류할 수 있는 모델을 만들었다!"
   ]
  },
  {
   "cell_type": "markdown",
   "metadata": {},
   "source": []
  },
  {
   "cell_type": "markdown",
   "metadata": {},
   "source": [
    "# 4. trending_date, publish_time, views 사이 관계"
   ]
  },
  {
   "cell_type": "code",
   "execution_count": 11,
   "metadata": {},
   "outputs": [],
   "source": [
    "data=us_new.loc[:,us_new.columns.isin(['video_id','views','trending_date','publish_time'])]"
   ]
  },
  {
   "cell_type": "code",
   "execution_count": 12,
   "metadata": {},
   "outputs": [
    {
     "data": {
      "text/html": [
       "<div>\n",
       "<style scoped>\n",
       "    .dataframe tbody tr th:only-of-type {\n",
       "        vertical-align: middle;\n",
       "    }\n",
       "\n",
       "    .dataframe tbody tr th {\n",
       "        vertical-align: top;\n",
       "    }\n",
       "\n",
       "    .dataframe thead th {\n",
       "        text-align: right;\n",
       "    }\n",
       "</style>\n",
       "<table border=\"1\" class=\"dataframe\">\n",
       "  <thead>\n",
       "    <tr style=\"text-align: right;\">\n",
       "      <th></th>\n",
       "      <th>video_id</th>\n",
       "      <th>trending_date</th>\n",
       "      <th>publish_time</th>\n",
       "      <th>views</th>\n",
       "    </tr>\n",
       "  </thead>\n",
       "  <tbody>\n",
       "    <tr>\n",
       "      <th>1</th>\n",
       "      <td>1ZAPwfrtAFY</td>\n",
       "      <td>17.14.11</td>\n",
       "      <td>2017-11-13T07:30:00.000Z</td>\n",
       "      <td>2418783</td>\n",
       "    </tr>\n",
       "    <tr>\n",
       "      <th>2</th>\n",
       "      <td>5qpjK5DgCt4</td>\n",
       "      <td>17.14.11</td>\n",
       "      <td>2017-11-12T19:05:24.000Z</td>\n",
       "      <td>3191434</td>\n",
       "    </tr>\n",
       "    <tr>\n",
       "      <th>3</th>\n",
       "      <td>puqaWrEC7tY</td>\n",
       "      <td>17.14.11</td>\n",
       "      <td>2017-11-13T11:00:04.000Z</td>\n",
       "      <td>343168</td>\n",
       "    </tr>\n",
       "    <tr>\n",
       "      <th>5</th>\n",
       "      <td>gHZ1Qz0KiKM</td>\n",
       "      <td>17.14.11</td>\n",
       "      <td>2017-11-13T19:07:23.000Z</td>\n",
       "      <td>119180</td>\n",
       "    </tr>\n",
       "    <tr>\n",
       "      <th>6</th>\n",
       "      <td>39idVpFF7NQ</td>\n",
       "      <td>17.14.11</td>\n",
       "      <td>2017-11-12T05:37:17.000Z</td>\n",
       "      <td>2103417</td>\n",
       "    </tr>\n",
       "    <tr>\n",
       "      <th>...</th>\n",
       "      <td>...</td>\n",
       "      <td>...</td>\n",
       "      <td>...</td>\n",
       "      <td>...</td>\n",
       "    </tr>\n",
       "    <tr>\n",
       "      <th>40933</th>\n",
       "      <td>Gs26bZTRkdU</td>\n",
       "      <td>18.14.06</td>\n",
       "      <td>2018-05-20T21:00:00.000Z</td>\n",
       "      <td>979732</td>\n",
       "    </tr>\n",
       "    <tr>\n",
       "      <th>40936</th>\n",
       "      <td>Xr2rgT9uEnA</td>\n",
       "      <td>18.14.06</td>\n",
       "      <td>2018-05-20T18:00:02.000Z</td>\n",
       "      <td>3229540</td>\n",
       "    </tr>\n",
       "    <tr>\n",
       "      <th>40944</th>\n",
       "      <td>BZt0qjTWNhw</td>\n",
       "      <td>18.14.06</td>\n",
       "      <td>2018-05-18T13:00:04.000Z</td>\n",
       "      <td>1685609</td>\n",
       "    </tr>\n",
       "    <tr>\n",
       "      <th>40945</th>\n",
       "      <td>1h7KV2sjUWY</td>\n",
       "      <td>18.14.06</td>\n",
       "      <td>2018-05-18T01:00:06.000Z</td>\n",
       "      <td>1064798</td>\n",
       "    </tr>\n",
       "    <tr>\n",
       "      <th>40946</th>\n",
       "      <td>D6Oy4LfoqsU</td>\n",
       "      <td>18.14.06</td>\n",
       "      <td>2018-05-18T17:34:22.000Z</td>\n",
       "      <td>1066451</td>\n",
       "    </tr>\n",
       "  </tbody>\n",
       "</table>\n",
       "<p>34472 rows × 4 columns</p>\n",
       "</div>"
      ],
      "text/plain": [
       "          video_id trending_date              publish_time    views\n",
       "1      1ZAPwfrtAFY      17.14.11  2017-11-13T07:30:00.000Z  2418783\n",
       "2      5qpjK5DgCt4      17.14.11  2017-11-12T19:05:24.000Z  3191434\n",
       "3      puqaWrEC7tY      17.14.11  2017-11-13T11:00:04.000Z   343168\n",
       "5      gHZ1Qz0KiKM      17.14.11  2017-11-13T19:07:23.000Z   119180\n",
       "6      39idVpFF7NQ      17.14.11  2017-11-12T05:37:17.000Z  2103417\n",
       "...            ...           ...                       ...      ...\n",
       "40933  Gs26bZTRkdU      18.14.06  2018-05-20T21:00:00.000Z   979732\n",
       "40936  Xr2rgT9uEnA      18.14.06  2018-05-20T18:00:02.000Z  3229540\n",
       "40944  BZt0qjTWNhw      18.14.06  2018-05-18T13:00:04.000Z  1685609\n",
       "40945  1h7KV2sjUWY      18.14.06  2018-05-18T01:00:06.000Z  1064798\n",
       "40946  D6Oy4LfoqsU      18.14.06  2018-05-18T17:34:22.000Z  1066451\n",
       "\n",
       "[34472 rows x 4 columns]"
      ]
     },
     "execution_count": 12,
     "metadata": {},
     "output_type": "execute_result"
    }
   ],
   "source": [
    "data=pd.DataFrame(data)\n",
    "data"
   ]
  },
  {
   "cell_type": "code",
   "execution_count": 13,
   "metadata": {},
   "outputs": [
    {
     "data": {
      "text/plain": [
       "1       2017-11-14\n",
       "2       2017-11-14\n",
       "3       2017-11-14\n",
       "5       2017-11-14\n",
       "6       2017-11-14\n",
       "           ...    \n",
       "40933   2018-06-14\n",
       "40936   2018-06-14\n",
       "40944   2018-06-14\n",
       "40945   2018-06-14\n",
       "40946   2018-06-14\n",
       "Name: trending_date, Length: 34472, dtype: datetime64[ns]"
      ]
     },
     "execution_count": 13,
     "metadata": {},
     "output_type": "execute_result"
    }
   ],
   "source": [
    "data['trending_date'] = pd.to_datetime(data['trending_date'],format=\"%y.%d.%m\")\n",
    "data['trending_date']"
   ]
  },
  {
   "cell_type": "code",
   "execution_count": 14,
   "metadata": {},
   "outputs": [],
   "source": [
    "data['t_year'] = data['trending_date'].dt.year\n",
    "data['t_month'] = data['trending_date'].dt.month\n",
    "data['t_day'] = data['trending_date'].dt.day"
   ]
  },
  {
   "cell_type": "code",
   "execution_count": 15,
   "metadata": {},
   "outputs": [
    {
     "data": {
      "text/plain": [
       "12    5686\n",
       "3     5406\n",
       "1     5260\n",
       "2     5010\n",
       "5     4452\n",
       "4     3833\n",
       "11    3138\n",
       "6     1687\n",
       "Name: t_month, dtype: int64"
      ]
     },
     "execution_count": 15,
     "metadata": {},
     "output_type": "execute_result"
    }
   ],
   "source": [
    "pd.value_counts(data['t_month']) "
   ]
  },
  {
   "cell_type": "markdown",
   "metadata": {},
   "source": [
    "12월에 가장 많은 trending video가 있었다는 걸 알 수 있다. "
   ]
  },
  {
   "cell_type": "code",
   "execution_count": null,
   "metadata": {},
   "outputs": [],
   "source": []
  },
  {
   "cell_type": "code",
   "execution_count": 16,
   "metadata": {},
   "outputs": [
    {
     "data": {
      "text/plain": [
       "1       2017-11-13 07:30:00\n",
       "2       2017-11-12 19:05:24\n",
       "3       2017-11-13 11:00:04\n",
       "5       2017-11-13 19:07:23\n",
       "6       2017-11-12 05:37:17\n",
       "                ...        \n",
       "40933   2018-05-20 21:00:00\n",
       "40936   2018-05-20 18:00:02\n",
       "40944   2018-05-18 13:00:04\n",
       "40945   2018-05-18 01:00:06\n",
       "40946   2018-05-18 17:34:22\n",
       "Name: publish_time, Length: 34472, dtype: datetime64[ns]"
      ]
     },
     "execution_count": 16,
     "metadata": {},
     "output_type": "execute_result"
    }
   ],
   "source": [
    "data['publish_time'] = data['publish_time'].astype('datetime64')\n",
    "data['publish_time']"
   ]
  },
  {
   "cell_type": "code",
   "execution_count": 17,
   "metadata": {},
   "outputs": [],
   "source": [
    "data['p_year'] = data['publish_time'].dt.year\n",
    "data['p_month'] = data['publish_time'].dt.month\n",
    "data['p_day'] = data['publish_time'].dt.day\n",
    "\n",
    "data['p_ymd'] = data[\"publish_time\"].apply(lambda x: x.strftime('%d%m%Y'))\n",
    "data['p_ymd'] = pd.to_datetime(data['p_ymd'], format='%d%m%Y')"
   ]
  },
  {
   "cell_type": "code",
   "execution_count": 18,
   "metadata": {},
   "outputs": [
    {
     "data": {
      "text/plain": [
       "1       2017-11-13\n",
       "2       2017-11-12\n",
       "3       2017-11-13\n",
       "5       2017-11-13\n",
       "6       2017-11-12\n",
       "           ...    \n",
       "40933   2018-05-20\n",
       "40936   2018-05-20\n",
       "40944   2018-05-18\n",
       "40945   2018-05-18\n",
       "40946   2018-05-18\n",
       "Name: p_ymd, Length: 34472, dtype: datetime64[ns]"
      ]
     },
     "execution_count": 18,
     "metadata": {},
     "output_type": "execute_result"
    }
   ],
   "source": [
    "data['p_ymd']"
   ]
  },
  {
   "cell_type": "code",
   "execution_count": 19,
   "metadata": {},
   "outputs": [
    {
     "data": {
      "text/plain": [
       "12    5625\n",
       "2     5544\n",
       "3     5326\n",
       "1     5001\n",
       "5     4562\n",
       "11    3882\n",
       "4     3881\n",
       "6      519\n",
       "10      62\n",
       "9       34\n",
       "8       26\n",
       "7       10\n",
       "Name: p_month, dtype: int64"
      ]
     },
     "execution_count": 19,
     "metadata": {},
     "output_type": "execute_result"
    }
   ],
   "source": [
    "pd.value_counts(data['p_month'])"
   ]
  },
  {
   "cell_type": "markdown",
   "metadata": {},
   "source": [
    "5월에 publish된 영상이 가장 많이 trending video에 있었다는 걸 알 수 있다."
   ]
  },
  {
   "cell_type": "markdown",
   "metadata": {},
   "source": [
    "### trending month와 published month이 views에 영향을 미치지 않을까 싶어서 확인해보기로 했다. "
   ]
  },
  {
   "cell_type": "code",
   "execution_count": 19,
   "metadata": {},
   "outputs": [
    {
     "data": {
      "text/html": [
       "<div>\n",
       "<style scoped>\n",
       "    .dataframe tbody tr th:only-of-type {\n",
       "        vertical-align: middle;\n",
       "    }\n",
       "\n",
       "    .dataframe tbody tr th {\n",
       "        vertical-align: top;\n",
       "    }\n",
       "\n",
       "    .dataframe thead th {\n",
       "        text-align: right;\n",
       "    }\n",
       "</style>\n",
       "<table border=\"1\" class=\"dataframe\">\n",
       "  <thead>\n",
       "    <tr style=\"text-align: right;\">\n",
       "      <th></th>\n",
       "      <th>t_month</th>\n",
       "      <th>p_month</th>\n",
       "      <th>views</th>\n",
       "    </tr>\n",
       "  </thead>\n",
       "  <tbody>\n",
       "    <tr>\n",
       "      <th>t_month</th>\n",
       "      <td>1.000000</td>\n",
       "      <td>0.898382</td>\n",
       "      <td>-0.059468</td>\n",
       "    </tr>\n",
       "    <tr>\n",
       "      <th>p_month</th>\n",
       "      <td>0.898382</td>\n",
       "      <td>1.000000</td>\n",
       "      <td>-0.078835</td>\n",
       "    </tr>\n",
       "    <tr>\n",
       "      <th>views</th>\n",
       "      <td>-0.059468</td>\n",
       "      <td>-0.078835</td>\n",
       "      <td>1.000000</td>\n",
       "    </tr>\n",
       "  </tbody>\n",
       "</table>\n",
       "</div>"
      ],
      "text/plain": [
       "          t_month   p_month     views\n",
       "t_month  1.000000  0.898382 -0.059468\n",
       "p_month  0.898382  1.000000 -0.078835\n",
       "views   -0.059468 -0.078835  1.000000"
      ]
     },
     "execution_count": 19,
     "metadata": {},
     "output_type": "execute_result"
    }
   ],
   "source": [
    "data[['t_month', 'p_month', 'views']].corr()"
   ]
  },
  {
   "cell_type": "markdown",
   "metadata": {},
   "source": [
    "그러나 trending month와 published month는 views와 상관관계가 작게 나타난다. "
   ]
  },
  {
   "cell_type": "code",
   "execution_count": 21,
   "metadata": {},
   "outputs": [
    {
     "data": {
      "image/png": "[encoded data removed]",
      "text/plain": [
       "<Figure size 432x288 with 1 Axes>"
      ]
     },
     "metadata": {
      "needs_background": "light"
     },
     "output_type": "display_data"
    }
   ],
   "source": [
    "ax = plt.subplots() \n",
    "ax = sns.regplot(x=data[\"t_month\"], y=data[\"views\"])"
   ]
  },
  {
   "cell_type": "code",
   "execution_count": 22,
   "metadata": {
    "scrolled": true
   },
   "outputs": [
    {
     "data": {
      "image/png": "[encoded data removed]",
      "text/plain": [
       "<Figure size 432x288 with 1 Axes>"
      ]
     },
     "metadata": {
      "needs_background": "light"
     },
     "output_type": "display_data"
    }
   ],
   "source": [
    "ax = plt.subplots() \n",
    "ax = sns.regplot(x=data[\"p_month\"], y=data[\"views\"])"
   ]
  },
  {
   "cell_type": "markdown",
   "metadata": {},
   "source": [
    "trending month나 published month 모두 views가 작은 값부터 큰값까지 넓게 분포해있어서 회귀로 예측하는 것은 적절하지 않다. \n",
    "\n",
    "그럼에도 한번 돌려보기로 했다."
   ]
  },
  {
   "cell_type": "code",
   "execution_count": 24,
   "metadata": {},
   "outputs": [
    {
     "data": {
      "text/plain": [
       "LinearRegression()"
      ]
     },
     "execution_count": 24,
     "metadata": {},
     "output_type": "execute_result"
    }
   ],
   "source": [
    "from sklearn.linear_model import LinearRegression\n",
    "\n",
    "X = pd.DataFrame(data[[\"t_month\",\"p_month\"]])\n",
    "y = pd.DataFrame(data['views'])\n",
    "\n",
    "lin_reg = LinearRegression()\n",
    "lin_reg.fit(X, y)"
   ]
  },
  {
   "cell_type": "code",
   "execution_count": 104,
   "metadata": {},
   "outputs": [
    {
     "data": {
      "text/plain": [
       "(array([900805.44825789]), array([[ 12821.80128381, -28091.25633406]]))"
      ]
     },
     "execution_count": 104,
     "metadata": {},
     "output_type": "execute_result"
    }
   ],
   "source": [
    "lin_reg.intercept_, lin_reg.coef_"
   ]
  },
  {
   "cell_type": "markdown",
   "metadata": {},
   "source": [
    "최종적으로 예측된 모델은 다음과 같다. \n",
    "\n",
    "$$ y = 900805.448 + 12821.801 x_1 - 28091.256 x_2 $$"
   ]
  },
  {
   "cell_type": "code",
   "execution_count": 26,
   "metadata": {},
   "outputs": [],
   "source": [
    "y_new=lin_reg.predict(X)"
   ]
  },
  {
   "cell_type": "code",
   "execution_count": 27,
   "metadata": {},
   "outputs": [
    {
     "name": "stdout",
     "output_type": "stream",
     "text": [
      "Mean_Squared_Error =  745273409647.9365\n"
     ]
    }
   ],
   "source": [
    "from sklearn.metrics import mean_squared_error\n",
    "print('Mean_Squared_Error = ', mean_squared_error(y_new, y))"
   ]
  },
  {
   "cell_type": "markdown",
   "metadata": {},
   "source": [
    "MSE 값이 굉장히 크게 나온다! \n",
    "\n",
    "즉 위에서 상관계수를 확인하여 알 수 있었듯, published month나 trending month는 views에 큰 영향을 미치지 않는다는 것을 확인할 수 있다. "
   ]
  },
  {
   "cell_type": "code",
   "execution_count": 28,
   "metadata": {},
   "outputs": [
    {
     "data": {
      "image/png": "[encoded data removed]",
      "text/plain": [
       "<Figure size 432x288 with 1 Axes>"
      ]
     },
     "metadata": {
      "needs_background": "light"
     },
     "output_type": "display_data"
    }
   ],
   "source": [
    "ax = plt.subplots() \n",
    "ax = sns.regplot(x=y, y=y_new)"
   ]
  },
  {
   "cell_type": "markdown",
   "metadata": {},
   "source": [
    "예측된 views 값이 특정 값들에만 모여있는 것을 확인할 수 있다.  "
   ]
  },
  {
   "cell_type": "code",
   "execution_count": null,
   "metadata": {},
   "outputs": [],
   "source": []
  },
  {
   "cell_type": "markdown",
   "metadata": {},
   "source": [
    "### publish부터 trending까지 얼마나 걸렸는지, trending이 얼마나 지속되었는지가 views에 영향을 미칠 것이라고 생각하여 확인해보기로 했다. "
   ]
  },
  {
   "cell_type": "code",
   "execution_count": 29,
   "metadata": {},
   "outputs": [],
   "source": [
    "by_video=data.groupby([\"video_id\"])"
   ]
  },
  {
   "cell_type": "code",
   "execution_count": 30,
   "metadata": {},
   "outputs": [],
   "source": [
    "mintrend=by_video.trending_date.min()"
   ]
  },
  {
   "cell_type": "code",
   "execution_count": 31,
   "metadata": {},
   "outputs": [
    {
     "data": {
      "text/plain": [
       "video_id\n",
       "-0CMnp02rNY   2018-06-06\n",
       "-0NYY8cqdiQ   2018-02-01\n",
       "-1Hm41N0dUs   2018-04-29\n",
       "-1yT-K3c6YI   2017-11-29\n",
       "-2RVw2_QyxQ   2017-11-14\n",
       "                 ...    \n",
       "zvjqcoiOPbE   2018-01-06\n",
       "zwEn-ambXLw   2018-03-26\n",
       "zxUwbflE1SY   2017-11-15\n",
       "zy0b9e40tK8   2017-11-14\n",
       "zzQsGL_F9_c   2018-02-05\n",
       "Name: trending_date, Length: 5952, dtype: datetime64[ns]"
      ]
     },
     "execution_count": 31,
     "metadata": {},
     "output_type": "execute_result"
    }
   ],
   "source": [
    "mintrend"
   ]
  },
  {
   "cell_type": "code",
   "execution_count": 32,
   "metadata": {},
   "outputs": [],
   "source": [
    "publish=by_video.p_ymd.min()"
   ]
  },
  {
   "cell_type": "code",
   "execution_count": 33,
   "metadata": {},
   "outputs": [
    {
     "data": {
      "text/plain": [
       "video_id\n",
       "-0CMnp02rNY   2018-06-04\n",
       "-0NYY8cqdiQ   2018-01-29\n",
       "-1Hm41N0dUs   2018-04-27\n",
       "-1yT-K3c6YI   2017-11-28\n",
       "-2RVw2_QyxQ   2017-11-12\n",
       "                 ...    \n",
       "zvjqcoiOPbE   2018-01-05\n",
       "zwEn-ambXLw   2018-03-22\n",
       "zxUwbflE1SY   2017-11-13\n",
       "zy0b9e40tK8   2017-11-09\n",
       "zzQsGL_F9_c   2018-01-30\n",
       "Name: p_ymd, Length: 5952, dtype: datetime64[ns]"
      ]
     },
     "execution_count": 33,
     "metadata": {},
     "output_type": "execute_result"
    }
   ],
   "source": [
    "publish"
   ]
  },
  {
   "cell_type": "code",
   "execution_count": 34,
   "metadata": {},
   "outputs": [
    {
     "data": {
      "text/plain": [
       "count    5952.000000\n",
       "mean       23.898858\n",
       "std       216.818285\n",
       "min         0.000000\n",
       "25%         1.000000\n",
       "50%         2.000000\n",
       "75%         3.000000\n",
       "max      4215.000000\n",
       "dtype: float64"
      ]
     },
     "execution_count": 34,
     "metadata": {},
     "output_type": "execute_result"
    }
   ],
   "source": [
    "period=mintrend-publish\n",
    "period=period.dt.days\n",
    "period.describe()"
   ]
  },
  {
   "cell_type": "markdown",
   "metadata": {},
   "source": [
    "publish부터 trending이 된 날까지 걸린 기간"
   ]
  },
  {
   "cell_type": "code",
   "execution_count": 35,
   "metadata": {},
   "outputs": [
    {
     "data": {
      "text/plain": [
       "video_id\n",
       "-0CMnp02rNY     800359\n",
       "-0NYY8cqdiQ     563746\n",
       "-1Hm41N0dUs    2058516\n",
       "-1yT-K3c6YI     231341\n",
       "-2RVw2_QyxQ      71089\n",
       "                ...   \n",
       "zvjqcoiOPbE    1329689\n",
       "zwEn-ambXLw     241668\n",
       "zxUwbflE1SY     225280\n",
       "zy0b9e40tK8     378750\n",
       "zzQsGL_F9_c     199041\n",
       "Name: views, Length: 5952, dtype: int64"
      ]
     },
     "execution_count": 35,
     "metadata": {},
     "output_type": "execute_result"
    }
   ],
   "source": [
    "maxview=by_video.views.max()\n",
    "maxview"
   ]
  },
  {
   "cell_type": "markdown",
   "metadata": {},
   "source": [
    "한 영상에서 view가 가장 많은 경우를 maxview에 저장"
   ]
  },
  {
   "cell_type": "code",
   "execution_count": 38,
   "metadata": {},
   "outputs": [],
   "source": [
    "pmdata=pd.DataFrame({\"period\":period,\"maxview\":maxview})"
   ]
  },
  {
   "cell_type": "code",
   "execution_count": 39,
   "metadata": {},
   "outputs": [
    {
     "data": {
      "text/html": [
       "<div>\n",
       "<style scoped>\n",
       "    .dataframe tbody tr th:only-of-type {\n",
       "        vertical-align: middle;\n",
       "    }\n",
       "\n",
       "    .dataframe tbody tr th {\n",
       "        vertical-align: top;\n",
       "    }\n",
       "\n",
       "    .dataframe thead th {\n",
       "        text-align: right;\n",
       "    }\n",
       "</style>\n",
       "<table border=\"1\" class=\"dataframe\">\n",
       "  <thead>\n",
       "    <tr style=\"text-align: right;\">\n",
       "      <th></th>\n",
       "      <th>period</th>\n",
       "      <th>maxview</th>\n",
       "    </tr>\n",
       "  </thead>\n",
       "  <tbody>\n",
       "    <tr>\n",
       "      <th>period</th>\n",
       "      <td>1.000000</td>\n",
       "      <td>-0.080226</td>\n",
       "    </tr>\n",
       "    <tr>\n",
       "      <th>maxview</th>\n",
       "      <td>-0.080226</td>\n",
       "      <td>1.000000</td>\n",
       "    </tr>\n",
       "  </tbody>\n",
       "</table>\n",
       "</div>"
      ],
      "text/plain": [
       "           period   maxview\n",
       "period   1.000000 -0.080226\n",
       "maxview -0.080226  1.000000"
      ]
     },
     "execution_count": 39,
     "metadata": {},
     "output_type": "execute_result"
    }
   ],
   "source": [
    "pmdata[['period','maxview']].corr()"
   ]
  },
  {
   "cell_type": "markdown",
   "metadata": {},
   "source": [
    "publish부터 trending까지 걸린 시간은 views와 큰 상관관계가 없다. "
   ]
  },
  {
   "cell_type": "code",
   "execution_count": null,
   "metadata": {},
   "outputs": [],
   "source": []
  },
  {
   "cell_type": "code",
   "execution_count": 43,
   "metadata": {},
   "outputs": [],
   "source": [
    "maxtrend=by_video.trending_date.max()"
   ]
  },
  {
   "cell_type": "code",
   "execution_count": 44,
   "metadata": {},
   "outputs": [
    {
     "data": {
      "text/plain": [
       "video_id\n",
       "-0CMnp02rNY    5 days\n",
       "-0NYY8cqdiQ    0 days\n",
       "-1Hm41N0dUs    2 days\n",
       "-1yT-K3c6YI    3 days\n",
       "-2RVw2_QyxQ    2 days\n",
       "                ...  \n",
       "zvjqcoiOPbE    6 days\n",
       "zwEn-ambXLw   11 days\n",
       "zxUwbflE1SY    4 days\n",
       "zy0b9e40tK8    0 days\n",
       "zzQsGL_F9_c    1 days\n",
       "Name: trending_date, Length: 5952, dtype: timedelta64[ns]"
      ]
     },
     "execution_count": 44,
     "metadata": {},
     "output_type": "execute_result"
    }
   ],
   "source": [
    "trend=maxtrend-mintrend\n",
    "trend"
   ]
  },
  {
   "cell_type": "markdown",
   "metadata": {},
   "source": [
    "trending video에 있었던 기간을 trend에 저장"
   ]
  },
  {
   "cell_type": "code",
   "execution_count": 45,
   "metadata": {},
   "outputs": [],
   "source": [
    "trenddata=pd.DataFrame({\"trend\":trend.dt.days,\"maxview\":maxview})"
   ]
  },
  {
   "cell_type": "code",
   "execution_count": 46,
   "metadata": {},
   "outputs": [
    {
     "data": {
      "text/html": [
       "<div>\n",
       "<style scoped>\n",
       "    .dataframe tbody tr th:only-of-type {\n",
       "        vertical-align: middle;\n",
       "    }\n",
       "\n",
       "    .dataframe tbody tr th {\n",
       "        vertical-align: top;\n",
       "    }\n",
       "\n",
       "    .dataframe thead th {\n",
       "        text-align: right;\n",
       "    }\n",
       "</style>\n",
       "<table border=\"1\" class=\"dataframe\">\n",
       "  <thead>\n",
       "    <tr style=\"text-align: right;\">\n",
       "      <th></th>\n",
       "      <th>trend</th>\n",
       "      <th>maxview</th>\n",
       "    </tr>\n",
       "  </thead>\n",
       "  <tbody>\n",
       "    <tr>\n",
       "      <th>trend</th>\n",
       "      <td>1.000000</td>\n",
       "      <td>0.204044</td>\n",
       "    </tr>\n",
       "    <tr>\n",
       "      <th>maxview</th>\n",
       "      <td>0.204044</td>\n",
       "      <td>1.000000</td>\n",
       "    </tr>\n",
       "  </tbody>\n",
       "</table>\n",
       "</div>"
      ],
      "text/plain": [
       "            trend   maxview\n",
       "trend    1.000000  0.204044\n",
       "maxview  0.204044  1.000000"
      ]
     },
     "execution_count": 46,
     "metadata": {},
     "output_type": "execute_result"
    }
   ],
   "source": [
    "trenddata[['trend','maxview']].corr()"
   ]
  },
  {
   "cell_type": "markdown",
   "metadata": {},
   "source": [
    "앞의 경우보다 상관관계가 크게 나왔다! "
   ]
  },
  {
   "cell_type": "code",
   "execution_count": 52,
   "metadata": {},
   "outputs": [
    {
     "data": {
      "image/png": "[encoded data removed]",
      "text/plain": [
       "<Figure size 432x288 with 1 Axes>"
      ]
     },
     "metadata": {
      "needs_background": "light"
     },
     "output_type": "display_data"
    }
   ],
   "source": [
    "ax = plt.subplots() \n",
    "ax = sns.regplot(x=trenddata[\"trend\"], y=trenddata[\"maxview\"])"
   ]
  },
  {
   "cell_type": "markdown",
   "metadata": {},
   "source": [
    "앞의 경우와 마찬가지로 trend가 지속된 기간과 무관하게 views가 작은 값부터 큰값까지 분포해있다."
   ]
  },
  {
   "cell_type": "code",
   "execution_count": 54,
   "metadata": {},
   "outputs": [
    {
     "data": {
      "text/plain": [
       "LinearRegression()"
      ]
     },
     "execution_count": 54,
     "metadata": {},
     "output_type": "execute_result"
    }
   ],
   "source": [
    "from sklearn.linear_model import LinearRegression\n",
    "\n",
    "X = pd.DataFrame(trenddata[\"trend\"])\n",
    "y = pd.DataFrame(trenddata['maxview'])\n",
    "\n",
    "lin_reg = LinearRegression()\n",
    "lin_reg.fit(X, y)"
   ]
  },
  {
   "cell_type": "code",
   "execution_count": 55,
   "metadata": {},
   "outputs": [
    {
     "data": {
      "text/plain": [
       "(array([632662.50543194]), array([[45485.29009589]]))"
      ]
     },
     "execution_count": 55,
     "metadata": {},
     "output_type": "execute_result"
    }
   ],
   "source": [
    "lin_reg.intercept_, lin_reg.coef_"
   ]
  },
  {
   "cell_type": "markdown",
   "metadata": {},
   "source": [
    "최종적으로 예측된 모델은 다음과 같다. \n",
    "\n",
    "$$ y = 632662.505 + 45485.290x $$"
   ]
  },
  {
   "cell_type": "code",
   "execution_count": 56,
   "metadata": {},
   "outputs": [],
   "source": [
    "y_new=lin_reg.predict(X)"
   ]
  },
  {
   "cell_type": "code",
   "execution_count": 57,
   "metadata": {},
   "outputs": [
    {
     "name": "stdout",
     "output_type": "stream",
     "text": [
      "Mean_Squared_Error =  984086407885.3834\n"
     ]
    }
   ],
   "source": [
    "from sklearn.metrics import mean_squared_error\n",
    "print('Mean_Squared_Error = ', mean_squared_error(y_new, y))"
   ]
  },
  {
   "cell_type": "markdown",
   "metadata": {},
   "source": [
    "MSE가 크다. "
   ]
  },
  {
   "cell_type": "code",
   "execution_count": 58,
   "metadata": {},
   "outputs": [
    {
     "data": {
      "image/png": "[encoded data removed]",
      "text/plain": [
       "<Figure size 432x288 with 1 Axes>"
      ]
     },
     "metadata": {
      "needs_background": "light"
     },
     "output_type": "display_data"
    }
   ],
   "source": [
    "ax = plt.subplots() \n",
    "ax = sns.regplot(x=y, y=y_new)"
   ]
  },
  {
   "cell_type": "markdown",
   "metadata": {},
   "source": [
    "대부분 값이 작게 예측되었다. "
   ]
  },
  {
   "cell_type": "code",
   "execution_count": null,
   "metadata": {},
   "outputs": [],
   "source": []
  },
  {
   "cell_type": "markdown",
   "metadata": {},
   "source": [
    "# 5. 변수들 사이 상관관계"
   ]
  },
  {
   "cell_type": "code",
   "execution_count": 95,
   "metadata": {},
   "outputs": [],
   "source": [
    "string=usvideos['title']\n",
    "lower = []\n",
    "upper = []\n",
    "upper_rate = []\n",
    "for j in range(len(string)):\n",
    "    count1=0\n",
    "    count2=0\n",
    "    for i in string[j]:\n",
    "        if(i.islower()):\n",
    "            count1 += 1\n",
    "        elif(i.isupper()):\n",
    "            count2 += 1\n",
    "\n",
    "    lower.append(count1)\n",
    "    upper.append(count2)\n",
    "    temp = (count2+1) / (count1+count2+1)\n",
    "    upper_rate.append(temp)"
   ]
  },
  {
   "cell_type": "code",
   "execution_count": 96,
   "metadata": {},
   "outputs": [],
   "source": [
    "usvideos[\"upper_rate\"]=upper_rate"
   ]
  },
  {
   "cell_type": "code",
   "execution_count": 97,
   "metadata": {},
   "outputs": [
    {
     "data": {
      "text/plain": [
       "views                     1.000000\n",
       "likes                     0.849177\n",
       "comment_count             0.617621\n",
       "dislikes                  0.472213\n",
       "ratings_disabled          0.015355\n",
       "comments_disabled         0.002677\n",
       "video_error_or_removed   -0.002256\n",
       "upper_rate               -0.004337\n",
       "category_id              -0.168231\n",
       "Name: views, dtype: float64"
      ]
     },
     "execution_count": 97,
     "metadata": {},
     "output_type": "execute_result"
    }
   ],
   "source": [
    "corr_matrix = usvideos.corr()\n",
    "corr_matrix[\"views\"].sort_values(ascending=False)"
   ]
  },
  {
   "cell_type": "code",
   "execution_count": 98,
   "metadata": {},
   "outputs": [
    {
     "data": {
      "text/plain": [
       "<AxesSubplot:xlabel='views', ylabel='upper_rate'>"
      ]
     },
     "execution_count": 98,
     "metadata": {},
     "output_type": "execute_result"
    },
    {
     "data": {
      "image/png": "[encoded data removed]",
      "text/plain": [
       "<Figure size 432x288 with 1 Axes>"
      ]
     },
     "metadata": {
      "needs_background": "light"
     },
     "output_type": "display_data"
    }
   ],
   "source": [
    "\n",
    "from pandas.plotting import scatter_matrix\n",
    "\n",
    "usvideos.plot(kind=\"scatter\", x=\"views\", y=\"upper_rate\")"
   ]
  },
  {
   "cell_type": "code",
   "execution_count": 99,
   "metadata": {},
   "outputs": [],
   "source": [
    "usvideos['likes/views'] = usvideos['likes']/usvideos['views']\n",
    "usvideos['dislikes/views'] = usvideos['dislikes']/usvideos['views']\n",
    "usvideos['comments/views'] = usvideos['comment_count']/usvideos['views']"
   ]
  },
  {
   "cell_type": "code",
   "execution_count": 100,
   "metadata": {},
   "outputs": [
    {
     "data": {
      "image/png": "[encoded data removed]",
      "text/plain": [
       "<Figure size 864x576 with 9 Axes>"
      ]
     },
     "metadata": {
      "needs_background": "light"
     },
     "output_type": "display_data"
    }
   ],
   "source": [
    "from pandas.plotting import scatter_matrix\n",
    "\n",
    "attributes = ['likes/views', 'dislikes/views', 'comments/views']\n",
    "scatter_matrix(usvideos[attributes], figsize=(12, 8));"
   ]
  },
  {
   "cell_type": "code",
   "execution_count": 101,
   "metadata": {},
   "outputs": [
    {
     "data": {
      "text/plain": [
       "comments/views            1.000000\n",
       "likes/views               0.427980\n",
       "dislikes/views            0.284316\n",
       "comment_count             0.247241\n",
       "upper_rate                0.167733\n",
       "dislikes                  0.089142\n",
       "category_id               0.080174\n",
       "likes                     0.070496\n",
       "video_error_or_removed   -0.001944\n",
       "ratings_disabled         -0.029261\n",
       "views                    -0.048708\n",
       "comments_disabled        -0.097271\n",
       "Name: comments/views, dtype: float64"
      ]
     },
     "execution_count": 101,
     "metadata": {},
     "output_type": "execute_result"
    }
   ],
   "source": [
    "\n",
    "corr_matrix = usvideos.corr()\n",
    "corr_matrix[\"comments/views\"].sort_values(ascending=False)"
   ]
  },
  {
   "cell_type": "code",
   "execution_count": null,
   "metadata": {},
   "outputs": [],
   "source": []
  }
 ],
 "metadata": {
  "kernelspec": {
   "display_name": "testtest",
   "language": "python",
   "name": "testtest"
  },
  "language_info": {
   "codemirror_mode": {
    "name": "ipython",
    "version": 3
   },
   "file_extension": ".py",
   "mimetype": "text/x-python",
   "name": "python",
   "nbconvert_exporter": "python",
   "pygments_lexer": "ipython3",
   "version": "3.7.9"
  }
 },
 "nbformat": 4,
 "nbformat_minor": 4
}
