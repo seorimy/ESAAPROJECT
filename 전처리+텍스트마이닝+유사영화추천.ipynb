{
 "cells": [
  {
   "cell_type": "code",
   "execution_count": 1,
   "metadata": {},
   "outputs": [],
   "source": [
    "import pandas as pd\n",
    "import numpy as np\n",
    "\n",
    "%matplotlib inline \n",
    "import matplotlib.pyplot as plt\n",
    "import seaborn as sns"
   ]
  },
  {
   "cell_type": "code",
   "execution_count": 2,
   "metadata": {},
   "outputs": [
    {
     "name": "stderr",
     "output_type": "stream",
     "text": [
      "C:\\ProgramData\\Anaconda3\\envs\\testtest\\lib\\site-packages\\IPython\\core\\interactiveshell.py:3146: DtypeWarning: Columns (10) have mixed types.Specify dtype option on import or set low_memory=False.\n",
      "  interactivity=interactivity, compiler=compiler, result=result)\n"
     ]
    }
   ],
   "source": [
    "data=pd.read_csv(\"D:/ESAA/project/data/movies_metadata.csv\")"
   ]
  },
  {
   "cell_type": "markdown",
   "metadata": {},
   "source": [
    "# 1. adult\n",
    "False인 관측치만 냅두고 나머지는 다 제거함"
   ]
  },
  {
   "cell_type": "code",
   "execution_count": 3,
   "metadata": {},
   "outputs": [
    {
     "data": {
      "text/plain": [
       "False                                                                                                                             45454\n",
       "True                                                                                                                                  9\n",
       " Rune Balot goes to a casino connected to the October corporation to try to wrap up her case once and for all.                        1\n",
       " - Written by Ørnås                                                                                                                   1\n",
       " Avalanche Sharks tells the story of a bikini contest that turns into a horrifying affair when it is hit by a shark avalanche.        1\n",
       "Name: adult, dtype: int64"
      ]
     },
     "execution_count": 3,
     "metadata": {},
     "output_type": "execute_result"
    }
   ],
   "source": [
    "pd.value_counts(data[\"adult\"])"
   ]
  },
  {
   "cell_type": "code",
   "execution_count": 4,
   "metadata": {},
   "outputs": [],
   "source": [
    "data=data[data[\"adult\"]==\"False\"]"
   ]
  },
  {
   "cell_type": "code",
   "execution_count": 5,
   "metadata": {},
   "outputs": [
    {
     "data": {
      "text/html": [
       "<div>\n",
       "<style scoped>\n",
       "    .dataframe tbody tr th:only-of-type {\n",
       "        vertical-align: middle;\n",
       "    }\n",
       "\n",
       "    .dataframe tbody tr th {\n",
       "        vertical-align: top;\n",
       "    }\n",
       "\n",
       "    .dataframe thead th {\n",
       "        text-align: right;\n",
       "    }\n",
       "</style>\n",
       "<table border=\"1\" class=\"dataframe\">\n",
       "  <thead>\n",
       "    <tr style=\"text-align: right;\">\n",
       "      <th></th>\n",
       "      <th>adult</th>\n",
       "      <th>belongs_to_collection</th>\n",
       "      <th>budget</th>\n",
       "      <th>genres</th>\n",
       "      <th>homepage</th>\n",
       "      <th>id</th>\n",
       "      <th>imdb_id</th>\n",
       "      <th>original_language</th>\n",
       "      <th>original_title</th>\n",
       "      <th>overview</th>\n",
       "      <th>...</th>\n",
       "      <th>release_date</th>\n",
       "      <th>revenue</th>\n",
       "      <th>runtime</th>\n",
       "      <th>spoken_languages</th>\n",
       "      <th>status</th>\n",
       "      <th>tagline</th>\n",
       "      <th>title</th>\n",
       "      <th>video</th>\n",
       "      <th>vote_average</th>\n",
       "      <th>vote_count</th>\n",
       "    </tr>\n",
       "  </thead>\n",
       "  <tbody>\n",
       "  </tbody>\n",
       "</table>\n",
       "<p>0 rows × 24 columns</p>\n",
       "</div>"
      ],
      "text/plain": [
       "Empty DataFrame\n",
       "Columns: [adult, belongs_to_collection, budget, genres, homepage, id, imdb_id, original_language, original_title, overview, popularity, poster_path, production_companies, production_countries, release_date, revenue, runtime, spoken_languages, status, tagline, title, video, vote_average, vote_count]\n",
       "Index: []\n",
       "\n",
       "[0 rows x 24 columns]"
      ]
     },
     "execution_count": 5,
     "metadata": {},
     "output_type": "execute_result"
    }
   ],
   "source": [
    "data[data[\"adult\"]!=\"False\"]"
   ]
  },
  {
   "cell_type": "code",
   "execution_count": 6,
   "metadata": {},
   "outputs": [
    {
     "data": {
      "text/plain": [
       "False    45454\n",
       "Name: adult, dtype: int64"
      ]
     },
     "execution_count": 6,
     "metadata": {},
     "output_type": "execute_result"
    }
   ],
   "source": [
    "pd.value_counts(data[\"adult\"])"
   ]
  },
  {
   "cell_type": "code",
   "execution_count": null,
   "metadata": {},
   "outputs": [],
   "source": []
  },
  {
   "cell_type": "markdown",
   "metadata": {},
   "source": [
    "# 2. belongs_to_collection\n",
    "collection이 있는 관측치는 collection name만 뽑아서 저장."
   ]
  },
  {
   "cell_type": "code",
   "execution_count": 7,
   "metadata": {},
   "outputs": [
    {
     "data": {
      "text/plain": [
       "count                                                  4491\n",
       "unique                                                 1695\n",
       "top       {'id': 415931, 'name': 'The Bowery Boys', 'pos...\n",
       "freq                                                     29\n",
       "Name: belongs_to_collection, dtype: object"
      ]
     },
     "execution_count": 7,
     "metadata": {},
     "output_type": "execute_result"
    }
   ],
   "source": [
    "data[\"belongs_to_collection\"].describe()"
   ]
  },
  {
   "cell_type": "code",
   "execution_count": 8,
   "metadata": {},
   "outputs": [
    {
     "data": {
      "text/plain": [
       "0         True\n",
       "1        False\n",
       "2         True\n",
       "3        False\n",
       "4         True\n",
       "         ...  \n",
       "45461    False\n",
       "45462    False\n",
       "45463    False\n",
       "45464    False\n",
       "45465    False\n",
       "Name: belongs_to_collection, Length: 45454, dtype: bool"
      ]
     },
     "execution_count": 8,
     "metadata": {},
     "output_type": "execute_result"
    }
   ],
   "source": [
    "data[\"belongs_to_collection\"].notnull()"
   ]
  },
  {
   "cell_type": "code",
   "execution_count": 9,
   "metadata": {},
   "outputs": [
    {
     "data": {
      "text/plain": [
       "0        {'id': 10194, 'name': 'Toy Story Collection', ...\n",
       "1                                                      NaN\n",
       "2        {'id': 119050, 'name': 'Grumpy Old Men Collect...\n",
       "3                                                      NaN\n",
       "4        {'id': 96871, 'name': 'Father of the Bride Col...\n",
       "                               ...                        \n",
       "45461                                                  NaN\n",
       "45462                                                  NaN\n",
       "45463                                                  NaN\n",
       "45464                                                  NaN\n",
       "45465                                                  NaN\n",
       "Name: belongs_to_collection, Length: 45454, dtype: object"
      ]
     },
     "execution_count": 9,
     "metadata": {},
     "output_type": "execute_result"
    }
   ],
   "source": [
    "data[\"belongs_to_collection\"]"
   ]
  },
  {
   "cell_type": "code",
   "execution_count": 10,
   "metadata": {},
   "outputs": [
    {
     "data": {
      "text/plain": [
       "str"
      ]
     },
     "execution_count": 10,
     "metadata": {},
     "output_type": "execute_result"
    }
   ],
   "source": [
    "type(data[\"belongs_to_collection\"][0])"
   ]
  },
  {
   "cell_type": "code",
   "execution_count": 11,
   "metadata": {},
   "outputs": [
    {
     "data": {
      "text/plain": [
       "float"
      ]
     },
     "execution_count": 11,
     "metadata": {},
     "output_type": "execute_result"
    }
   ],
   "source": [
    "type(data[\"belongs_to_collection\"][1])"
   ]
  },
  {
   "cell_type": "code",
   "execution_count": 12,
   "metadata": {},
   "outputs": [],
   "source": [
    "collection=[]\n",
    "for string in data[\"belongs_to_collection\"]:\n",
    "    if type(string)==float:\n",
    "        collection.append(float(\"Nan\"))\n",
    "    else:\n",
    "        col_dict=eval(string)\n",
    "        collection.append(col_dict[\"name\"])"
   ]
  },
  {
   "cell_type": "code",
   "execution_count": 13,
   "metadata": {},
   "outputs": [
    {
     "data": {
      "text/plain": [
       "['Toy Story Collection',\n",
       " nan,\n",
       " 'Grumpy Old Men Collection',\n",
       " nan,\n",
       " 'Father of the Bride Collection',\n",
       " nan,\n",
       " nan,\n",
       " nan,\n",
       " nan,\n",
       " 'James Bond Collection',\n",
       " nan,\n",
       " nan,\n",
       " 'Balto Collection',\n",
       " nan,\n",
       " nan,\n",
       " nan,\n",
       " nan,\n",
       " nan,\n",
       " 'Ace Ventura Collection',\n",
       " nan]"
      ]
     },
     "execution_count": 13,
     "metadata": {},
     "output_type": "execute_result"
    }
   ],
   "source": [
    "collection[0:20]"
   ]
  },
  {
   "cell_type": "code",
   "execution_count": 14,
   "metadata": {},
   "outputs": [],
   "source": [
    "data[\"belongs_to_collection\"]=collection"
   ]
  },
  {
   "cell_type": "code",
   "execution_count": 15,
   "metadata": {},
   "outputs": [
    {
     "data": {
      "text/plain": [
       "0                  Toy Story Collection\n",
       "1                                   NaN\n",
       "2             Grumpy Old Men Collection\n",
       "3                                   NaN\n",
       "4        Father of the Bride Collection\n",
       "                      ...              \n",
       "45461                               NaN\n",
       "45462                               NaN\n",
       "45463                               NaN\n",
       "45464                               NaN\n",
       "45465                               NaN\n",
       "Name: belongs_to_collection, Length: 45454, dtype: object"
      ]
     },
     "execution_count": 15,
     "metadata": {},
     "output_type": "execute_result"
    }
   ],
   "source": [
    "data[\"belongs_to_collection\"]"
   ]
  },
  {
   "cell_type": "code",
   "execution_count": null,
   "metadata": {},
   "outputs": [],
   "source": []
  },
  {
   "cell_type": "markdown",
   "metadata": {},
   "source": [
    "# 3. budget\n",
    "type을 flaot으로 변경"
   ]
  },
  {
   "cell_type": "code",
   "execution_count": 16,
   "metadata": {},
   "outputs": [
    {
     "data": {
      "text/plain": [
       "count     45454\n",
       "unique     1223\n",
       "top           0\n",
       "freq      36565\n",
       "Name: budget, dtype: object"
      ]
     },
     "execution_count": 16,
     "metadata": {},
     "output_type": "execute_result"
    }
   ],
   "source": [
    "data[\"budget\"].describe()"
   ]
  },
  {
   "cell_type": "code",
   "execution_count": 17,
   "metadata": {},
   "outputs": [],
   "source": [
    "data[\"budget\"]=pd.to_numeric(data[\"budget\"])"
   ]
  },
  {
   "cell_type": "code",
   "execution_count": 18,
   "metadata": {},
   "outputs": [
    {
     "data": {
      "text/plain": [
       "count    4.545400e+04\n",
       "mean     4.225399e+06\n",
       "std      1.742576e+07\n",
       "min      0.000000e+00\n",
       "25%      0.000000e+00\n",
       "50%      0.000000e+00\n",
       "75%      0.000000e+00\n",
       "max      3.800000e+08\n",
       "Name: budget, dtype: float64"
      ]
     },
     "execution_count": 18,
     "metadata": {},
     "output_type": "execute_result"
    }
   ],
   "source": [
    "data[\"budget\"].describe()"
   ]
  },
  {
   "cell_type": "code",
   "execution_count": null,
   "metadata": {},
   "outputs": [],
   "source": []
  },
  {
   "cell_type": "markdown",
   "metadata": {},
   "source": [
    "# 4. genres\n",
    "genres name만 포함하는 리스트 형태로 저장"
   ]
  },
  {
   "cell_type": "code",
   "execution_count": 19,
   "metadata": {},
   "outputs": [
    {
     "data": {
      "text/plain": [
       "count                             45454\n",
       "unique                             4066\n",
       "top       [{'id': 18, 'name': 'Drama'}]\n",
       "freq                               5000\n",
       "Name: genres, dtype: object"
      ]
     },
     "execution_count": 19,
     "metadata": {},
     "output_type": "execute_result"
    }
   ],
   "source": [
    "data[\"genres\"].describe()"
   ]
  },
  {
   "cell_type": "code",
   "execution_count": 20,
   "metadata": {},
   "outputs": [
    {
     "data": {
      "text/plain": [
       "0        [{'id': 16, 'name': 'Animation'}, {'id': 35, '...\n",
       "1        [{'id': 12, 'name': 'Adventure'}, {'id': 14, '...\n",
       "2        [{'id': 10749, 'name': 'Romance'}, {'id': 35, ...\n",
       "3        [{'id': 35, 'name': 'Comedy'}, {'id': 18, 'nam...\n",
       "4                           [{'id': 35, 'name': 'Comedy'}]\n",
       "                               ...                        \n",
       "45461    [{'id': 18, 'name': 'Drama'}, {'id': 10751, 'n...\n",
       "45462                        [{'id': 18, 'name': 'Drama'}]\n",
       "45463    [{'id': 28, 'name': 'Action'}, {'id': 18, 'nam...\n",
       "45464                                                   []\n",
       "45465                                                   []\n",
       "Name: genres, Length: 45454, dtype: object"
      ]
     },
     "execution_count": 20,
     "metadata": {},
     "output_type": "execute_result"
    }
   ],
   "source": [
    "data[\"genres\"]"
   ]
  },
  {
   "cell_type": "code",
   "execution_count": 21,
   "metadata": {},
   "outputs": [
    {
     "data": {
      "text/plain": [
       "\"[{'id': 16, 'name': 'Animation'}, {'id': 35, 'name': 'Comedy'}, {'id': 10751, 'name': 'Family'}]\""
      ]
     },
     "execution_count": 21,
     "metadata": {},
     "output_type": "execute_result"
    }
   ],
   "source": [
    "data[\"genres\"][0]"
   ]
  },
  {
   "cell_type": "code",
   "execution_count": 22,
   "metadata": {},
   "outputs": [
    {
     "data": {
      "text/plain": [
       "'[]'"
      ]
     },
     "execution_count": 22,
     "metadata": {},
     "output_type": "execute_result"
    }
   ],
   "source": [
    "data[\"genres\"][45464]"
   ]
  },
  {
   "cell_type": "code",
   "execution_count": 23,
   "metadata": {},
   "outputs": [
    {
     "data": {
      "text/plain": [
       "[{'id': 16, 'name': 'Animation'},\n",
       " {'id': 35, 'name': 'Comedy'},\n",
       " {'id': 10751, 'name': 'Family'}]"
      ]
     },
     "execution_count": 23,
     "metadata": {},
     "output_type": "execute_result"
    }
   ],
   "source": [
    "eval(data[\"genres\"][0])"
   ]
  },
  {
   "cell_type": "code",
   "execution_count": 24,
   "metadata": {},
   "outputs": [],
   "source": [
    "genres=[]\n",
    "for string in data[\"genres\"]:\n",
    "    genres_list=eval(string)\n",
    "    if len(genres_list)==0:\n",
    "        genres.append(float(\"Nan\"))\n",
    "    else:\n",
    "        genres2=[]\n",
    "        for genres_dict in genres_list:\n",
    "            genres_name=genres_dict[\"name\"]\n",
    "            genres2.append(genres_name)\n",
    "        genres.append(genres2)"
   ]
  },
  {
   "cell_type": "code",
   "execution_count": 25,
   "metadata": {},
   "outputs": [
    {
     "data": {
      "text/plain": [
       "[['Animation', 'Comedy', 'Family'],\n",
       " ['Adventure', 'Fantasy', 'Family'],\n",
       " ['Romance', 'Comedy'],\n",
       " ['Comedy', 'Drama', 'Romance'],\n",
       " ['Comedy'],\n",
       " ['Action', 'Crime', 'Drama', 'Thriller'],\n",
       " ['Comedy', 'Romance'],\n",
       " ['Action', 'Adventure', 'Drama', 'Family'],\n",
       " ['Action', 'Adventure', 'Thriller'],\n",
       " ['Adventure', 'Action', 'Thriller'],\n",
       " ['Comedy', 'Drama', 'Romance'],\n",
       " ['Comedy', 'Horror'],\n",
       " ['Family', 'Animation', 'Adventure'],\n",
       " ['History', 'Drama'],\n",
       " ['Action', 'Adventure'],\n",
       " ['Drama', 'Crime'],\n",
       " ['Drama', 'Romance'],\n",
       " ['Crime', 'Comedy'],\n",
       " ['Crime', 'Comedy', 'Adventure'],\n",
       " ['Action', 'Comedy', 'Crime']]"
      ]
     },
     "execution_count": 25,
     "metadata": {},
     "output_type": "execute_result"
    }
   ],
   "source": [
    "genres[0:20]"
   ]
  },
  {
   "cell_type": "code",
   "execution_count": 26,
   "metadata": {},
   "outputs": [],
   "source": [
    "data[\"genres\"]=genres"
   ]
  },
  {
   "cell_type": "code",
   "execution_count": 27,
   "metadata": {},
   "outputs": [
    {
     "data": {
      "text/plain": [
       "0         [Animation, Comedy, Family]\n",
       "1        [Adventure, Fantasy, Family]\n",
       "2                   [Romance, Comedy]\n",
       "3            [Comedy, Drama, Romance]\n",
       "4                            [Comedy]\n",
       "                     ...             \n",
       "45461                 [Drama, Family]\n",
       "45462                         [Drama]\n",
       "45463       [Action, Drama, Thriller]\n",
       "45464                             NaN\n",
       "45465                             NaN\n",
       "Name: genres, Length: 45454, dtype: object"
      ]
     },
     "execution_count": 27,
     "metadata": {},
     "output_type": "execute_result"
    }
   ],
   "source": [
    "data[\"genres\"]"
   ]
  },
  {
   "cell_type": "code",
   "execution_count": null,
   "metadata": {},
   "outputs": [],
   "source": []
  },
  {
   "cell_type": "markdown",
   "metadata": {},
   "source": [
    "# 5. homepage\n",
    "변수 삭제"
   ]
  },
  {
   "cell_type": "code",
   "execution_count": 28,
   "metadata": {},
   "outputs": [
    {
     "data": {
      "text/plain": [
       "0        http://toystory.disney.com/toy-story\n",
       "1                                         NaN\n",
       "2                                         NaN\n",
       "3                                         NaN\n",
       "4                                         NaN\n",
       "                         ...                 \n",
       "45461    http://www.imdb.com/title/tt6209470/\n",
       "45462                                     NaN\n",
       "45463                                     NaN\n",
       "45464                                     NaN\n",
       "45465                                     NaN\n",
       "Name: homepage, Length: 45454, dtype: object"
      ]
     },
     "execution_count": 28,
     "metadata": {},
     "output_type": "execute_result"
    }
   ],
   "source": [
    "data[\"homepage\"]"
   ]
  },
  {
   "cell_type": "code",
   "execution_count": 29,
   "metadata": {},
   "outputs": [],
   "source": [
    "del data[\"homepage\"]"
   ]
  },
  {
   "cell_type": "code",
   "execution_count": 30,
   "metadata": {},
   "outputs": [
    {
     "data": {
      "text/html": [
       "<div>\n",
       "<style scoped>\n",
       "    .dataframe tbody tr th:only-of-type {\n",
       "        vertical-align: middle;\n",
       "    }\n",
       "\n",
       "    .dataframe tbody tr th {\n",
       "        vertical-align: top;\n",
       "    }\n",
       "\n",
       "    .dataframe thead th {\n",
       "        text-align: right;\n",
       "    }\n",
       "</style>\n",
       "<table border=\"1\" class=\"dataframe\">\n",
       "  <thead>\n",
       "    <tr style=\"text-align: right;\">\n",
       "      <th></th>\n",
       "      <th>adult</th>\n",
       "      <th>belongs_to_collection</th>\n",
       "      <th>budget</th>\n",
       "      <th>genres</th>\n",
       "      <th>id</th>\n",
       "      <th>imdb_id</th>\n",
       "      <th>original_language</th>\n",
       "      <th>original_title</th>\n",
       "      <th>overview</th>\n",
       "      <th>popularity</th>\n",
       "      <th>...</th>\n",
       "      <th>release_date</th>\n",
       "      <th>revenue</th>\n",
       "      <th>runtime</th>\n",
       "      <th>spoken_languages</th>\n",
       "      <th>status</th>\n",
       "      <th>tagline</th>\n",
       "      <th>title</th>\n",
       "      <th>video</th>\n",
       "      <th>vote_average</th>\n",
       "      <th>vote_count</th>\n",
       "    </tr>\n",
       "  </thead>\n",
       "  <tbody>\n",
       "    <tr>\n",
       "      <th>0</th>\n",
       "      <td>False</td>\n",
       "      <td>Toy Story Collection</td>\n",
       "      <td>30000000</td>\n",
       "      <td>[Animation, Comedy, Family]</td>\n",
       "      <td>862</td>\n",
       "      <td>tt0114709</td>\n",
       "      <td>en</td>\n",
       "      <td>Toy Story</td>\n",
       "      <td>Led by Woody, Andy's toys live happily in his ...</td>\n",
       "      <td>21.9469</td>\n",
       "      <td>...</td>\n",
       "      <td>1995-10-30</td>\n",
       "      <td>373554033.0</td>\n",
       "      <td>81.0</td>\n",
       "      <td>[{'iso_639_1': 'en', 'name': 'English'}]</td>\n",
       "      <td>Released</td>\n",
       "      <td>NaN</td>\n",
       "      <td>Toy Story</td>\n",
       "      <td>False</td>\n",
       "      <td>7.7</td>\n",
       "      <td>5415.0</td>\n",
       "    </tr>\n",
       "    <tr>\n",
       "      <th>1</th>\n",
       "      <td>False</td>\n",
       "      <td>NaN</td>\n",
       "      <td>65000000</td>\n",
       "      <td>[Adventure, Fantasy, Family]</td>\n",
       "      <td>8844</td>\n",
       "      <td>tt0113497</td>\n",
       "      <td>en</td>\n",
       "      <td>Jumanji</td>\n",
       "      <td>When siblings Judy and Peter discover an encha...</td>\n",
       "      <td>17.0155</td>\n",
       "      <td>...</td>\n",
       "      <td>1995-12-15</td>\n",
       "      <td>262797249.0</td>\n",
       "      <td>104.0</td>\n",
       "      <td>[{'iso_639_1': 'en', 'name': 'English'}, {'iso...</td>\n",
       "      <td>Released</td>\n",
       "      <td>Roll the dice and unleash the excitement!</td>\n",
       "      <td>Jumanji</td>\n",
       "      <td>False</td>\n",
       "      <td>6.9</td>\n",
       "      <td>2413.0</td>\n",
       "    </tr>\n",
       "    <tr>\n",
       "      <th>2</th>\n",
       "      <td>False</td>\n",
       "      <td>Grumpy Old Men Collection</td>\n",
       "      <td>0</td>\n",
       "      <td>[Romance, Comedy]</td>\n",
       "      <td>15602</td>\n",
       "      <td>tt0113228</td>\n",
       "      <td>en</td>\n",
       "      <td>Grumpier Old Men</td>\n",
       "      <td>A family wedding reignites the ancient feud be...</td>\n",
       "      <td>11.7129</td>\n",
       "      <td>...</td>\n",
       "      <td>1995-12-22</td>\n",
       "      <td>0.0</td>\n",
       "      <td>101.0</td>\n",
       "      <td>[{'iso_639_1': 'en', 'name': 'English'}]</td>\n",
       "      <td>Released</td>\n",
       "      <td>Still Yelling. Still Fighting. Still Ready for...</td>\n",
       "      <td>Grumpier Old Men</td>\n",
       "      <td>False</td>\n",
       "      <td>6.5</td>\n",
       "      <td>92.0</td>\n",
       "    </tr>\n",
       "    <tr>\n",
       "      <th>3</th>\n",
       "      <td>False</td>\n",
       "      <td>NaN</td>\n",
       "      <td>16000000</td>\n",
       "      <td>[Comedy, Drama, Romance]</td>\n",
       "      <td>31357</td>\n",
       "      <td>tt0114885</td>\n",
       "      <td>en</td>\n",
       "      <td>Waiting to Exhale</td>\n",
       "      <td>Cheated on, mistreated and stepped on, the wom...</td>\n",
       "      <td>3.85949</td>\n",
       "      <td>...</td>\n",
       "      <td>1995-12-22</td>\n",
       "      <td>81452156.0</td>\n",
       "      <td>127.0</td>\n",
       "      <td>[{'iso_639_1': 'en', 'name': 'English'}]</td>\n",
       "      <td>Released</td>\n",
       "      <td>Friends are the people who let you be yourself...</td>\n",
       "      <td>Waiting to Exhale</td>\n",
       "      <td>False</td>\n",
       "      <td>6.1</td>\n",
       "      <td>34.0</td>\n",
       "    </tr>\n",
       "    <tr>\n",
       "      <th>4</th>\n",
       "      <td>False</td>\n",
       "      <td>Father of the Bride Collection</td>\n",
       "      <td>0</td>\n",
       "      <td>[Comedy]</td>\n",
       "      <td>11862</td>\n",
       "      <td>tt0113041</td>\n",
       "      <td>en</td>\n",
       "      <td>Father of the Bride Part II</td>\n",
       "      <td>Just when George Banks has recovered from his ...</td>\n",
       "      <td>8.38752</td>\n",
       "      <td>...</td>\n",
       "      <td>1995-02-10</td>\n",
       "      <td>76578911.0</td>\n",
       "      <td>106.0</td>\n",
       "      <td>[{'iso_639_1': 'en', 'name': 'English'}]</td>\n",
       "      <td>Released</td>\n",
       "      <td>Just When His World Is Back To Normal... He's ...</td>\n",
       "      <td>Father of the Bride Part II</td>\n",
       "      <td>False</td>\n",
       "      <td>5.7</td>\n",
       "      <td>173.0</td>\n",
       "    </tr>\n",
       "  </tbody>\n",
       "</table>\n",
       "<p>5 rows × 23 columns</p>\n",
       "</div>"
      ],
      "text/plain": [
       "   adult           belongs_to_collection    budget  \\\n",
       "0  False            Toy Story Collection  30000000   \n",
       "1  False                             NaN  65000000   \n",
       "2  False       Grumpy Old Men Collection         0   \n",
       "3  False                             NaN  16000000   \n",
       "4  False  Father of the Bride Collection         0   \n",
       "\n",
       "                         genres     id    imdb_id original_language  \\\n",
       "0   [Animation, Comedy, Family]    862  tt0114709                en   \n",
       "1  [Adventure, Fantasy, Family]   8844  tt0113497                en   \n",
       "2             [Romance, Comedy]  15602  tt0113228                en   \n",
       "3      [Comedy, Drama, Romance]  31357  tt0114885                en   \n",
       "4                      [Comedy]  11862  tt0113041                en   \n",
       "\n",
       "                original_title  \\\n",
       "0                    Toy Story   \n",
       "1                      Jumanji   \n",
       "2             Grumpier Old Men   \n",
       "3            Waiting to Exhale   \n",
       "4  Father of the Bride Part II   \n",
       "\n",
       "                                            overview popularity  ...  \\\n",
       "0  Led by Woody, Andy's toys live happily in his ...    21.9469  ...   \n",
       "1  When siblings Judy and Peter discover an encha...    17.0155  ...   \n",
       "2  A family wedding reignites the ancient feud be...    11.7129  ...   \n",
       "3  Cheated on, mistreated and stepped on, the wom...    3.85949  ...   \n",
       "4  Just when George Banks has recovered from his ...    8.38752  ...   \n",
       "\n",
       "  release_date      revenue runtime  \\\n",
       "0   1995-10-30  373554033.0    81.0   \n",
       "1   1995-12-15  262797249.0   104.0   \n",
       "2   1995-12-22          0.0   101.0   \n",
       "3   1995-12-22   81452156.0   127.0   \n",
       "4   1995-02-10   76578911.0   106.0   \n",
       "\n",
       "                                    spoken_languages    status  \\\n",
       "0           [{'iso_639_1': 'en', 'name': 'English'}]  Released   \n",
       "1  [{'iso_639_1': 'en', 'name': 'English'}, {'iso...  Released   \n",
       "2           [{'iso_639_1': 'en', 'name': 'English'}]  Released   \n",
       "3           [{'iso_639_1': 'en', 'name': 'English'}]  Released   \n",
       "4           [{'iso_639_1': 'en', 'name': 'English'}]  Released   \n",
       "\n",
       "                                             tagline  \\\n",
       "0                                                NaN   \n",
       "1          Roll the dice and unleash the excitement!   \n",
       "2  Still Yelling. Still Fighting. Still Ready for...   \n",
       "3  Friends are the people who let you be yourself...   \n",
       "4  Just When His World Is Back To Normal... He's ...   \n",
       "\n",
       "                         title  video vote_average vote_count  \n",
       "0                    Toy Story  False          7.7     5415.0  \n",
       "1                      Jumanji  False          6.9     2413.0  \n",
       "2             Grumpier Old Men  False          6.5       92.0  \n",
       "3            Waiting to Exhale  False          6.1       34.0  \n",
       "4  Father of the Bride Part II  False          5.7      173.0  \n",
       "\n",
       "[5 rows x 23 columns]"
      ]
     },
     "execution_count": 30,
     "metadata": {},
     "output_type": "execute_result"
    }
   ],
   "source": [
    "data.head()"
   ]
  },
  {
   "cell_type": "code",
   "execution_count": null,
   "metadata": {},
   "outputs": [],
   "source": []
  },
  {
   "cell_type": "markdown",
   "metadata": {},
   "source": [
    "# 6. id\n",
    "type를 object에서 int로 변경 후 \n",
    "같은 값 갖는 관측치는 하나만 남겨놓고 삭제"
   ]
  },
  {
   "cell_type": "code",
   "execution_count": 31,
   "metadata": {},
   "outputs": [
    {
     "data": {
      "text/plain": [
       "count      45454\n",
       "unique     45424\n",
       "top       141971\n",
       "freq           3\n",
       "Name: id, dtype: object"
      ]
     },
     "execution_count": 31,
     "metadata": {},
     "output_type": "execute_result"
    }
   ],
   "source": [
    "data[\"id\"].describe()"
   ]
  },
  {
   "cell_type": "code",
   "execution_count": 32,
   "metadata": {},
   "outputs": [],
   "source": [
    "data[\"id\"]=pd.to_numeric(data[\"id\"],errors='coerce')"
   ]
  },
  {
   "cell_type": "code",
   "execution_count": 33,
   "metadata": {},
   "outputs": [
    {
     "data": {
      "text/plain": [
       "141971    3\n",
       "22649     2\n",
       "12600     2\n",
       "109962    2\n",
       "14788     2\n",
       "         ..\n",
       "376934    1\n",
       "86751     1\n",
       "19164     1\n",
       "29403     1\n",
       "276895    1\n",
       "Name: id, Length: 45424, dtype: int64"
      ]
     },
     "execution_count": 33,
     "metadata": {},
     "output_type": "execute_result"
    }
   ],
   "source": [
    "pd.value_counts(data[\"id\"])"
   ]
  },
  {
   "cell_type": "code",
   "execution_count": 34,
   "metadata": {},
   "outputs": [
    {
     "data": {
      "text/html": [
       "<div>\n",
       "<style scoped>\n",
       "    .dataframe tbody tr th:only-of-type {\n",
       "        vertical-align: middle;\n",
       "    }\n",
       "\n",
       "    .dataframe tbody tr th {\n",
       "        vertical-align: top;\n",
       "    }\n",
       "\n",
       "    .dataframe thead th {\n",
       "        text-align: right;\n",
       "    }\n",
       "</style>\n",
       "<table border=\"1\" class=\"dataframe\">\n",
       "  <thead>\n",
       "    <tr style=\"text-align: right;\">\n",
       "      <th></th>\n",
       "      <th>adult</th>\n",
       "      <th>belongs_to_collection</th>\n",
       "      <th>budget</th>\n",
       "      <th>genres</th>\n",
       "      <th>id</th>\n",
       "      <th>imdb_id</th>\n",
       "      <th>original_language</th>\n",
       "      <th>original_title</th>\n",
       "      <th>overview</th>\n",
       "      <th>popularity</th>\n",
       "      <th>...</th>\n",
       "      <th>release_date</th>\n",
       "      <th>revenue</th>\n",
       "      <th>runtime</th>\n",
       "      <th>spoken_languages</th>\n",
       "      <th>status</th>\n",
       "      <th>tagline</th>\n",
       "      <th>title</th>\n",
       "      <th>video</th>\n",
       "      <th>vote_average</th>\n",
       "      <th>vote_count</th>\n",
       "    </tr>\n",
       "  </thead>\n",
       "  <tbody>\n",
       "    <tr>\n",
       "      <th>13261</th>\n",
       "      <td>False</td>\n",
       "      <td>NaN</td>\n",
       "      <td>0</td>\n",
       "      <td>[Thriller, Mystery]</td>\n",
       "      <td>141971</td>\n",
       "      <td>tt1180333</td>\n",
       "      <td>fi</td>\n",
       "      <td>Blackout</td>\n",
       "      <td>Recovering from a nail gun shot to the head an...</td>\n",
       "      <td>0.411949</td>\n",
       "      <td>...</td>\n",
       "      <td>2008-12-26</td>\n",
       "      <td>0.0</td>\n",
       "      <td>108.0</td>\n",
       "      <td>[{'iso_639_1': 'fi', 'name': 'suomi'}]</td>\n",
       "      <td>Released</td>\n",
       "      <td>Which one is the first to return - memory or t...</td>\n",
       "      <td>Blackout</td>\n",
       "      <td>False</td>\n",
       "      <td>6.7</td>\n",
       "      <td>3.0</td>\n",
       "    </tr>\n",
       "    <tr>\n",
       "      <th>13375</th>\n",
       "      <td>False</td>\n",
       "      <td>NaN</td>\n",
       "      <td>0</td>\n",
       "      <td>[Thriller, Mystery]</td>\n",
       "      <td>141971</td>\n",
       "      <td>tt1180333</td>\n",
       "      <td>fi</td>\n",
       "      <td>Blackout</td>\n",
       "      <td>Recovering from a nail gun shot to the head an...</td>\n",
       "      <td>0.411949</td>\n",
       "      <td>...</td>\n",
       "      <td>2008-12-26</td>\n",
       "      <td>0.0</td>\n",
       "      <td>108.0</td>\n",
       "      <td>[{'iso_639_1': 'fi', 'name': 'suomi'}]</td>\n",
       "      <td>Released</td>\n",
       "      <td>Which one is the first to return - memory or t...</td>\n",
       "      <td>Blackout</td>\n",
       "      <td>False</td>\n",
       "      <td>6.7</td>\n",
       "      <td>3.0</td>\n",
       "    </tr>\n",
       "    <tr>\n",
       "      <th>16764</th>\n",
       "      <td>False</td>\n",
       "      <td>NaN</td>\n",
       "      <td>0</td>\n",
       "      <td>[Thriller, Mystery]</td>\n",
       "      <td>141971</td>\n",
       "      <td>tt1180333</td>\n",
       "      <td>fi</td>\n",
       "      <td>Blackout</td>\n",
       "      <td>Recovering from a nail gun shot to the head an...</td>\n",
       "      <td>0.411949</td>\n",
       "      <td>...</td>\n",
       "      <td>2008-12-26</td>\n",
       "      <td>0.0</td>\n",
       "      <td>108.0</td>\n",
       "      <td>[{'iso_639_1': 'fi', 'name': 'suomi'}]</td>\n",
       "      <td>Released</td>\n",
       "      <td>Which one is the first to return - memory or t...</td>\n",
       "      <td>Blackout</td>\n",
       "      <td>False</td>\n",
       "      <td>6.7</td>\n",
       "      <td>3.0</td>\n",
       "    </tr>\n",
       "  </tbody>\n",
       "</table>\n",
       "<p>3 rows × 23 columns</p>\n",
       "</div>"
      ],
      "text/plain": [
       "       adult belongs_to_collection  budget               genres      id  \\\n",
       "13261  False                   NaN       0  [Thriller, Mystery]  141971   \n",
       "13375  False                   NaN       0  [Thriller, Mystery]  141971   \n",
       "16764  False                   NaN       0  [Thriller, Mystery]  141971   \n",
       "\n",
       "         imdb_id original_language original_title  \\\n",
       "13261  tt1180333                fi       Blackout   \n",
       "13375  tt1180333                fi       Blackout   \n",
       "16764  tt1180333                fi       Blackout   \n",
       "\n",
       "                                                overview popularity  ...  \\\n",
       "13261  Recovering from a nail gun shot to the head an...   0.411949  ...   \n",
       "13375  Recovering from a nail gun shot to the head an...   0.411949  ...   \n",
       "16764  Recovering from a nail gun shot to the head an...   0.411949  ...   \n",
       "\n",
       "      release_date revenue runtime                        spoken_languages  \\\n",
       "13261   2008-12-26     0.0   108.0  [{'iso_639_1': 'fi', 'name': 'suomi'}]   \n",
       "13375   2008-12-26     0.0   108.0  [{'iso_639_1': 'fi', 'name': 'suomi'}]   \n",
       "16764   2008-12-26     0.0   108.0  [{'iso_639_1': 'fi', 'name': 'suomi'}]   \n",
       "\n",
       "         status                                            tagline     title  \\\n",
       "13261  Released  Which one is the first to return - memory or t...  Blackout   \n",
       "13375  Released  Which one is the first to return - memory or t...  Blackout   \n",
       "16764  Released  Which one is the first to return - memory or t...  Blackout   \n",
       "\n",
       "       video vote_average vote_count  \n",
       "13261  False          6.7        3.0  \n",
       "13375  False          6.7        3.0  \n",
       "16764  False          6.7        3.0  \n",
       "\n",
       "[3 rows x 23 columns]"
      ]
     },
     "execution_count": 34,
     "metadata": {},
     "output_type": "execute_result"
    }
   ],
   "source": [
    "data[data[\"id\"]==141971]"
   ]
  },
  {
   "cell_type": "code",
   "execution_count": 35,
   "metadata": {},
   "outputs": [],
   "source": [
    "data=data.drop_duplicates([\"id\"],keep=\"first\")"
   ]
  },
  {
   "cell_type": "code",
   "execution_count": 36,
   "metadata": {},
   "outputs": [
    {
     "data": {
      "text/plain": [
       "2047      1\n",
       "46492     1\n",
       "38264     1\n",
       "327029    1\n",
       "62836     1\n",
       "         ..\n",
       "33765     1\n",
       "176867    1\n",
       "376934    1\n",
       "86751     1\n",
       "276895    1\n",
       "Name: id, Length: 45424, dtype: int64"
      ]
     },
     "execution_count": 36,
     "metadata": {},
     "output_type": "execute_result"
    }
   ],
   "source": [
    "pd.value_counts(data[\"id\"])"
   ]
  },
  {
   "cell_type": "code",
   "execution_count": 37,
   "metadata": {},
   "outputs": [
    {
     "data": {
      "text/plain": [
       "0"
      ]
     },
     "execution_count": 37,
     "metadata": {},
     "output_type": "execute_result"
    }
   ],
   "source": [
    "np.sum(data.duplicated([\"id\"]))"
   ]
  },
  {
   "cell_type": "code",
   "execution_count": null,
   "metadata": {},
   "outputs": [],
   "source": []
  },
  {
   "cell_type": "markdown",
   "metadata": {},
   "source": [
    "# 7. imdb_id\n",
    "기존에 존재하던 중복행은 위의 전처리 과정들에서 모두 해결\n",
    "\n",
    "영화별 고유값같은데 이미 id가 그 역할 해주고 있으니깐 그냥 제거"
   ]
  },
  {
   "cell_type": "code",
   "execution_count": 38,
   "metadata": {},
   "outputs": [
    {
     "data": {
      "text/plain": [
       "count         45407\n",
       "unique        45407\n",
       "top       tt4393278\n",
       "freq              1\n",
       "Name: imdb_id, dtype: object"
      ]
     },
     "execution_count": 38,
     "metadata": {},
     "output_type": "execute_result"
    }
   ],
   "source": [
    "data[\"imdb_id\"].describe()"
   ]
  },
  {
   "cell_type": "code",
   "execution_count": 39,
   "metadata": {},
   "outputs": [
    {
     "data": {
      "text/plain": [
       "0"
      ]
     },
     "execution_count": 39,
     "metadata": {},
     "output_type": "execute_result"
    }
   ],
   "source": [
    "np.sum(pd.value_counts(data[\"imdb_id\"])>1)"
   ]
  },
  {
   "cell_type": "code",
   "execution_count": 40,
   "metadata": {},
   "outputs": [],
   "source": [
    "del data[\"imdb_id\"]"
   ]
  },
  {
   "cell_type": "code",
   "execution_count": 41,
   "metadata": {},
   "outputs": [
    {
     "data": {
      "text/html": [
       "<div>\n",
       "<style scoped>\n",
       "    .dataframe tbody tr th:only-of-type {\n",
       "        vertical-align: middle;\n",
       "    }\n",
       "\n",
       "    .dataframe tbody tr th {\n",
       "        vertical-align: top;\n",
       "    }\n",
       "\n",
       "    .dataframe thead th {\n",
       "        text-align: right;\n",
       "    }\n",
       "</style>\n",
       "<table border=\"1\" class=\"dataframe\">\n",
       "  <thead>\n",
       "    <tr style=\"text-align: right;\">\n",
       "      <th></th>\n",
       "      <th>adult</th>\n",
       "      <th>belongs_to_collection</th>\n",
       "      <th>budget</th>\n",
       "      <th>genres</th>\n",
       "      <th>id</th>\n",
       "      <th>original_language</th>\n",
       "      <th>original_title</th>\n",
       "      <th>overview</th>\n",
       "      <th>popularity</th>\n",
       "      <th>poster_path</th>\n",
       "      <th>...</th>\n",
       "      <th>release_date</th>\n",
       "      <th>revenue</th>\n",
       "      <th>runtime</th>\n",
       "      <th>spoken_languages</th>\n",
       "      <th>status</th>\n",
       "      <th>tagline</th>\n",
       "      <th>title</th>\n",
       "      <th>video</th>\n",
       "      <th>vote_average</th>\n",
       "      <th>vote_count</th>\n",
       "    </tr>\n",
       "  </thead>\n",
       "  <tbody>\n",
       "    <tr>\n",
       "      <th>0</th>\n",
       "      <td>False</td>\n",
       "      <td>Toy Story Collection</td>\n",
       "      <td>30000000</td>\n",
       "      <td>[Animation, Comedy, Family]</td>\n",
       "      <td>862</td>\n",
       "      <td>en</td>\n",
       "      <td>Toy Story</td>\n",
       "      <td>Led by Woody, Andy's toys live happily in his ...</td>\n",
       "      <td>21.9469</td>\n",
       "      <td>/rhIRbceoE9lR4veEXuwCC2wARtG.jpg</td>\n",
       "      <td>...</td>\n",
       "      <td>1995-10-30</td>\n",
       "      <td>373554033.0</td>\n",
       "      <td>81.0</td>\n",
       "      <td>[{'iso_639_1': 'en', 'name': 'English'}]</td>\n",
       "      <td>Released</td>\n",
       "      <td>NaN</td>\n",
       "      <td>Toy Story</td>\n",
       "      <td>False</td>\n",
       "      <td>7.7</td>\n",
       "      <td>5415.0</td>\n",
       "    </tr>\n",
       "    <tr>\n",
       "      <th>1</th>\n",
       "      <td>False</td>\n",
       "      <td>NaN</td>\n",
       "      <td>65000000</td>\n",
       "      <td>[Adventure, Fantasy, Family]</td>\n",
       "      <td>8844</td>\n",
       "      <td>en</td>\n",
       "      <td>Jumanji</td>\n",
       "      <td>When siblings Judy and Peter discover an encha...</td>\n",
       "      <td>17.0155</td>\n",
       "      <td>/vzmL6fP7aPKNKPRTFnZmiUfciyV.jpg</td>\n",
       "      <td>...</td>\n",
       "      <td>1995-12-15</td>\n",
       "      <td>262797249.0</td>\n",
       "      <td>104.0</td>\n",
       "      <td>[{'iso_639_1': 'en', 'name': 'English'}, {'iso...</td>\n",
       "      <td>Released</td>\n",
       "      <td>Roll the dice and unleash the excitement!</td>\n",
       "      <td>Jumanji</td>\n",
       "      <td>False</td>\n",
       "      <td>6.9</td>\n",
       "      <td>2413.0</td>\n",
       "    </tr>\n",
       "    <tr>\n",
       "      <th>2</th>\n",
       "      <td>False</td>\n",
       "      <td>Grumpy Old Men Collection</td>\n",
       "      <td>0</td>\n",
       "      <td>[Romance, Comedy]</td>\n",
       "      <td>15602</td>\n",
       "      <td>en</td>\n",
       "      <td>Grumpier Old Men</td>\n",
       "      <td>A family wedding reignites the ancient feud be...</td>\n",
       "      <td>11.7129</td>\n",
       "      <td>/6ksm1sjKMFLbO7UY2i6G1ju9SML.jpg</td>\n",
       "      <td>...</td>\n",
       "      <td>1995-12-22</td>\n",
       "      <td>0.0</td>\n",
       "      <td>101.0</td>\n",
       "      <td>[{'iso_639_1': 'en', 'name': 'English'}]</td>\n",
       "      <td>Released</td>\n",
       "      <td>Still Yelling. Still Fighting. Still Ready for...</td>\n",
       "      <td>Grumpier Old Men</td>\n",
       "      <td>False</td>\n",
       "      <td>6.5</td>\n",
       "      <td>92.0</td>\n",
       "    </tr>\n",
       "    <tr>\n",
       "      <th>3</th>\n",
       "      <td>False</td>\n",
       "      <td>NaN</td>\n",
       "      <td>16000000</td>\n",
       "      <td>[Comedy, Drama, Romance]</td>\n",
       "      <td>31357</td>\n",
       "      <td>en</td>\n",
       "      <td>Waiting to Exhale</td>\n",
       "      <td>Cheated on, mistreated and stepped on, the wom...</td>\n",
       "      <td>3.85949</td>\n",
       "      <td>/16XOMpEaLWkrcPqSQqhTmeJuqQl.jpg</td>\n",
       "      <td>...</td>\n",
       "      <td>1995-12-22</td>\n",
       "      <td>81452156.0</td>\n",
       "      <td>127.0</td>\n",
       "      <td>[{'iso_639_1': 'en', 'name': 'English'}]</td>\n",
       "      <td>Released</td>\n",
       "      <td>Friends are the people who let you be yourself...</td>\n",
       "      <td>Waiting to Exhale</td>\n",
       "      <td>False</td>\n",
       "      <td>6.1</td>\n",
       "      <td>34.0</td>\n",
       "    </tr>\n",
       "    <tr>\n",
       "      <th>4</th>\n",
       "      <td>False</td>\n",
       "      <td>Father of the Bride Collection</td>\n",
       "      <td>0</td>\n",
       "      <td>[Comedy]</td>\n",
       "      <td>11862</td>\n",
       "      <td>en</td>\n",
       "      <td>Father of the Bride Part II</td>\n",
       "      <td>Just when George Banks has recovered from his ...</td>\n",
       "      <td>8.38752</td>\n",
       "      <td>/e64sOI48hQXyru7naBFyssKFxVd.jpg</td>\n",
       "      <td>...</td>\n",
       "      <td>1995-02-10</td>\n",
       "      <td>76578911.0</td>\n",
       "      <td>106.0</td>\n",
       "      <td>[{'iso_639_1': 'en', 'name': 'English'}]</td>\n",
       "      <td>Released</td>\n",
       "      <td>Just When His World Is Back To Normal... He's ...</td>\n",
       "      <td>Father of the Bride Part II</td>\n",
       "      <td>False</td>\n",
       "      <td>5.7</td>\n",
       "      <td>173.0</td>\n",
       "    </tr>\n",
       "  </tbody>\n",
       "</table>\n",
       "<p>5 rows × 22 columns</p>\n",
       "</div>"
      ],
      "text/plain": [
       "   adult           belongs_to_collection    budget  \\\n",
       "0  False            Toy Story Collection  30000000   \n",
       "1  False                             NaN  65000000   \n",
       "2  False       Grumpy Old Men Collection         0   \n",
       "3  False                             NaN  16000000   \n",
       "4  False  Father of the Bride Collection         0   \n",
       "\n",
       "                         genres     id original_language  \\\n",
       "0   [Animation, Comedy, Family]    862                en   \n",
       "1  [Adventure, Fantasy, Family]   8844                en   \n",
       "2             [Romance, Comedy]  15602                en   \n",
       "3      [Comedy, Drama, Romance]  31357                en   \n",
       "4                      [Comedy]  11862                en   \n",
       "\n",
       "                original_title  \\\n",
       "0                    Toy Story   \n",
       "1                      Jumanji   \n",
       "2             Grumpier Old Men   \n",
       "3            Waiting to Exhale   \n",
       "4  Father of the Bride Part II   \n",
       "\n",
       "                                            overview popularity  \\\n",
       "0  Led by Woody, Andy's toys live happily in his ...    21.9469   \n",
       "1  When siblings Judy and Peter discover an encha...    17.0155   \n",
       "2  A family wedding reignites the ancient feud be...    11.7129   \n",
       "3  Cheated on, mistreated and stepped on, the wom...    3.85949   \n",
       "4  Just when George Banks has recovered from his ...    8.38752   \n",
       "\n",
       "                        poster_path  ... release_date      revenue runtime  \\\n",
       "0  /rhIRbceoE9lR4veEXuwCC2wARtG.jpg  ...   1995-10-30  373554033.0    81.0   \n",
       "1  /vzmL6fP7aPKNKPRTFnZmiUfciyV.jpg  ...   1995-12-15  262797249.0   104.0   \n",
       "2  /6ksm1sjKMFLbO7UY2i6G1ju9SML.jpg  ...   1995-12-22          0.0   101.0   \n",
       "3  /16XOMpEaLWkrcPqSQqhTmeJuqQl.jpg  ...   1995-12-22   81452156.0   127.0   \n",
       "4  /e64sOI48hQXyru7naBFyssKFxVd.jpg  ...   1995-02-10   76578911.0   106.0   \n",
       "\n",
       "                                    spoken_languages    status  \\\n",
       "0           [{'iso_639_1': 'en', 'name': 'English'}]  Released   \n",
       "1  [{'iso_639_1': 'en', 'name': 'English'}, {'iso...  Released   \n",
       "2           [{'iso_639_1': 'en', 'name': 'English'}]  Released   \n",
       "3           [{'iso_639_1': 'en', 'name': 'English'}]  Released   \n",
       "4           [{'iso_639_1': 'en', 'name': 'English'}]  Released   \n",
       "\n",
       "                                             tagline  \\\n",
       "0                                                NaN   \n",
       "1          Roll the dice and unleash the excitement!   \n",
       "2  Still Yelling. Still Fighting. Still Ready for...   \n",
       "3  Friends are the people who let you be yourself...   \n",
       "4  Just When His World Is Back To Normal... He's ...   \n",
       "\n",
       "                         title  video vote_average vote_count  \n",
       "0                    Toy Story  False          7.7     5415.0  \n",
       "1                      Jumanji  False          6.9     2413.0  \n",
       "2             Grumpier Old Men  False          6.5       92.0  \n",
       "3            Waiting to Exhale  False          6.1       34.0  \n",
       "4  Father of the Bride Part II  False          5.7      173.0  \n",
       "\n",
       "[5 rows x 22 columns]"
      ]
     },
     "execution_count": 41,
     "metadata": {},
     "output_type": "execute_result"
    }
   ],
   "source": [
    "data.head()"
   ]
  },
  {
   "cell_type": "code",
   "execution_count": null,
   "metadata": {},
   "outputs": [],
   "source": []
  },
  {
   "cell_type": "markdown",
   "metadata": {},
   "source": [
    "# 8. original_language\n",
    "모든 변수 전처리 끝난 후에 영어 영화만 따로 모은 데이터 추출 예정\n",
    "\n",
    "Nan인 애들은 뒤에 spoken_language 변수 정리할때 다시 처리"
   ]
  },
  {
   "cell_type": "code",
   "execution_count": 42,
   "metadata": {},
   "outputs": [
    {
     "data": {
      "text/plain": [
       "count     45413\n",
       "unique       89\n",
       "top          en\n",
       "freq      32246\n",
       "Name: original_language, dtype: object"
      ]
     },
     "execution_count": 42,
     "metadata": {},
     "output_type": "execute_result"
    }
   ],
   "source": [
    "data[\"original_language\"].describe()"
   ]
  },
  {
   "cell_type": "code",
   "execution_count": 43,
   "metadata": {},
   "outputs": [
    {
     "data": {
      "text/plain": [
       "en    32246\n",
       "fr     2436\n",
       "it     1528\n",
       "ja     1347\n",
       "de     1079\n",
       "      ...  \n",
       "lb        1\n",
       "rw        1\n",
       "la        1\n",
       "qu        1\n",
       "jv        1\n",
       "Name: original_language, Length: 89, dtype: int64"
      ]
     },
     "execution_count": 43,
     "metadata": {},
     "output_type": "execute_result"
    }
   ],
   "source": [
    "pd.value_counts(data[\"original_language\"])"
   ]
  },
  {
   "cell_type": "code",
   "execution_count": 44,
   "metadata": {},
   "outputs": [
    {
     "data": {
      "text/plain": [
       "11"
      ]
     },
     "execution_count": 44,
     "metadata": {},
     "output_type": "execute_result"
    }
   ],
   "source": [
    "np.sum(pd.isnull(data[\"original_language\"]))"
   ]
  },
  {
   "cell_type": "code",
   "execution_count": 45,
   "metadata": {
    "scrolled": true
   },
   "outputs": [
    {
     "data": {
      "text/html": [
       "<div>\n",
       "<style scoped>\n",
       "    .dataframe tbody tr th:only-of-type {\n",
       "        vertical-align: middle;\n",
       "    }\n",
       "\n",
       "    .dataframe tbody tr th {\n",
       "        vertical-align: top;\n",
       "    }\n",
       "\n",
       "    .dataframe thead th {\n",
       "        text-align: right;\n",
       "    }\n",
       "</style>\n",
       "<table border=\"1\" class=\"dataframe\">\n",
       "  <thead>\n",
       "    <tr style=\"text-align: right;\">\n",
       "      <th></th>\n",
       "      <th>adult</th>\n",
       "      <th>belongs_to_collection</th>\n",
       "      <th>budget</th>\n",
       "      <th>genres</th>\n",
       "      <th>id</th>\n",
       "      <th>original_language</th>\n",
       "      <th>original_title</th>\n",
       "      <th>overview</th>\n",
       "      <th>popularity</th>\n",
       "      <th>poster_path</th>\n",
       "      <th>...</th>\n",
       "      <th>release_date</th>\n",
       "      <th>revenue</th>\n",
       "      <th>runtime</th>\n",
       "      <th>spoken_languages</th>\n",
       "      <th>status</th>\n",
       "      <th>tagline</th>\n",
       "      <th>title</th>\n",
       "      <th>video</th>\n",
       "      <th>vote_average</th>\n",
       "      <th>vote_count</th>\n",
       "    </tr>\n",
       "  </thead>\n",
       "  <tbody>\n",
       "    <tr>\n",
       "      <th>19574</th>\n",
       "      <td>False</td>\n",
       "      <td>NaN</td>\n",
       "      <td>0</td>\n",
       "      <td>[Documentary]</td>\n",
       "      <td>283101</td>\n",
       "      <td>NaN</td>\n",
       "      <td>Shadowing the Third Man</td>\n",
       "      <td>Documentary about the production of The Third ...</td>\n",
       "      <td>0.017007</td>\n",
       "      <td>/xT9csxMKYbizRQgvNzCXJ67R7er.jpg</td>\n",
       "      <td>...</td>\n",
       "      <td>2004-10-11</td>\n",
       "      <td>0.0</td>\n",
       "      <td>95.0</td>\n",
       "      <td>[{'iso_639_1': 'de', 'name': 'Deutsch'}, {'iso...</td>\n",
       "      <td>Released</td>\n",
       "      <td>NaN</td>\n",
       "      <td>Shadowing the Third Man</td>\n",
       "      <td>False</td>\n",
       "      <td>0.0</td>\n",
       "      <td>0.0</td>\n",
       "    </tr>\n",
       "    <tr>\n",
       "      <th>21602</th>\n",
       "      <td>False</td>\n",
       "      <td>NaN</td>\n",
       "      <td>0</td>\n",
       "      <td>[Romance, Drama]</td>\n",
       "      <td>103902</td>\n",
       "      <td>NaN</td>\n",
       "      <td>Unfinished Sky</td>\n",
       "      <td>An Outback farmer takes in an Afghani woman wh...</td>\n",
       "      <td>0.359818</td>\n",
       "      <td>/vfaJuZF0ocVwBEDYZhoULGuVxrz.jpg</td>\n",
       "      <td>...</td>\n",
       "      <td>2007-08-04</td>\n",
       "      <td>0.0</td>\n",
       "      <td>94.0</td>\n",
       "      <td>[{'iso_639_1': 'en', 'name': 'English'}]</td>\n",
       "      <td>Released</td>\n",
       "      <td>NaN</td>\n",
       "      <td>Unfinished Sky</td>\n",
       "      <td>False</td>\n",
       "      <td>6.4</td>\n",
       "      <td>8.0</td>\n",
       "    </tr>\n",
       "    <tr>\n",
       "      <th>22832</th>\n",
       "      <td>False</td>\n",
       "      <td>NaN</td>\n",
       "      <td>0</td>\n",
       "      <td>[War, Western]</td>\n",
       "      <td>359195</td>\n",
       "      <td>NaN</td>\n",
       "      <td>13 Fighting Men</td>\n",
       "      <td>A group of Union Army soldiers is charged with...</td>\n",
       "      <td>0.070647</td>\n",
       "      <td>/q5ADXvvzYtAOyrReIg1HckdPj62.jpg</td>\n",
       "      <td>...</td>\n",
       "      <td>1960-03-31</td>\n",
       "      <td>0.0</td>\n",
       "      <td>69.0</td>\n",
       "      <td>[{'iso_639_1': 'en', 'name': 'English'}]</td>\n",
       "      <td>Released</td>\n",
       "      <td>NaN</td>\n",
       "      <td>13 Fighting Men</td>\n",
       "      <td>False</td>\n",
       "      <td>0.0</td>\n",
       "      <td>0.0</td>\n",
       "    </tr>\n",
       "    <tr>\n",
       "      <th>32141</th>\n",
       "      <td>False</td>\n",
       "      <td>NaN</td>\n",
       "      <td>0</td>\n",
       "      <td>[Comedy]</td>\n",
       "      <td>147050</td>\n",
       "      <td>NaN</td>\n",
       "      <td>Lambchops</td>\n",
       "      <td>George and Gracie enter an elegant drawing roo...</td>\n",
       "      <td>0.073418</td>\n",
       "      <td>/upQByEwY58sHWdL3RZm7kmRc44s.jpg</td>\n",
       "      <td>...</td>\n",
       "      <td>1929-10-31</td>\n",
       "      <td>0.0</td>\n",
       "      <td>8.0</td>\n",
       "      <td>[{'iso_639_1': 'en', 'name': 'English'}]</td>\n",
       "      <td>Released</td>\n",
       "      <td>NaN</td>\n",
       "      <td>Lambchops</td>\n",
       "      <td>False</td>\n",
       "      <td>6.5</td>\n",
       "      <td>2.0</td>\n",
       "    </tr>\n",
       "    <tr>\n",
       "      <th>37407</th>\n",
       "      <td>False</td>\n",
       "      <td>NaN</td>\n",
       "      <td>0</td>\n",
       "      <td>[Animation]</td>\n",
       "      <td>257095</td>\n",
       "      <td>NaN</td>\n",
       "      <td>Bajaja</td>\n",
       "      <td>The first fairy tale transformed into a full-l...</td>\n",
       "      <td>0.036841</td>\n",
       "      <td>/12wf2EkrPGxNzRbNyoau8GIFp3M.jpg</td>\n",
       "      <td>...</td>\n",
       "      <td>1950-01-26</td>\n",
       "      <td>0.0</td>\n",
       "      <td>87.0</td>\n",
       "      <td>[{'iso_639_1': 'cs', 'name': 'Český'}]</td>\n",
       "      <td>Released</td>\n",
       "      <td>NaN</td>\n",
       "      <td>Prince Bayaya</td>\n",
       "      <td>False</td>\n",
       "      <td>5.0</td>\n",
       "      <td>1.0</td>\n",
       "    </tr>\n",
       "    <tr>\n",
       "      <th>41047</th>\n",
       "      <td>False</td>\n",
       "      <td>NaN</td>\n",
       "      <td>0</td>\n",
       "      <td>[Documentary]</td>\n",
       "      <td>332742</td>\n",
       "      <td>NaN</td>\n",
       "      <td>Song of Lahore</td>\n",
       "      <td>Until the late 1970s, the Pakistani city of La...</td>\n",
       "      <td>0.373688</td>\n",
       "      <td>/6iJqscs2xQLKKvrTCWmlHd9rf3W.jpg</td>\n",
       "      <td>...</td>\n",
       "      <td>2015-11-13</td>\n",
       "      <td>0.0</td>\n",
       "      <td>82.0</td>\n",
       "      <td>[{'iso_639_1': 'ur', 'name': 'اردو'}, {'iso_63...</td>\n",
       "      <td>Released</td>\n",
       "      <td>NaN</td>\n",
       "      <td>Song of Lahore</td>\n",
       "      <td>False</td>\n",
       "      <td>6.5</td>\n",
       "      <td>2.0</td>\n",
       "    </tr>\n",
       "    <tr>\n",
       "      <th>41872</th>\n",
       "      <td>False</td>\n",
       "      <td>NaN</td>\n",
       "      <td>0</td>\n",
       "      <td>[Documentary]</td>\n",
       "      <td>144410</td>\n",
       "      <td>NaN</td>\n",
       "      <td>Annabelle Serpentine Dance</td>\n",
       "      <td>Two dancers perform in succession facing a sta...</td>\n",
       "      <td>1.58434</td>\n",
       "      <td>/l7Lzvah6PL6vdMF5p0elKiyYqp9.jpg</td>\n",
       "      <td>...</td>\n",
       "      <td>1895-04-01</td>\n",
       "      <td>0.0</td>\n",
       "      <td>1.0</td>\n",
       "      <td>[{'iso_639_1': 'xx', 'name': 'No Language'}]</td>\n",
       "      <td>Released</td>\n",
       "      <td>NaN</td>\n",
       "      <td>Annabelle Serpentine Dance</td>\n",
       "      <td>False</td>\n",
       "      <td>5.7</td>\n",
       "      <td>20.0</td>\n",
       "    </tr>\n",
       "    <tr>\n",
       "      <th>44057</th>\n",
       "      <td>False</td>\n",
       "      <td>NaN</td>\n",
       "      <td>0</td>\n",
       "      <td>[Drama]</td>\n",
       "      <td>380438</td>\n",
       "      <td>NaN</td>\n",
       "      <td>Lettre d'une inconnue</td>\n",
       "      <td>NaN</td>\n",
       "      <td>0.001283</td>\n",
       "      <td>/gk32ZWTYgfTXctEyCDAWeMcxo7X.jpg</td>\n",
       "      <td>...</td>\n",
       "      <td>2001-01-01</td>\n",
       "      <td>0.0</td>\n",
       "      <td>0.0</td>\n",
       "      <td>[{'iso_639_1': 'fr', 'name': 'Français'}]</td>\n",
       "      <td>Released</td>\n",
       "      <td>NaN</td>\n",
       "      <td>Lettre d'une inconnue</td>\n",
       "      <td>False</td>\n",
       "      <td>0.0</td>\n",
       "      <td>0.0</td>\n",
       "    </tr>\n",
       "    <tr>\n",
       "      <th>44410</th>\n",
       "      <td>False</td>\n",
       "      <td>NaN</td>\n",
       "      <td>0</td>\n",
       "      <td>[Animation, Documentary]</td>\n",
       "      <td>381096</td>\n",
       "      <td>NaN</td>\n",
       "      <td>Garn</td>\n",
       "      <td>The traditional crafts of crochet and knitting...</td>\n",
       "      <td>0.067624</td>\n",
       "      <td>/olEOCEGTW15WBPC0UnmLjokrmNF.jpg</td>\n",
       "      <td>...</td>\n",
       "      <td>2016-03-12</td>\n",
       "      <td>0.0</td>\n",
       "      <td>76.0</td>\n",
       "      <td>[{'iso_639_1': 'sv', 'name': 'svenska'}, {'iso...</td>\n",
       "      <td>Released</td>\n",
       "      <td>NaN</td>\n",
       "      <td>Yarn</td>\n",
       "      <td>False</td>\n",
       "      <td>0.0</td>\n",
       "      <td>0.0</td>\n",
       "    </tr>\n",
       "    <tr>\n",
       "      <th>44576</th>\n",
       "      <td>False</td>\n",
       "      <td>NaN</td>\n",
       "      <td>0</td>\n",
       "      <td>NaN</td>\n",
       "      <td>381525</td>\n",
       "      <td>NaN</td>\n",
       "      <td>WiNWiN</td>\n",
       "      <td>American investment fund buys Austrian compani...</td>\n",
       "      <td>0.030766</td>\n",
       "      <td>/pErCRQoc3nt8lCsExd3fFYgyBox.jpg</td>\n",
       "      <td>...</td>\n",
       "      <td>2016-01-27</td>\n",
       "      <td>0.0</td>\n",
       "      <td>84.0</td>\n",
       "      <td>[{'iso_639_1': 'de', 'name': 'Deutsch'}, {'iso...</td>\n",
       "      <td>Released</td>\n",
       "      <td>NaN</td>\n",
       "      <td>WiNWiN</td>\n",
       "      <td>False</td>\n",
       "      <td>0.0</td>\n",
       "      <td>0.0</td>\n",
       "    </tr>\n",
       "    <tr>\n",
       "      <th>44655</th>\n",
       "      <td>False</td>\n",
       "      <td>NaN</td>\n",
       "      <td>0</td>\n",
       "      <td>[Action, War, Drama, History]</td>\n",
       "      <td>104473</td>\n",
       "      <td>NaN</td>\n",
       "      <td>La prise de Tournavos</td>\n",
       "      <td>Three military men, seen inside a fortificatio...</td>\n",
       "      <td>0.471325</td>\n",
       "      <td>/4VmQBE9qBRxCE3gHtSAa5AUsURq.jpg</td>\n",
       "      <td>...</td>\n",
       "      <td>1897-01-01</td>\n",
       "      <td>0.0</td>\n",
       "      <td>1.0</td>\n",
       "      <td>[{'iso_639_1': 'xx', 'name': 'No Language'}]</td>\n",
       "      <td>Rumored</td>\n",
       "      <td>NaN</td>\n",
       "      <td>The Surrender of Tournavos</td>\n",
       "      <td>False</td>\n",
       "      <td>4.6</td>\n",
       "      <td>5.0</td>\n",
       "    </tr>\n",
       "  </tbody>\n",
       "</table>\n",
       "<p>11 rows × 22 columns</p>\n",
       "</div>"
      ],
      "text/plain": [
       "       adult belongs_to_collection  budget                         genres  \\\n",
       "19574  False                   NaN       0                  [Documentary]   \n",
       "21602  False                   NaN       0               [Romance, Drama]   \n",
       "22832  False                   NaN       0                 [War, Western]   \n",
       "32141  False                   NaN       0                       [Comedy]   \n",
       "37407  False                   NaN       0                    [Animation]   \n",
       "41047  False                   NaN       0                  [Documentary]   \n",
       "41872  False                   NaN       0                  [Documentary]   \n",
       "44057  False                   NaN       0                        [Drama]   \n",
       "44410  False                   NaN       0       [Animation, Documentary]   \n",
       "44576  False                   NaN       0                            NaN   \n",
       "44655  False                   NaN       0  [Action, War, Drama, History]   \n",
       "\n",
       "           id original_language              original_title  \\\n",
       "19574  283101               NaN     Shadowing the Third Man   \n",
       "21602  103902               NaN              Unfinished Sky   \n",
       "22832  359195               NaN             13 Fighting Men   \n",
       "32141  147050               NaN                   Lambchops   \n",
       "37407  257095               NaN                      Bajaja   \n",
       "41047  332742               NaN              Song of Lahore   \n",
       "41872  144410               NaN  Annabelle Serpentine Dance   \n",
       "44057  380438               NaN       Lettre d'une inconnue   \n",
       "44410  381096               NaN                        Garn   \n",
       "44576  381525               NaN                      WiNWiN   \n",
       "44655  104473               NaN       La prise de Tournavos   \n",
       "\n",
       "                                                overview popularity  \\\n",
       "19574  Documentary about the production of The Third ...   0.017007   \n",
       "21602  An Outback farmer takes in an Afghani woman wh...   0.359818   \n",
       "22832  A group of Union Army soldiers is charged with...   0.070647   \n",
       "32141  George and Gracie enter an elegant drawing roo...   0.073418   \n",
       "37407  The first fairy tale transformed into a full-l...   0.036841   \n",
       "41047  Until the late 1970s, the Pakistani city of La...   0.373688   \n",
       "41872  Two dancers perform in succession facing a sta...    1.58434   \n",
       "44057                                                NaN   0.001283   \n",
       "44410  The traditional crafts of crochet and knitting...   0.067624   \n",
       "44576  American investment fund buys Austrian compani...   0.030766   \n",
       "44655  Three military men, seen inside a fortificatio...   0.471325   \n",
       "\n",
       "                            poster_path  ... release_date revenue runtime  \\\n",
       "19574  /xT9csxMKYbizRQgvNzCXJ67R7er.jpg  ...   2004-10-11     0.0    95.0   \n",
       "21602  /vfaJuZF0ocVwBEDYZhoULGuVxrz.jpg  ...   2007-08-04     0.0    94.0   \n",
       "22832  /q5ADXvvzYtAOyrReIg1HckdPj62.jpg  ...   1960-03-31     0.0    69.0   \n",
       "32141  /upQByEwY58sHWdL3RZm7kmRc44s.jpg  ...   1929-10-31     0.0     8.0   \n",
       "37407  /12wf2EkrPGxNzRbNyoau8GIFp3M.jpg  ...   1950-01-26     0.0    87.0   \n",
       "41047  /6iJqscs2xQLKKvrTCWmlHd9rf3W.jpg  ...   2015-11-13     0.0    82.0   \n",
       "41872  /l7Lzvah6PL6vdMF5p0elKiyYqp9.jpg  ...   1895-04-01     0.0     1.0   \n",
       "44057  /gk32ZWTYgfTXctEyCDAWeMcxo7X.jpg  ...   2001-01-01     0.0     0.0   \n",
       "44410  /olEOCEGTW15WBPC0UnmLjokrmNF.jpg  ...   2016-03-12     0.0    76.0   \n",
       "44576  /pErCRQoc3nt8lCsExd3fFYgyBox.jpg  ...   2016-01-27     0.0    84.0   \n",
       "44655  /4VmQBE9qBRxCE3gHtSAa5AUsURq.jpg  ...   1897-01-01     0.0     1.0   \n",
       "\n",
       "                                        spoken_languages    status tagline  \\\n",
       "19574  [{'iso_639_1': 'de', 'name': 'Deutsch'}, {'iso...  Released     NaN   \n",
       "21602           [{'iso_639_1': 'en', 'name': 'English'}]  Released     NaN   \n",
       "22832           [{'iso_639_1': 'en', 'name': 'English'}]  Released     NaN   \n",
       "32141           [{'iso_639_1': 'en', 'name': 'English'}]  Released     NaN   \n",
       "37407             [{'iso_639_1': 'cs', 'name': 'Český'}]  Released     NaN   \n",
       "41047  [{'iso_639_1': 'ur', 'name': 'اردو'}, {'iso_63...  Released     NaN   \n",
       "41872       [{'iso_639_1': 'xx', 'name': 'No Language'}]  Released     NaN   \n",
       "44057          [{'iso_639_1': 'fr', 'name': 'Français'}]  Released     NaN   \n",
       "44410  [{'iso_639_1': 'sv', 'name': 'svenska'}, {'iso...  Released     NaN   \n",
       "44576  [{'iso_639_1': 'de', 'name': 'Deutsch'}, {'iso...  Released     NaN   \n",
       "44655       [{'iso_639_1': 'xx', 'name': 'No Language'}]   Rumored     NaN   \n",
       "\n",
       "                            title  video vote_average vote_count  \n",
       "19574     Shadowing the Third Man  False          0.0        0.0  \n",
       "21602              Unfinished Sky  False          6.4        8.0  \n",
       "22832             13 Fighting Men  False          0.0        0.0  \n",
       "32141                   Lambchops  False          6.5        2.0  \n",
       "37407               Prince Bayaya  False          5.0        1.0  \n",
       "41047              Song of Lahore  False          6.5        2.0  \n",
       "41872  Annabelle Serpentine Dance  False          5.7       20.0  \n",
       "44057       Lettre d'une inconnue  False          0.0        0.0  \n",
       "44410                        Yarn  False          0.0        0.0  \n",
       "44576                      WiNWiN  False          0.0        0.0  \n",
       "44655  The Surrender of Tournavos  False          4.6        5.0  \n",
       "\n",
       "[11 rows x 22 columns]"
      ]
     },
     "execution_count": 45,
     "metadata": {},
     "output_type": "execute_result"
    }
   ],
   "source": [
    "data[pd.isnull(data[\"original_language\"])==True]"
   ]
  },
  {
   "cell_type": "markdown",
   "metadata": {},
   "source": [
    "우선 냅두고 넘어간 다음에 뒤에가서 지정해줄게요!"
   ]
  },
  {
   "cell_type": "code",
   "execution_count": null,
   "metadata": {},
   "outputs": [],
   "source": []
  },
  {
   "cell_type": "markdown",
   "metadata": {},
   "source": [
    "# 9. original_title"
   ]
  },
  {
   "cell_type": "code",
   "execution_count": 46,
   "metadata": {
    "scrolled": true
   },
   "outputs": [
    {
     "data": {
      "text/plain": [
       "count      45424\n",
       "unique     43363\n",
       "top       Hamlet\n",
       "freq           8\n",
       "Name: original_title, dtype: object"
      ]
     },
     "execution_count": 46,
     "metadata": {},
     "output_type": "execute_result"
    }
   ],
   "source": [
    "data[\"original_title\"].describe()"
   ]
  },
  {
   "cell_type": "code",
   "execution_count": 47,
   "metadata": {
    "scrolled": true
   },
   "outputs": [
    {
     "data": {
      "text/plain": [
       "Hamlet                         8\n",
       "Alice in Wonderland            8\n",
       "The Three Musketeers           7\n",
       "A Christmas Carol              7\n",
       "Macbeth                        7\n",
       "                              ..\n",
       "The Thing That Couldn't Die    1\n",
       "Memórias Póstumas              1\n",
       "Mad Dog Morgan                 1\n",
       "Bringing Up Bobby              1\n",
       "鮫肌男と桃尻女                        1\n",
       "Name: original_title, Length: 43363, dtype: int64"
      ]
     },
     "execution_count": 47,
     "metadata": {},
     "output_type": "execute_result"
    }
   ],
   "source": [
    "pd.value_counts(data[\"original_title\"])"
   ]
  },
  {
   "cell_type": "code",
   "execution_count": 48,
   "metadata": {},
   "outputs": [
    {
     "data": {
      "text/html": [
       "<div>\n",
       "<style scoped>\n",
       "    .dataframe tbody tr th:only-of-type {\n",
       "        vertical-align: middle;\n",
       "    }\n",
       "\n",
       "    .dataframe tbody tr th {\n",
       "        vertical-align: top;\n",
       "    }\n",
       "\n",
       "    .dataframe thead th {\n",
       "        text-align: right;\n",
       "    }\n",
       "</style>\n",
       "<table border=\"1\" class=\"dataframe\">\n",
       "  <thead>\n",
       "    <tr style=\"text-align: right;\">\n",
       "      <th></th>\n",
       "      <th>adult</th>\n",
       "      <th>belongs_to_collection</th>\n",
       "      <th>budget</th>\n",
       "      <th>genres</th>\n",
       "      <th>id</th>\n",
       "      <th>original_language</th>\n",
       "      <th>original_title</th>\n",
       "      <th>overview</th>\n",
       "      <th>popularity</th>\n",
       "      <th>poster_path</th>\n",
       "      <th>...</th>\n",
       "      <th>release_date</th>\n",
       "      <th>revenue</th>\n",
       "      <th>runtime</th>\n",
       "      <th>spoken_languages</th>\n",
       "      <th>status</th>\n",
       "      <th>tagline</th>\n",
       "      <th>title</th>\n",
       "      <th>video</th>\n",
       "      <th>vote_average</th>\n",
       "      <th>vote_count</th>\n",
       "    </tr>\n",
       "  </thead>\n",
       "  <tbody>\n",
       "    <tr>\n",
       "      <th>1003</th>\n",
       "      <td>False</td>\n",
       "      <td>NaN</td>\n",
       "      <td>3000000</td>\n",
       "      <td>[Animation, Adventure, Family, Fantasy]</td>\n",
       "      <td>12092</td>\n",
       "      <td>en</td>\n",
       "      <td>Alice in Wonderland</td>\n",
       "      <td>On a golden afternoon, young Alice follows a W...</td>\n",
       "      <td>16.4889</td>\n",
       "      <td>/9gJa2B6M8jt85aDkb0MF98MLZ9T.jpg</td>\n",
       "      <td>...</td>\n",
       "      <td>1951-07-03</td>\n",
       "      <td>5.720000e+08</td>\n",
       "      <td>75.0</td>\n",
       "      <td>[{'iso_639_1': 'en', 'name': 'English'}]</td>\n",
       "      <td>Released</td>\n",
       "      <td>A world of wonders in One Great Picture</td>\n",
       "      <td>Alice in Wonderland</td>\n",
       "      <td>False</td>\n",
       "      <td>7.0</td>\n",
       "      <td>1557.0</td>\n",
       "    </tr>\n",
       "    <tr>\n",
       "      <th>9665</th>\n",
       "      <td>False</td>\n",
       "      <td>NaN</td>\n",
       "      <td>21000000</td>\n",
       "      <td>[Fantasy, Family]</td>\n",
       "      <td>30923</td>\n",
       "      <td>en</td>\n",
       "      <td>Alice in Wonderland</td>\n",
       "      <td>Alice follows a white rabbit down a rabbit-hol...</td>\n",
       "      <td>8.6143</td>\n",
       "      <td>/c53p3QRI0BNx7KE1zH8fXoWq4sM.jpg</td>\n",
       "      <td>...</td>\n",
       "      <td>1999-02-28</td>\n",
       "      <td>0.000000e+00</td>\n",
       "      <td>150.0</td>\n",
       "      <td>[{'iso_639_1': 'en', 'name': 'English'}]</td>\n",
       "      <td>Released</td>\n",
       "      <td>A Masterpiece of Imagination...</td>\n",
       "      <td>Alice in Wonderland</td>\n",
       "      <td>False</td>\n",
       "      <td>6.1</td>\n",
       "      <td>71.0</td>\n",
       "    </tr>\n",
       "    <tr>\n",
       "      <th>11887</th>\n",
       "      <td>False</td>\n",
       "      <td>NaN</td>\n",
       "      <td>14000000</td>\n",
       "      <td>[Family, Fantasy]</td>\n",
       "      <td>34573</td>\n",
       "      <td>en</td>\n",
       "      <td>Alice in Wonderland</td>\n",
       "      <td>Classic tale of a girl named Alice who follows...</td>\n",
       "      <td>3.79413</td>\n",
       "      <td>/1jlw8lSaLetDP4XqioTgK6R38Lt.jpg</td>\n",
       "      <td>...</td>\n",
       "      <td>1985-12-09</td>\n",
       "      <td>0.000000e+00</td>\n",
       "      <td>187.0</td>\n",
       "      <td>[{'iso_639_1': 'en', 'name': 'English'}]</td>\n",
       "      <td>Released</td>\n",
       "      <td>NaN</td>\n",
       "      <td>Alice in Wonderland</td>\n",
       "      <td>False</td>\n",
       "      <td>6.3</td>\n",
       "      <td>15.0</td>\n",
       "    </tr>\n",
       "    <tr>\n",
       "      <th>14892</th>\n",
       "      <td>False</td>\n",
       "      <td>Alice in Wonderland Collection</td>\n",
       "      <td>200000000</td>\n",
       "      <td>[Family, Fantasy, Adventure]</td>\n",
       "      <td>12155</td>\n",
       "      <td>en</td>\n",
       "      <td>Alice in Wonderland</td>\n",
       "      <td>Alice, an unpretentious and individual 19-year...</td>\n",
       "      <td>17.2851</td>\n",
       "      <td>/pvEE5EN5N1yjmHmldfL4aJWm56l.jpg</td>\n",
       "      <td>...</td>\n",
       "      <td>2010-03-03</td>\n",
       "      <td>1.025491e+09</td>\n",
       "      <td>108.0</td>\n",
       "      <td>[{'iso_639_1': 'en', 'name': 'English'}]</td>\n",
       "      <td>Released</td>\n",
       "      <td>You're invited to a very important date.</td>\n",
       "      <td>Alice in Wonderland</td>\n",
       "      <td>False</td>\n",
       "      <td>6.4</td>\n",
       "      <td>4773.0</td>\n",
       "    </tr>\n",
       "    <tr>\n",
       "      <th>15868</th>\n",
       "      <td>False</td>\n",
       "      <td>NaN</td>\n",
       "      <td>0</td>\n",
       "      <td>[Action, Adventure, Family, Fantasy, Science F...</td>\n",
       "      <td>25694</td>\n",
       "      <td>en</td>\n",
       "      <td>Alice in Wonderland</td>\n",
       "      <td>On a boring winter afternoon, Alice dreams, th...</td>\n",
       "      <td>1.50435</td>\n",
       "      <td>/hA536GMozYb9zbMjo2NqESniveU.jpg</td>\n",
       "      <td>...</td>\n",
       "      <td>1933-12-22</td>\n",
       "      <td>0.000000e+00</td>\n",
       "      <td>76.0</td>\n",
       "      <td>[{'iso_639_1': 'en', 'name': 'English'}]</td>\n",
       "      <td>Released</td>\n",
       "      <td>The Entertainment Miracle Of All Times!</td>\n",
       "      <td>Alice in Wonderland</td>\n",
       "      <td>False</td>\n",
       "      <td>5.4</td>\n",
       "      <td>8.0</td>\n",
       "    </tr>\n",
       "    <tr>\n",
       "      <th>26894</th>\n",
       "      <td>False</td>\n",
       "      <td>NaN</td>\n",
       "      <td>0</td>\n",
       "      <td>[Family, Fantasy, Science Fiction]</td>\n",
       "      <td>35109</td>\n",
       "      <td>en</td>\n",
       "      <td>Alice in Wonderland</td>\n",
       "      <td>Alice in Wonderland (1966) is a BBC television...</td>\n",
       "      <td>1.71604</td>\n",
       "      <td>/dWnbHEZ31kMOx8cnN7IvG3fBpwp.jpg</td>\n",
       "      <td>...</td>\n",
       "      <td>1966-12-26</td>\n",
       "      <td>0.000000e+00</td>\n",
       "      <td>72.0</td>\n",
       "      <td>[{'iso_639_1': 'en', 'name': 'English'}]</td>\n",
       "      <td>Released</td>\n",
       "      <td>NaN</td>\n",
       "      <td>Alice in Wonderland</td>\n",
       "      <td>False</td>\n",
       "      <td>6.9</td>\n",
       "      <td>8.0</td>\n",
       "    </tr>\n",
       "    <tr>\n",
       "      <th>32901</th>\n",
       "      <td>False</td>\n",
       "      <td>NaN</td>\n",
       "      <td>0</td>\n",
       "      <td>[Family, Fantasy]</td>\n",
       "      <td>87300</td>\n",
       "      <td>en</td>\n",
       "      <td>Alice in Wonderland</td>\n",
       "      <td>A German adaptation of the classic Lewis Carro...</td>\n",
       "      <td>0.140291</td>\n",
       "      <td>/9YJqY2MWOUzy60iMhniOF4NEZRs.jpg</td>\n",
       "      <td>...</td>\n",
       "      <td>1915-01-15</td>\n",
       "      <td>0.000000e+00</td>\n",
       "      <td>52.0</td>\n",
       "      <td>[{'iso_639_1': 'en', 'name': 'English'}]</td>\n",
       "      <td>Released</td>\n",
       "      <td>NaN</td>\n",
       "      <td>Alice in Wonderland</td>\n",
       "      <td>False</td>\n",
       "      <td>5.5</td>\n",
       "      <td>2.0</td>\n",
       "    </tr>\n",
       "    <tr>\n",
       "      <th>39530</th>\n",
       "      <td>False</td>\n",
       "      <td>NaN</td>\n",
       "      <td>0</td>\n",
       "      <td>[Fantasy]</td>\n",
       "      <td>41278</td>\n",
       "      <td>en</td>\n",
       "      <td>Alice in Wonderland</td>\n",
       "      <td>This is the first movie version of the famous ...</td>\n",
       "      <td>0.708323</td>\n",
       "      <td>/rATc0e78ORRmJyvgqAywkejdgqh.jpg</td>\n",
       "      <td>...</td>\n",
       "      <td>1903-10-17</td>\n",
       "      <td>0.000000e+00</td>\n",
       "      <td>9.0</td>\n",
       "      <td>[{'iso_639_1': 'xx', 'name': 'No Language'}]</td>\n",
       "      <td>Released</td>\n",
       "      <td>NaN</td>\n",
       "      <td>Alice in Wonderland</td>\n",
       "      <td>False</td>\n",
       "      <td>6.1</td>\n",
       "      <td>20.0</td>\n",
       "    </tr>\n",
       "  </tbody>\n",
       "</table>\n",
       "<p>8 rows × 22 columns</p>\n",
       "</div>"
      ],
      "text/plain": [
       "       adult           belongs_to_collection     budget  \\\n",
       "1003   False                             NaN    3000000   \n",
       "9665   False                             NaN   21000000   \n",
       "11887  False                             NaN   14000000   \n",
       "14892  False  Alice in Wonderland Collection  200000000   \n",
       "15868  False                             NaN          0   \n",
       "26894  False                             NaN          0   \n",
       "32901  False                             NaN          0   \n",
       "39530  False                             NaN          0   \n",
       "\n",
       "                                                  genres     id  \\\n",
       "1003             [Animation, Adventure, Family, Fantasy]  12092   \n",
       "9665                                   [Fantasy, Family]  30923   \n",
       "11887                                  [Family, Fantasy]  34573   \n",
       "14892                       [Family, Fantasy, Adventure]  12155   \n",
       "15868  [Action, Adventure, Family, Fantasy, Science F...  25694   \n",
       "26894                 [Family, Fantasy, Science Fiction]  35109   \n",
       "32901                                  [Family, Fantasy]  87300   \n",
       "39530                                          [Fantasy]  41278   \n",
       "\n",
       "      original_language       original_title  \\\n",
       "1003                 en  Alice in Wonderland   \n",
       "9665                 en  Alice in Wonderland   \n",
       "11887                en  Alice in Wonderland   \n",
       "14892                en  Alice in Wonderland   \n",
       "15868                en  Alice in Wonderland   \n",
       "26894                en  Alice in Wonderland   \n",
       "32901                en  Alice in Wonderland   \n",
       "39530                en  Alice in Wonderland   \n",
       "\n",
       "                                                overview popularity  \\\n",
       "1003   On a golden afternoon, young Alice follows a W...    16.4889   \n",
       "9665   Alice follows a white rabbit down a rabbit-hol...     8.6143   \n",
       "11887  Classic tale of a girl named Alice who follows...    3.79413   \n",
       "14892  Alice, an unpretentious and individual 19-year...    17.2851   \n",
       "15868  On a boring winter afternoon, Alice dreams, th...    1.50435   \n",
       "26894  Alice in Wonderland (1966) is a BBC television...    1.71604   \n",
       "32901  A German adaptation of the classic Lewis Carro...   0.140291   \n",
       "39530  This is the first movie version of the famous ...   0.708323   \n",
       "\n",
       "                            poster_path  ... release_date       revenue  \\\n",
       "1003   /9gJa2B6M8jt85aDkb0MF98MLZ9T.jpg  ...   1951-07-03  5.720000e+08   \n",
       "9665   /c53p3QRI0BNx7KE1zH8fXoWq4sM.jpg  ...   1999-02-28  0.000000e+00   \n",
       "11887  /1jlw8lSaLetDP4XqioTgK6R38Lt.jpg  ...   1985-12-09  0.000000e+00   \n",
       "14892  /pvEE5EN5N1yjmHmldfL4aJWm56l.jpg  ...   2010-03-03  1.025491e+09   \n",
       "15868  /hA536GMozYb9zbMjo2NqESniveU.jpg  ...   1933-12-22  0.000000e+00   \n",
       "26894  /dWnbHEZ31kMOx8cnN7IvG3fBpwp.jpg  ...   1966-12-26  0.000000e+00   \n",
       "32901  /9YJqY2MWOUzy60iMhniOF4NEZRs.jpg  ...   1915-01-15  0.000000e+00   \n",
       "39530  /rATc0e78ORRmJyvgqAywkejdgqh.jpg  ...   1903-10-17  0.000000e+00   \n",
       "\n",
       "      runtime                              spoken_languages    status  \\\n",
       "1003     75.0      [{'iso_639_1': 'en', 'name': 'English'}]  Released   \n",
       "9665    150.0      [{'iso_639_1': 'en', 'name': 'English'}]  Released   \n",
       "11887   187.0      [{'iso_639_1': 'en', 'name': 'English'}]  Released   \n",
       "14892   108.0      [{'iso_639_1': 'en', 'name': 'English'}]  Released   \n",
       "15868    76.0      [{'iso_639_1': 'en', 'name': 'English'}]  Released   \n",
       "26894    72.0      [{'iso_639_1': 'en', 'name': 'English'}]  Released   \n",
       "32901    52.0      [{'iso_639_1': 'en', 'name': 'English'}]  Released   \n",
       "39530     9.0  [{'iso_639_1': 'xx', 'name': 'No Language'}]  Released   \n",
       "\n",
       "                                        tagline                title  video  \\\n",
       "1003    A world of wonders in One Great Picture  Alice in Wonderland  False   \n",
       "9665            A Masterpiece of Imagination...  Alice in Wonderland  False   \n",
       "11887                                       NaN  Alice in Wonderland  False   \n",
       "14892  You're invited to a very important date.  Alice in Wonderland  False   \n",
       "15868   The Entertainment Miracle Of All Times!  Alice in Wonderland  False   \n",
       "26894                                       NaN  Alice in Wonderland  False   \n",
       "32901                                       NaN  Alice in Wonderland  False   \n",
       "39530                                       NaN  Alice in Wonderland  False   \n",
       "\n",
       "      vote_average vote_count  \n",
       "1003           7.0     1557.0  \n",
       "9665           6.1       71.0  \n",
       "11887          6.3       15.0  \n",
       "14892          6.4     4773.0  \n",
       "15868          5.4        8.0  \n",
       "26894          6.9        8.0  \n",
       "32901          5.5        2.0  \n",
       "39530          6.1       20.0  \n",
       "\n",
       "[8 rows x 22 columns]"
      ]
     },
     "execution_count": 48,
     "metadata": {},
     "output_type": "execute_result"
    }
   ],
   "source": [
    "data[data[\"original_title\"]==\"Alice in Wonderland\"]"
   ]
  },
  {
   "cell_type": "markdown",
   "metadata": {},
   "source": [
    "위에서 중복행은 제거해줬기 때문에 같은 제목으로 나오는 영화들은 모두 다른 영화"
   ]
  },
  {
   "cell_type": "code",
   "execution_count": null,
   "metadata": {},
   "outputs": [],
   "source": []
  },
  {
   "cell_type": "markdown",
   "metadata": {},
   "source": [
    "# 10. overview"
   ]
  },
  {
   "cell_type": "code",
   "execution_count": 49,
   "metadata": {},
   "outputs": [
    {
     "data": {
      "text/plain": [
       "count                  44470\n",
       "unique                 44297\n",
       "top       No overview found.\n",
       "freq                     133\n",
       "Name: overview, dtype: object"
      ]
     },
     "execution_count": 49,
     "metadata": {},
     "output_type": "execute_result"
    }
   ],
   "source": [
    "data[\"overview\"].describe()"
   ]
  },
  {
   "cell_type": "code",
   "execution_count": 50,
   "metadata": {},
   "outputs": [
    {
     "data": {
      "text/plain": [
       "No overview found.                                                                                                                                                                                                                                                                                                                                                                                                                                                                                                                                                                                                               133\n",
       "No Overview                                                                                                                                                                                                                                                                                                                                                                                                                                                                                                                                                                                                                        7\n",
       "                                                                                                                                                                                                                                                                                                                                                                                                                                                                                                                                                                                                                                   5\n",
       "No movie overview available.                                                                                                                                                                                                                                                                                                                                                                                                                                                                                                                                                                                                       3\n",
       "A few funny little novels about different aspects of life.                                                                                                                                                                                                                                                                                                                                                                                                                                                                                                                                                                         3\n",
       "                                                                                                                                                                                                                                                                                                                                                                                                                                                                                                                                                                                                                                ... \n",
       "It is a significant day for 80 year old Antonio. After an absence of many years, his estranged son is coming to visit. All must be perfect. There will be a toast with a very special champagne an embrace; warm words that may finally bridge the gap between them-- But before, Antonio must wait. Bedridden, he looks out his window at the Patagonian landscape and sees light and life, the past and the pr                                                                                                                                                                                                                   1\n",
       "Jack Thornton has trouble winning enough at cards for the stake he needs to get to the Alaska gold fields. His luck changes when he pays $250 for Buck, a sled dog that is part wolf to keep him from being shot by an arrogant Englishman also headed for the Yukon. En route to the Yukon with Shorty Houlihan -- who spent time in jail for opening someone else's letter with a map of where gold is to be found -- Jack rescues a woman whose husband was the addressee of that letter. Buck helps Jack win a $1,000 bet to get the supplies he needs. And when Jack and Claire Blake pet Buck one night, fingers touch.      1\n",
       "The movie takes place in the five-day period before, during and after a ferocious, seemingly liberating typhoon, which five of the students endure while marooned in their school gymnasium.                                                                                                                                                                                                                                                                                                                                                                                                                                       1\n",
       "The incredible story of genius musician Wolfgang Amadeus Mozart, told in flashback by his peer and secret rival Antonio Salieri – now confined to an insane asylum.                                                                                                                                                                                                                                                                                                                                                                                                                                                                1\n",
       "Michel, a psycho-analyst, falls asleep while listening to his patient Olga, a kleptomaniac and a sexual pervert, tell him how she likes her husband beating her. When he wakes up, he finds Olga having been choked to death. He now has to deal with a body, with Olga's rich husband who thinks she stole money from him, and with all his patients' insanity that haunts him.                                                                                                                                                                                                                                                   1\n",
       "Name: overview, Length: 44297, dtype: int64"
      ]
     },
     "execution_count": 50,
     "metadata": {},
     "output_type": "execute_result"
    }
   ],
   "source": [
    "data[\"overview\"].value_counts()"
   ]
  },
  {
   "cell_type": "code",
   "execution_count": 51,
   "metadata": {},
   "outputs": [],
   "source": [
    "text_counts = data[\"overview\"].value_counts()\n",
    "text_list = text_counts[text_counts > 1].index.tolist()"
   ]
  },
  {
   "cell_type": "code",
   "execution_count": 52,
   "metadata": {},
   "outputs": [
    {
     "data": {
      "text/plain": [
       "['No overview found.',\n",
       " 'No Overview',\n",
       " ' ',\n",
       " 'No movie overview available.',\n",
       " 'A few funny little novels about different aspects of life.',\n",
       " 'Adaptation of the Jane Austen novel.',\n",
       " 'Funny, entertaining comedy with a few storylines. All of them have one thing in common - a resort town of Rimini in Italy.',\n",
       " \"King Lear, old and tired, divides his kingdom among his daughters, giving great importance to their protestations of love for him. When Cordelia, youngest and most honest, refuses to idly flatter the old man in return for favor, he banishes her and turns for support to his remaining daughters. But Goneril and Regan have no love for him and instead plot to take all his power from him. In a parallel, Lear's loyal courtier Gloucester favors his illegitimate son Edmund after being told lies about his faithful son Edgar. Madness and tragedy befall both ill-starred fathers.\",\n",
       " 'A Russian engineer Petr Garin possesses a unique beam-shooting weapon that can destroy any target. His goal is to achieve world domination with the help of this weapon. Vasily Shelga is out to stop him and also to prevent others getting possession of this weapon.',\n",
       " \"Nick Carraway, a young Midwesterner now living on Long Island, finds himself fascinated by the mysterious past and lavish lifestyle of his neighbor, the nouveau riche Jay Gatsby. He is drawn into Gatsby's circle, becoming a witness to obsession and tragedy.\",\n",
       " 'Miser Ebenezer Scrooge is awakened on Christmas Eve by spirits who reveal to him his own miserable existence, what opportunities he wasted in his youth, his current cruelties, and the dire fate that awaits him if he does not change his ways. Scrooge is faced with his own story of growing bitterness and meanness, and must decide what his own future will hold: death or redemption.',\n",
       " 'A former aristocrat Ippolit Vorobyaninov leads a miserable life in Soviet Russia. His mother-in-law reveals a secret to him - she hid family diamonds in one of the twelve chairs they once had. Vorobyaninov in cooperation with a young con artist Ostap Bender start a long search for the diamonds.',\n",
       " \"When four women move into an old house left by one woman's aunt, strange things begin to happen. Bizarre voices, visions of ghosts, and mysterious noises lead them to discover the darkest powers of evil and a horror and agony beyond terror.\",\n",
       " \"The ghost of a samurai's wife takes revenge on her husband.\",\n",
       " \"A group of travelers, including a monk, stay in a lonely inn in the mountains. The host confesses the monk his habit of serving poisoned soup to the guests, to rob their possessions and to bury them in the backyard. The story unfolds as the monk tries to save the guest's lives without violating the holy secrecy of the confession.\",\n",
       " \"With friends like these, who needs enemies? That's the question bad guy Porter is left asking after his wife and partner steal his heist money and leave him for dead -- or so they think. Five months and an endless reservoir of bitterness later, Porter's partners and the crooked cops on his tail learn how bad payback can be.\",\n",
       " 'A film by Jem Cohen',\n",
       " 'Bollywood 2009',\n",
       " 'Adventurer Allan Quartermain leads an expedition into uncharted African territory in an attempt to locate an explorer who went missing during his search for the fabled diamond mines of King Solomon.',\n",
       " 'An abstract animation from Walter Ruttmann.',\n",
       " 'Wilbur the pig is scared of the end of the season, because he knows that come that time, he will end up on the dinner table. He hatches a plan with Charlotte, a spider that lives in his pen, to ensure that this will never happen.',\n",
       " \"Alien pods come to Earth and, naturally, start taking over Human Hosts. One such pod only manages to take over one human's, Shin Izumi, right arm. Together they grow and co-exist, all the while the other aliens are making meals of other humans; Shin feels he must put a stop to it all, but his alien, Migi, doesn't see why.\",\n",
       " 'No overview yet.',\n",
       " \"Poor but happy, young Nello and his grandfather live alone, delivering milk as a livelihood, in the outskirts of Antwerp, a city in Flanders (the Flemish or Dutch-speaking part of modern-day Belgium). They discover a beaten dog (a Bouvier, a large sturdy dog native to Flanders) and adopt it and nurse it back to health, naming it Patrasche, the middle name of Nello's mother Mary, who died when Nello was very young. Nello's mother was a talented artist, and like his mother, he delights in drawing, and his friend Aloise is his model and greatest fan and supporter.\",\n",
       " 'A wooden boy Buratino tries to find his place in life. He befriends toys from a toy theater owned by evil Karabas-Barabas, gets tricked by Alice the Fox and Basilio the Cat and finally discovers the mystery of a golden key given to him by kind Tortila the Tortoise.',\n",
       " \"Mary, a writer working on a novel about a love triangle, is attracted to her publisher. Her suitor Jimmy is determined to break them up; he introduces Mary to the publisher's wife without telling Mary who she is.\",\n",
       " \"Karol has everything. He has three mistresses in addition to the bride. He is charming, loves sex and enslaves women in the blink of an eye. He's also well aware of that women like and uses it for his benefits.\",\n",
       " \"Blanche Dubois goes to visit her pregnant sister and husband Stanley in New Orleans. Stanley doesn't like her, and starts pushing her for information on some property he know was left to the sisters. He discovers she has mortgaged the place and spent all the money, and wants to find out all he can about her. Even more friction develops between the two while they are in the apartment together...\",\n",
       " 'Director Michael Apted revisits the same group of British-born adults after a 7 year wait. The subjects are interviewed as to the changes that have occurred in their lives during the last seven years.',\n",
       " \"The Kingdom of the People of the Vale once ruled over the land, but now all that remains is the Sword of the Vale. in the city of Eindoak. Ash, Iris, and Cilan arrive in Eindoak during a harvest festival's Pokémon Tournament and meet the legendary Pokémon Victini who wishes to share its powers of victory to someone. Elsewhere in the city, a descendant of the People of the Vale named Damon has arrived who seeks to revive the kingdom's power with the Sword of the Vale, bringing them back into power over the land, and Ash and his friends must stop him before he destroys the land along with Victini.\",\n",
       " 'Experimental film fragment made with the Edison-Dickson-Heise experimental horizontal-feed kinetograph camera and viewer, using 3/4-inch wide film.']"
      ]
     },
     "execution_count": 52,
     "metadata": {},
     "output_type": "execute_result"
    }
   ],
   "source": [
    "text_list"
   ]
  },
  {
   "cell_type": "code",
   "execution_count": 53,
   "metadata": {},
   "outputs": [],
   "source": [
    "overview_list=[]\n",
    "for overview in data[\"overview\"]:\n",
    "    if overview==\"No overview found.\":\n",
    "        overview_list.append(\"\")\n",
    "    elif overview==\"No Overview\":\n",
    "        overview_list.append(\"\")\n",
    "    elif overview==\" \":\n",
    "        overview_list.append(\"\")\n",
    "    elif overview==\"No movie overview available.\":\n",
    "        overview_list.append(\"\")\n",
    "    else:\n",
    "        overview_list.append(overview)"
   ]
  },
  {
   "cell_type": "code",
   "execution_count": 54,
   "metadata": {},
   "outputs": [],
   "source": [
    "data[\"overview\"]=overview_list"
   ]
  },
  {
   "cell_type": "code",
   "execution_count": 55,
   "metadata": {},
   "outputs": [
    {
     "data": {
      "text/plain": [
       "0        Led by Woody, Andy's toys live happily in his ...\n",
       "1        When siblings Judy and Peter discover an encha...\n",
       "2        A family wedding reignites the ancient feud be...\n",
       "3        Cheated on, mistreated and stepped on, the wom...\n",
       "4        Just when George Banks has recovered from his ...\n",
       "                               ...                        \n",
       "45461          Rising and falling between a man and woman.\n",
       "45462    An artist struggles to finish his work while a...\n",
       "45463    When one of her hits goes wrong, a professiona...\n",
       "45464    In a small town live two brothers, one a minis...\n",
       "45465    50 years after decriminalisation of homosexual...\n",
       "Name: overview, Length: 45424, dtype: object"
      ]
     },
     "execution_count": 55,
     "metadata": {},
     "output_type": "execute_result"
    }
   ],
   "source": [
    "data[\"overview\"]"
   ]
  },
  {
   "cell_type": "code",
   "execution_count": null,
   "metadata": {},
   "outputs": [],
   "source": []
  },
  {
   "cell_type": "markdown",
   "metadata": {},
   "source": [
    "# 11. popularity\n",
    "type을 object에서 numeric으로 변환"
   ]
  },
  {
   "cell_type": "code",
   "execution_count": 56,
   "metadata": {},
   "outputs": [
    {
     "data": {
      "text/plain": [
       "count     45421\n",
       "unique    44149\n",
       "top         0.0\n",
       "freq         34\n",
       "Name: popularity, dtype: object"
      ]
     },
     "execution_count": 56,
     "metadata": {},
     "output_type": "execute_result"
    }
   ],
   "source": [
    "data[\"popularity\"].describe()"
   ]
  },
  {
   "cell_type": "code",
   "execution_count": 57,
   "metadata": {},
   "outputs": [],
   "source": [
    "data[\"popularity\"]=pd.to_numeric(data[\"popularity\"],errors='coerce')"
   ]
  },
  {
   "cell_type": "code",
   "execution_count": 58,
   "metadata": {},
   "outputs": [
    {
     "data": {
      "text/plain": [
       "count    45421.000000\n",
       "mean         2.921493\n",
       "std          6.007204\n",
       "min          0.000000\n",
       "25%          0.385850\n",
       "50%          1.127098\n",
       "75%          3.678394\n",
       "max        547.488298\n",
       "Name: popularity, dtype: float64"
      ]
     },
     "execution_count": 58,
     "metadata": {},
     "output_type": "execute_result"
    }
   ],
   "source": [
    "data[\"popularity\"].describe()"
   ]
  },
  {
   "cell_type": "code",
   "execution_count": null,
   "metadata": {},
   "outputs": [],
   "source": []
  },
  {
   "cell_type": "markdown",
   "metadata": {},
   "source": [
    "# 12. poster_path\n",
    "제거"
   ]
  },
  {
   "cell_type": "code",
   "execution_count": 59,
   "metadata": {},
   "outputs": [],
   "source": [
    "del data[\"poster_path\"]"
   ]
  },
  {
   "cell_type": "code",
   "execution_count": 60,
   "metadata": {},
   "outputs": [
    {
     "data": {
      "text/html": [
       "<div>\n",
       "<style scoped>\n",
       "    .dataframe tbody tr th:only-of-type {\n",
       "        vertical-align: middle;\n",
       "    }\n",
       "\n",
       "    .dataframe tbody tr th {\n",
       "        vertical-align: top;\n",
       "    }\n",
       "\n",
       "    .dataframe thead th {\n",
       "        text-align: right;\n",
       "    }\n",
       "</style>\n",
       "<table border=\"1\" class=\"dataframe\">\n",
       "  <thead>\n",
       "    <tr style=\"text-align: right;\">\n",
       "      <th></th>\n",
       "      <th>adult</th>\n",
       "      <th>belongs_to_collection</th>\n",
       "      <th>budget</th>\n",
       "      <th>genres</th>\n",
       "      <th>id</th>\n",
       "      <th>original_language</th>\n",
       "      <th>original_title</th>\n",
       "      <th>overview</th>\n",
       "      <th>popularity</th>\n",
       "      <th>production_companies</th>\n",
       "      <th>...</th>\n",
       "      <th>release_date</th>\n",
       "      <th>revenue</th>\n",
       "      <th>runtime</th>\n",
       "      <th>spoken_languages</th>\n",
       "      <th>status</th>\n",
       "      <th>tagline</th>\n",
       "      <th>title</th>\n",
       "      <th>video</th>\n",
       "      <th>vote_average</th>\n",
       "      <th>vote_count</th>\n",
       "    </tr>\n",
       "  </thead>\n",
       "  <tbody>\n",
       "    <tr>\n",
       "      <th>0</th>\n",
       "      <td>False</td>\n",
       "      <td>Toy Story Collection</td>\n",
       "      <td>30000000</td>\n",
       "      <td>[Animation, Comedy, Family]</td>\n",
       "      <td>862</td>\n",
       "      <td>en</td>\n",
       "      <td>Toy Story</td>\n",
       "      <td>Led by Woody, Andy's toys live happily in his ...</td>\n",
       "      <td>21.946943</td>\n",
       "      <td>[{'name': 'Pixar Animation Studios', 'id': 3}]</td>\n",
       "      <td>...</td>\n",
       "      <td>1995-10-30</td>\n",
       "      <td>373554033.0</td>\n",
       "      <td>81.0</td>\n",
       "      <td>[{'iso_639_1': 'en', 'name': 'English'}]</td>\n",
       "      <td>Released</td>\n",
       "      <td>NaN</td>\n",
       "      <td>Toy Story</td>\n",
       "      <td>False</td>\n",
       "      <td>7.7</td>\n",
       "      <td>5415.0</td>\n",
       "    </tr>\n",
       "    <tr>\n",
       "      <th>1</th>\n",
       "      <td>False</td>\n",
       "      <td>NaN</td>\n",
       "      <td>65000000</td>\n",
       "      <td>[Adventure, Fantasy, Family]</td>\n",
       "      <td>8844</td>\n",
       "      <td>en</td>\n",
       "      <td>Jumanji</td>\n",
       "      <td>When siblings Judy and Peter discover an encha...</td>\n",
       "      <td>17.015539</td>\n",
       "      <td>[{'name': 'TriStar Pictures', 'id': 559}, {'na...</td>\n",
       "      <td>...</td>\n",
       "      <td>1995-12-15</td>\n",
       "      <td>262797249.0</td>\n",
       "      <td>104.0</td>\n",
       "      <td>[{'iso_639_1': 'en', 'name': 'English'}, {'iso...</td>\n",
       "      <td>Released</td>\n",
       "      <td>Roll the dice and unleash the excitement!</td>\n",
       "      <td>Jumanji</td>\n",
       "      <td>False</td>\n",
       "      <td>6.9</td>\n",
       "      <td>2413.0</td>\n",
       "    </tr>\n",
       "    <tr>\n",
       "      <th>2</th>\n",
       "      <td>False</td>\n",
       "      <td>Grumpy Old Men Collection</td>\n",
       "      <td>0</td>\n",
       "      <td>[Romance, Comedy]</td>\n",
       "      <td>15602</td>\n",
       "      <td>en</td>\n",
       "      <td>Grumpier Old Men</td>\n",
       "      <td>A family wedding reignites the ancient feud be...</td>\n",
       "      <td>11.712900</td>\n",
       "      <td>[{'name': 'Warner Bros.', 'id': 6194}, {'name'...</td>\n",
       "      <td>...</td>\n",
       "      <td>1995-12-22</td>\n",
       "      <td>0.0</td>\n",
       "      <td>101.0</td>\n",
       "      <td>[{'iso_639_1': 'en', 'name': 'English'}]</td>\n",
       "      <td>Released</td>\n",
       "      <td>Still Yelling. Still Fighting. Still Ready for...</td>\n",
       "      <td>Grumpier Old Men</td>\n",
       "      <td>False</td>\n",
       "      <td>6.5</td>\n",
       "      <td>92.0</td>\n",
       "    </tr>\n",
       "    <tr>\n",
       "      <th>3</th>\n",
       "      <td>False</td>\n",
       "      <td>NaN</td>\n",
       "      <td>16000000</td>\n",
       "      <td>[Comedy, Drama, Romance]</td>\n",
       "      <td>31357</td>\n",
       "      <td>en</td>\n",
       "      <td>Waiting to Exhale</td>\n",
       "      <td>Cheated on, mistreated and stepped on, the wom...</td>\n",
       "      <td>3.859495</td>\n",
       "      <td>[{'name': 'Twentieth Century Fox Film Corporat...</td>\n",
       "      <td>...</td>\n",
       "      <td>1995-12-22</td>\n",
       "      <td>81452156.0</td>\n",
       "      <td>127.0</td>\n",
       "      <td>[{'iso_639_1': 'en', 'name': 'English'}]</td>\n",
       "      <td>Released</td>\n",
       "      <td>Friends are the people who let you be yourself...</td>\n",
       "      <td>Waiting to Exhale</td>\n",
       "      <td>False</td>\n",
       "      <td>6.1</td>\n",
       "      <td>34.0</td>\n",
       "    </tr>\n",
       "    <tr>\n",
       "      <th>4</th>\n",
       "      <td>False</td>\n",
       "      <td>Father of the Bride Collection</td>\n",
       "      <td>0</td>\n",
       "      <td>[Comedy]</td>\n",
       "      <td>11862</td>\n",
       "      <td>en</td>\n",
       "      <td>Father of the Bride Part II</td>\n",
       "      <td>Just when George Banks has recovered from his ...</td>\n",
       "      <td>8.387519</td>\n",
       "      <td>[{'name': 'Sandollar Productions', 'id': 5842}...</td>\n",
       "      <td>...</td>\n",
       "      <td>1995-02-10</td>\n",
       "      <td>76578911.0</td>\n",
       "      <td>106.0</td>\n",
       "      <td>[{'iso_639_1': 'en', 'name': 'English'}]</td>\n",
       "      <td>Released</td>\n",
       "      <td>Just When His World Is Back To Normal... He's ...</td>\n",
       "      <td>Father of the Bride Part II</td>\n",
       "      <td>False</td>\n",
       "      <td>5.7</td>\n",
       "      <td>173.0</td>\n",
       "    </tr>\n",
       "  </tbody>\n",
       "</table>\n",
       "<p>5 rows × 21 columns</p>\n",
       "</div>"
      ],
      "text/plain": [
       "   adult           belongs_to_collection    budget  \\\n",
       "0  False            Toy Story Collection  30000000   \n",
       "1  False                             NaN  65000000   \n",
       "2  False       Grumpy Old Men Collection         0   \n",
       "3  False                             NaN  16000000   \n",
       "4  False  Father of the Bride Collection         0   \n",
       "\n",
       "                         genres     id original_language  \\\n",
       "0   [Animation, Comedy, Family]    862                en   \n",
       "1  [Adventure, Fantasy, Family]   8844                en   \n",
       "2             [Romance, Comedy]  15602                en   \n",
       "3      [Comedy, Drama, Romance]  31357                en   \n",
       "4                      [Comedy]  11862                en   \n",
       "\n",
       "                original_title  \\\n",
       "0                    Toy Story   \n",
       "1                      Jumanji   \n",
       "2             Grumpier Old Men   \n",
       "3            Waiting to Exhale   \n",
       "4  Father of the Bride Part II   \n",
       "\n",
       "                                            overview  popularity  \\\n",
       "0  Led by Woody, Andy's toys live happily in his ...   21.946943   \n",
       "1  When siblings Judy and Peter discover an encha...   17.015539   \n",
       "2  A family wedding reignites the ancient feud be...   11.712900   \n",
       "3  Cheated on, mistreated and stepped on, the wom...    3.859495   \n",
       "4  Just when George Banks has recovered from his ...    8.387519   \n",
       "\n",
       "                                production_companies  ... release_date  \\\n",
       "0     [{'name': 'Pixar Animation Studios', 'id': 3}]  ...   1995-10-30   \n",
       "1  [{'name': 'TriStar Pictures', 'id': 559}, {'na...  ...   1995-12-15   \n",
       "2  [{'name': 'Warner Bros.', 'id': 6194}, {'name'...  ...   1995-12-22   \n",
       "3  [{'name': 'Twentieth Century Fox Film Corporat...  ...   1995-12-22   \n",
       "4  [{'name': 'Sandollar Productions', 'id': 5842}...  ...   1995-02-10   \n",
       "\n",
       "       revenue  runtime                                   spoken_languages  \\\n",
       "0  373554033.0     81.0           [{'iso_639_1': 'en', 'name': 'English'}]   \n",
       "1  262797249.0    104.0  [{'iso_639_1': 'en', 'name': 'English'}, {'iso...   \n",
       "2          0.0    101.0           [{'iso_639_1': 'en', 'name': 'English'}]   \n",
       "3   81452156.0    127.0           [{'iso_639_1': 'en', 'name': 'English'}]   \n",
       "4   76578911.0    106.0           [{'iso_639_1': 'en', 'name': 'English'}]   \n",
       "\n",
       "     status                                            tagline  \\\n",
       "0  Released                                                NaN   \n",
       "1  Released          Roll the dice and unleash the excitement!   \n",
       "2  Released  Still Yelling. Still Fighting. Still Ready for...   \n",
       "3  Released  Friends are the people who let you be yourself...   \n",
       "4  Released  Just When His World Is Back To Normal... He's ...   \n",
       "\n",
       "                         title  video vote_average  vote_count  \n",
       "0                    Toy Story  False          7.7      5415.0  \n",
       "1                      Jumanji  False          6.9      2413.0  \n",
       "2             Grumpier Old Men  False          6.5        92.0  \n",
       "3            Waiting to Exhale  False          6.1        34.0  \n",
       "4  Father of the Bride Part II  False          5.7       173.0  \n",
       "\n",
       "[5 rows x 21 columns]"
      ]
     },
     "execution_count": 60,
     "metadata": {},
     "output_type": "execute_result"
    }
   ],
   "source": [
    "data.head()"
   ]
  },
  {
   "cell_type": "code",
   "execution_count": null,
   "metadata": {},
   "outputs": [],
   "source": []
  },
  {
   "cell_type": "markdown",
   "metadata": {},
   "source": [
    "# 13. production_companies"
   ]
  },
  {
   "cell_type": "code",
   "execution_count": 61,
   "metadata": {},
   "outputs": [
    {
     "data": {
      "text/plain": [
       "count     45421\n",
       "unique    22704\n",
       "top          []\n",
       "freq      11865\n",
       "Name: production_companies, dtype: object"
      ]
     },
     "execution_count": 61,
     "metadata": {},
     "output_type": "execute_result"
    }
   ],
   "source": [
    "data[\"production_companies\"].describe()"
   ]
  },
  {
   "cell_type": "code",
   "execution_count": 62,
   "metadata": {
    "scrolled": true
   },
   "outputs": [
    {
     "data": {
      "text/plain": [
       "0           [{'name': 'Pixar Animation Studios', 'id': 3}]\n",
       "1        [{'name': 'TriStar Pictures', 'id': 559}, {'na...\n",
       "2        [{'name': 'Warner Bros.', 'id': 6194}, {'name'...\n",
       "3        [{'name': 'Twentieth Century Fox Film Corporat...\n",
       "4        [{'name': 'Sandollar Productions', 'id': 5842}...\n",
       "                               ...                        \n",
       "45461                                                   []\n",
       "45462               [{'name': 'Sine Olivia', 'id': 19653}]\n",
       "45463    [{'name': 'American World Pictures', 'id': 6165}]\n",
       "45464                 [{'name': 'Yermoliev', 'id': 88753}]\n",
       "45465                                                   []\n",
       "Name: production_companies, Length: 45424, dtype: object"
      ]
     },
     "execution_count": 62,
     "metadata": {},
     "output_type": "execute_result"
    }
   ],
   "source": [
    "data[\"production_companies\"]"
   ]
  },
  {
   "cell_type": "code",
   "execution_count": 63,
   "metadata": {},
   "outputs": [],
   "source": [
    "companies=[]\n",
    "for string in data[\"production_companies\"]:\n",
    "    if type(string)==float:\n",
    "        companies.append(float(\"Nan\"))\n",
    "    else:\n",
    "        companies_list=eval(string)\n",
    "        if len(companies_list)==0:\n",
    "            companies.append(float(\"Nan\"))\n",
    "        else:\n",
    "            companies2=[]\n",
    "            for companies_dict in companies_list:\n",
    "                companies_name=companies_dict[\"name\"]\n",
    "                companies2.append(companies_name)\n",
    "            companies.append(companies2)"
   ]
  },
  {
   "cell_type": "code",
   "execution_count": 64,
   "metadata": {},
   "outputs": [],
   "source": [
    "data[\"production_companies\"]=companies"
   ]
  },
  {
   "cell_type": "code",
   "execution_count": 65,
   "metadata": {},
   "outputs": [
    {
     "data": {
      "text/plain": [
       "0                                [Pixar Animation Studios]\n",
       "1        [TriStar Pictures, Teitler Film, Interscope Co...\n",
       "2                           [Warner Bros., Lancaster Gate]\n",
       "3                 [Twentieth Century Fox Film Corporation]\n",
       "4             [Sandollar Productions, Touchstone Pictures]\n",
       "                               ...                        \n",
       "45461                                                  NaN\n",
       "45462                                        [Sine Olivia]\n",
       "45463                            [American World Pictures]\n",
       "45464                                          [Yermoliev]\n",
       "45465                                                  NaN\n",
       "Name: production_companies, Length: 45424, dtype: object"
      ]
     },
     "execution_count": 65,
     "metadata": {},
     "output_type": "execute_result"
    }
   ],
   "source": [
    "data[\"production_companies\"]"
   ]
  },
  {
   "cell_type": "code",
   "execution_count": null,
   "metadata": {},
   "outputs": [],
   "source": []
  },
  {
   "cell_type": "markdown",
   "metadata": {},
   "source": [
    "# 14. production_countries"
   ]
  },
  {
   "cell_type": "code",
   "execution_count": 66,
   "metadata": {},
   "outputs": [
    {
     "data": {
      "text/plain": [
       "count                                                 45421\n",
       "unique                                                 2390\n",
       "top       [{'iso_3166_1': 'US', 'name': 'United States o...\n",
       "freq                                                  17838\n",
       "Name: production_countries, dtype: object"
      ]
     },
     "execution_count": 66,
     "metadata": {},
     "output_type": "execute_result"
    }
   ],
   "source": [
    "data[\"production_countries\"].describe()"
   ]
  },
  {
   "cell_type": "code",
   "execution_count": 67,
   "metadata": {
    "scrolled": true
   },
   "outputs": [
    {
     "data": {
      "text/plain": [
       "0        [{'iso_3166_1': 'US', 'name': 'United States o...\n",
       "1        [{'iso_3166_1': 'US', 'name': 'United States o...\n",
       "2        [{'iso_3166_1': 'US', 'name': 'United States o...\n",
       "3        [{'iso_3166_1': 'US', 'name': 'United States o...\n",
       "4        [{'iso_3166_1': 'US', 'name': 'United States o...\n",
       "                               ...                        \n",
       "45461               [{'iso_3166_1': 'IR', 'name': 'Iran'}]\n",
       "45462        [{'iso_3166_1': 'PH', 'name': 'Philippines'}]\n",
       "45463    [{'iso_3166_1': 'US', 'name': 'United States o...\n",
       "45464             [{'iso_3166_1': 'RU', 'name': 'Russia'}]\n",
       "45465     [{'iso_3166_1': 'GB', 'name': 'United Kingdom'}]\n",
       "Name: production_countries, Length: 45424, dtype: object"
      ]
     },
     "execution_count": 67,
     "metadata": {},
     "output_type": "execute_result"
    }
   ],
   "source": [
    "data[\"production_countries\"]"
   ]
  },
  {
   "cell_type": "code",
   "execution_count": 68,
   "metadata": {},
   "outputs": [],
   "source": [
    "countries=[]\n",
    "for string in data[\"production_countries\"]:\n",
    "    if type(string)==float:\n",
    "        countries.append(float(\"Nan\"))\n",
    "    else:\n",
    "        countries_list=eval(string)\n",
    "        if len(countries_list)==0:\n",
    "            countries.append(float(\"Nan\"))\n",
    "        else:\n",
    "            countries2=[]\n",
    "            for countries_dict in countries_list:\n",
    "                countries_name=countries_dict[\"name\"]\n",
    "                countries2.append(countries_name)\n",
    "            countries.append(countries2)"
   ]
  },
  {
   "cell_type": "code",
   "execution_count": 69,
   "metadata": {},
   "outputs": [],
   "source": [
    "data[\"production_countries\"]=countries"
   ]
  },
  {
   "cell_type": "code",
   "execution_count": 70,
   "metadata": {},
   "outputs": [
    {
     "data": {
      "text/plain": [
       "0        [United States of America]\n",
       "1        [United States of America]\n",
       "2        [United States of America]\n",
       "3        [United States of America]\n",
       "4        [United States of America]\n",
       "                    ...            \n",
       "45461                        [Iran]\n",
       "45462                 [Philippines]\n",
       "45463    [United States of America]\n",
       "45464                      [Russia]\n",
       "45465              [United Kingdom]\n",
       "Name: production_countries, Length: 45424, dtype: object"
      ]
     },
     "execution_count": 70,
     "metadata": {},
     "output_type": "execute_result"
    }
   ],
   "source": [
    "data[\"production_countries\"]"
   ]
  },
  {
   "cell_type": "code",
   "execution_count": 71,
   "metadata": {},
   "outputs": [
    {
     "data": {
      "text/plain": [
       "count                          39143\n",
       "unique                          2389\n",
       "top       [United States of America]\n",
       "freq                           17838\n",
       "Name: production_countries, dtype: object"
      ]
     },
     "execution_count": 71,
     "metadata": {},
     "output_type": "execute_result"
    }
   ],
   "source": [
    "data[\"production_countries\"].describe()"
   ]
  },
  {
   "cell_type": "code",
   "execution_count": null,
   "metadata": {},
   "outputs": [],
   "source": []
  },
  {
   "cell_type": "markdown",
   "metadata": {},
   "source": [
    "# 15. release_date\n",
    "datetime으로 변환"
   ]
  },
  {
   "cell_type": "code",
   "execution_count": 72,
   "metadata": {},
   "outputs": [
    {
     "data": {
      "text/plain": [
       "count          45338\n",
       "unique         17329\n",
       "top       2008-01-01\n",
       "freq             136\n",
       "Name: release_date, dtype: object"
      ]
     },
     "execution_count": 72,
     "metadata": {},
     "output_type": "execute_result"
    }
   ],
   "source": [
    "data[\"release_date\"].describe()"
   ]
  },
  {
   "cell_type": "code",
   "execution_count": 73,
   "metadata": {},
   "outputs": [],
   "source": [
    "from datetime import datetime"
   ]
  },
  {
   "cell_type": "code",
   "execution_count": 74,
   "metadata": {},
   "outputs": [],
   "source": [
    "date=[]\n",
    "for string in data[\"release_date\"]:\n",
    "    if type(string)!=str:\n",
    "        date.append(float(\"Nan\"))\n",
    "    else:\n",
    "        date.append(datetime.strptime(string, \"%Y-%m-%d\"))"
   ]
  },
  {
   "cell_type": "code",
   "execution_count": 75,
   "metadata": {},
   "outputs": [],
   "source": [
    "data[\"release_date\"]=date"
   ]
  },
  {
   "cell_type": "code",
   "execution_count": 76,
   "metadata": {},
   "outputs": [
    {
     "data": {
      "text/plain": [
       "0       1995-10-30\n",
       "1       1995-12-15\n",
       "2       1995-12-22\n",
       "3       1995-12-22\n",
       "4       1995-02-10\n",
       "           ...    \n",
       "45461          NaT\n",
       "45462   2011-11-17\n",
       "45463   2003-08-01\n",
       "45464   1917-10-21\n",
       "45465   2017-06-09\n",
       "Name: release_date, Length: 45424, dtype: datetime64[ns]"
      ]
     },
     "execution_count": 76,
     "metadata": {},
     "output_type": "execute_result"
    }
   ],
   "source": [
    "data[\"release_date\"]"
   ]
  },
  {
   "cell_type": "code",
   "execution_count": null,
   "metadata": {},
   "outputs": [],
   "source": []
  },
  {
   "cell_type": "markdown",
   "metadata": {},
   "source": [
    "# 16. revenue\n"
   ]
  },
  {
   "cell_type": "code",
   "execution_count": 77,
   "metadata": {},
   "outputs": [
    {
     "data": {
      "text/plain": [
       "count    4.542100e+04\n",
       "mean     1.121511e+07\n",
       "std      6.435831e+07\n",
       "min      0.000000e+00\n",
       "25%      0.000000e+00\n",
       "50%      0.000000e+00\n",
       "75%      0.000000e+00\n",
       "max      2.787965e+09\n",
       "Name: revenue, dtype: float64"
      ]
     },
     "execution_count": 77,
     "metadata": {},
     "output_type": "execute_result"
    }
   ],
   "source": [
    "data[\"revenue\"].describe()"
   ]
  },
  {
   "cell_type": "code",
   "execution_count": 78,
   "metadata": {},
   "outputs": [
    {
     "data": {
      "text/plain": [
       "3"
      ]
     },
     "execution_count": 78,
     "metadata": {},
     "output_type": "execute_result"
    }
   ],
   "source": [
    "np.sum(data[\"revenue\"].isnull())"
   ]
  },
  {
   "cell_type": "code",
   "execution_count": 79,
   "metadata": {},
   "outputs": [
    {
     "data": {
      "text/html": [
       "<div>\n",
       "<style scoped>\n",
       "    .dataframe tbody tr th:only-of-type {\n",
       "        vertical-align: middle;\n",
       "    }\n",
       "\n",
       "    .dataframe tbody tr th {\n",
       "        vertical-align: top;\n",
       "    }\n",
       "\n",
       "    .dataframe thead th {\n",
       "        text-align: right;\n",
       "    }\n",
       "</style>\n",
       "<table border=\"1\" class=\"dataframe\">\n",
       "  <thead>\n",
       "    <tr style=\"text-align: right;\">\n",
       "      <th></th>\n",
       "      <th>adult</th>\n",
       "      <th>belongs_to_collection</th>\n",
       "      <th>budget</th>\n",
       "      <th>genres</th>\n",
       "      <th>id</th>\n",
       "      <th>original_language</th>\n",
       "      <th>original_title</th>\n",
       "      <th>overview</th>\n",
       "      <th>popularity</th>\n",
       "      <th>production_companies</th>\n",
       "      <th>...</th>\n",
       "      <th>release_date</th>\n",
       "      <th>revenue</th>\n",
       "      <th>runtime</th>\n",
       "      <th>spoken_languages</th>\n",
       "      <th>status</th>\n",
       "      <th>tagline</th>\n",
       "      <th>title</th>\n",
       "      <th>video</th>\n",
       "      <th>vote_average</th>\n",
       "      <th>vote_count</th>\n",
       "    </tr>\n",
       "  </thead>\n",
       "  <tbody>\n",
       "    <tr>\n",
       "      <th>19729</th>\n",
       "      <td>False</td>\n",
       "      <td>NaN</td>\n",
       "      <td>0</td>\n",
       "      <td>[Action, Thriller, Drama]</td>\n",
       "      <td>82663</td>\n",
       "      <td>en</td>\n",
       "      <td>Midnight Man</td>\n",
       "      <td>British soldiers force a recently captured IRA...</td>\n",
       "      <td>NaN</td>\n",
       "      <td>NaN</td>\n",
       "      <td>...</td>\n",
       "      <td>NaT</td>\n",
       "      <td>NaN</td>\n",
       "      <td>NaN</td>\n",
       "      <td>NaN</td>\n",
       "      <td>NaN</td>\n",
       "      <td>NaN</td>\n",
       "      <td>NaN</td>\n",
       "      <td>NaN</td>\n",
       "      <td>NaN</td>\n",
       "      <td>NaN</td>\n",
       "    </tr>\n",
       "    <tr>\n",
       "      <th>29502</th>\n",
       "      <td>False</td>\n",
       "      <td>Mardock Scramble Collection</td>\n",
       "      <td>0</td>\n",
       "      <td>[Animation, Science Fiction]</td>\n",
       "      <td>122662</td>\n",
       "      <td>ja</td>\n",
       "      <td>マルドゥック・スクランブル 排気</td>\n",
       "      <td>Third film of the Mardock Scramble series.</td>\n",
       "      <td>NaN</td>\n",
       "      <td>NaN</td>\n",
       "      <td>...</td>\n",
       "      <td>NaT</td>\n",
       "      <td>NaN</td>\n",
       "      <td>NaN</td>\n",
       "      <td>NaN</td>\n",
       "      <td>NaN</td>\n",
       "      <td>NaN</td>\n",
       "      <td>NaN</td>\n",
       "      <td>NaN</td>\n",
       "      <td>NaN</td>\n",
       "      <td>NaN</td>\n",
       "    </tr>\n",
       "    <tr>\n",
       "      <th>35586</th>\n",
       "      <td>False</td>\n",
       "      <td>NaN</td>\n",
       "      <td>0</td>\n",
       "      <td>[TV Movie, Action, Horror, Science Fiction]</td>\n",
       "      <td>249260</td>\n",
       "      <td>en</td>\n",
       "      <td>Avalanche Sharks</td>\n",
       "      <td>A group of skiers are terrorized during spring...</td>\n",
       "      <td>NaN</td>\n",
       "      <td>NaN</td>\n",
       "      <td>...</td>\n",
       "      <td>NaT</td>\n",
       "      <td>NaN</td>\n",
       "      <td>NaN</td>\n",
       "      <td>NaN</td>\n",
       "      <td>NaN</td>\n",
       "      <td>NaN</td>\n",
       "      <td>NaN</td>\n",
       "      <td>NaN</td>\n",
       "      <td>NaN</td>\n",
       "      <td>NaN</td>\n",
       "    </tr>\n",
       "  </tbody>\n",
       "</table>\n",
       "<p>3 rows × 21 columns</p>\n",
       "</div>"
      ],
      "text/plain": [
       "       adult        belongs_to_collection  budget  \\\n",
       "19729  False                          NaN       0   \n",
       "29502  False  Mardock Scramble Collection       0   \n",
       "35586  False                          NaN       0   \n",
       "\n",
       "                                            genres      id original_language  \\\n",
       "19729                    [Action, Thriller, Drama]   82663                en   \n",
       "29502                 [Animation, Science Fiction]  122662                ja   \n",
       "35586  [TV Movie, Action, Horror, Science Fiction]  249260                en   \n",
       "\n",
       "         original_title                                           overview  \\\n",
       "19729      Midnight Man  British soldiers force a recently captured IRA...   \n",
       "29502  マルドゥック・スクランブル 排気         Third film of the Mardock Scramble series.   \n",
       "35586  Avalanche Sharks  A group of skiers are terrorized during spring...   \n",
       "\n",
       "       popularity production_companies  ... release_date revenue  runtime  \\\n",
       "19729         NaN                  NaN  ...          NaT     NaN      NaN   \n",
       "29502         NaN                  NaN  ...          NaT     NaN      NaN   \n",
       "35586         NaN                  NaN  ...          NaT     NaN      NaN   \n",
       "\n",
       "       spoken_languages status tagline title video vote_average  vote_count  \n",
       "19729               NaN    NaN     NaN   NaN   NaN          NaN         NaN  \n",
       "29502               NaN    NaN     NaN   NaN   NaN          NaN         NaN  \n",
       "35586               NaN    NaN     NaN   NaN   NaN          NaN         NaN  \n",
       "\n",
       "[3 rows x 21 columns]"
      ]
     },
     "execution_count": 79,
     "metadata": {},
     "output_type": "execute_result"
    }
   ],
   "source": [
    "data[pd.isnull(data[\"revenue\"])==True]"
   ]
  },
  {
   "cell_type": "code",
   "execution_count": null,
   "metadata": {},
   "outputs": [],
   "source": []
  },
  {
   "cell_type": "markdown",
   "metadata": {},
   "source": [
    "# 17. runtime"
   ]
  },
  {
   "cell_type": "code",
   "execution_count": 80,
   "metadata": {},
   "outputs": [
    {
     "data": {
      "text/plain": [
       "count    45164.000000\n",
       "mean        94.129196\n",
       "std         38.413954\n",
       "min          0.000000\n",
       "25%         85.000000\n",
       "50%         95.000000\n",
       "75%        107.000000\n",
       "max       1256.000000\n",
       "Name: runtime, dtype: float64"
      ]
     },
     "execution_count": 80,
     "metadata": {},
     "output_type": "execute_result"
    }
   ],
   "source": [
    "data[\"runtime\"].describe()"
   ]
  },
  {
   "cell_type": "code",
   "execution_count": 81,
   "metadata": {},
   "outputs": [
    {
     "data": {
      "text/plain": [
       "260"
      ]
     },
     "execution_count": 81,
     "metadata": {},
     "output_type": "execute_result"
    }
   ],
   "source": [
    "np.sum(pd.isnull(data[\"runtime\"]))"
   ]
  },
  {
   "cell_type": "code",
   "execution_count": 82,
   "metadata": {},
   "outputs": [
    {
     "data": {
      "text/html": [
       "<div>\n",
       "<style scoped>\n",
       "    .dataframe tbody tr th:only-of-type {\n",
       "        vertical-align: middle;\n",
       "    }\n",
       "\n",
       "    .dataframe tbody tr th {\n",
       "        vertical-align: top;\n",
       "    }\n",
       "\n",
       "    .dataframe thead th {\n",
       "        text-align: right;\n",
       "    }\n",
       "</style>\n",
       "<table border=\"1\" class=\"dataframe\">\n",
       "  <thead>\n",
       "    <tr style=\"text-align: right;\">\n",
       "      <th></th>\n",
       "      <th>adult</th>\n",
       "      <th>belongs_to_collection</th>\n",
       "      <th>budget</th>\n",
       "      <th>genres</th>\n",
       "      <th>id</th>\n",
       "      <th>original_language</th>\n",
       "      <th>original_title</th>\n",
       "      <th>overview</th>\n",
       "      <th>popularity</th>\n",
       "      <th>production_companies</th>\n",
       "      <th>...</th>\n",
       "      <th>release_date</th>\n",
       "      <th>revenue</th>\n",
       "      <th>runtime</th>\n",
       "      <th>spoken_languages</th>\n",
       "      <th>status</th>\n",
       "      <th>tagline</th>\n",
       "      <th>title</th>\n",
       "      <th>video</th>\n",
       "      <th>vote_average</th>\n",
       "      <th>vote_count</th>\n",
       "    </tr>\n",
       "  </thead>\n",
       "  <tbody>\n",
       "    <tr>\n",
       "      <th>634</th>\n",
       "      <td>False</td>\n",
       "      <td>NaN</td>\n",
       "      <td>0</td>\n",
       "      <td>[Comedy]</td>\n",
       "      <td>287305</td>\n",
       "      <td>de</td>\n",
       "      <td>Peanuts – Die Bank zahlt alles</td>\n",
       "      <td>NaN</td>\n",
       "      <td>0.066123</td>\n",
       "      <td>[Westdeutscher Rundfunk (WDR)]</td>\n",
       "      <td>...</td>\n",
       "      <td>1996-03-21</td>\n",
       "      <td>0.0</td>\n",
       "      <td>NaN</td>\n",
       "      <td>[]</td>\n",
       "      <td>Released</td>\n",
       "      <td>NaN</td>\n",
       "      <td>Peanuts – Die Bank zahlt alles</td>\n",
       "      <td>False</td>\n",
       "      <td>4.0</td>\n",
       "      <td>1.0</td>\n",
       "    </tr>\n",
       "    <tr>\n",
       "      <th>635</th>\n",
       "      <td>False</td>\n",
       "      <td>NaN</td>\n",
       "      <td>0</td>\n",
       "      <td>[Comedy]</td>\n",
       "      <td>339428</td>\n",
       "      <td>de</td>\n",
       "      <td>Happy Weekend</td>\n",
       "      <td>NaN</td>\n",
       "      <td>0.002229</td>\n",
       "      <td>[Senator Film Produktion]</td>\n",
       "      <td>...</td>\n",
       "      <td>1996-03-14</td>\n",
       "      <td>65335.0</td>\n",
       "      <td>NaN</td>\n",
       "      <td>[{'iso_639_1': 'de', 'name': 'Deutsch'}]</td>\n",
       "      <td>Released</td>\n",
       "      <td>NaN</td>\n",
       "      <td>Happy Weekend</td>\n",
       "      <td>False</td>\n",
       "      <td>0.0</td>\n",
       "      <td>0.0</td>\n",
       "    </tr>\n",
       "    <tr>\n",
       "      <th>644</th>\n",
       "      <td>False</td>\n",
       "      <td>NaN</td>\n",
       "      <td>0</td>\n",
       "      <td>[Drama]</td>\n",
       "      <td>278978</td>\n",
       "      <td>de</td>\n",
       "      <td>Und keiner weint mir nach</td>\n",
       "      <td>NaN</td>\n",
       "      <td>0.439989</td>\n",
       "      <td>NaN</td>\n",
       "      <td>...</td>\n",
       "      <td>1996-02-29</td>\n",
       "      <td>0.0</td>\n",
       "      <td>NaN</td>\n",
       "      <td>[{'iso_639_1': 'de', 'name': 'Deutsch'}]</td>\n",
       "      <td>Released</td>\n",
       "      <td>NaN</td>\n",
       "      <td>Und keiner weint mir nach</td>\n",
       "      <td>False</td>\n",
       "      <td>0.0</td>\n",
       "      <td>0.0</td>\n",
       "    </tr>\n",
       "    <tr>\n",
       "      <th>802</th>\n",
       "      <td>False</td>\n",
       "      <td>NaN</td>\n",
       "      <td>0</td>\n",
       "      <td>[Drama]</td>\n",
       "      <td>282919</td>\n",
       "      <td>de</td>\n",
       "      <td>Diebinnen</td>\n",
       "      <td>NaN</td>\n",
       "      <td>0.106345</td>\n",
       "      <td>NaN</td>\n",
       "      <td>...</td>\n",
       "      <td>1996-06-20</td>\n",
       "      <td>0.0</td>\n",
       "      <td>NaN</td>\n",
       "      <td>[]</td>\n",
       "      <td>Released</td>\n",
       "      <td>NaN</td>\n",
       "      <td>Diebinnen</td>\n",
       "      <td>False</td>\n",
       "      <td>4.0</td>\n",
       "      <td>1.0</td>\n",
       "    </tr>\n",
       "    <tr>\n",
       "      <th>863</th>\n",
       "      <td>False</td>\n",
       "      <td>NaN</td>\n",
       "      <td>0</td>\n",
       "      <td>[Thriller]</td>\n",
       "      <td>253632</td>\n",
       "      <td>fr</td>\n",
       "      <td>Baton Rouge</td>\n",
       "      <td>NaN</td>\n",
       "      <td>0.437895</td>\n",
       "      <td>NaN</td>\n",
       "      <td>...</td>\n",
       "      <td>1988-10-08</td>\n",
       "      <td>0.0</td>\n",
       "      <td>NaN</td>\n",
       "      <td>[]</td>\n",
       "      <td>Released</td>\n",
       "      <td>NaN</td>\n",
       "      <td>Baton Rouge</td>\n",
       "      <td>False</td>\n",
       "      <td>0.0</td>\n",
       "      <td>0.0</td>\n",
       "    </tr>\n",
       "    <tr>\n",
       "      <th>...</th>\n",
       "      <td>...</td>\n",
       "      <td>...</td>\n",
       "      <td>...</td>\n",
       "      <td>...</td>\n",
       "      <td>...</td>\n",
       "      <td>...</td>\n",
       "      <td>...</td>\n",
       "      <td>...</td>\n",
       "      <td>...</td>\n",
       "      <td>...</td>\n",
       "      <td>...</td>\n",
       "      <td>...</td>\n",
       "      <td>...</td>\n",
       "      <td>...</td>\n",
       "      <td>...</td>\n",
       "      <td>...</td>\n",
       "      <td>...</td>\n",
       "      <td>...</td>\n",
       "      <td>...</td>\n",
       "      <td>...</td>\n",
       "      <td>...</td>\n",
       "    </tr>\n",
       "    <tr>\n",
       "      <th>45246</th>\n",
       "      <td>False</td>\n",
       "      <td>NaN</td>\n",
       "      <td>0</td>\n",
       "      <td>[Comedy]</td>\n",
       "      <td>231216</td>\n",
       "      <td>de</td>\n",
       "      <td>Villa Henriette</td>\n",
       "      <td>NaN</td>\n",
       "      <td>0.002513</td>\n",
       "      <td>NaN</td>\n",
       "      <td>...</td>\n",
       "      <td>2004-12-02</td>\n",
       "      <td>0.0</td>\n",
       "      <td>NaN</td>\n",
       "      <td>[{'iso_639_1': 'de', 'name': 'Deutsch'}]</td>\n",
       "      <td>Released</td>\n",
       "      <td>NaN</td>\n",
       "      <td>Villa Henriette</td>\n",
       "      <td>False</td>\n",
       "      <td>0.0</td>\n",
       "      <td>0.0</td>\n",
       "    </tr>\n",
       "    <tr>\n",
       "      <th>45310</th>\n",
       "      <td>False</td>\n",
       "      <td>NaN</td>\n",
       "      <td>0</td>\n",
       "      <td>NaN</td>\n",
       "      <td>418757</td>\n",
       "      <td>pl</td>\n",
       "      <td>Między nami dobrze jest</td>\n",
       "      <td>NaN</td>\n",
       "      <td>0.030803</td>\n",
       "      <td>NaN</td>\n",
       "      <td>...</td>\n",
       "      <td>2014-08-01</td>\n",
       "      <td>0.0</td>\n",
       "      <td>NaN</td>\n",
       "      <td>[]</td>\n",
       "      <td>Released</td>\n",
       "      <td>NaN</td>\n",
       "      <td>Między nami dobrze jest</td>\n",
       "      <td>False</td>\n",
       "      <td>0.0</td>\n",
       "      <td>0.0</td>\n",
       "    </tr>\n",
       "    <tr>\n",
       "      <th>45313</th>\n",
       "      <td>False</td>\n",
       "      <td>NaN</td>\n",
       "      <td>0</td>\n",
       "      <td>[Drama]</td>\n",
       "      <td>369444</td>\n",
       "      <td>pl</td>\n",
       "      <td>Ostatni dzwonek</td>\n",
       "      <td>NaN</td>\n",
       "      <td>0.000102</td>\n",
       "      <td>NaN</td>\n",
       "      <td>...</td>\n",
       "      <td>1989-10-27</td>\n",
       "      <td>0.0</td>\n",
       "      <td>NaN</td>\n",
       "      <td>[]</td>\n",
       "      <td>Released</td>\n",
       "      <td>NaN</td>\n",
       "      <td>Ostatni dzwonek</td>\n",
       "      <td>False</td>\n",
       "      <td>0.0</td>\n",
       "      <td>0.0</td>\n",
       "    </tr>\n",
       "    <tr>\n",
       "      <th>45377</th>\n",
       "      <td>False</td>\n",
       "      <td>NaN</td>\n",
       "      <td>0</td>\n",
       "      <td>[Adventure]</td>\n",
       "      <td>317389</td>\n",
       "      <td>es</td>\n",
       "      <td>Simbad e il califfo di Bagdad</td>\n",
       "      <td>NaN</td>\n",
       "      <td>0.006352</td>\n",
       "      <td>[Roas Produzioni, Buton Film]</td>\n",
       "      <td>...</td>\n",
       "      <td>1973-07-22</td>\n",
       "      <td>0.0</td>\n",
       "      <td>NaN</td>\n",
       "      <td>[{'iso_639_1': 'it', 'name': 'Italiano'}]</td>\n",
       "      <td>Released</td>\n",
       "      <td>NaN</td>\n",
       "      <td>Simbad e il califfo di Bagdad</td>\n",
       "      <td>False</td>\n",
       "      <td>0.0</td>\n",
       "      <td>0.0</td>\n",
       "    </tr>\n",
       "    <tr>\n",
       "      <th>45410</th>\n",
       "      <td>False</td>\n",
       "      <td>NaN</td>\n",
       "      <td>0</td>\n",
       "      <td>[Drama, Crime]</td>\n",
       "      <td>449131</td>\n",
       "      <td>ru</td>\n",
       "      <td>Aprel</td>\n",
       "      <td>NaN</td>\n",
       "      <td>0.008903</td>\n",
       "      <td>NaN</td>\n",
       "      <td>...</td>\n",
       "      <td>NaT</td>\n",
       "      <td>0.0</td>\n",
       "      <td>NaN</td>\n",
       "      <td>[]</td>\n",
       "      <td>Released</td>\n",
       "      <td>NaN</td>\n",
       "      <td>Aprel</td>\n",
       "      <td>False</td>\n",
       "      <td>6.0</td>\n",
       "      <td>1.0</td>\n",
       "    </tr>\n",
       "  </tbody>\n",
       "</table>\n",
       "<p>260 rows × 21 columns</p>\n",
       "</div>"
      ],
      "text/plain": [
       "       adult belongs_to_collection  budget          genres      id  \\\n",
       "634    False                   NaN       0        [Comedy]  287305   \n",
       "635    False                   NaN       0        [Comedy]  339428   \n",
       "644    False                   NaN       0         [Drama]  278978   \n",
       "802    False                   NaN       0         [Drama]  282919   \n",
       "863    False                   NaN       0      [Thriller]  253632   \n",
       "...      ...                   ...     ...             ...     ...   \n",
       "45246  False                   NaN       0        [Comedy]  231216   \n",
       "45310  False                   NaN       0             NaN  418757   \n",
       "45313  False                   NaN       0         [Drama]  369444   \n",
       "45377  False                   NaN       0     [Adventure]  317389   \n",
       "45410  False                   NaN       0  [Drama, Crime]  449131   \n",
       "\n",
       "      original_language                  original_title overview  popularity  \\\n",
       "634                  de  Peanuts – Die Bank zahlt alles      NaN    0.066123   \n",
       "635                  de                   Happy Weekend      NaN    0.002229   \n",
       "644                  de       Und keiner weint mir nach      NaN    0.439989   \n",
       "802                  de                       Diebinnen      NaN    0.106345   \n",
       "863                  fr                     Baton Rouge      NaN    0.437895   \n",
       "...                 ...                             ...      ...         ...   \n",
       "45246                de                 Villa Henriette      NaN    0.002513   \n",
       "45310                pl         Między nami dobrze jest      NaN    0.030803   \n",
       "45313                pl                 Ostatni dzwonek      NaN    0.000102   \n",
       "45377                es   Simbad e il califfo di Bagdad      NaN    0.006352   \n",
       "45410                ru                           Aprel      NaN    0.008903   \n",
       "\n",
       "                 production_companies  ... release_date  revenue  runtime  \\\n",
       "634    [Westdeutscher Rundfunk (WDR)]  ...   1996-03-21      0.0      NaN   \n",
       "635         [Senator Film Produktion]  ...   1996-03-14  65335.0      NaN   \n",
       "644                               NaN  ...   1996-02-29      0.0      NaN   \n",
       "802                               NaN  ...   1996-06-20      0.0      NaN   \n",
       "863                               NaN  ...   1988-10-08      0.0      NaN   \n",
       "...                               ...  ...          ...      ...      ...   \n",
       "45246                             NaN  ...   2004-12-02      0.0      NaN   \n",
       "45310                             NaN  ...   2014-08-01      0.0      NaN   \n",
       "45313                             NaN  ...   1989-10-27      0.0      NaN   \n",
       "45377   [Roas Produzioni, Buton Film]  ...   1973-07-22      0.0      NaN   \n",
       "45410                             NaN  ...          NaT      0.0      NaN   \n",
       "\n",
       "                                spoken_languages    status tagline  \\\n",
       "634                                           []  Released     NaN   \n",
       "635     [{'iso_639_1': 'de', 'name': 'Deutsch'}]  Released     NaN   \n",
       "644     [{'iso_639_1': 'de', 'name': 'Deutsch'}]  Released     NaN   \n",
       "802                                           []  Released     NaN   \n",
       "863                                           []  Released     NaN   \n",
       "...                                          ...       ...     ...   \n",
       "45246   [{'iso_639_1': 'de', 'name': 'Deutsch'}]  Released     NaN   \n",
       "45310                                         []  Released     NaN   \n",
       "45313                                         []  Released     NaN   \n",
       "45377  [{'iso_639_1': 'it', 'name': 'Italiano'}]  Released     NaN   \n",
       "45410                                         []  Released     NaN   \n",
       "\n",
       "                                title  video vote_average  vote_count  \n",
       "634    Peanuts – Die Bank zahlt alles  False          4.0         1.0  \n",
       "635                     Happy Weekend  False          0.0         0.0  \n",
       "644         Und keiner weint mir nach  False          0.0         0.0  \n",
       "802                         Diebinnen  False          4.0         1.0  \n",
       "863                       Baton Rouge  False          0.0         0.0  \n",
       "...                               ...    ...          ...         ...  \n",
       "45246                 Villa Henriette  False          0.0         0.0  \n",
       "45310         Między nami dobrze jest  False          0.0         0.0  \n",
       "45313                 Ostatni dzwonek  False          0.0         0.0  \n",
       "45377   Simbad e il califfo di Bagdad  False          0.0         0.0  \n",
       "45410                           Aprel  False          6.0         1.0  \n",
       "\n",
       "[260 rows x 21 columns]"
      ]
     },
     "execution_count": 82,
     "metadata": {},
     "output_type": "execute_result"
    }
   ],
   "source": [
    "data[pd.isnull(data[\"runtime\"])==True]"
   ]
  },
  {
   "cell_type": "code",
   "execution_count": null,
   "metadata": {},
   "outputs": [],
   "source": []
  },
  {
   "cell_type": "markdown",
   "metadata": {},
   "source": [
    "# 18. spoken_languages"
   ]
  },
  {
   "cell_type": "code",
   "execution_count": 83,
   "metadata": {},
   "outputs": [
    {
     "data": {
      "text/plain": [
       "count                                        45421\n",
       "unique                                        1931\n",
       "top       [{'iso_639_1': 'en', 'name': 'English'}]\n",
       "freq                                         22375\n",
       "Name: spoken_languages, dtype: object"
      ]
     },
     "execution_count": 83,
     "metadata": {},
     "output_type": "execute_result"
    }
   ],
   "source": [
    "data[\"spoken_languages\"].describe()"
   ]
  },
  {
   "cell_type": "code",
   "execution_count": 84,
   "metadata": {},
   "outputs": [
    {
     "data": {
      "text/plain": [
       "3"
      ]
     },
     "execution_count": 84,
     "metadata": {},
     "output_type": "execute_result"
    }
   ],
   "source": [
    "np.sum(pd.isnull(data[\"spoken_languages\"]))"
   ]
  },
  {
   "cell_type": "code",
   "execution_count": 85,
   "metadata": {},
   "outputs": [
    {
     "data": {
      "text/html": [
       "<div>\n",
       "<style scoped>\n",
       "    .dataframe tbody tr th:only-of-type {\n",
       "        vertical-align: middle;\n",
       "    }\n",
       "\n",
       "    .dataframe tbody tr th {\n",
       "        vertical-align: top;\n",
       "    }\n",
       "\n",
       "    .dataframe thead th {\n",
       "        text-align: right;\n",
       "    }\n",
       "</style>\n",
       "<table border=\"1\" class=\"dataframe\">\n",
       "  <thead>\n",
       "    <tr style=\"text-align: right;\">\n",
       "      <th></th>\n",
       "      <th>adult</th>\n",
       "      <th>belongs_to_collection</th>\n",
       "      <th>budget</th>\n",
       "      <th>genres</th>\n",
       "      <th>id</th>\n",
       "      <th>original_language</th>\n",
       "      <th>original_title</th>\n",
       "      <th>overview</th>\n",
       "      <th>popularity</th>\n",
       "      <th>production_companies</th>\n",
       "      <th>...</th>\n",
       "      <th>release_date</th>\n",
       "      <th>revenue</th>\n",
       "      <th>runtime</th>\n",
       "      <th>spoken_languages</th>\n",
       "      <th>status</th>\n",
       "      <th>tagline</th>\n",
       "      <th>title</th>\n",
       "      <th>video</th>\n",
       "      <th>vote_average</th>\n",
       "      <th>vote_count</th>\n",
       "    </tr>\n",
       "  </thead>\n",
       "  <tbody>\n",
       "    <tr>\n",
       "      <th>19729</th>\n",
       "      <td>False</td>\n",
       "      <td>NaN</td>\n",
       "      <td>0</td>\n",
       "      <td>[Action, Thriller, Drama]</td>\n",
       "      <td>82663</td>\n",
       "      <td>en</td>\n",
       "      <td>Midnight Man</td>\n",
       "      <td>British soldiers force a recently captured IRA...</td>\n",
       "      <td>NaN</td>\n",
       "      <td>NaN</td>\n",
       "      <td>...</td>\n",
       "      <td>NaT</td>\n",
       "      <td>NaN</td>\n",
       "      <td>NaN</td>\n",
       "      <td>NaN</td>\n",
       "      <td>NaN</td>\n",
       "      <td>NaN</td>\n",
       "      <td>NaN</td>\n",
       "      <td>NaN</td>\n",
       "      <td>NaN</td>\n",
       "      <td>NaN</td>\n",
       "    </tr>\n",
       "    <tr>\n",
       "      <th>29502</th>\n",
       "      <td>False</td>\n",
       "      <td>Mardock Scramble Collection</td>\n",
       "      <td>0</td>\n",
       "      <td>[Animation, Science Fiction]</td>\n",
       "      <td>122662</td>\n",
       "      <td>ja</td>\n",
       "      <td>マルドゥック・スクランブル 排気</td>\n",
       "      <td>Third film of the Mardock Scramble series.</td>\n",
       "      <td>NaN</td>\n",
       "      <td>NaN</td>\n",
       "      <td>...</td>\n",
       "      <td>NaT</td>\n",
       "      <td>NaN</td>\n",
       "      <td>NaN</td>\n",
       "      <td>NaN</td>\n",
       "      <td>NaN</td>\n",
       "      <td>NaN</td>\n",
       "      <td>NaN</td>\n",
       "      <td>NaN</td>\n",
       "      <td>NaN</td>\n",
       "      <td>NaN</td>\n",
       "    </tr>\n",
       "    <tr>\n",
       "      <th>35586</th>\n",
       "      <td>False</td>\n",
       "      <td>NaN</td>\n",
       "      <td>0</td>\n",
       "      <td>[TV Movie, Action, Horror, Science Fiction]</td>\n",
       "      <td>249260</td>\n",
       "      <td>en</td>\n",
       "      <td>Avalanche Sharks</td>\n",
       "      <td>A group of skiers are terrorized during spring...</td>\n",
       "      <td>NaN</td>\n",
       "      <td>NaN</td>\n",
       "      <td>...</td>\n",
       "      <td>NaT</td>\n",
       "      <td>NaN</td>\n",
       "      <td>NaN</td>\n",
       "      <td>NaN</td>\n",
       "      <td>NaN</td>\n",
       "      <td>NaN</td>\n",
       "      <td>NaN</td>\n",
       "      <td>NaN</td>\n",
       "      <td>NaN</td>\n",
       "      <td>NaN</td>\n",
       "    </tr>\n",
       "  </tbody>\n",
       "</table>\n",
       "<p>3 rows × 21 columns</p>\n",
       "</div>"
      ],
      "text/plain": [
       "       adult        belongs_to_collection  budget  \\\n",
       "19729  False                          NaN       0   \n",
       "29502  False  Mardock Scramble Collection       0   \n",
       "35586  False                          NaN       0   \n",
       "\n",
       "                                            genres      id original_language  \\\n",
       "19729                    [Action, Thriller, Drama]   82663                en   \n",
       "29502                 [Animation, Science Fiction]  122662                ja   \n",
       "35586  [TV Movie, Action, Horror, Science Fiction]  249260                en   \n",
       "\n",
       "         original_title                                           overview  \\\n",
       "19729      Midnight Man  British soldiers force a recently captured IRA...   \n",
       "29502  マルドゥック・スクランブル 排気         Third film of the Mardock Scramble series.   \n",
       "35586  Avalanche Sharks  A group of skiers are terrorized during spring...   \n",
       "\n",
       "       popularity production_companies  ... release_date revenue  runtime  \\\n",
       "19729         NaN                  NaN  ...          NaT     NaN      NaN   \n",
       "29502         NaN                  NaN  ...          NaT     NaN      NaN   \n",
       "35586         NaN                  NaN  ...          NaT     NaN      NaN   \n",
       "\n",
       "       spoken_languages status tagline title video vote_average  vote_count  \n",
       "19729               NaN    NaN     NaN   NaN   NaN          NaN         NaN  \n",
       "29502               NaN    NaN     NaN   NaN   NaN          NaN         NaN  \n",
       "35586               NaN    NaN     NaN   NaN   NaN          NaN         NaN  \n",
       "\n",
       "[3 rows x 21 columns]"
      ]
     },
     "execution_count": 85,
     "metadata": {},
     "output_type": "execute_result"
    }
   ],
   "source": [
    "data[pd.isnull(data[\"spoken_languages\"])==True]"
   ]
  },
  {
   "cell_type": "code",
   "execution_count": 86,
   "metadata": {},
   "outputs": [],
   "source": [
    "language=[]\n",
    "for string in data[\"spoken_languages\"]:\n",
    "    if type(string)!=str:\n",
    "        language.append(float(\"Nan\"))\n",
    "    else:\n",
    "        language_list=eval(string)\n",
    "        if len(language_list)==0:\n",
    "            language.append(float(\"Nan\"))\n",
    "        else:\n",
    "            language2=[]\n",
    "            for language_dict in language_list:\n",
    "                language_name=language_dict[\"name\"]\n",
    "                language2.append(language_name)\n",
    "            language.append(language2)"
   ]
  },
  {
   "cell_type": "code",
   "execution_count": 87,
   "metadata": {},
   "outputs": [],
   "source": [
    "data[\"spoken_languages\"]=language"
   ]
  },
  {
   "cell_type": "code",
   "execution_count": 88,
   "metadata": {},
   "outputs": [
    {
     "data": {
      "text/plain": [
       "0                  [English]\n",
       "1        [English, Français]\n",
       "2                  [English]\n",
       "3                  [English]\n",
       "4                  [English]\n",
       "                ...         \n",
       "45461                [فارسی]\n",
       "45462                     []\n",
       "45463              [English]\n",
       "45464                    NaN\n",
       "45465              [English]\n",
       "Name: spoken_languages, Length: 45424, dtype: object"
      ]
     },
     "execution_count": 88,
     "metadata": {},
     "output_type": "execute_result"
    }
   ],
   "source": [
    "data[\"spoken_languages\"]"
   ]
  },
  {
   "cell_type": "code",
   "execution_count": 89,
   "metadata": {},
   "outputs": [],
   "source": [
    "for string in data[\"spoken_languages\"]:\n",
    "    if type(string)==list:\n",
    "        for lan in string:\n",
    "            if lan==\"\":\n",
    "                string.remove(\"\")"
   ]
  },
  {
   "cell_type": "code",
   "execution_count": 90,
   "metadata": {},
   "outputs": [
    {
     "data": {
      "text/plain": [
       "0                  [English]\n",
       "1        [English, Français]\n",
       "2                  [English]\n",
       "3                  [English]\n",
       "4                  [English]\n",
       "                ...         \n",
       "45461                [فارسی]\n",
       "45462                     []\n",
       "45463              [English]\n",
       "45464                    NaN\n",
       "45465              [English]\n",
       "Name: spoken_languages, Length: 45424, dtype: object"
      ]
     },
     "execution_count": 90,
     "metadata": {},
     "output_type": "execute_result"
    }
   ],
   "source": [
    "data[\"spoken_languages\"]"
   ]
  },
  {
   "cell_type": "code",
   "execution_count": 91,
   "metadata": {},
   "outputs": [],
   "source": [
    "data = data.mask(data[\"spoken_languages\"].map(str).eq('[]'))"
   ]
  },
  {
   "cell_type": "code",
   "execution_count": 92,
   "metadata": {},
   "outputs": [
    {
     "data": {
      "text/plain": [
       "0                  [English]\n",
       "1        [English, Français]\n",
       "2                  [English]\n",
       "3                  [English]\n",
       "4                  [English]\n",
       "                ...         \n",
       "45461                [فارسی]\n",
       "45462                    NaN\n",
       "45463              [English]\n",
       "45464                    NaN\n",
       "45465              [English]\n",
       "Name: spoken_languages, Length: 45424, dtype: object"
      ]
     },
     "execution_count": 92,
     "metadata": {},
     "output_type": "execute_result"
    }
   ],
   "source": [
    "data[\"spoken_languages\"]"
   ]
  },
  {
   "cell_type": "code",
   "execution_count": null,
   "metadata": {},
   "outputs": [],
   "source": []
  },
  {
   "cell_type": "markdown",
   "metadata": {},
   "source": [
    "# 19. status"
   ]
  },
  {
   "cell_type": "code",
   "execution_count": 93,
   "metadata": {},
   "outputs": [
    {
     "data": {
      "text/plain": [
       "count        45218\n",
       "unique           6\n",
       "top       Released\n",
       "freq         44856\n",
       "Name: status, dtype: object"
      ]
     },
     "execution_count": 93,
     "metadata": {},
     "output_type": "execute_result"
    }
   ],
   "source": [
    "data[\"status\"].describe()"
   ]
  },
  {
   "cell_type": "code",
   "execution_count": 94,
   "metadata": {},
   "outputs": [
    {
     "data": {
      "text/plain": [
       "Released           44856\n",
       "Rumored              229\n",
       "Post Production       97\n",
       "In Production         19\n",
       "Planned               15\n",
       "Canceled               2\n",
       "Name: status, dtype: int64"
      ]
     },
     "execution_count": 94,
     "metadata": {},
     "output_type": "execute_result"
    }
   ],
   "source": [
    "pd.value_counts(data[\"status\"])"
   ]
  },
  {
   "cell_type": "code",
   "execution_count": 95,
   "metadata": {},
   "outputs": [
    {
     "data": {
      "text/plain": [
       "206"
      ]
     },
     "execution_count": 95,
     "metadata": {},
     "output_type": "execute_result"
    }
   ],
   "source": [
    "np.sum(pd.isnull(data[\"status\"]))"
   ]
  },
  {
   "cell_type": "code",
   "execution_count": 96,
   "metadata": {},
   "outputs": [
    {
     "data": {
      "text/html": [
       "<div>\n",
       "<style scoped>\n",
       "    .dataframe tbody tr th:only-of-type {\n",
       "        vertical-align: middle;\n",
       "    }\n",
       "\n",
       "    .dataframe tbody tr th {\n",
       "        vertical-align: top;\n",
       "    }\n",
       "\n",
       "    .dataframe thead th {\n",
       "        text-align: right;\n",
       "    }\n",
       "</style>\n",
       "<table border=\"1\" class=\"dataframe\">\n",
       "  <thead>\n",
       "    <tr style=\"text-align: right;\">\n",
       "      <th></th>\n",
       "      <th>adult</th>\n",
       "      <th>belongs_to_collection</th>\n",
       "      <th>budget</th>\n",
       "      <th>genres</th>\n",
       "      <th>id</th>\n",
       "      <th>original_language</th>\n",
       "      <th>original_title</th>\n",
       "      <th>overview</th>\n",
       "      <th>popularity</th>\n",
       "      <th>production_companies</th>\n",
       "      <th>...</th>\n",
       "      <th>release_date</th>\n",
       "      <th>revenue</th>\n",
       "      <th>runtime</th>\n",
       "      <th>spoken_languages</th>\n",
       "      <th>status</th>\n",
       "      <th>tagline</th>\n",
       "      <th>title</th>\n",
       "      <th>video</th>\n",
       "      <th>vote_average</th>\n",
       "      <th>vote_count</th>\n",
       "    </tr>\n",
       "  </thead>\n",
       "  <tbody>\n",
       "    <tr>\n",
       "      <th>189</th>\n",
       "      <td>False</td>\n",
       "      <td>NaN</td>\n",
       "      <td>0.0</td>\n",
       "      <td>[Documentary]</td>\n",
       "      <td>56088.0</td>\n",
       "      <td>en</td>\n",
       "      <td>The Show</td>\n",
       "      <td>A documentary about the culture of hip-hop. Th...</td>\n",
       "      <td>0.159596</td>\n",
       "      <td>NaN</td>\n",
       "      <td>...</td>\n",
       "      <td>1995-08-25</td>\n",
       "      <td>0.0</td>\n",
       "      <td>93.0</td>\n",
       "      <td>NaN</td>\n",
       "      <td>NaN</td>\n",
       "      <td>What Happens On Stage Is Only Half The Story!</td>\n",
       "      <td>The Show</td>\n",
       "      <td>False</td>\n",
       "      <td>5.3</td>\n",
       "      <td>2.0</td>\n",
       "    </tr>\n",
       "    <tr>\n",
       "      <th>767</th>\n",
       "      <td>False</td>\n",
       "      <td>NaN</td>\n",
       "      <td>0.0</td>\n",
       "      <td>[Documentary]</td>\n",
       "      <td>52059.0</td>\n",
       "      <td>en</td>\n",
       "      <td>The Gate of Heavenly Peace</td>\n",
       "      <td>The Gate of Heavenly Peace is a feature-length...</td>\n",
       "      <td>0.107050</td>\n",
       "      <td>NaN</td>\n",
       "      <td>...</td>\n",
       "      <td>1995-01-01</td>\n",
       "      <td>0.0</td>\n",
       "      <td>180.0</td>\n",
       "      <td>NaN</td>\n",
       "      <td>NaN</td>\n",
       "      <td>NaN</td>\n",
       "      <td>The Gate of Heavenly Peace</td>\n",
       "      <td>False</td>\n",
       "      <td>6.7</td>\n",
       "      <td>3.0</td>\n",
       "    </tr>\n",
       "    <tr>\n",
       "      <th>773</th>\n",
       "      <td>NaN</td>\n",
       "      <td>NaN</td>\n",
       "      <td>NaN</td>\n",
       "      <td>NaN</td>\n",
       "      <td>NaN</td>\n",
       "      <td>NaN</td>\n",
       "      <td>NaN</td>\n",
       "      <td>NaN</td>\n",
       "      <td>NaN</td>\n",
       "      <td>NaN</td>\n",
       "      <td>...</td>\n",
       "      <td>NaT</td>\n",
       "      <td>NaN</td>\n",
       "      <td>NaN</td>\n",
       "      <td>NaN</td>\n",
       "      <td>NaN</td>\n",
       "      <td>NaN</td>\n",
       "      <td>NaN</td>\n",
       "      <td>NaN</td>\n",
       "      <td>NaN</td>\n",
       "      <td>NaN</td>\n",
       "    </tr>\n",
       "    <tr>\n",
       "      <th>1384</th>\n",
       "      <td>False</td>\n",
       "      <td>NaN</td>\n",
       "      <td>0.0</td>\n",
       "      <td>[Comedy]</td>\n",
       "      <td>40506.0</td>\n",
       "      <td>en</td>\n",
       "      <td>Meet Wally Sparks</td>\n",
       "      <td>Wally Sparks is a tabloid TV show reporter who...</td>\n",
       "      <td>0.576741</td>\n",
       "      <td>NaN</td>\n",
       "      <td>...</td>\n",
       "      <td>1997-01-01</td>\n",
       "      <td>0.0</td>\n",
       "      <td>105.0</td>\n",
       "      <td>[English]</td>\n",
       "      <td>NaN</td>\n",
       "      <td>NaN</td>\n",
       "      <td>Meet Wally Sparks</td>\n",
       "      <td>False</td>\n",
       "      <td>5.3</td>\n",
       "      <td>10.0</td>\n",
       "    </tr>\n",
       "    <tr>\n",
       "      <th>2140</th>\n",
       "      <td>False</td>\n",
       "      <td>NaN</td>\n",
       "      <td>0.0</td>\n",
       "      <td>NaN</td>\n",
       "      <td>77314.0</td>\n",
       "      <td>fr</td>\n",
       "      <td>The Cabinet of Dr. Ramirez</td>\n",
       "      <td>NaN</td>\n",
       "      <td>0.037500</td>\n",
       "      <td>NaN</td>\n",
       "      <td>...</td>\n",
       "      <td>1991-12-04</td>\n",
       "      <td>0.0</td>\n",
       "      <td>NaN</td>\n",
       "      <td>NaN</td>\n",
       "      <td>NaN</td>\n",
       "      <td>NaN</td>\n",
       "      <td>The Cabinet of Dr. Ramirez</td>\n",
       "      <td>False</td>\n",
       "      <td>0.0</td>\n",
       "      <td>0.0</td>\n",
       "    </tr>\n",
       "    <tr>\n",
       "      <th>...</th>\n",
       "      <td>...</td>\n",
       "      <td>...</td>\n",
       "      <td>...</td>\n",
       "      <td>...</td>\n",
       "      <td>...</td>\n",
       "      <td>...</td>\n",
       "      <td>...</td>\n",
       "      <td>...</td>\n",
       "      <td>...</td>\n",
       "      <td>...</td>\n",
       "      <td>...</td>\n",
       "      <td>...</td>\n",
       "      <td>...</td>\n",
       "      <td>...</td>\n",
       "      <td>...</td>\n",
       "      <td>...</td>\n",
       "      <td>...</td>\n",
       "      <td>...</td>\n",
       "      <td>...</td>\n",
       "      <td>...</td>\n",
       "      <td>...</td>\n",
       "    </tr>\n",
       "    <tr>\n",
       "      <th>45067</th>\n",
       "      <td>False</td>\n",
       "      <td>NaN</td>\n",
       "      <td>0.0</td>\n",
       "      <td>[Drama, Romance, Foreign]</td>\n",
       "      <td>49492.0</td>\n",
       "      <td>en</td>\n",
       "      <td>Jogwa - The Awakening</td>\n",
       "      <td>Jogwa actually means alms given to a person, u...</td>\n",
       "      <td>0.004990</td>\n",
       "      <td>NaN</td>\n",
       "      <td>...</td>\n",
       "      <td>2009-09-25</td>\n",
       "      <td>0.0</td>\n",
       "      <td>92.0</td>\n",
       "      <td>NaN</td>\n",
       "      <td>NaN</td>\n",
       "      <td>The Awakening</td>\n",
       "      <td>Jogwa - The Awakening</td>\n",
       "      <td>False</td>\n",
       "      <td>0.0</td>\n",
       "      <td>0.0</td>\n",
       "    </tr>\n",
       "    <tr>\n",
       "      <th>45090</th>\n",
       "      <td>False</td>\n",
       "      <td>NaN</td>\n",
       "      <td>0.0</td>\n",
       "      <td>NaN</td>\n",
       "      <td>128268.0</td>\n",
       "      <td>en</td>\n",
       "      <td>Veruschka - Die Inszenierung (m)eines Körpers</td>\n",
       "      <td>Documentary about Veruschka von Lehndorff.</td>\n",
       "      <td>0.056298</td>\n",
       "      <td>NaN</td>\n",
       "      <td>...</td>\n",
       "      <td>2005-09-30</td>\n",
       "      <td>0.0</td>\n",
       "      <td>52.0</td>\n",
       "      <td>[Deutsch, Français]</td>\n",
       "      <td>NaN</td>\n",
       "      <td>NaN</td>\n",
       "      <td>Veruschka: A Life for the Camera</td>\n",
       "      <td>False</td>\n",
       "      <td>6.0</td>\n",
       "      <td>1.0</td>\n",
       "    </tr>\n",
       "    <tr>\n",
       "      <th>45159</th>\n",
       "      <td>False</td>\n",
       "      <td>NaN</td>\n",
       "      <td>0.0</td>\n",
       "      <td>NaN</td>\n",
       "      <td>41811.0</td>\n",
       "      <td>en</td>\n",
       "      <td>Eating</td>\n",
       "      <td>At a spacious house in Los Angeles, Helene is ...</td>\n",
       "      <td>0.000002</td>\n",
       "      <td>NaN</td>\n",
       "      <td>...</td>\n",
       "      <td>1990-11-30</td>\n",
       "      <td>0.0</td>\n",
       "      <td>110.0</td>\n",
       "      <td>[English]</td>\n",
       "      <td>NaN</td>\n",
       "      <td>NaN</td>\n",
       "      <td>Eating</td>\n",
       "      <td>False</td>\n",
       "      <td>0.0</td>\n",
       "      <td>0.0</td>\n",
       "    </tr>\n",
       "    <tr>\n",
       "      <th>45442</th>\n",
       "      <td>False</td>\n",
       "      <td>NaN</td>\n",
       "      <td>0.0</td>\n",
       "      <td>NaN</td>\n",
       "      <td>44330.0</td>\n",
       "      <td>en</td>\n",
       "      <td>Le tripot clandestin</td>\n",
       "      <td>A combination gambling den and bawdy house is ...</td>\n",
       "      <td>0.219260</td>\n",
       "      <td>NaN</td>\n",
       "      <td>...</td>\n",
       "      <td>1905-01-01</td>\n",
       "      <td>0.0</td>\n",
       "      <td>3.0</td>\n",
       "      <td>NaN</td>\n",
       "      <td>NaN</td>\n",
       "      <td>NaN</td>\n",
       "      <td>The Scheming Gambler's Paradise</td>\n",
       "      <td>False</td>\n",
       "      <td>5.0</td>\n",
       "      <td>3.0</td>\n",
       "    </tr>\n",
       "    <tr>\n",
       "      <th>45462</th>\n",
       "      <td>NaN</td>\n",
       "      <td>NaN</td>\n",
       "      <td>NaN</td>\n",
       "      <td>NaN</td>\n",
       "      <td>NaN</td>\n",
       "      <td>NaN</td>\n",
       "      <td>NaN</td>\n",
       "      <td>NaN</td>\n",
       "      <td>NaN</td>\n",
       "      <td>NaN</td>\n",
       "      <td>...</td>\n",
       "      <td>NaT</td>\n",
       "      <td>NaN</td>\n",
       "      <td>NaN</td>\n",
       "      <td>NaN</td>\n",
       "      <td>NaN</td>\n",
       "      <td>NaN</td>\n",
       "      <td>NaN</td>\n",
       "      <td>NaN</td>\n",
       "      <td>NaN</td>\n",
       "      <td>NaN</td>\n",
       "    </tr>\n",
       "  </tbody>\n",
       "</table>\n",
       "<p>206 rows × 21 columns</p>\n",
       "</div>"
      ],
      "text/plain": [
       "       adult belongs_to_collection  budget                     genres  \\\n",
       "189    False                   NaN     0.0              [Documentary]   \n",
       "767    False                   NaN     0.0              [Documentary]   \n",
       "773      NaN                   NaN     NaN                        NaN   \n",
       "1384   False                   NaN     0.0                   [Comedy]   \n",
       "2140   False                   NaN     0.0                        NaN   \n",
       "...      ...                   ...     ...                        ...   \n",
       "45067  False                   NaN     0.0  [Drama, Romance, Foreign]   \n",
       "45090  False                   NaN     0.0                        NaN   \n",
       "45159  False                   NaN     0.0                        NaN   \n",
       "45442  False                   NaN     0.0                        NaN   \n",
       "45462    NaN                   NaN     NaN                        NaN   \n",
       "\n",
       "             id original_language  \\\n",
       "189     56088.0                en   \n",
       "767     52059.0                en   \n",
       "773         NaN               NaN   \n",
       "1384    40506.0                en   \n",
       "2140    77314.0                fr   \n",
       "...         ...               ...   \n",
       "45067   49492.0                en   \n",
       "45090  128268.0                en   \n",
       "45159   41811.0                en   \n",
       "45442   44330.0                en   \n",
       "45462       NaN               NaN   \n",
       "\n",
       "                                      original_title  \\\n",
       "189                                         The Show   \n",
       "767                       The Gate of Heavenly Peace   \n",
       "773                                              NaN   \n",
       "1384                               Meet Wally Sparks   \n",
       "2140                      The Cabinet of Dr. Ramirez   \n",
       "...                                              ...   \n",
       "45067                          Jogwa - The Awakening   \n",
       "45090  Veruschka - Die Inszenierung (m)eines Körpers   \n",
       "45159                                         Eating   \n",
       "45442                           Le tripot clandestin   \n",
       "45462                                            NaN   \n",
       "\n",
       "                                                overview  popularity  \\\n",
       "189    A documentary about the culture of hip-hop. Th...    0.159596   \n",
       "767    The Gate of Heavenly Peace is a feature-length...    0.107050   \n",
       "773                                                  NaN         NaN   \n",
       "1384   Wally Sparks is a tabloid TV show reporter who...    0.576741   \n",
       "2140                                                 NaN    0.037500   \n",
       "...                                                  ...         ...   \n",
       "45067  Jogwa actually means alms given to a person, u...    0.004990   \n",
       "45090         Documentary about Veruschka von Lehndorff.    0.056298   \n",
       "45159  At a spacious house in Los Angeles, Helene is ...    0.000002   \n",
       "45442  A combination gambling den and bawdy house is ...    0.219260   \n",
       "45462                                                NaN         NaN   \n",
       "\n",
       "      production_companies  ... release_date revenue  runtime  \\\n",
       "189                    NaN  ...   1995-08-25     0.0     93.0   \n",
       "767                    NaN  ...   1995-01-01     0.0    180.0   \n",
       "773                    NaN  ...          NaT     NaN      NaN   \n",
       "1384                   NaN  ...   1997-01-01     0.0    105.0   \n",
       "2140                   NaN  ...   1991-12-04     0.0      NaN   \n",
       "...                    ...  ...          ...     ...      ...   \n",
       "45067                  NaN  ...   2009-09-25     0.0     92.0   \n",
       "45090                  NaN  ...   2005-09-30     0.0     52.0   \n",
       "45159                  NaN  ...   1990-11-30     0.0    110.0   \n",
       "45442                  NaN  ...   1905-01-01     0.0      3.0   \n",
       "45462                  NaN  ...          NaT     NaN      NaN   \n",
       "\n",
       "          spoken_languages status  \\\n",
       "189                    NaN    NaN   \n",
       "767                    NaN    NaN   \n",
       "773                    NaN    NaN   \n",
       "1384             [English]    NaN   \n",
       "2140                   NaN    NaN   \n",
       "...                    ...    ...   \n",
       "45067                  NaN    NaN   \n",
       "45090  [Deutsch, Français]    NaN   \n",
       "45159            [English]    NaN   \n",
       "45442                  NaN    NaN   \n",
       "45462                  NaN    NaN   \n",
       "\n",
       "                                             tagline  \\\n",
       "189    What Happens On Stage Is Only Half The Story!   \n",
       "767                                              NaN   \n",
       "773                                              NaN   \n",
       "1384                                             NaN   \n",
       "2140                                             NaN   \n",
       "...                                              ...   \n",
       "45067                                  The Awakening   \n",
       "45090                                            NaN   \n",
       "45159                                            NaN   \n",
       "45442                                            NaN   \n",
       "45462                                            NaN   \n",
       "\n",
       "                                  title  video vote_average  vote_count  \n",
       "189                            The Show  False          5.3         2.0  \n",
       "767          The Gate of Heavenly Peace  False          6.7         3.0  \n",
       "773                                 NaN    NaN          NaN         NaN  \n",
       "1384                  Meet Wally Sparks  False          5.3        10.0  \n",
       "2140         The Cabinet of Dr. Ramirez  False          0.0         0.0  \n",
       "...                                 ...    ...          ...         ...  \n",
       "45067             Jogwa - The Awakening  False          0.0         0.0  \n",
       "45090  Veruschka: A Life for the Camera  False          6.0         1.0  \n",
       "45159                            Eating  False          0.0         0.0  \n",
       "45442   The Scheming Gambler's Paradise  False          5.0         3.0  \n",
       "45462                               NaN    NaN          NaN         NaN  \n",
       "\n",
       "[206 rows x 21 columns]"
      ]
     },
     "execution_count": 96,
     "metadata": {},
     "output_type": "execute_result"
    }
   ],
   "source": [
    "data[pd.isnull(data[\"status\"])==True]"
   ]
  },
  {
   "cell_type": "markdown",
   "metadata": {},
   "source": [
    "Nan인 애들 중에 popularity나 revenue가 0인 아닌 애들은 개봉한거로 생각할 수 있으니깐 Released로 채울게요"
   ]
  },
  {
   "cell_type": "code",
   "execution_count": 97,
   "metadata": {},
   "outputs": [
    {
     "data": {
      "text/html": [
       "<div>\n",
       "<style scoped>\n",
       "    .dataframe tbody tr th:only-of-type {\n",
       "        vertical-align: middle;\n",
       "    }\n",
       "\n",
       "    .dataframe tbody tr th {\n",
       "        vertical-align: top;\n",
       "    }\n",
       "\n",
       "    .dataframe thead th {\n",
       "        text-align: right;\n",
       "    }\n",
       "</style>\n",
       "<table border=\"1\" class=\"dataframe\">\n",
       "  <thead>\n",
       "    <tr style=\"text-align: right;\">\n",
       "      <th></th>\n",
       "      <th>adult</th>\n",
       "      <th>belongs_to_collection</th>\n",
       "      <th>budget</th>\n",
       "      <th>genres</th>\n",
       "      <th>id</th>\n",
       "      <th>original_language</th>\n",
       "      <th>original_title</th>\n",
       "      <th>overview</th>\n",
       "      <th>popularity</th>\n",
       "      <th>production_companies</th>\n",
       "      <th>...</th>\n",
       "      <th>release_date</th>\n",
       "      <th>revenue</th>\n",
       "      <th>runtime</th>\n",
       "      <th>spoken_languages</th>\n",
       "      <th>status</th>\n",
       "      <th>tagline</th>\n",
       "      <th>title</th>\n",
       "      <th>video</th>\n",
       "      <th>vote_average</th>\n",
       "      <th>vote_count</th>\n",
       "    </tr>\n",
       "  </thead>\n",
       "  <tbody>\n",
       "    <tr>\n",
       "      <th>189</th>\n",
       "      <td>False</td>\n",
       "      <td>NaN</td>\n",
       "      <td>0.0</td>\n",
       "      <td>[Documentary]</td>\n",
       "      <td>56088.0</td>\n",
       "      <td>en</td>\n",
       "      <td>The Show</td>\n",
       "      <td>A documentary about the culture of hip-hop. Th...</td>\n",
       "      <td>0.159596</td>\n",
       "      <td>NaN</td>\n",
       "      <td>...</td>\n",
       "      <td>1995-08-25</td>\n",
       "      <td>0.0</td>\n",
       "      <td>93.0</td>\n",
       "      <td>NaN</td>\n",
       "      <td>NaN</td>\n",
       "      <td>What Happens On Stage Is Only Half The Story!</td>\n",
       "      <td>The Show</td>\n",
       "      <td>False</td>\n",
       "      <td>5.3</td>\n",
       "      <td>2.0</td>\n",
       "    </tr>\n",
       "    <tr>\n",
       "      <th>767</th>\n",
       "      <td>False</td>\n",
       "      <td>NaN</td>\n",
       "      <td>0.0</td>\n",
       "      <td>[Documentary]</td>\n",
       "      <td>52059.0</td>\n",
       "      <td>en</td>\n",
       "      <td>The Gate of Heavenly Peace</td>\n",
       "      <td>The Gate of Heavenly Peace is a feature-length...</td>\n",
       "      <td>0.107050</td>\n",
       "      <td>NaN</td>\n",
       "      <td>...</td>\n",
       "      <td>1995-01-01</td>\n",
       "      <td>0.0</td>\n",
       "      <td>180.0</td>\n",
       "      <td>NaN</td>\n",
       "      <td>NaN</td>\n",
       "      <td>NaN</td>\n",
       "      <td>The Gate of Heavenly Peace</td>\n",
       "      <td>False</td>\n",
       "      <td>6.7</td>\n",
       "      <td>3.0</td>\n",
       "    </tr>\n",
       "    <tr>\n",
       "      <th>773</th>\n",
       "      <td>NaN</td>\n",
       "      <td>NaN</td>\n",
       "      <td>NaN</td>\n",
       "      <td>NaN</td>\n",
       "      <td>NaN</td>\n",
       "      <td>NaN</td>\n",
       "      <td>NaN</td>\n",
       "      <td>NaN</td>\n",
       "      <td>NaN</td>\n",
       "      <td>NaN</td>\n",
       "      <td>...</td>\n",
       "      <td>NaT</td>\n",
       "      <td>NaN</td>\n",
       "      <td>NaN</td>\n",
       "      <td>NaN</td>\n",
       "      <td>NaN</td>\n",
       "      <td>NaN</td>\n",
       "      <td>NaN</td>\n",
       "      <td>NaN</td>\n",
       "      <td>NaN</td>\n",
       "      <td>NaN</td>\n",
       "    </tr>\n",
       "    <tr>\n",
       "      <th>1384</th>\n",
       "      <td>False</td>\n",
       "      <td>NaN</td>\n",
       "      <td>0.0</td>\n",
       "      <td>[Comedy]</td>\n",
       "      <td>40506.0</td>\n",
       "      <td>en</td>\n",
       "      <td>Meet Wally Sparks</td>\n",
       "      <td>Wally Sparks is a tabloid TV show reporter who...</td>\n",
       "      <td>0.576741</td>\n",
       "      <td>NaN</td>\n",
       "      <td>...</td>\n",
       "      <td>1997-01-01</td>\n",
       "      <td>0.0</td>\n",
       "      <td>105.0</td>\n",
       "      <td>[English]</td>\n",
       "      <td>NaN</td>\n",
       "      <td>NaN</td>\n",
       "      <td>Meet Wally Sparks</td>\n",
       "      <td>False</td>\n",
       "      <td>5.3</td>\n",
       "      <td>10.0</td>\n",
       "    </tr>\n",
       "    <tr>\n",
       "      <th>2140</th>\n",
       "      <td>False</td>\n",
       "      <td>NaN</td>\n",
       "      <td>0.0</td>\n",
       "      <td>NaN</td>\n",
       "      <td>77314.0</td>\n",
       "      <td>fr</td>\n",
       "      <td>The Cabinet of Dr. Ramirez</td>\n",
       "      <td>NaN</td>\n",
       "      <td>0.037500</td>\n",
       "      <td>NaN</td>\n",
       "      <td>...</td>\n",
       "      <td>1991-12-04</td>\n",
       "      <td>0.0</td>\n",
       "      <td>NaN</td>\n",
       "      <td>NaN</td>\n",
       "      <td>NaN</td>\n",
       "      <td>NaN</td>\n",
       "      <td>The Cabinet of Dr. Ramirez</td>\n",
       "      <td>False</td>\n",
       "      <td>0.0</td>\n",
       "      <td>0.0</td>\n",
       "    </tr>\n",
       "    <tr>\n",
       "      <th>...</th>\n",
       "      <td>...</td>\n",
       "      <td>...</td>\n",
       "      <td>...</td>\n",
       "      <td>...</td>\n",
       "      <td>...</td>\n",
       "      <td>...</td>\n",
       "      <td>...</td>\n",
       "      <td>...</td>\n",
       "      <td>...</td>\n",
       "      <td>...</td>\n",
       "      <td>...</td>\n",
       "      <td>...</td>\n",
       "      <td>...</td>\n",
       "      <td>...</td>\n",
       "      <td>...</td>\n",
       "      <td>...</td>\n",
       "      <td>...</td>\n",
       "      <td>...</td>\n",
       "      <td>...</td>\n",
       "      <td>...</td>\n",
       "      <td>...</td>\n",
       "    </tr>\n",
       "    <tr>\n",
       "      <th>45067</th>\n",
       "      <td>False</td>\n",
       "      <td>NaN</td>\n",
       "      <td>0.0</td>\n",
       "      <td>[Drama, Romance, Foreign]</td>\n",
       "      <td>49492.0</td>\n",
       "      <td>en</td>\n",
       "      <td>Jogwa - The Awakening</td>\n",
       "      <td>Jogwa actually means alms given to a person, u...</td>\n",
       "      <td>0.004990</td>\n",
       "      <td>NaN</td>\n",
       "      <td>...</td>\n",
       "      <td>2009-09-25</td>\n",
       "      <td>0.0</td>\n",
       "      <td>92.0</td>\n",
       "      <td>NaN</td>\n",
       "      <td>NaN</td>\n",
       "      <td>The Awakening</td>\n",
       "      <td>Jogwa - The Awakening</td>\n",
       "      <td>False</td>\n",
       "      <td>0.0</td>\n",
       "      <td>0.0</td>\n",
       "    </tr>\n",
       "    <tr>\n",
       "      <th>45090</th>\n",
       "      <td>False</td>\n",
       "      <td>NaN</td>\n",
       "      <td>0.0</td>\n",
       "      <td>NaN</td>\n",
       "      <td>128268.0</td>\n",
       "      <td>en</td>\n",
       "      <td>Veruschka - Die Inszenierung (m)eines Körpers</td>\n",
       "      <td>Documentary about Veruschka von Lehndorff.</td>\n",
       "      <td>0.056298</td>\n",
       "      <td>NaN</td>\n",
       "      <td>...</td>\n",
       "      <td>2005-09-30</td>\n",
       "      <td>0.0</td>\n",
       "      <td>52.0</td>\n",
       "      <td>[Deutsch, Français]</td>\n",
       "      <td>NaN</td>\n",
       "      <td>NaN</td>\n",
       "      <td>Veruschka: A Life for the Camera</td>\n",
       "      <td>False</td>\n",
       "      <td>6.0</td>\n",
       "      <td>1.0</td>\n",
       "    </tr>\n",
       "    <tr>\n",
       "      <th>45159</th>\n",
       "      <td>False</td>\n",
       "      <td>NaN</td>\n",
       "      <td>0.0</td>\n",
       "      <td>NaN</td>\n",
       "      <td>41811.0</td>\n",
       "      <td>en</td>\n",
       "      <td>Eating</td>\n",
       "      <td>At a spacious house in Los Angeles, Helene is ...</td>\n",
       "      <td>0.000002</td>\n",
       "      <td>NaN</td>\n",
       "      <td>...</td>\n",
       "      <td>1990-11-30</td>\n",
       "      <td>0.0</td>\n",
       "      <td>110.0</td>\n",
       "      <td>[English]</td>\n",
       "      <td>NaN</td>\n",
       "      <td>NaN</td>\n",
       "      <td>Eating</td>\n",
       "      <td>False</td>\n",
       "      <td>0.0</td>\n",
       "      <td>0.0</td>\n",
       "    </tr>\n",
       "    <tr>\n",
       "      <th>45442</th>\n",
       "      <td>False</td>\n",
       "      <td>NaN</td>\n",
       "      <td>0.0</td>\n",
       "      <td>NaN</td>\n",
       "      <td>44330.0</td>\n",
       "      <td>en</td>\n",
       "      <td>Le tripot clandestin</td>\n",
       "      <td>A combination gambling den and bawdy house is ...</td>\n",
       "      <td>0.219260</td>\n",
       "      <td>NaN</td>\n",
       "      <td>...</td>\n",
       "      <td>1905-01-01</td>\n",
       "      <td>0.0</td>\n",
       "      <td>3.0</td>\n",
       "      <td>NaN</td>\n",
       "      <td>NaN</td>\n",
       "      <td>NaN</td>\n",
       "      <td>The Scheming Gambler's Paradise</td>\n",
       "      <td>False</td>\n",
       "      <td>5.0</td>\n",
       "      <td>3.0</td>\n",
       "    </tr>\n",
       "    <tr>\n",
       "      <th>45462</th>\n",
       "      <td>NaN</td>\n",
       "      <td>NaN</td>\n",
       "      <td>NaN</td>\n",
       "      <td>NaN</td>\n",
       "      <td>NaN</td>\n",
       "      <td>NaN</td>\n",
       "      <td>NaN</td>\n",
       "      <td>NaN</td>\n",
       "      <td>NaN</td>\n",
       "      <td>NaN</td>\n",
       "      <td>...</td>\n",
       "      <td>NaT</td>\n",
       "      <td>NaN</td>\n",
       "      <td>NaN</td>\n",
       "      <td>NaN</td>\n",
       "      <td>NaN</td>\n",
       "      <td>NaN</td>\n",
       "      <td>NaN</td>\n",
       "      <td>NaN</td>\n",
       "      <td>NaN</td>\n",
       "      <td>NaN</td>\n",
       "    </tr>\n",
       "  </tbody>\n",
       "</table>\n",
       "<p>206 rows × 21 columns</p>\n",
       "</div>"
      ],
      "text/plain": [
       "       adult belongs_to_collection  budget                     genres  \\\n",
       "189    False                   NaN     0.0              [Documentary]   \n",
       "767    False                   NaN     0.0              [Documentary]   \n",
       "773      NaN                   NaN     NaN                        NaN   \n",
       "1384   False                   NaN     0.0                   [Comedy]   \n",
       "2140   False                   NaN     0.0                        NaN   \n",
       "...      ...                   ...     ...                        ...   \n",
       "45067  False                   NaN     0.0  [Drama, Romance, Foreign]   \n",
       "45090  False                   NaN     0.0                        NaN   \n",
       "45159  False                   NaN     0.0                        NaN   \n",
       "45442  False                   NaN     0.0                        NaN   \n",
       "45462    NaN                   NaN     NaN                        NaN   \n",
       "\n",
       "             id original_language  \\\n",
       "189     56088.0                en   \n",
       "767     52059.0                en   \n",
       "773         NaN               NaN   \n",
       "1384    40506.0                en   \n",
       "2140    77314.0                fr   \n",
       "...         ...               ...   \n",
       "45067   49492.0                en   \n",
       "45090  128268.0                en   \n",
       "45159   41811.0                en   \n",
       "45442   44330.0                en   \n",
       "45462       NaN               NaN   \n",
       "\n",
       "                                      original_title  \\\n",
       "189                                         The Show   \n",
       "767                       The Gate of Heavenly Peace   \n",
       "773                                              NaN   \n",
       "1384                               Meet Wally Sparks   \n",
       "2140                      The Cabinet of Dr. Ramirez   \n",
       "...                                              ...   \n",
       "45067                          Jogwa - The Awakening   \n",
       "45090  Veruschka - Die Inszenierung (m)eines Körpers   \n",
       "45159                                         Eating   \n",
       "45442                           Le tripot clandestin   \n",
       "45462                                            NaN   \n",
       "\n",
       "                                                overview  popularity  \\\n",
       "189    A documentary about the culture of hip-hop. Th...    0.159596   \n",
       "767    The Gate of Heavenly Peace is a feature-length...    0.107050   \n",
       "773                                                  NaN         NaN   \n",
       "1384   Wally Sparks is a tabloid TV show reporter who...    0.576741   \n",
       "2140                                                 NaN    0.037500   \n",
       "...                                                  ...         ...   \n",
       "45067  Jogwa actually means alms given to a person, u...    0.004990   \n",
       "45090         Documentary about Veruschka von Lehndorff.    0.056298   \n",
       "45159  At a spacious house in Los Angeles, Helene is ...    0.000002   \n",
       "45442  A combination gambling den and bawdy house is ...    0.219260   \n",
       "45462                                                NaN         NaN   \n",
       "\n",
       "      production_companies  ... release_date revenue  runtime  \\\n",
       "189                    NaN  ...   1995-08-25     0.0     93.0   \n",
       "767                    NaN  ...   1995-01-01     0.0    180.0   \n",
       "773                    NaN  ...          NaT     NaN      NaN   \n",
       "1384                   NaN  ...   1997-01-01     0.0    105.0   \n",
       "2140                   NaN  ...   1991-12-04     0.0      NaN   \n",
       "...                    ...  ...          ...     ...      ...   \n",
       "45067                  NaN  ...   2009-09-25     0.0     92.0   \n",
       "45090                  NaN  ...   2005-09-30     0.0     52.0   \n",
       "45159                  NaN  ...   1990-11-30     0.0    110.0   \n",
       "45442                  NaN  ...   1905-01-01     0.0      3.0   \n",
       "45462                  NaN  ...          NaT     NaN      NaN   \n",
       "\n",
       "          spoken_languages status  \\\n",
       "189                    NaN    NaN   \n",
       "767                    NaN    NaN   \n",
       "773                    NaN    NaN   \n",
       "1384             [English]    NaN   \n",
       "2140                   NaN    NaN   \n",
       "...                    ...    ...   \n",
       "45067                  NaN    NaN   \n",
       "45090  [Deutsch, Français]    NaN   \n",
       "45159            [English]    NaN   \n",
       "45442                  NaN    NaN   \n",
       "45462                  NaN    NaN   \n",
       "\n",
       "                                             tagline  \\\n",
       "189    What Happens On Stage Is Only Half The Story!   \n",
       "767                                              NaN   \n",
       "773                                              NaN   \n",
       "1384                                             NaN   \n",
       "2140                                             NaN   \n",
       "...                                              ...   \n",
       "45067                                  The Awakening   \n",
       "45090                                            NaN   \n",
       "45159                                            NaN   \n",
       "45442                                            NaN   \n",
       "45462                                            NaN   \n",
       "\n",
       "                                  title  video vote_average  vote_count  \n",
       "189                            The Show  False          5.3         2.0  \n",
       "767          The Gate of Heavenly Peace  False          6.7         3.0  \n",
       "773                                 NaN    NaN          NaN         NaN  \n",
       "1384                  Meet Wally Sparks  False          5.3        10.0  \n",
       "2140         The Cabinet of Dr. Ramirez  False          0.0         0.0  \n",
       "...                                 ...    ...          ...         ...  \n",
       "45067             Jogwa - The Awakening  False          0.0         0.0  \n",
       "45090  Veruschka: A Life for the Camera  False          6.0         1.0  \n",
       "45159                            Eating  False          0.0         0.0  \n",
       "45442   The Scheming Gambler's Paradise  False          5.0         3.0  \n",
       "45462                               NaN    NaN          NaN         NaN  \n",
       "\n",
       "[206 rows x 21 columns]"
      ]
     },
     "execution_count": 97,
     "metadata": {},
     "output_type": "execute_result"
    }
   ],
   "source": [
    "data[pd.isnull(data[\"status\"])==True]"
   ]
  },
  {
   "cell_type": "code",
   "execution_count": null,
   "metadata": {},
   "outputs": [],
   "source": []
  },
  {
   "cell_type": "markdown",
   "metadata": {},
   "source": [
    "# 20. tagline"
   ]
  },
  {
   "cell_type": "code",
   "execution_count": 98,
   "metadata": {
    "scrolled": true
   },
   "outputs": [
    {
     "data": {
      "text/plain": [
       "count                      20367\n",
       "unique                     20249\n",
       "top       Based on a true story.\n",
       "freq                           7\n",
       "Name: tagline, dtype: object"
      ]
     },
     "execution_count": 98,
     "metadata": {},
     "output_type": "execute_result"
    }
   ],
   "source": [
    "data[\"tagline\"].describe()"
   ]
  },
  {
   "cell_type": "code",
   "execution_count": 99,
   "metadata": {},
   "outputs": [
    {
     "data": {
      "text/plain": [
       "Based on a true story.                             7\n",
       "-                                                  4\n",
       "Be careful what you wish for.                      4\n",
       "Trust no one.                                      4\n",
       "Drama                                              3\n",
       "                                                  ..\n",
       "It's not just in your mind.                        1\n",
       "A comedy about falling in love... the write way    1\n",
       "Dekho Magar Pyaar Se                               1\n",
       "Haunting. Erotic. Unforgettable.                   1\n",
       "Documentary Making of St. Anger                    1\n",
       "Name: tagline, Length: 20249, dtype: int64"
      ]
     },
     "execution_count": 99,
     "metadata": {},
     "output_type": "execute_result"
    }
   ],
   "source": [
    "pd.value_counts(data[\"tagline\"])"
   ]
  },
  {
   "cell_type": "code",
   "execution_count": 100,
   "metadata": {},
   "outputs": [
    {
     "data": {
      "text/plain": [
       "25057"
      ]
     },
     "execution_count": 100,
     "metadata": {},
     "output_type": "execute_result"
    }
   ],
   "source": [
    "np.sum(pd.isnull(data[\"tagline\"]))"
   ]
  },
  {
   "cell_type": "code",
   "execution_count": 101,
   "metadata": {
    "scrolled": true
   },
   "outputs": [
    {
     "data": {
      "text/html": [
       "<div>\n",
       "<style scoped>\n",
       "    .dataframe tbody tr th:only-of-type {\n",
       "        vertical-align: middle;\n",
       "    }\n",
       "\n",
       "    .dataframe tbody tr th {\n",
       "        vertical-align: top;\n",
       "    }\n",
       "\n",
       "    .dataframe thead th {\n",
       "        text-align: right;\n",
       "    }\n",
       "</style>\n",
       "<table border=\"1\" class=\"dataframe\">\n",
       "  <thead>\n",
       "    <tr style=\"text-align: right;\">\n",
       "      <th></th>\n",
       "      <th>adult</th>\n",
       "      <th>belongs_to_collection</th>\n",
       "      <th>budget</th>\n",
       "      <th>genres</th>\n",
       "      <th>id</th>\n",
       "      <th>original_language</th>\n",
       "      <th>original_title</th>\n",
       "      <th>overview</th>\n",
       "      <th>popularity</th>\n",
       "      <th>production_companies</th>\n",
       "      <th>...</th>\n",
       "      <th>release_date</th>\n",
       "      <th>revenue</th>\n",
       "      <th>runtime</th>\n",
       "      <th>spoken_languages</th>\n",
       "      <th>status</th>\n",
       "      <th>tagline</th>\n",
       "      <th>title</th>\n",
       "      <th>video</th>\n",
       "      <th>vote_average</th>\n",
       "      <th>vote_count</th>\n",
       "    </tr>\n",
       "  </thead>\n",
       "  <tbody>\n",
       "    <tr>\n",
       "      <th>0</th>\n",
       "      <td>False</td>\n",
       "      <td>Toy Story Collection</td>\n",
       "      <td>30000000.0</td>\n",
       "      <td>[Animation, Comedy, Family]</td>\n",
       "      <td>862.0</td>\n",
       "      <td>en</td>\n",
       "      <td>Toy Story</td>\n",
       "      <td>Led by Woody, Andy's toys live happily in his ...</td>\n",
       "      <td>21.946943</td>\n",
       "      <td>[Pixar Animation Studios]</td>\n",
       "      <td>...</td>\n",
       "      <td>1995-10-30</td>\n",
       "      <td>373554033.0</td>\n",
       "      <td>81.0</td>\n",
       "      <td>[English]</td>\n",
       "      <td>Released</td>\n",
       "      <td>NaN</td>\n",
       "      <td>Toy Story</td>\n",
       "      <td>False</td>\n",
       "      <td>7.7</td>\n",
       "      <td>5415.0</td>\n",
       "    </tr>\n",
       "    <tr>\n",
       "      <th>11</th>\n",
       "      <td>False</td>\n",
       "      <td>NaN</td>\n",
       "      <td>0.0</td>\n",
       "      <td>[Comedy, Horror]</td>\n",
       "      <td>12110.0</td>\n",
       "      <td>en</td>\n",
       "      <td>Dracula: Dead and Loving It</td>\n",
       "      <td>When a lawyer shows up at the vampire's doorst...</td>\n",
       "      <td>5.430331</td>\n",
       "      <td>[Columbia Pictures, Castle Rock Entertainment,...</td>\n",
       "      <td>...</td>\n",
       "      <td>1995-12-22</td>\n",
       "      <td>0.0</td>\n",
       "      <td>88.0</td>\n",
       "      <td>[English, Deutsch]</td>\n",
       "      <td>Released</td>\n",
       "      <td>NaN</td>\n",
       "      <td>Dracula: Dead and Loving It</td>\n",
       "      <td>False</td>\n",
       "      <td>5.7</td>\n",
       "      <td>210.0</td>\n",
       "    </tr>\n",
       "    <tr>\n",
       "      <th>27</th>\n",
       "      <td>False</td>\n",
       "      <td>NaN</td>\n",
       "      <td>0.0</td>\n",
       "      <td>[Drama, Romance]</td>\n",
       "      <td>17015.0</td>\n",
       "      <td>en</td>\n",
       "      <td>Persuasion</td>\n",
       "      <td>This film adaptation of Jane Austen's last nov...</td>\n",
       "      <td>2.228434</td>\n",
       "      <td>[BBC Films]</td>\n",
       "      <td>...</td>\n",
       "      <td>1995-09-27</td>\n",
       "      <td>0.0</td>\n",
       "      <td>104.0</td>\n",
       "      <td>[English]</td>\n",
       "      <td>Released</td>\n",
       "      <td>NaN</td>\n",
       "      <td>Persuasion</td>\n",
       "      <td>False</td>\n",
       "      <td>7.4</td>\n",
       "      <td>36.0</td>\n",
       "    </tr>\n",
       "    <tr>\n",
       "      <th>32</th>\n",
       "      <td>False</td>\n",
       "      <td>NaN</td>\n",
       "      <td>0.0</td>\n",
       "      <td>[Romance, Adventure]</td>\n",
       "      <td>78802.0</td>\n",
       "      <td>fr</td>\n",
       "      <td>Guillaumet, les ailes du courage</td>\n",
       "      <td>NaN</td>\n",
       "      <td>0.745542</td>\n",
       "      <td>[Iwerks Entertainment]</td>\n",
       "      <td>...</td>\n",
       "      <td>1996-09-18</td>\n",
       "      <td>0.0</td>\n",
       "      <td>50.0</td>\n",
       "      <td>[English]</td>\n",
       "      <td>Released</td>\n",
       "      <td>NaN</td>\n",
       "      <td>Wings of Courage</td>\n",
       "      <td>False</td>\n",
       "      <td>6.8</td>\n",
       "      <td>4.0</td>\n",
       "    </tr>\n",
       "    <tr>\n",
       "      <th>35</th>\n",
       "      <td>False</td>\n",
       "      <td>NaN</td>\n",
       "      <td>11000000.0</td>\n",
       "      <td>[Drama]</td>\n",
       "      <td>687.0</td>\n",
       "      <td>en</td>\n",
       "      <td>Dead Man Walking</td>\n",
       "      <td>A justice drama based on a true story about a ...</td>\n",
       "      <td>6.891317</td>\n",
       "      <td>[Havoc, PolyGram Filmed Entertainment, Working...</td>\n",
       "      <td>...</td>\n",
       "      <td>1995-12-29</td>\n",
       "      <td>39363635.0</td>\n",
       "      <td>122.0</td>\n",
       "      <td>[English]</td>\n",
       "      <td>Released</td>\n",
       "      <td>NaN</td>\n",
       "      <td>Dead Man Walking</td>\n",
       "      <td>False</td>\n",
       "      <td>7.3</td>\n",
       "      <td>350.0</td>\n",
       "    </tr>\n",
       "    <tr>\n",
       "      <th>...</th>\n",
       "      <td>...</td>\n",
       "      <td>...</td>\n",
       "      <td>...</td>\n",
       "      <td>...</td>\n",
       "      <td>...</td>\n",
       "      <td>...</td>\n",
       "      <td>...</td>\n",
       "      <td>...</td>\n",
       "      <td>...</td>\n",
       "      <td>...</td>\n",
       "      <td>...</td>\n",
       "      <td>...</td>\n",
       "      <td>...</td>\n",
       "      <td>...</td>\n",
       "      <td>...</td>\n",
       "      <td>...</td>\n",
       "      <td>...</td>\n",
       "      <td>...</td>\n",
       "      <td>...</td>\n",
       "      <td>...</td>\n",
       "      <td>...</td>\n",
       "    </tr>\n",
       "    <tr>\n",
       "      <th>45459</th>\n",
       "      <td>False</td>\n",
       "      <td>NaN</td>\n",
       "      <td>0.0</td>\n",
       "      <td>[Science Fiction]</td>\n",
       "      <td>222848.0</td>\n",
       "      <td>en</td>\n",
       "      <td>Caged Heat 3000</td>\n",
       "      <td>It's the year 3000 AD. The world's most danger...</td>\n",
       "      <td>0.661558</td>\n",
       "      <td>[Concorde-New Horizons]</td>\n",
       "      <td>...</td>\n",
       "      <td>1995-01-01</td>\n",
       "      <td>0.0</td>\n",
       "      <td>85.0</td>\n",
       "      <td>[English]</td>\n",
       "      <td>Released</td>\n",
       "      <td>NaN</td>\n",
       "      <td>Caged Heat 3000</td>\n",
       "      <td>False</td>\n",
       "      <td>3.5</td>\n",
       "      <td>1.0</td>\n",
       "    </tr>\n",
       "    <tr>\n",
       "      <th>45460</th>\n",
       "      <td>False</td>\n",
       "      <td>NaN</td>\n",
       "      <td>0.0</td>\n",
       "      <td>[Drama, Action, Romance]</td>\n",
       "      <td>30840.0</td>\n",
       "      <td>en</td>\n",
       "      <td>Robin Hood</td>\n",
       "      <td>Yet another version of the classic epic, with ...</td>\n",
       "      <td>5.683753</td>\n",
       "      <td>[Westdeutscher Rundfunk (WDR), Working Title F...</td>\n",
       "      <td>...</td>\n",
       "      <td>1991-05-13</td>\n",
       "      <td>0.0</td>\n",
       "      <td>104.0</td>\n",
       "      <td>[English]</td>\n",
       "      <td>Released</td>\n",
       "      <td>NaN</td>\n",
       "      <td>Robin Hood</td>\n",
       "      <td>False</td>\n",
       "      <td>5.7</td>\n",
       "      <td>26.0</td>\n",
       "    </tr>\n",
       "    <tr>\n",
       "      <th>45462</th>\n",
       "      <td>NaN</td>\n",
       "      <td>NaN</td>\n",
       "      <td>NaN</td>\n",
       "      <td>NaN</td>\n",
       "      <td>NaN</td>\n",
       "      <td>NaN</td>\n",
       "      <td>NaN</td>\n",
       "      <td>NaN</td>\n",
       "      <td>NaN</td>\n",
       "      <td>NaN</td>\n",
       "      <td>...</td>\n",
       "      <td>NaT</td>\n",
       "      <td>NaN</td>\n",
       "      <td>NaN</td>\n",
       "      <td>NaN</td>\n",
       "      <td>NaN</td>\n",
       "      <td>NaN</td>\n",
       "      <td>NaN</td>\n",
       "      <td>NaN</td>\n",
       "      <td>NaN</td>\n",
       "      <td>NaN</td>\n",
       "    </tr>\n",
       "    <tr>\n",
       "      <th>45464</th>\n",
       "      <td>False</td>\n",
       "      <td>NaN</td>\n",
       "      <td>0.0</td>\n",
       "      <td>NaN</td>\n",
       "      <td>227506.0</td>\n",
       "      <td>en</td>\n",
       "      <td>Satana likuyushchiy</td>\n",
       "      <td>In a small town live two brothers, one a minis...</td>\n",
       "      <td>0.003503</td>\n",
       "      <td>[Yermoliev]</td>\n",
       "      <td>...</td>\n",
       "      <td>1917-10-21</td>\n",
       "      <td>0.0</td>\n",
       "      <td>87.0</td>\n",
       "      <td>NaN</td>\n",
       "      <td>Released</td>\n",
       "      <td>NaN</td>\n",
       "      <td>Satan Triumphant</td>\n",
       "      <td>False</td>\n",
       "      <td>0.0</td>\n",
       "      <td>0.0</td>\n",
       "    </tr>\n",
       "    <tr>\n",
       "      <th>45465</th>\n",
       "      <td>False</td>\n",
       "      <td>NaN</td>\n",
       "      <td>0.0</td>\n",
       "      <td>NaN</td>\n",
       "      <td>461257.0</td>\n",
       "      <td>en</td>\n",
       "      <td>Queerama</td>\n",
       "      <td>50 years after decriminalisation of homosexual...</td>\n",
       "      <td>0.163015</td>\n",
       "      <td>NaN</td>\n",
       "      <td>...</td>\n",
       "      <td>2017-06-09</td>\n",
       "      <td>0.0</td>\n",
       "      <td>75.0</td>\n",
       "      <td>[English]</td>\n",
       "      <td>Released</td>\n",
       "      <td>NaN</td>\n",
       "      <td>Queerama</td>\n",
       "      <td>False</td>\n",
       "      <td>0.0</td>\n",
       "      <td>0.0</td>\n",
       "    </tr>\n",
       "  </tbody>\n",
       "</table>\n",
       "<p>25057 rows × 21 columns</p>\n",
       "</div>"
      ],
      "text/plain": [
       "       adult belongs_to_collection      budget                       genres  \\\n",
       "0      False  Toy Story Collection  30000000.0  [Animation, Comedy, Family]   \n",
       "11     False                   NaN         0.0             [Comedy, Horror]   \n",
       "27     False                   NaN         0.0             [Drama, Romance]   \n",
       "32     False                   NaN         0.0         [Romance, Adventure]   \n",
       "35     False                   NaN  11000000.0                      [Drama]   \n",
       "...      ...                   ...         ...                          ...   \n",
       "45459  False                   NaN         0.0            [Science Fiction]   \n",
       "45460  False                   NaN         0.0     [Drama, Action, Romance]   \n",
       "45462    NaN                   NaN         NaN                          NaN   \n",
       "45464  False                   NaN         0.0                          NaN   \n",
       "45465  False                   NaN         0.0                          NaN   \n",
       "\n",
       "             id original_language                    original_title  \\\n",
       "0         862.0                en                         Toy Story   \n",
       "11      12110.0                en       Dracula: Dead and Loving It   \n",
       "27      17015.0                en                        Persuasion   \n",
       "32      78802.0                fr  Guillaumet, les ailes du courage   \n",
       "35        687.0                en                  Dead Man Walking   \n",
       "...         ...               ...                               ...   \n",
       "45459  222848.0                en                   Caged Heat 3000   \n",
       "45460   30840.0                en                        Robin Hood   \n",
       "45462       NaN               NaN                               NaN   \n",
       "45464  227506.0                en               Satana likuyushchiy   \n",
       "45465  461257.0                en                          Queerama   \n",
       "\n",
       "                                                overview  popularity  \\\n",
       "0      Led by Woody, Andy's toys live happily in his ...   21.946943   \n",
       "11     When a lawyer shows up at the vampire's doorst...    5.430331   \n",
       "27     This film adaptation of Jane Austen's last nov...    2.228434   \n",
       "32                                                   NaN    0.745542   \n",
       "35     A justice drama based on a true story about a ...    6.891317   \n",
       "...                                                  ...         ...   \n",
       "45459  It's the year 3000 AD. The world's most danger...    0.661558   \n",
       "45460  Yet another version of the classic epic, with ...    5.683753   \n",
       "45462                                                NaN         NaN   \n",
       "45464  In a small town live two brothers, one a minis...    0.003503   \n",
       "45465  50 years after decriminalisation of homosexual...    0.163015   \n",
       "\n",
       "                                    production_companies  ... release_date  \\\n",
       "0                              [Pixar Animation Studios]  ...   1995-10-30   \n",
       "11     [Columbia Pictures, Castle Rock Entertainment,...  ...   1995-12-22   \n",
       "27                                           [BBC Films]  ...   1995-09-27   \n",
       "32                                [Iwerks Entertainment]  ...   1996-09-18   \n",
       "35     [Havoc, PolyGram Filmed Entertainment, Working...  ...   1995-12-29   \n",
       "...                                                  ...  ...          ...   \n",
       "45459                            [Concorde-New Horizons]  ...   1995-01-01   \n",
       "45460  [Westdeutscher Rundfunk (WDR), Working Title F...  ...   1991-05-13   \n",
       "45462                                                NaN  ...          NaT   \n",
       "45464                                        [Yermoliev]  ...   1917-10-21   \n",
       "45465                                                NaN  ...   2017-06-09   \n",
       "\n",
       "           revenue  runtime    spoken_languages    status tagline  \\\n",
       "0      373554033.0     81.0           [English]  Released     NaN   \n",
       "11             0.0     88.0  [English, Deutsch]  Released     NaN   \n",
       "27             0.0    104.0           [English]  Released     NaN   \n",
       "32             0.0     50.0           [English]  Released     NaN   \n",
       "35      39363635.0    122.0           [English]  Released     NaN   \n",
       "...            ...      ...                 ...       ...     ...   \n",
       "45459          0.0     85.0           [English]  Released     NaN   \n",
       "45460          0.0    104.0           [English]  Released     NaN   \n",
       "45462          NaN      NaN                 NaN       NaN     NaN   \n",
       "45464          0.0     87.0                 NaN  Released     NaN   \n",
       "45465          0.0     75.0           [English]  Released     NaN   \n",
       "\n",
       "                             title  video vote_average  vote_count  \n",
       "0                        Toy Story  False          7.7      5415.0  \n",
       "11     Dracula: Dead and Loving It  False          5.7       210.0  \n",
       "27                      Persuasion  False          7.4        36.0  \n",
       "32                Wings of Courage  False          6.8         4.0  \n",
       "35                Dead Man Walking  False          7.3       350.0  \n",
       "...                            ...    ...          ...         ...  \n",
       "45459              Caged Heat 3000  False          3.5         1.0  \n",
       "45460                   Robin Hood  False          5.7        26.0  \n",
       "45462                          NaN    NaN          NaN         NaN  \n",
       "45464             Satan Triumphant  False          0.0         0.0  \n",
       "45465                     Queerama  False          0.0         0.0  \n",
       "\n",
       "[25057 rows x 21 columns]"
      ]
     },
     "execution_count": 101,
     "metadata": {},
     "output_type": "execute_result"
    }
   ],
   "source": [
    "data[pd.isnull(data[\"tagline\"])==True]"
   ]
  },
  {
   "cell_type": "markdown",
   "metadata": {},
   "source": [
    "어차피 텍스트마이닝에 쓸거라 Nan여도 냅둬도 될것 같아용"
   ]
  },
  {
   "cell_type": "code",
   "execution_count": null,
   "metadata": {},
   "outputs": [],
   "source": []
  },
  {
   "cell_type": "markdown",
   "metadata": {},
   "source": [
    "# 21. title"
   ]
  },
  {
   "cell_type": "code",
   "execution_count": 102,
   "metadata": {
    "scrolled": false
   },
   "outputs": [
    {
     "data": {
      "text/plain": [
       "count          45298\n",
       "unique         42156\n",
       "top       Cinderella\n",
       "freq              11\n",
       "Name: title, dtype: object"
      ]
     },
     "execution_count": 102,
     "metadata": {},
     "output_type": "execute_result"
    }
   ],
   "source": [
    "data[\"title\"].describe()"
   ]
  },
  {
   "cell_type": "code",
   "execution_count": 103,
   "metadata": {},
   "outputs": [
    {
     "data": {
      "text/plain": [
       "Cinderella              11\n",
       "Hamlet                   9\n",
       "Alice in Wonderland      9\n",
       "Beauty and the Beast     8\n",
       "Les Misérables           8\n",
       "                        ..\n",
       "Bird People              1\n",
       "Rocky II                 1\n",
       "Brother's War            1\n",
       "Flicka 2                 1\n",
       "Yakuza Apocalypse        1\n",
       "Name: title, Length: 42156, dtype: int64"
      ]
     },
     "execution_count": 103,
     "metadata": {},
     "output_type": "execute_result"
    }
   ],
   "source": [
    "pd.value_counts(data[\"title\"])"
   ]
  },
  {
   "cell_type": "code",
   "execution_count": 104,
   "metadata": {},
   "outputs": [
    {
     "data": {
      "text/plain": [
       "126"
      ]
     },
     "execution_count": 104,
     "metadata": {},
     "output_type": "execute_result"
    }
   ],
   "source": [
    "np.sum(pd.isnull(data[\"title\"]))"
   ]
  },
  {
   "cell_type": "code",
   "execution_count": 105,
   "metadata": {
    "scrolled": true
   },
   "outputs": [
    {
     "data": {
      "text/html": [
       "<div>\n",
       "<style scoped>\n",
       "    .dataframe tbody tr th:only-of-type {\n",
       "        vertical-align: middle;\n",
       "    }\n",
       "\n",
       "    .dataframe tbody tr th {\n",
       "        vertical-align: top;\n",
       "    }\n",
       "\n",
       "    .dataframe thead th {\n",
       "        text-align: right;\n",
       "    }\n",
       "</style>\n",
       "<table border=\"1\" class=\"dataframe\">\n",
       "  <thead>\n",
       "    <tr style=\"text-align: right;\">\n",
       "      <th></th>\n",
       "      <th>adult</th>\n",
       "      <th>belongs_to_collection</th>\n",
       "      <th>budget</th>\n",
       "      <th>genres</th>\n",
       "      <th>id</th>\n",
       "      <th>original_language</th>\n",
       "      <th>original_title</th>\n",
       "      <th>overview</th>\n",
       "      <th>popularity</th>\n",
       "      <th>production_companies</th>\n",
       "      <th>...</th>\n",
       "      <th>release_date</th>\n",
       "      <th>revenue</th>\n",
       "      <th>runtime</th>\n",
       "      <th>spoken_languages</th>\n",
       "      <th>status</th>\n",
       "      <th>tagline</th>\n",
       "      <th>title</th>\n",
       "      <th>video</th>\n",
       "      <th>vote_average</th>\n",
       "      <th>vote_count</th>\n",
       "    </tr>\n",
       "  </thead>\n",
       "  <tbody>\n",
       "    <tr>\n",
       "      <th>773</th>\n",
       "      <td>NaN</td>\n",
       "      <td>NaN</td>\n",
       "      <td>NaN</td>\n",
       "      <td>NaN</td>\n",
       "      <td>NaN</td>\n",
       "      <td>NaN</td>\n",
       "      <td>NaN</td>\n",
       "      <td>NaN</td>\n",
       "      <td>NaN</td>\n",
       "      <td>NaN</td>\n",
       "      <td>...</td>\n",
       "      <td>NaT</td>\n",
       "      <td>NaN</td>\n",
       "      <td>NaN</td>\n",
       "      <td>NaN</td>\n",
       "      <td>NaN</td>\n",
       "      <td>NaN</td>\n",
       "      <td>NaN</td>\n",
       "      <td>NaN</td>\n",
       "      <td>NaN</td>\n",
       "      <td>NaN</td>\n",
       "    </tr>\n",
       "    <tr>\n",
       "      <th>4184</th>\n",
       "      <td>NaN</td>\n",
       "      <td>NaN</td>\n",
       "      <td>NaN</td>\n",
       "      <td>NaN</td>\n",
       "      <td>NaN</td>\n",
       "      <td>NaN</td>\n",
       "      <td>NaN</td>\n",
       "      <td>NaN</td>\n",
       "      <td>NaN</td>\n",
       "      <td>NaN</td>\n",
       "      <td>...</td>\n",
       "      <td>NaT</td>\n",
       "      <td>NaN</td>\n",
       "      <td>NaN</td>\n",
       "      <td>NaN</td>\n",
       "      <td>NaN</td>\n",
       "      <td>NaN</td>\n",
       "      <td>NaN</td>\n",
       "      <td>NaN</td>\n",
       "      <td>NaN</td>\n",
       "      <td>NaN</td>\n",
       "    </tr>\n",
       "    <tr>\n",
       "      <th>5283</th>\n",
       "      <td>NaN</td>\n",
       "      <td>NaN</td>\n",
       "      <td>NaN</td>\n",
       "      <td>NaN</td>\n",
       "      <td>NaN</td>\n",
       "      <td>NaN</td>\n",
       "      <td>NaN</td>\n",
       "      <td>NaN</td>\n",
       "      <td>NaN</td>\n",
       "      <td>NaN</td>\n",
       "      <td>...</td>\n",
       "      <td>NaT</td>\n",
       "      <td>NaN</td>\n",
       "      <td>NaN</td>\n",
       "      <td>NaN</td>\n",
       "      <td>NaN</td>\n",
       "      <td>NaN</td>\n",
       "      <td>NaN</td>\n",
       "      <td>NaN</td>\n",
       "      <td>NaN</td>\n",
       "      <td>NaN</td>\n",
       "    </tr>\n",
       "    <tr>\n",
       "      <th>7778</th>\n",
       "      <td>NaN</td>\n",
       "      <td>NaN</td>\n",
       "      <td>NaN</td>\n",
       "      <td>NaN</td>\n",
       "      <td>NaN</td>\n",
       "      <td>NaN</td>\n",
       "      <td>NaN</td>\n",
       "      <td>NaN</td>\n",
       "      <td>NaN</td>\n",
       "      <td>NaN</td>\n",
       "      <td>...</td>\n",
       "      <td>NaT</td>\n",
       "      <td>NaN</td>\n",
       "      <td>NaN</td>\n",
       "      <td>NaN</td>\n",
       "      <td>NaN</td>\n",
       "      <td>NaN</td>\n",
       "      <td>NaN</td>\n",
       "      <td>NaN</td>\n",
       "      <td>NaN</td>\n",
       "      <td>NaN</td>\n",
       "    </tr>\n",
       "    <tr>\n",
       "      <th>7798</th>\n",
       "      <td>NaN</td>\n",
       "      <td>NaN</td>\n",
       "      <td>NaN</td>\n",
       "      <td>NaN</td>\n",
       "      <td>NaN</td>\n",
       "      <td>NaN</td>\n",
       "      <td>NaN</td>\n",
       "      <td>NaN</td>\n",
       "      <td>NaN</td>\n",
       "      <td>NaN</td>\n",
       "      <td>...</td>\n",
       "      <td>NaT</td>\n",
       "      <td>NaN</td>\n",
       "      <td>NaN</td>\n",
       "      <td>NaN</td>\n",
       "      <td>NaN</td>\n",
       "      <td>NaN</td>\n",
       "      <td>NaN</td>\n",
       "      <td>NaN</td>\n",
       "      <td>NaN</td>\n",
       "      <td>NaN</td>\n",
       "    </tr>\n",
       "    <tr>\n",
       "      <th>...</th>\n",
       "      <td>...</td>\n",
       "      <td>...</td>\n",
       "      <td>...</td>\n",
       "      <td>...</td>\n",
       "      <td>...</td>\n",
       "      <td>...</td>\n",
       "      <td>...</td>\n",
       "      <td>...</td>\n",
       "      <td>...</td>\n",
       "      <td>...</td>\n",
       "      <td>...</td>\n",
       "      <td>...</td>\n",
       "      <td>...</td>\n",
       "      <td>...</td>\n",
       "      <td>...</td>\n",
       "      <td>...</td>\n",
       "      <td>...</td>\n",
       "      <td>...</td>\n",
       "      <td>...</td>\n",
       "      <td>...</td>\n",
       "      <td>...</td>\n",
       "    </tr>\n",
       "    <tr>\n",
       "      <th>42992</th>\n",
       "      <td>NaN</td>\n",
       "      <td>NaN</td>\n",
       "      <td>NaN</td>\n",
       "      <td>NaN</td>\n",
       "      <td>NaN</td>\n",
       "      <td>NaN</td>\n",
       "      <td>NaN</td>\n",
       "      <td>NaN</td>\n",
       "      <td>NaN</td>\n",
       "      <td>NaN</td>\n",
       "      <td>...</td>\n",
       "      <td>NaT</td>\n",
       "      <td>NaN</td>\n",
       "      <td>NaN</td>\n",
       "      <td>NaN</td>\n",
       "      <td>NaN</td>\n",
       "      <td>NaN</td>\n",
       "      <td>NaN</td>\n",
       "      <td>NaN</td>\n",
       "      <td>NaN</td>\n",
       "      <td>NaN</td>\n",
       "    </tr>\n",
       "    <tr>\n",
       "      <th>43313</th>\n",
       "      <td>NaN</td>\n",
       "      <td>NaN</td>\n",
       "      <td>NaN</td>\n",
       "      <td>NaN</td>\n",
       "      <td>NaN</td>\n",
       "      <td>NaN</td>\n",
       "      <td>NaN</td>\n",
       "      <td>NaN</td>\n",
       "      <td>NaN</td>\n",
       "      <td>NaN</td>\n",
       "      <td>...</td>\n",
       "      <td>NaT</td>\n",
       "      <td>NaN</td>\n",
       "      <td>NaN</td>\n",
       "      <td>NaN</td>\n",
       "      <td>NaN</td>\n",
       "      <td>NaN</td>\n",
       "      <td>NaN</td>\n",
       "      <td>NaN</td>\n",
       "      <td>NaN</td>\n",
       "      <td>NaN</td>\n",
       "    </tr>\n",
       "    <tr>\n",
       "      <th>44597</th>\n",
       "      <td>NaN</td>\n",
       "      <td>NaN</td>\n",
       "      <td>NaN</td>\n",
       "      <td>NaN</td>\n",
       "      <td>NaN</td>\n",
       "      <td>NaN</td>\n",
       "      <td>NaN</td>\n",
       "      <td>NaN</td>\n",
       "      <td>NaN</td>\n",
       "      <td>NaN</td>\n",
       "      <td>...</td>\n",
       "      <td>NaT</td>\n",
       "      <td>NaN</td>\n",
       "      <td>NaN</td>\n",
       "      <td>NaN</td>\n",
       "      <td>NaN</td>\n",
       "      <td>NaN</td>\n",
       "      <td>NaN</td>\n",
       "      <td>NaN</td>\n",
       "      <td>NaN</td>\n",
       "      <td>NaN</td>\n",
       "    </tr>\n",
       "    <tr>\n",
       "      <th>44835</th>\n",
       "      <td>NaN</td>\n",
       "      <td>NaN</td>\n",
       "      <td>NaN</td>\n",
       "      <td>NaN</td>\n",
       "      <td>NaN</td>\n",
       "      <td>NaN</td>\n",
       "      <td>NaN</td>\n",
       "      <td>NaN</td>\n",
       "      <td>NaN</td>\n",
       "      <td>NaN</td>\n",
       "      <td>...</td>\n",
       "      <td>NaT</td>\n",
       "      <td>NaN</td>\n",
       "      <td>NaN</td>\n",
       "      <td>NaN</td>\n",
       "      <td>NaN</td>\n",
       "      <td>NaN</td>\n",
       "      <td>NaN</td>\n",
       "      <td>NaN</td>\n",
       "      <td>NaN</td>\n",
       "      <td>NaN</td>\n",
       "    </tr>\n",
       "    <tr>\n",
       "      <th>45462</th>\n",
       "      <td>NaN</td>\n",
       "      <td>NaN</td>\n",
       "      <td>NaN</td>\n",
       "      <td>NaN</td>\n",
       "      <td>NaN</td>\n",
       "      <td>NaN</td>\n",
       "      <td>NaN</td>\n",
       "      <td>NaN</td>\n",
       "      <td>NaN</td>\n",
       "      <td>NaN</td>\n",
       "      <td>...</td>\n",
       "      <td>NaT</td>\n",
       "      <td>NaN</td>\n",
       "      <td>NaN</td>\n",
       "      <td>NaN</td>\n",
       "      <td>NaN</td>\n",
       "      <td>NaN</td>\n",
       "      <td>NaN</td>\n",
       "      <td>NaN</td>\n",
       "      <td>NaN</td>\n",
       "      <td>NaN</td>\n",
       "    </tr>\n",
       "  </tbody>\n",
       "</table>\n",
       "<p>126 rows × 21 columns</p>\n",
       "</div>"
      ],
      "text/plain": [
       "      adult belongs_to_collection  budget genres  id original_language  \\\n",
       "773     NaN                   NaN     NaN    NaN NaN               NaN   \n",
       "4184    NaN                   NaN     NaN    NaN NaN               NaN   \n",
       "5283    NaN                   NaN     NaN    NaN NaN               NaN   \n",
       "7778    NaN                   NaN     NaN    NaN NaN               NaN   \n",
       "7798    NaN                   NaN     NaN    NaN NaN               NaN   \n",
       "...     ...                   ...     ...    ...  ..               ...   \n",
       "42992   NaN                   NaN     NaN    NaN NaN               NaN   \n",
       "43313   NaN                   NaN     NaN    NaN NaN               NaN   \n",
       "44597   NaN                   NaN     NaN    NaN NaN               NaN   \n",
       "44835   NaN                   NaN     NaN    NaN NaN               NaN   \n",
       "45462   NaN                   NaN     NaN    NaN NaN               NaN   \n",
       "\n",
       "      original_title overview  popularity production_companies  ...  \\\n",
       "773              NaN      NaN         NaN                  NaN  ...   \n",
       "4184             NaN      NaN         NaN                  NaN  ...   \n",
       "5283             NaN      NaN         NaN                  NaN  ...   \n",
       "7778             NaN      NaN         NaN                  NaN  ...   \n",
       "7798             NaN      NaN         NaN                  NaN  ...   \n",
       "...              ...      ...         ...                  ...  ...   \n",
       "42992            NaN      NaN         NaN                  NaN  ...   \n",
       "43313            NaN      NaN         NaN                  NaN  ...   \n",
       "44597            NaN      NaN         NaN                  NaN  ...   \n",
       "44835            NaN      NaN         NaN                  NaN  ...   \n",
       "45462            NaN      NaN         NaN                  NaN  ...   \n",
       "\n",
       "      release_date revenue  runtime  spoken_languages status tagline title  \\\n",
       "773            NaT     NaN      NaN               NaN    NaN     NaN   NaN   \n",
       "4184           NaT     NaN      NaN               NaN    NaN     NaN   NaN   \n",
       "5283           NaT     NaN      NaN               NaN    NaN     NaN   NaN   \n",
       "7778           NaT     NaN      NaN               NaN    NaN     NaN   NaN   \n",
       "7798           NaT     NaN      NaN               NaN    NaN     NaN   NaN   \n",
       "...            ...     ...      ...               ...    ...     ...   ...   \n",
       "42992          NaT     NaN      NaN               NaN    NaN     NaN   NaN   \n",
       "43313          NaT     NaN      NaN               NaN    NaN     NaN   NaN   \n",
       "44597          NaT     NaN      NaN               NaN    NaN     NaN   NaN   \n",
       "44835          NaT     NaN      NaN               NaN    NaN     NaN   NaN   \n",
       "45462          NaT     NaN      NaN               NaN    NaN     NaN   NaN   \n",
       "\n",
       "      video vote_average  vote_count  \n",
       "773     NaN          NaN         NaN  \n",
       "4184    NaN          NaN         NaN  \n",
       "5283    NaN          NaN         NaN  \n",
       "7778    NaN          NaN         NaN  \n",
       "7798    NaN          NaN         NaN  \n",
       "...     ...          ...         ...  \n",
       "42992   NaN          NaN         NaN  \n",
       "43313   NaN          NaN         NaN  \n",
       "44597   NaN          NaN         NaN  \n",
       "44835   NaN          NaN         NaN  \n",
       "45462   NaN          NaN         NaN  \n",
       "\n",
       "[126 rows x 21 columns]"
      ]
     },
     "execution_count": 105,
     "metadata": {},
     "output_type": "execute_result"
    }
   ],
   "source": [
    "data[pd.isnull(data[\"title\"])==True]"
   ]
  },
  {
   "cell_type": "markdown",
   "metadata": {},
   "source": [
    "아까 위에 나왔던 Nan 많던 세 행이랑 같아요"
   ]
  },
  {
   "cell_type": "code",
   "execution_count": null,
   "metadata": {},
   "outputs": [],
   "source": []
  },
  {
   "cell_type": "markdown",
   "metadata": {},
   "source": [
    "# 22. video"
   ]
  },
  {
   "cell_type": "code",
   "execution_count": 106,
   "metadata": {
    "scrolled": false
   },
   "outputs": [
    {
     "data": {
      "text/plain": [
       "count     45298\n",
       "unique        2\n",
       "top       False\n",
       "freq      45205\n",
       "Name: video, dtype: object"
      ]
     },
     "execution_count": 106,
     "metadata": {},
     "output_type": "execute_result"
    }
   ],
   "source": [
    "data[\"video\"].describe()"
   ]
  },
  {
   "cell_type": "code",
   "execution_count": 107,
   "metadata": {},
   "outputs": [
    {
     "data": {
      "text/plain": [
       "False    45205\n",
       "True        93\n",
       "Name: video, dtype: int64"
      ]
     },
     "execution_count": 107,
     "metadata": {},
     "output_type": "execute_result"
    }
   ],
   "source": [
    "pd.value_counts(data[\"video\"])"
   ]
  },
  {
   "cell_type": "code",
   "execution_count": 108,
   "metadata": {},
   "outputs": [
    {
     "data": {
      "text/plain": [
       "126"
      ]
     },
     "execution_count": 108,
     "metadata": {},
     "output_type": "execute_result"
    }
   ],
   "source": [
    "np.sum(pd.isnull(data[\"video\"]))"
   ]
  },
  {
   "cell_type": "code",
   "execution_count": 109,
   "metadata": {
    "scrolled": true
   },
   "outputs": [
    {
     "data": {
      "text/html": [
       "<div>\n",
       "<style scoped>\n",
       "    .dataframe tbody tr th:only-of-type {\n",
       "        vertical-align: middle;\n",
       "    }\n",
       "\n",
       "    .dataframe tbody tr th {\n",
       "        vertical-align: top;\n",
       "    }\n",
       "\n",
       "    .dataframe thead th {\n",
       "        text-align: right;\n",
       "    }\n",
       "</style>\n",
       "<table border=\"1\" class=\"dataframe\">\n",
       "  <thead>\n",
       "    <tr style=\"text-align: right;\">\n",
       "      <th></th>\n",
       "      <th>adult</th>\n",
       "      <th>belongs_to_collection</th>\n",
       "      <th>budget</th>\n",
       "      <th>genres</th>\n",
       "      <th>id</th>\n",
       "      <th>original_language</th>\n",
       "      <th>original_title</th>\n",
       "      <th>overview</th>\n",
       "      <th>popularity</th>\n",
       "      <th>production_companies</th>\n",
       "      <th>...</th>\n",
       "      <th>release_date</th>\n",
       "      <th>revenue</th>\n",
       "      <th>runtime</th>\n",
       "      <th>spoken_languages</th>\n",
       "      <th>status</th>\n",
       "      <th>tagline</th>\n",
       "      <th>title</th>\n",
       "      <th>video</th>\n",
       "      <th>vote_average</th>\n",
       "      <th>vote_count</th>\n",
       "    </tr>\n",
       "  </thead>\n",
       "  <tbody>\n",
       "    <tr>\n",
       "      <th>773</th>\n",
       "      <td>NaN</td>\n",
       "      <td>NaN</td>\n",
       "      <td>NaN</td>\n",
       "      <td>NaN</td>\n",
       "      <td>NaN</td>\n",
       "      <td>NaN</td>\n",
       "      <td>NaN</td>\n",
       "      <td>NaN</td>\n",
       "      <td>NaN</td>\n",
       "      <td>NaN</td>\n",
       "      <td>...</td>\n",
       "      <td>NaT</td>\n",
       "      <td>NaN</td>\n",
       "      <td>NaN</td>\n",
       "      <td>NaN</td>\n",
       "      <td>NaN</td>\n",
       "      <td>NaN</td>\n",
       "      <td>NaN</td>\n",
       "      <td>NaN</td>\n",
       "      <td>NaN</td>\n",
       "      <td>NaN</td>\n",
       "    </tr>\n",
       "    <tr>\n",
       "      <th>4184</th>\n",
       "      <td>NaN</td>\n",
       "      <td>NaN</td>\n",
       "      <td>NaN</td>\n",
       "      <td>NaN</td>\n",
       "      <td>NaN</td>\n",
       "      <td>NaN</td>\n",
       "      <td>NaN</td>\n",
       "      <td>NaN</td>\n",
       "      <td>NaN</td>\n",
       "      <td>NaN</td>\n",
       "      <td>...</td>\n",
       "      <td>NaT</td>\n",
       "      <td>NaN</td>\n",
       "      <td>NaN</td>\n",
       "      <td>NaN</td>\n",
       "      <td>NaN</td>\n",
       "      <td>NaN</td>\n",
       "      <td>NaN</td>\n",
       "      <td>NaN</td>\n",
       "      <td>NaN</td>\n",
       "      <td>NaN</td>\n",
       "    </tr>\n",
       "    <tr>\n",
       "      <th>5283</th>\n",
       "      <td>NaN</td>\n",
       "      <td>NaN</td>\n",
       "      <td>NaN</td>\n",
       "      <td>NaN</td>\n",
       "      <td>NaN</td>\n",
       "      <td>NaN</td>\n",
       "      <td>NaN</td>\n",
       "      <td>NaN</td>\n",
       "      <td>NaN</td>\n",
       "      <td>NaN</td>\n",
       "      <td>...</td>\n",
       "      <td>NaT</td>\n",
       "      <td>NaN</td>\n",
       "      <td>NaN</td>\n",
       "      <td>NaN</td>\n",
       "      <td>NaN</td>\n",
       "      <td>NaN</td>\n",
       "      <td>NaN</td>\n",
       "      <td>NaN</td>\n",
       "      <td>NaN</td>\n",
       "      <td>NaN</td>\n",
       "    </tr>\n",
       "    <tr>\n",
       "      <th>7778</th>\n",
       "      <td>NaN</td>\n",
       "      <td>NaN</td>\n",
       "      <td>NaN</td>\n",
       "      <td>NaN</td>\n",
       "      <td>NaN</td>\n",
       "      <td>NaN</td>\n",
       "      <td>NaN</td>\n",
       "      <td>NaN</td>\n",
       "      <td>NaN</td>\n",
       "      <td>NaN</td>\n",
       "      <td>...</td>\n",
       "      <td>NaT</td>\n",
       "      <td>NaN</td>\n",
       "      <td>NaN</td>\n",
       "      <td>NaN</td>\n",
       "      <td>NaN</td>\n",
       "      <td>NaN</td>\n",
       "      <td>NaN</td>\n",
       "      <td>NaN</td>\n",
       "      <td>NaN</td>\n",
       "      <td>NaN</td>\n",
       "    </tr>\n",
       "    <tr>\n",
       "      <th>7798</th>\n",
       "      <td>NaN</td>\n",
       "      <td>NaN</td>\n",
       "      <td>NaN</td>\n",
       "      <td>NaN</td>\n",
       "      <td>NaN</td>\n",
       "      <td>NaN</td>\n",
       "      <td>NaN</td>\n",
       "      <td>NaN</td>\n",
       "      <td>NaN</td>\n",
       "      <td>NaN</td>\n",
       "      <td>...</td>\n",
       "      <td>NaT</td>\n",
       "      <td>NaN</td>\n",
       "      <td>NaN</td>\n",
       "      <td>NaN</td>\n",
       "      <td>NaN</td>\n",
       "      <td>NaN</td>\n",
       "      <td>NaN</td>\n",
       "      <td>NaN</td>\n",
       "      <td>NaN</td>\n",
       "      <td>NaN</td>\n",
       "    </tr>\n",
       "    <tr>\n",
       "      <th>...</th>\n",
       "      <td>...</td>\n",
       "      <td>...</td>\n",
       "      <td>...</td>\n",
       "      <td>...</td>\n",
       "      <td>...</td>\n",
       "      <td>...</td>\n",
       "      <td>...</td>\n",
       "      <td>...</td>\n",
       "      <td>...</td>\n",
       "      <td>...</td>\n",
       "      <td>...</td>\n",
       "      <td>...</td>\n",
       "      <td>...</td>\n",
       "      <td>...</td>\n",
       "      <td>...</td>\n",
       "      <td>...</td>\n",
       "      <td>...</td>\n",
       "      <td>...</td>\n",
       "      <td>...</td>\n",
       "      <td>...</td>\n",
       "      <td>...</td>\n",
       "    </tr>\n",
       "    <tr>\n",
       "      <th>42992</th>\n",
       "      <td>NaN</td>\n",
       "      <td>NaN</td>\n",
       "      <td>NaN</td>\n",
       "      <td>NaN</td>\n",
       "      <td>NaN</td>\n",
       "      <td>NaN</td>\n",
       "      <td>NaN</td>\n",
       "      <td>NaN</td>\n",
       "      <td>NaN</td>\n",
       "      <td>NaN</td>\n",
       "      <td>...</td>\n",
       "      <td>NaT</td>\n",
       "      <td>NaN</td>\n",
       "      <td>NaN</td>\n",
       "      <td>NaN</td>\n",
       "      <td>NaN</td>\n",
       "      <td>NaN</td>\n",
       "      <td>NaN</td>\n",
       "      <td>NaN</td>\n",
       "      <td>NaN</td>\n",
       "      <td>NaN</td>\n",
       "    </tr>\n",
       "    <tr>\n",
       "      <th>43313</th>\n",
       "      <td>NaN</td>\n",
       "      <td>NaN</td>\n",
       "      <td>NaN</td>\n",
       "      <td>NaN</td>\n",
       "      <td>NaN</td>\n",
       "      <td>NaN</td>\n",
       "      <td>NaN</td>\n",
       "      <td>NaN</td>\n",
       "      <td>NaN</td>\n",
       "      <td>NaN</td>\n",
       "      <td>...</td>\n",
       "      <td>NaT</td>\n",
       "      <td>NaN</td>\n",
       "      <td>NaN</td>\n",
       "      <td>NaN</td>\n",
       "      <td>NaN</td>\n",
       "      <td>NaN</td>\n",
       "      <td>NaN</td>\n",
       "      <td>NaN</td>\n",
       "      <td>NaN</td>\n",
       "      <td>NaN</td>\n",
       "    </tr>\n",
       "    <tr>\n",
       "      <th>44597</th>\n",
       "      <td>NaN</td>\n",
       "      <td>NaN</td>\n",
       "      <td>NaN</td>\n",
       "      <td>NaN</td>\n",
       "      <td>NaN</td>\n",
       "      <td>NaN</td>\n",
       "      <td>NaN</td>\n",
       "      <td>NaN</td>\n",
       "      <td>NaN</td>\n",
       "      <td>NaN</td>\n",
       "      <td>...</td>\n",
       "      <td>NaT</td>\n",
       "      <td>NaN</td>\n",
       "      <td>NaN</td>\n",
       "      <td>NaN</td>\n",
       "      <td>NaN</td>\n",
       "      <td>NaN</td>\n",
       "      <td>NaN</td>\n",
       "      <td>NaN</td>\n",
       "      <td>NaN</td>\n",
       "      <td>NaN</td>\n",
       "    </tr>\n",
       "    <tr>\n",
       "      <th>44835</th>\n",
       "      <td>NaN</td>\n",
       "      <td>NaN</td>\n",
       "      <td>NaN</td>\n",
       "      <td>NaN</td>\n",
       "      <td>NaN</td>\n",
       "      <td>NaN</td>\n",
       "      <td>NaN</td>\n",
       "      <td>NaN</td>\n",
       "      <td>NaN</td>\n",
       "      <td>NaN</td>\n",
       "      <td>...</td>\n",
       "      <td>NaT</td>\n",
       "      <td>NaN</td>\n",
       "      <td>NaN</td>\n",
       "      <td>NaN</td>\n",
       "      <td>NaN</td>\n",
       "      <td>NaN</td>\n",
       "      <td>NaN</td>\n",
       "      <td>NaN</td>\n",
       "      <td>NaN</td>\n",
       "      <td>NaN</td>\n",
       "    </tr>\n",
       "    <tr>\n",
       "      <th>45462</th>\n",
       "      <td>NaN</td>\n",
       "      <td>NaN</td>\n",
       "      <td>NaN</td>\n",
       "      <td>NaN</td>\n",
       "      <td>NaN</td>\n",
       "      <td>NaN</td>\n",
       "      <td>NaN</td>\n",
       "      <td>NaN</td>\n",
       "      <td>NaN</td>\n",
       "      <td>NaN</td>\n",
       "      <td>...</td>\n",
       "      <td>NaT</td>\n",
       "      <td>NaN</td>\n",
       "      <td>NaN</td>\n",
       "      <td>NaN</td>\n",
       "      <td>NaN</td>\n",
       "      <td>NaN</td>\n",
       "      <td>NaN</td>\n",
       "      <td>NaN</td>\n",
       "      <td>NaN</td>\n",
       "      <td>NaN</td>\n",
       "    </tr>\n",
       "  </tbody>\n",
       "</table>\n",
       "<p>126 rows × 21 columns</p>\n",
       "</div>"
      ],
      "text/plain": [
       "      adult belongs_to_collection  budget genres  id original_language  \\\n",
       "773     NaN                   NaN     NaN    NaN NaN               NaN   \n",
       "4184    NaN                   NaN     NaN    NaN NaN               NaN   \n",
       "5283    NaN                   NaN     NaN    NaN NaN               NaN   \n",
       "7778    NaN                   NaN     NaN    NaN NaN               NaN   \n",
       "7798    NaN                   NaN     NaN    NaN NaN               NaN   \n",
       "...     ...                   ...     ...    ...  ..               ...   \n",
       "42992   NaN                   NaN     NaN    NaN NaN               NaN   \n",
       "43313   NaN                   NaN     NaN    NaN NaN               NaN   \n",
       "44597   NaN                   NaN     NaN    NaN NaN               NaN   \n",
       "44835   NaN                   NaN     NaN    NaN NaN               NaN   \n",
       "45462   NaN                   NaN     NaN    NaN NaN               NaN   \n",
       "\n",
       "      original_title overview  popularity production_companies  ...  \\\n",
       "773              NaN      NaN         NaN                  NaN  ...   \n",
       "4184             NaN      NaN         NaN                  NaN  ...   \n",
       "5283             NaN      NaN         NaN                  NaN  ...   \n",
       "7778             NaN      NaN         NaN                  NaN  ...   \n",
       "7798             NaN      NaN         NaN                  NaN  ...   \n",
       "...              ...      ...         ...                  ...  ...   \n",
       "42992            NaN      NaN         NaN                  NaN  ...   \n",
       "43313            NaN      NaN         NaN                  NaN  ...   \n",
       "44597            NaN      NaN         NaN                  NaN  ...   \n",
       "44835            NaN      NaN         NaN                  NaN  ...   \n",
       "45462            NaN      NaN         NaN                  NaN  ...   \n",
       "\n",
       "      release_date revenue  runtime  spoken_languages status tagline title  \\\n",
       "773            NaT     NaN      NaN               NaN    NaN     NaN   NaN   \n",
       "4184           NaT     NaN      NaN               NaN    NaN     NaN   NaN   \n",
       "5283           NaT     NaN      NaN               NaN    NaN     NaN   NaN   \n",
       "7778           NaT     NaN      NaN               NaN    NaN     NaN   NaN   \n",
       "7798           NaT     NaN      NaN               NaN    NaN     NaN   NaN   \n",
       "...            ...     ...      ...               ...    ...     ...   ...   \n",
       "42992          NaT     NaN      NaN               NaN    NaN     NaN   NaN   \n",
       "43313          NaT     NaN      NaN               NaN    NaN     NaN   NaN   \n",
       "44597          NaT     NaN      NaN               NaN    NaN     NaN   NaN   \n",
       "44835          NaT     NaN      NaN               NaN    NaN     NaN   NaN   \n",
       "45462          NaT     NaN      NaN               NaN    NaN     NaN   NaN   \n",
       "\n",
       "      video vote_average  vote_count  \n",
       "773     NaN          NaN         NaN  \n",
       "4184    NaN          NaN         NaN  \n",
       "5283    NaN          NaN         NaN  \n",
       "7778    NaN          NaN         NaN  \n",
       "7798    NaN          NaN         NaN  \n",
       "...     ...          ...         ...  \n",
       "42992   NaN          NaN         NaN  \n",
       "43313   NaN          NaN         NaN  \n",
       "44597   NaN          NaN         NaN  \n",
       "44835   NaN          NaN         NaN  \n",
       "45462   NaN          NaN         NaN  \n",
       "\n",
       "[126 rows x 21 columns]"
      ]
     },
     "execution_count": 109,
     "metadata": {},
     "output_type": "execute_result"
    }
   ],
   "source": [
    "data[pd.isnull(data[\"video\"])==True]"
   ]
  },
  {
   "cell_type": "markdown",
   "metadata": {},
   "source": [
    "계속 똑같은 행"
   ]
  },
  {
   "cell_type": "code",
   "execution_count": 110,
   "metadata": {},
   "outputs": [
    {
     "data": {
      "text/html": [
       "<div>\n",
       "<style scoped>\n",
       "    .dataframe tbody tr th:only-of-type {\n",
       "        vertical-align: middle;\n",
       "    }\n",
       "\n",
       "    .dataframe tbody tr th {\n",
       "        vertical-align: top;\n",
       "    }\n",
       "\n",
       "    .dataframe thead th {\n",
       "        text-align: right;\n",
       "    }\n",
       "</style>\n",
       "<table border=\"1\" class=\"dataframe\">\n",
       "  <thead>\n",
       "    <tr style=\"text-align: right;\">\n",
       "      <th></th>\n",
       "      <th>adult</th>\n",
       "      <th>belongs_to_collection</th>\n",
       "      <th>budget</th>\n",
       "      <th>genres</th>\n",
       "      <th>id</th>\n",
       "      <th>original_language</th>\n",
       "      <th>original_title</th>\n",
       "      <th>overview</th>\n",
       "      <th>popularity</th>\n",
       "      <th>production_companies</th>\n",
       "      <th>...</th>\n",
       "      <th>release_date</th>\n",
       "      <th>revenue</th>\n",
       "      <th>runtime</th>\n",
       "      <th>spoken_languages</th>\n",
       "      <th>status</th>\n",
       "      <th>tagline</th>\n",
       "      <th>title</th>\n",
       "      <th>video</th>\n",
       "      <th>vote_average</th>\n",
       "      <th>vote_count</th>\n",
       "    </tr>\n",
       "  </thead>\n",
       "  <tbody>\n",
       "    <tr>\n",
       "      <th>5492</th>\n",
       "      <td>False</td>\n",
       "      <td>NaN</td>\n",
       "      <td>0.0</td>\n",
       "      <td>[Action, Adventure, Animation, Comedy, Family,...</td>\n",
       "      <td>15173.0</td>\n",
       "      <td>en</td>\n",
       "      <td>Jonah: A VeggieTales Movie</td>\n",
       "      <td>Get ready as Bob the Tomato, Larry the Cucumbe...</td>\n",
       "      <td>1.734181</td>\n",
       "      <td>[Big Idea Productions]</td>\n",
       "      <td>...</td>\n",
       "      <td>2002-10-04</td>\n",
       "      <td>0.0</td>\n",
       "      <td>82.0</td>\n",
       "      <td>[Český, English]</td>\n",
       "      <td>Released</td>\n",
       "      <td>Fresh Fish. Mixed Vegetables.</td>\n",
       "      <td>Jonah: A VeggieTales Movie</td>\n",
       "      <td>True</td>\n",
       "      <td>6.4</td>\n",
       "      <td>22.0</td>\n",
       "    </tr>\n",
       "    <tr>\n",
       "      <th>11469</th>\n",
       "      <td>False</td>\n",
       "      <td>Loose Change Collection</td>\n",
       "      <td>5000.0</td>\n",
       "      <td>[Documentary]</td>\n",
       "      <td>14277.0</td>\n",
       "      <td>en</td>\n",
       "      <td>Loose Change: 2nd Edition</td>\n",
       "      <td>What if...September 11th was not a surprise at...</td>\n",
       "      <td>0.651714</td>\n",
       "      <td>[Polar Film   Medien GmbH]</td>\n",
       "      <td>...</td>\n",
       "      <td>2006-06-01</td>\n",
       "      <td>0.0</td>\n",
       "      <td>100.0</td>\n",
       "      <td>[English]</td>\n",
       "      <td>Released</td>\n",
       "      <td>What really happened on 9/11?</td>\n",
       "      <td>Loose Change: 2nd Edition</td>\n",
       "      <td>True</td>\n",
       "      <td>6.3</td>\n",
       "      <td>16.0</td>\n",
       "    </tr>\n",
       "    <tr>\n",
       "      <th>13564</th>\n",
       "      <td>False</td>\n",
       "      <td>NaN</td>\n",
       "      <td>0.0</td>\n",
       "      <td>[Documentary]</td>\n",
       "      <td>284117.0</td>\n",
       "      <td>en</td>\n",
       "      <td>Fitna</td>\n",
       "      <td>A short film in which Quran verses are shown a...</td>\n",
       "      <td>0.040068</td>\n",
       "      <td>NaN</td>\n",
       "      <td>...</td>\n",
       "      <td>2008-03-27</td>\n",
       "      <td>0.0</td>\n",
       "      <td>15.0</td>\n",
       "      <td>[English, Nederlands]</td>\n",
       "      <td>Released</td>\n",
       "      <td>NaN</td>\n",
       "      <td>Fitna</td>\n",
       "      <td>True</td>\n",
       "      <td>1.0</td>\n",
       "      <td>1.0</td>\n",
       "    </tr>\n",
       "    <tr>\n",
       "      <th>14271</th>\n",
       "      <td>False</td>\n",
       "      <td>Love Hina Collection</td>\n",
       "      <td>0.0</td>\n",
       "      <td>[Comedy, Romance, Animation, Music]</td>\n",
       "      <td>44685.0</td>\n",
       "      <td>ja</td>\n",
       "      <td>ラブひな 春スペシャル ～キミサクラチルナカレ!!～</td>\n",
       "      <td>The tests have come, and Keitaro can only hope...</td>\n",
       "      <td>1.785708</td>\n",
       "      <td>[TV Tokyo, Xebec]</td>\n",
       "      <td>...</td>\n",
       "      <td>2001-03-31</td>\n",
       "      <td>0.0</td>\n",
       "      <td>48.0</td>\n",
       "      <td>[日本語]</td>\n",
       "      <td>Released</td>\n",
       "      <td>Spring break... Love Hina Style!!</td>\n",
       "      <td>Love Hina Spring Special - I Wish Your Dream</td>\n",
       "      <td>True</td>\n",
       "      <td>4.7</td>\n",
       "      <td>3.0</td>\n",
       "    </tr>\n",
       "    <tr>\n",
       "      <th>14608</th>\n",
       "      <td>False</td>\n",
       "      <td>NaN</td>\n",
       "      <td>0.0</td>\n",
       "      <td>[Action, Adventure, Family, Fantasy]</td>\n",
       "      <td>35148.0</td>\n",
       "      <td>en</td>\n",
       "      <td>Playmobil: The Secret of Pirate Island</td>\n",
       "      <td>Ahoy, matey! Your Favorite Playmobil toys have...</td>\n",
       "      <td>0.014168</td>\n",
       "      <td>NaN</td>\n",
       "      <td>...</td>\n",
       "      <td>2009-10-13</td>\n",
       "      <td>0.0</td>\n",
       "      <td>140.0</td>\n",
       "      <td>[Français, English, Norsk, Português, ภาษาไทย,...</td>\n",
       "      <td>Released</td>\n",
       "      <td>NaN</td>\n",
       "      <td>Playmobil: The Secret of Pirate Island</td>\n",
       "      <td>True</td>\n",
       "      <td>0.0</td>\n",
       "      <td>0.0</td>\n",
       "    </tr>\n",
       "    <tr>\n",
       "      <th>...</th>\n",
       "      <td>...</td>\n",
       "      <td>...</td>\n",
       "      <td>...</td>\n",
       "      <td>...</td>\n",
       "      <td>...</td>\n",
       "      <td>...</td>\n",
       "      <td>...</td>\n",
       "      <td>...</td>\n",
       "      <td>...</td>\n",
       "      <td>...</td>\n",
       "      <td>...</td>\n",
       "      <td>...</td>\n",
       "      <td>...</td>\n",
       "      <td>...</td>\n",
       "      <td>...</td>\n",
       "      <td>...</td>\n",
       "      <td>...</td>\n",
       "      <td>...</td>\n",
       "      <td>...</td>\n",
       "      <td>...</td>\n",
       "      <td>...</td>\n",
       "    </tr>\n",
       "    <tr>\n",
       "      <th>44286</th>\n",
       "      <td>False</td>\n",
       "      <td>NaN</td>\n",
       "      <td>0.0</td>\n",
       "      <td>[Action, Animation, Horror]</td>\n",
       "      <td>161337.0</td>\n",
       "      <td>en</td>\n",
       "      <td>Underworld: Endless War</td>\n",
       "      <td>Underworld: Endless War is a collection of thr...</td>\n",
       "      <td>3.301063</td>\n",
       "      <td>NaN</td>\n",
       "      <td>...</td>\n",
       "      <td>2011-10-19</td>\n",
       "      <td>0.0</td>\n",
       "      <td>18.0</td>\n",
       "      <td>[English]</td>\n",
       "      <td>Released</td>\n",
       "      <td>NaN</td>\n",
       "      <td>Underworld: Endless War</td>\n",
       "      <td>True</td>\n",
       "      <td>5.6</td>\n",
       "      <td>38.0</td>\n",
       "    </tr>\n",
       "    <tr>\n",
       "      <th>44798</th>\n",
       "      <td>False</td>\n",
       "      <td>NaN</td>\n",
       "      <td>0.0</td>\n",
       "      <td>[Animation, Horror, Science Fiction]</td>\n",
       "      <td>425916.0</td>\n",
       "      <td>en</td>\n",
       "      <td>Salad Fingers</td>\n",
       "      <td>The adventures of Salad Fingers, an unspecifie...</td>\n",
       "      <td>0.141367</td>\n",
       "      <td>NaN</td>\n",
       "      <td>...</td>\n",
       "      <td>NaT</td>\n",
       "      <td>0.0</td>\n",
       "      <td>52.0</td>\n",
       "      <td>[English]</td>\n",
       "      <td>Released</td>\n",
       "      <td>NaN</td>\n",
       "      <td>Salad Fingers</td>\n",
       "      <td>True</td>\n",
       "      <td>8.5</td>\n",
       "      <td>4.0</td>\n",
       "    </tr>\n",
       "    <tr>\n",
       "      <th>44861</th>\n",
       "      <td>False</td>\n",
       "      <td>NaN</td>\n",
       "      <td>0.0</td>\n",
       "      <td>NaN</td>\n",
       "      <td>334795.0</td>\n",
       "      <td>ru</td>\n",
       "      <td>Конец Каникул</td>\n",
       "      <td>Four music videos of Kino band joined together...</td>\n",
       "      <td>0.000000</td>\n",
       "      <td>NaN</td>\n",
       "      <td>...</td>\n",
       "      <td>1986-01-01</td>\n",
       "      <td>0.0</td>\n",
       "      <td>23.0</td>\n",
       "      <td>[Pусский]</td>\n",
       "      <td>Released</td>\n",
       "      <td>Victor Tsoy's movie debut</td>\n",
       "      <td>The End of a Vacation</td>\n",
       "      <td>True</td>\n",
       "      <td>0.0</td>\n",
       "      <td>0.0</td>\n",
       "    </tr>\n",
       "    <tr>\n",
       "      <th>44981</th>\n",
       "      <td>False</td>\n",
       "      <td>NaN</td>\n",
       "      <td>0.0</td>\n",
       "      <td>[Family, Drama, Comedy]</td>\n",
       "      <td>461088.0</td>\n",
       "      <td>fa</td>\n",
       "      <td>۵۰ کیلو آلبالو</td>\n",
       "      <td>When the corrupted groom starts shooting in th...</td>\n",
       "      <td>0.034119</td>\n",
       "      <td>NaN</td>\n",
       "      <td>...</td>\n",
       "      <td>2016-03-22</td>\n",
       "      <td>0.0</td>\n",
       "      <td>89.0</td>\n",
       "      <td>[فارسی]</td>\n",
       "      <td>Released</td>\n",
       "      <td>NaN</td>\n",
       "      <td>50 Kilos of Sour Cherry</td>\n",
       "      <td>True</td>\n",
       "      <td>0.0</td>\n",
       "      <td>0.0</td>\n",
       "    </tr>\n",
       "    <tr>\n",
       "      <th>45199</th>\n",
       "      <td>False</td>\n",
       "      <td>NaN</td>\n",
       "      <td>0.0</td>\n",
       "      <td>[Comedy, Animation]</td>\n",
       "      <td>279687.0</td>\n",
       "      <td>en</td>\n",
       "      <td>Futurama: The Lost Adventure</td>\n",
       "      <td>The cut-scenes from Futurama (2003) (VG), edit...</td>\n",
       "      <td>0.988667</td>\n",
       "      <td>[The Curiosity Company]</td>\n",
       "      <td>...</td>\n",
       "      <td>2008-06-24</td>\n",
       "      <td>0.0</td>\n",
       "      <td>30.0</td>\n",
       "      <td>[English]</td>\n",
       "      <td>Released</td>\n",
       "      <td>NaN</td>\n",
       "      <td>Futurama: The Lost Adventure</td>\n",
       "      <td>True</td>\n",
       "      <td>7.9</td>\n",
       "      <td>10.0</td>\n",
       "    </tr>\n",
       "  </tbody>\n",
       "</table>\n",
       "<p>93 rows × 21 columns</p>\n",
       "</div>"
      ],
      "text/plain": [
       "       adult    belongs_to_collection  budget  \\\n",
       "5492   False                      NaN     0.0   \n",
       "11469  False  Loose Change Collection  5000.0   \n",
       "13564  False                      NaN     0.0   \n",
       "14271  False     Love Hina Collection     0.0   \n",
       "14608  False                      NaN     0.0   \n",
       "...      ...                      ...     ...   \n",
       "44286  False                      NaN     0.0   \n",
       "44798  False                      NaN     0.0   \n",
       "44861  False                      NaN     0.0   \n",
       "44981  False                      NaN     0.0   \n",
       "45199  False                      NaN     0.0   \n",
       "\n",
       "                                                  genres        id  \\\n",
       "5492   [Action, Adventure, Animation, Comedy, Family,...   15173.0   \n",
       "11469                                      [Documentary]   14277.0   \n",
       "13564                                      [Documentary]  284117.0   \n",
       "14271                [Comedy, Romance, Animation, Music]   44685.0   \n",
       "14608               [Action, Adventure, Family, Fantasy]   35148.0   \n",
       "...                                                  ...       ...   \n",
       "44286                        [Action, Animation, Horror]  161337.0   \n",
       "44798               [Animation, Horror, Science Fiction]  425916.0   \n",
       "44861                                                NaN  334795.0   \n",
       "44981                            [Family, Drama, Comedy]  461088.0   \n",
       "45199                                [Comedy, Animation]  279687.0   \n",
       "\n",
       "      original_language                          original_title  \\\n",
       "5492                 en              Jonah: A VeggieTales Movie   \n",
       "11469                en               Loose Change: 2nd Edition   \n",
       "13564                en                                   Fitna   \n",
       "14271                ja              ラブひな 春スペシャル ～キミサクラチルナカレ!!～   \n",
       "14608                en  Playmobil: The Secret of Pirate Island   \n",
       "...                 ...                                     ...   \n",
       "44286                en                 Underworld: Endless War   \n",
       "44798                en                           Salad Fingers   \n",
       "44861                ru                           Конец Каникул   \n",
       "44981                fa                          ۵۰ کیلو آلبالو   \n",
       "45199                en            Futurama: The Lost Adventure   \n",
       "\n",
       "                                                overview  popularity  \\\n",
       "5492   Get ready as Bob the Tomato, Larry the Cucumbe...    1.734181   \n",
       "11469  What if...September 11th was not a surprise at...    0.651714   \n",
       "13564  A short film in which Quran verses are shown a...    0.040068   \n",
       "14271  The tests have come, and Keitaro can only hope...    1.785708   \n",
       "14608  Ahoy, matey! Your Favorite Playmobil toys have...    0.014168   \n",
       "...                                                  ...         ...   \n",
       "44286  Underworld: Endless War is a collection of thr...    3.301063   \n",
       "44798  The adventures of Salad Fingers, an unspecifie...    0.141367   \n",
       "44861  Four music videos of Kino band joined together...    0.000000   \n",
       "44981  When the corrupted groom starts shooting in th...    0.034119   \n",
       "45199  The cut-scenes from Futurama (2003) (VG), edit...    0.988667   \n",
       "\n",
       "             production_companies  ... release_date revenue  runtime  \\\n",
       "5492       [Big Idea Productions]  ...   2002-10-04     0.0     82.0   \n",
       "11469  [Polar Film   Medien GmbH]  ...   2006-06-01     0.0    100.0   \n",
       "13564                         NaN  ...   2008-03-27     0.0     15.0   \n",
       "14271           [TV Tokyo, Xebec]  ...   2001-03-31     0.0     48.0   \n",
       "14608                         NaN  ...   2009-10-13     0.0    140.0   \n",
       "...                           ...  ...          ...     ...      ...   \n",
       "44286                         NaN  ...   2011-10-19     0.0     18.0   \n",
       "44798                         NaN  ...          NaT     0.0     52.0   \n",
       "44861                         NaN  ...   1986-01-01     0.0     23.0   \n",
       "44981                         NaN  ...   2016-03-22     0.0     89.0   \n",
       "45199     [The Curiosity Company]  ...   2008-06-24     0.0     30.0   \n",
       "\n",
       "                                        spoken_languages    status  \\\n",
       "5492                                    [Český, English]  Released   \n",
       "11469                                          [English]  Released   \n",
       "13564                              [English, Nederlands]  Released   \n",
       "14271                                              [日本語]  Released   \n",
       "14608  [Français, English, Norsk, Português, ภาษาไทย,...  Released   \n",
       "...                                                  ...       ...   \n",
       "44286                                          [English]  Released   \n",
       "44798                                          [English]  Released   \n",
       "44861                                          [Pусский]  Released   \n",
       "44981                                            [فارسی]  Released   \n",
       "45199                                          [English]  Released   \n",
       "\n",
       "                                 tagline  \\\n",
       "5492       Fresh Fish. Mixed Vegetables.   \n",
       "11469      What really happened on 9/11?   \n",
       "13564                                NaN   \n",
       "14271  Spring break... Love Hina Style!!   \n",
       "14608                                NaN   \n",
       "...                                  ...   \n",
       "44286                                NaN   \n",
       "44798                                NaN   \n",
       "44861          Victor Tsoy's movie debut   \n",
       "44981                                NaN   \n",
       "45199                                NaN   \n",
       "\n",
       "                                              title video vote_average  \\\n",
       "5492                     Jonah: A VeggieTales Movie  True          6.4   \n",
       "11469                     Loose Change: 2nd Edition  True          6.3   \n",
       "13564                                         Fitna  True          1.0   \n",
       "14271  Love Hina Spring Special - I Wish Your Dream  True          4.7   \n",
       "14608        Playmobil: The Secret of Pirate Island  True          0.0   \n",
       "...                                             ...   ...          ...   \n",
       "44286                       Underworld: Endless War  True          5.6   \n",
       "44798                                 Salad Fingers  True          8.5   \n",
       "44861                         The End of a Vacation  True          0.0   \n",
       "44981                       50 Kilos of Sour Cherry  True          0.0   \n",
       "45199                  Futurama: The Lost Adventure  True          7.9   \n",
       "\n",
       "       vote_count  \n",
       "5492         22.0  \n",
       "11469        16.0  \n",
       "13564         1.0  \n",
       "14271         3.0  \n",
       "14608         0.0  \n",
       "...           ...  \n",
       "44286        38.0  \n",
       "44798         4.0  \n",
       "44861         0.0  \n",
       "44981         0.0  \n",
       "45199        10.0  \n",
       "\n",
       "[93 rows x 21 columns]"
      ]
     },
     "execution_count": 110,
     "metadata": {},
     "output_type": "execute_result"
    }
   ],
   "source": [
    "data[data[\"video\"]==True]"
   ]
  },
  {
   "cell_type": "markdown",
   "metadata": {},
   "source": [
    "video 라는 변수가 의미하는 바를 모르겠어서 그냥 버리는게 나을것 같긴 한데 우선 그냥 냅둘게용"
   ]
  },
  {
   "cell_type": "code",
   "execution_count": null,
   "metadata": {},
   "outputs": [],
   "source": []
  },
  {
   "cell_type": "markdown",
   "metadata": {},
   "source": [
    "# 23. vote_average"
   ]
  },
  {
   "cell_type": "code",
   "execution_count": 111,
   "metadata": {
    "scrolled": false
   },
   "outputs": [
    {
     "data": {
      "text/plain": [
       "count    45298.000000\n",
       "mean         5.618021\n",
       "std          1.921604\n",
       "min          0.000000\n",
       "25%          5.000000\n",
       "50%          6.000000\n",
       "75%          6.800000\n",
       "max         10.000000\n",
       "Name: vote_average, dtype: float64"
      ]
     },
     "execution_count": 111,
     "metadata": {},
     "output_type": "execute_result"
    }
   ],
   "source": [
    "data[\"vote_average\"].describe()"
   ]
  },
  {
   "cell_type": "code",
   "execution_count": 112,
   "metadata": {
    "scrolled": true
   },
   "outputs": [
    {
     "data": {
      "text/plain": [
       "126"
      ]
     },
     "execution_count": 112,
     "metadata": {},
     "output_type": "execute_result"
    }
   ],
   "source": [
    "np.sum(pd.isnull(data[\"vote_average\"]))"
   ]
  },
  {
   "cell_type": "code",
   "execution_count": 113,
   "metadata": {
    "scrolled": true
   },
   "outputs": [
    {
     "data": {
      "text/html": [
       "<div>\n",
       "<style scoped>\n",
       "    .dataframe tbody tr th:only-of-type {\n",
       "        vertical-align: middle;\n",
       "    }\n",
       "\n",
       "    .dataframe tbody tr th {\n",
       "        vertical-align: top;\n",
       "    }\n",
       "\n",
       "    .dataframe thead th {\n",
       "        text-align: right;\n",
       "    }\n",
       "</style>\n",
       "<table border=\"1\" class=\"dataframe\">\n",
       "  <thead>\n",
       "    <tr style=\"text-align: right;\">\n",
       "      <th></th>\n",
       "      <th>adult</th>\n",
       "      <th>belongs_to_collection</th>\n",
       "      <th>budget</th>\n",
       "      <th>genres</th>\n",
       "      <th>id</th>\n",
       "      <th>original_language</th>\n",
       "      <th>original_title</th>\n",
       "      <th>overview</th>\n",
       "      <th>popularity</th>\n",
       "      <th>production_companies</th>\n",
       "      <th>...</th>\n",
       "      <th>release_date</th>\n",
       "      <th>revenue</th>\n",
       "      <th>runtime</th>\n",
       "      <th>spoken_languages</th>\n",
       "      <th>status</th>\n",
       "      <th>tagline</th>\n",
       "      <th>title</th>\n",
       "      <th>video</th>\n",
       "      <th>vote_average</th>\n",
       "      <th>vote_count</th>\n",
       "    </tr>\n",
       "  </thead>\n",
       "  <tbody>\n",
       "    <tr>\n",
       "      <th>773</th>\n",
       "      <td>NaN</td>\n",
       "      <td>NaN</td>\n",
       "      <td>NaN</td>\n",
       "      <td>NaN</td>\n",
       "      <td>NaN</td>\n",
       "      <td>NaN</td>\n",
       "      <td>NaN</td>\n",
       "      <td>NaN</td>\n",
       "      <td>NaN</td>\n",
       "      <td>NaN</td>\n",
       "      <td>...</td>\n",
       "      <td>NaT</td>\n",
       "      <td>NaN</td>\n",
       "      <td>NaN</td>\n",
       "      <td>NaN</td>\n",
       "      <td>NaN</td>\n",
       "      <td>NaN</td>\n",
       "      <td>NaN</td>\n",
       "      <td>NaN</td>\n",
       "      <td>NaN</td>\n",
       "      <td>NaN</td>\n",
       "    </tr>\n",
       "    <tr>\n",
       "      <th>4184</th>\n",
       "      <td>NaN</td>\n",
       "      <td>NaN</td>\n",
       "      <td>NaN</td>\n",
       "      <td>NaN</td>\n",
       "      <td>NaN</td>\n",
       "      <td>NaN</td>\n",
       "      <td>NaN</td>\n",
       "      <td>NaN</td>\n",
       "      <td>NaN</td>\n",
       "      <td>NaN</td>\n",
       "      <td>...</td>\n",
       "      <td>NaT</td>\n",
       "      <td>NaN</td>\n",
       "      <td>NaN</td>\n",
       "      <td>NaN</td>\n",
       "      <td>NaN</td>\n",
       "      <td>NaN</td>\n",
       "      <td>NaN</td>\n",
       "      <td>NaN</td>\n",
       "      <td>NaN</td>\n",
       "      <td>NaN</td>\n",
       "    </tr>\n",
       "    <tr>\n",
       "      <th>5283</th>\n",
       "      <td>NaN</td>\n",
       "      <td>NaN</td>\n",
       "      <td>NaN</td>\n",
       "      <td>NaN</td>\n",
       "      <td>NaN</td>\n",
       "      <td>NaN</td>\n",
       "      <td>NaN</td>\n",
       "      <td>NaN</td>\n",
       "      <td>NaN</td>\n",
       "      <td>NaN</td>\n",
       "      <td>...</td>\n",
       "      <td>NaT</td>\n",
       "      <td>NaN</td>\n",
       "      <td>NaN</td>\n",
       "      <td>NaN</td>\n",
       "      <td>NaN</td>\n",
       "      <td>NaN</td>\n",
       "      <td>NaN</td>\n",
       "      <td>NaN</td>\n",
       "      <td>NaN</td>\n",
       "      <td>NaN</td>\n",
       "    </tr>\n",
       "    <tr>\n",
       "      <th>7778</th>\n",
       "      <td>NaN</td>\n",
       "      <td>NaN</td>\n",
       "      <td>NaN</td>\n",
       "      <td>NaN</td>\n",
       "      <td>NaN</td>\n",
       "      <td>NaN</td>\n",
       "      <td>NaN</td>\n",
       "      <td>NaN</td>\n",
       "      <td>NaN</td>\n",
       "      <td>NaN</td>\n",
       "      <td>...</td>\n",
       "      <td>NaT</td>\n",
       "      <td>NaN</td>\n",
       "      <td>NaN</td>\n",
       "      <td>NaN</td>\n",
       "      <td>NaN</td>\n",
       "      <td>NaN</td>\n",
       "      <td>NaN</td>\n",
       "      <td>NaN</td>\n",
       "      <td>NaN</td>\n",
       "      <td>NaN</td>\n",
       "    </tr>\n",
       "    <tr>\n",
       "      <th>7798</th>\n",
       "      <td>NaN</td>\n",
       "      <td>NaN</td>\n",
       "      <td>NaN</td>\n",
       "      <td>NaN</td>\n",
       "      <td>NaN</td>\n",
       "      <td>NaN</td>\n",
       "      <td>NaN</td>\n",
       "      <td>NaN</td>\n",
       "      <td>NaN</td>\n",
       "      <td>NaN</td>\n",
       "      <td>...</td>\n",
       "      <td>NaT</td>\n",
       "      <td>NaN</td>\n",
       "      <td>NaN</td>\n",
       "      <td>NaN</td>\n",
       "      <td>NaN</td>\n",
       "      <td>NaN</td>\n",
       "      <td>NaN</td>\n",
       "      <td>NaN</td>\n",
       "      <td>NaN</td>\n",
       "      <td>NaN</td>\n",
       "    </tr>\n",
       "    <tr>\n",
       "      <th>...</th>\n",
       "      <td>...</td>\n",
       "      <td>...</td>\n",
       "      <td>...</td>\n",
       "      <td>...</td>\n",
       "      <td>...</td>\n",
       "      <td>...</td>\n",
       "      <td>...</td>\n",
       "      <td>...</td>\n",
       "      <td>...</td>\n",
       "      <td>...</td>\n",
       "      <td>...</td>\n",
       "      <td>...</td>\n",
       "      <td>...</td>\n",
       "      <td>...</td>\n",
       "      <td>...</td>\n",
       "      <td>...</td>\n",
       "      <td>...</td>\n",
       "      <td>...</td>\n",
       "      <td>...</td>\n",
       "      <td>...</td>\n",
       "      <td>...</td>\n",
       "    </tr>\n",
       "    <tr>\n",
       "      <th>42992</th>\n",
       "      <td>NaN</td>\n",
       "      <td>NaN</td>\n",
       "      <td>NaN</td>\n",
       "      <td>NaN</td>\n",
       "      <td>NaN</td>\n",
       "      <td>NaN</td>\n",
       "      <td>NaN</td>\n",
       "      <td>NaN</td>\n",
       "      <td>NaN</td>\n",
       "      <td>NaN</td>\n",
       "      <td>...</td>\n",
       "      <td>NaT</td>\n",
       "      <td>NaN</td>\n",
       "      <td>NaN</td>\n",
       "      <td>NaN</td>\n",
       "      <td>NaN</td>\n",
       "      <td>NaN</td>\n",
       "      <td>NaN</td>\n",
       "      <td>NaN</td>\n",
       "      <td>NaN</td>\n",
       "      <td>NaN</td>\n",
       "    </tr>\n",
       "    <tr>\n",
       "      <th>43313</th>\n",
       "      <td>NaN</td>\n",
       "      <td>NaN</td>\n",
       "      <td>NaN</td>\n",
       "      <td>NaN</td>\n",
       "      <td>NaN</td>\n",
       "      <td>NaN</td>\n",
       "      <td>NaN</td>\n",
       "      <td>NaN</td>\n",
       "      <td>NaN</td>\n",
       "      <td>NaN</td>\n",
       "      <td>...</td>\n",
       "      <td>NaT</td>\n",
       "      <td>NaN</td>\n",
       "      <td>NaN</td>\n",
       "      <td>NaN</td>\n",
       "      <td>NaN</td>\n",
       "      <td>NaN</td>\n",
       "      <td>NaN</td>\n",
       "      <td>NaN</td>\n",
       "      <td>NaN</td>\n",
       "      <td>NaN</td>\n",
       "    </tr>\n",
       "    <tr>\n",
       "      <th>44597</th>\n",
       "      <td>NaN</td>\n",
       "      <td>NaN</td>\n",
       "      <td>NaN</td>\n",
       "      <td>NaN</td>\n",
       "      <td>NaN</td>\n",
       "      <td>NaN</td>\n",
       "      <td>NaN</td>\n",
       "      <td>NaN</td>\n",
       "      <td>NaN</td>\n",
       "      <td>NaN</td>\n",
       "      <td>...</td>\n",
       "      <td>NaT</td>\n",
       "      <td>NaN</td>\n",
       "      <td>NaN</td>\n",
       "      <td>NaN</td>\n",
       "      <td>NaN</td>\n",
       "      <td>NaN</td>\n",
       "      <td>NaN</td>\n",
       "      <td>NaN</td>\n",
       "      <td>NaN</td>\n",
       "      <td>NaN</td>\n",
       "    </tr>\n",
       "    <tr>\n",
       "      <th>44835</th>\n",
       "      <td>NaN</td>\n",
       "      <td>NaN</td>\n",
       "      <td>NaN</td>\n",
       "      <td>NaN</td>\n",
       "      <td>NaN</td>\n",
       "      <td>NaN</td>\n",
       "      <td>NaN</td>\n",
       "      <td>NaN</td>\n",
       "      <td>NaN</td>\n",
       "      <td>NaN</td>\n",
       "      <td>...</td>\n",
       "      <td>NaT</td>\n",
       "      <td>NaN</td>\n",
       "      <td>NaN</td>\n",
       "      <td>NaN</td>\n",
       "      <td>NaN</td>\n",
       "      <td>NaN</td>\n",
       "      <td>NaN</td>\n",
       "      <td>NaN</td>\n",
       "      <td>NaN</td>\n",
       "      <td>NaN</td>\n",
       "    </tr>\n",
       "    <tr>\n",
       "      <th>45462</th>\n",
       "      <td>NaN</td>\n",
       "      <td>NaN</td>\n",
       "      <td>NaN</td>\n",
       "      <td>NaN</td>\n",
       "      <td>NaN</td>\n",
       "      <td>NaN</td>\n",
       "      <td>NaN</td>\n",
       "      <td>NaN</td>\n",
       "      <td>NaN</td>\n",
       "      <td>NaN</td>\n",
       "      <td>...</td>\n",
       "      <td>NaT</td>\n",
       "      <td>NaN</td>\n",
       "      <td>NaN</td>\n",
       "      <td>NaN</td>\n",
       "      <td>NaN</td>\n",
       "      <td>NaN</td>\n",
       "      <td>NaN</td>\n",
       "      <td>NaN</td>\n",
       "      <td>NaN</td>\n",
       "      <td>NaN</td>\n",
       "    </tr>\n",
       "  </tbody>\n",
       "</table>\n",
       "<p>126 rows × 21 columns</p>\n",
       "</div>"
      ],
      "text/plain": [
       "      adult belongs_to_collection  budget genres  id original_language  \\\n",
       "773     NaN                   NaN     NaN    NaN NaN               NaN   \n",
       "4184    NaN                   NaN     NaN    NaN NaN               NaN   \n",
       "5283    NaN                   NaN     NaN    NaN NaN               NaN   \n",
       "7778    NaN                   NaN     NaN    NaN NaN               NaN   \n",
       "7798    NaN                   NaN     NaN    NaN NaN               NaN   \n",
       "...     ...                   ...     ...    ...  ..               ...   \n",
       "42992   NaN                   NaN     NaN    NaN NaN               NaN   \n",
       "43313   NaN                   NaN     NaN    NaN NaN               NaN   \n",
       "44597   NaN                   NaN     NaN    NaN NaN               NaN   \n",
       "44835   NaN                   NaN     NaN    NaN NaN               NaN   \n",
       "45462   NaN                   NaN     NaN    NaN NaN               NaN   \n",
       "\n",
       "      original_title overview  popularity production_companies  ...  \\\n",
       "773              NaN      NaN         NaN                  NaN  ...   \n",
       "4184             NaN      NaN         NaN                  NaN  ...   \n",
       "5283             NaN      NaN         NaN                  NaN  ...   \n",
       "7778             NaN      NaN         NaN                  NaN  ...   \n",
       "7798             NaN      NaN         NaN                  NaN  ...   \n",
       "...              ...      ...         ...                  ...  ...   \n",
       "42992            NaN      NaN         NaN                  NaN  ...   \n",
       "43313            NaN      NaN         NaN                  NaN  ...   \n",
       "44597            NaN      NaN         NaN                  NaN  ...   \n",
       "44835            NaN      NaN         NaN                  NaN  ...   \n",
       "45462            NaN      NaN         NaN                  NaN  ...   \n",
       "\n",
       "      release_date revenue  runtime  spoken_languages status tagline title  \\\n",
       "773            NaT     NaN      NaN               NaN    NaN     NaN   NaN   \n",
       "4184           NaT     NaN      NaN               NaN    NaN     NaN   NaN   \n",
       "5283           NaT     NaN      NaN               NaN    NaN     NaN   NaN   \n",
       "7778           NaT     NaN      NaN               NaN    NaN     NaN   NaN   \n",
       "7798           NaT     NaN      NaN               NaN    NaN     NaN   NaN   \n",
       "...            ...     ...      ...               ...    ...     ...   ...   \n",
       "42992          NaT     NaN      NaN               NaN    NaN     NaN   NaN   \n",
       "43313          NaT     NaN      NaN               NaN    NaN     NaN   NaN   \n",
       "44597          NaT     NaN      NaN               NaN    NaN     NaN   NaN   \n",
       "44835          NaT     NaN      NaN               NaN    NaN     NaN   NaN   \n",
       "45462          NaT     NaN      NaN               NaN    NaN     NaN   NaN   \n",
       "\n",
       "      video vote_average  vote_count  \n",
       "773     NaN          NaN         NaN  \n",
       "4184    NaN          NaN         NaN  \n",
       "5283    NaN          NaN         NaN  \n",
       "7778    NaN          NaN         NaN  \n",
       "7798    NaN          NaN         NaN  \n",
       "...     ...          ...         ...  \n",
       "42992   NaN          NaN         NaN  \n",
       "43313   NaN          NaN         NaN  \n",
       "44597   NaN          NaN         NaN  \n",
       "44835   NaN          NaN         NaN  \n",
       "45462   NaN          NaN         NaN  \n",
       "\n",
       "[126 rows x 21 columns]"
      ]
     },
     "execution_count": 113,
     "metadata": {},
     "output_type": "execute_result"
    }
   ],
   "source": [
    "data[pd.isnull(data[\"vote_average\"])==True]"
   ]
  },
  {
   "cell_type": "code",
   "execution_count": null,
   "metadata": {},
   "outputs": [],
   "source": []
  },
  {
   "cell_type": "markdown",
   "metadata": {},
   "source": [
    "# 24. vote_count"
   ]
  },
  {
   "cell_type": "code",
   "execution_count": 114,
   "metadata": {
    "scrolled": false
   },
   "outputs": [
    {
     "data": {
      "text/plain": [
       "count    45298.000000\n",
       "mean       110.233785\n",
       "std        492.150266\n",
       "min          0.000000\n",
       "25%          3.000000\n",
       "50%         10.000000\n",
       "75%         34.000000\n",
       "max      14075.000000\n",
       "Name: vote_count, dtype: float64"
      ]
     },
     "execution_count": 114,
     "metadata": {},
     "output_type": "execute_result"
    }
   ],
   "source": [
    "data[\"vote_count\"].describe()"
   ]
  },
  {
   "cell_type": "code",
   "execution_count": 115,
   "metadata": {
    "scrolled": true
   },
   "outputs": [
    {
     "data": {
      "text/plain": [
       "126"
      ]
     },
     "execution_count": 115,
     "metadata": {},
     "output_type": "execute_result"
    }
   ],
   "source": [
    "np.sum(pd.isnull(data[\"vote_count\"]))"
   ]
  },
  {
   "cell_type": "code",
   "execution_count": 116,
   "metadata": {
    "scrolled": true
   },
   "outputs": [
    {
     "data": {
      "text/html": [
       "<div>\n",
       "<style scoped>\n",
       "    .dataframe tbody tr th:only-of-type {\n",
       "        vertical-align: middle;\n",
       "    }\n",
       "\n",
       "    .dataframe tbody tr th {\n",
       "        vertical-align: top;\n",
       "    }\n",
       "\n",
       "    .dataframe thead th {\n",
       "        text-align: right;\n",
       "    }\n",
       "</style>\n",
       "<table border=\"1\" class=\"dataframe\">\n",
       "  <thead>\n",
       "    <tr style=\"text-align: right;\">\n",
       "      <th></th>\n",
       "      <th>adult</th>\n",
       "      <th>belongs_to_collection</th>\n",
       "      <th>budget</th>\n",
       "      <th>genres</th>\n",
       "      <th>id</th>\n",
       "      <th>original_language</th>\n",
       "      <th>original_title</th>\n",
       "      <th>overview</th>\n",
       "      <th>popularity</th>\n",
       "      <th>production_companies</th>\n",
       "      <th>...</th>\n",
       "      <th>release_date</th>\n",
       "      <th>revenue</th>\n",
       "      <th>runtime</th>\n",
       "      <th>spoken_languages</th>\n",
       "      <th>status</th>\n",
       "      <th>tagline</th>\n",
       "      <th>title</th>\n",
       "      <th>video</th>\n",
       "      <th>vote_average</th>\n",
       "      <th>vote_count</th>\n",
       "    </tr>\n",
       "  </thead>\n",
       "  <tbody>\n",
       "    <tr>\n",
       "      <th>773</th>\n",
       "      <td>NaN</td>\n",
       "      <td>NaN</td>\n",
       "      <td>NaN</td>\n",
       "      <td>NaN</td>\n",
       "      <td>NaN</td>\n",
       "      <td>NaN</td>\n",
       "      <td>NaN</td>\n",
       "      <td>NaN</td>\n",
       "      <td>NaN</td>\n",
       "      <td>NaN</td>\n",
       "      <td>...</td>\n",
       "      <td>NaT</td>\n",
       "      <td>NaN</td>\n",
       "      <td>NaN</td>\n",
       "      <td>NaN</td>\n",
       "      <td>NaN</td>\n",
       "      <td>NaN</td>\n",
       "      <td>NaN</td>\n",
       "      <td>NaN</td>\n",
       "      <td>NaN</td>\n",
       "      <td>NaN</td>\n",
       "    </tr>\n",
       "    <tr>\n",
       "      <th>4184</th>\n",
       "      <td>NaN</td>\n",
       "      <td>NaN</td>\n",
       "      <td>NaN</td>\n",
       "      <td>NaN</td>\n",
       "      <td>NaN</td>\n",
       "      <td>NaN</td>\n",
       "      <td>NaN</td>\n",
       "      <td>NaN</td>\n",
       "      <td>NaN</td>\n",
       "      <td>NaN</td>\n",
       "      <td>...</td>\n",
       "      <td>NaT</td>\n",
       "      <td>NaN</td>\n",
       "      <td>NaN</td>\n",
       "      <td>NaN</td>\n",
       "      <td>NaN</td>\n",
       "      <td>NaN</td>\n",
       "      <td>NaN</td>\n",
       "      <td>NaN</td>\n",
       "      <td>NaN</td>\n",
       "      <td>NaN</td>\n",
       "    </tr>\n",
       "    <tr>\n",
       "      <th>5283</th>\n",
       "      <td>NaN</td>\n",
       "      <td>NaN</td>\n",
       "      <td>NaN</td>\n",
       "      <td>NaN</td>\n",
       "      <td>NaN</td>\n",
       "      <td>NaN</td>\n",
       "      <td>NaN</td>\n",
       "      <td>NaN</td>\n",
       "      <td>NaN</td>\n",
       "      <td>NaN</td>\n",
       "      <td>...</td>\n",
       "      <td>NaT</td>\n",
       "      <td>NaN</td>\n",
       "      <td>NaN</td>\n",
       "      <td>NaN</td>\n",
       "      <td>NaN</td>\n",
       "      <td>NaN</td>\n",
       "      <td>NaN</td>\n",
       "      <td>NaN</td>\n",
       "      <td>NaN</td>\n",
       "      <td>NaN</td>\n",
       "    </tr>\n",
       "    <tr>\n",
       "      <th>7778</th>\n",
       "      <td>NaN</td>\n",
       "      <td>NaN</td>\n",
       "      <td>NaN</td>\n",
       "      <td>NaN</td>\n",
       "      <td>NaN</td>\n",
       "      <td>NaN</td>\n",
       "      <td>NaN</td>\n",
       "      <td>NaN</td>\n",
       "      <td>NaN</td>\n",
       "      <td>NaN</td>\n",
       "      <td>...</td>\n",
       "      <td>NaT</td>\n",
       "      <td>NaN</td>\n",
       "      <td>NaN</td>\n",
       "      <td>NaN</td>\n",
       "      <td>NaN</td>\n",
       "      <td>NaN</td>\n",
       "      <td>NaN</td>\n",
       "      <td>NaN</td>\n",
       "      <td>NaN</td>\n",
       "      <td>NaN</td>\n",
       "    </tr>\n",
       "    <tr>\n",
       "      <th>7798</th>\n",
       "      <td>NaN</td>\n",
       "      <td>NaN</td>\n",
       "      <td>NaN</td>\n",
       "      <td>NaN</td>\n",
       "      <td>NaN</td>\n",
       "      <td>NaN</td>\n",
       "      <td>NaN</td>\n",
       "      <td>NaN</td>\n",
       "      <td>NaN</td>\n",
       "      <td>NaN</td>\n",
       "      <td>...</td>\n",
       "      <td>NaT</td>\n",
       "      <td>NaN</td>\n",
       "      <td>NaN</td>\n",
       "      <td>NaN</td>\n",
       "      <td>NaN</td>\n",
       "      <td>NaN</td>\n",
       "      <td>NaN</td>\n",
       "      <td>NaN</td>\n",
       "      <td>NaN</td>\n",
       "      <td>NaN</td>\n",
       "    </tr>\n",
       "    <tr>\n",
       "      <th>...</th>\n",
       "      <td>...</td>\n",
       "      <td>...</td>\n",
       "      <td>...</td>\n",
       "      <td>...</td>\n",
       "      <td>...</td>\n",
       "      <td>...</td>\n",
       "      <td>...</td>\n",
       "      <td>...</td>\n",
       "      <td>...</td>\n",
       "      <td>...</td>\n",
       "      <td>...</td>\n",
       "      <td>...</td>\n",
       "      <td>...</td>\n",
       "      <td>...</td>\n",
       "      <td>...</td>\n",
       "      <td>...</td>\n",
       "      <td>...</td>\n",
       "      <td>...</td>\n",
       "      <td>...</td>\n",
       "      <td>...</td>\n",
       "      <td>...</td>\n",
       "    </tr>\n",
       "    <tr>\n",
       "      <th>42992</th>\n",
       "      <td>NaN</td>\n",
       "      <td>NaN</td>\n",
       "      <td>NaN</td>\n",
       "      <td>NaN</td>\n",
       "      <td>NaN</td>\n",
       "      <td>NaN</td>\n",
       "      <td>NaN</td>\n",
       "      <td>NaN</td>\n",
       "      <td>NaN</td>\n",
       "      <td>NaN</td>\n",
       "      <td>...</td>\n",
       "      <td>NaT</td>\n",
       "      <td>NaN</td>\n",
       "      <td>NaN</td>\n",
       "      <td>NaN</td>\n",
       "      <td>NaN</td>\n",
       "      <td>NaN</td>\n",
       "      <td>NaN</td>\n",
       "      <td>NaN</td>\n",
       "      <td>NaN</td>\n",
       "      <td>NaN</td>\n",
       "    </tr>\n",
       "    <tr>\n",
       "      <th>43313</th>\n",
       "      <td>NaN</td>\n",
       "      <td>NaN</td>\n",
       "      <td>NaN</td>\n",
       "      <td>NaN</td>\n",
       "      <td>NaN</td>\n",
       "      <td>NaN</td>\n",
       "      <td>NaN</td>\n",
       "      <td>NaN</td>\n",
       "      <td>NaN</td>\n",
       "      <td>NaN</td>\n",
       "      <td>...</td>\n",
       "      <td>NaT</td>\n",
       "      <td>NaN</td>\n",
       "      <td>NaN</td>\n",
       "      <td>NaN</td>\n",
       "      <td>NaN</td>\n",
       "      <td>NaN</td>\n",
       "      <td>NaN</td>\n",
       "      <td>NaN</td>\n",
       "      <td>NaN</td>\n",
       "      <td>NaN</td>\n",
       "    </tr>\n",
       "    <tr>\n",
       "      <th>44597</th>\n",
       "      <td>NaN</td>\n",
       "      <td>NaN</td>\n",
       "      <td>NaN</td>\n",
       "      <td>NaN</td>\n",
       "      <td>NaN</td>\n",
       "      <td>NaN</td>\n",
       "      <td>NaN</td>\n",
       "      <td>NaN</td>\n",
       "      <td>NaN</td>\n",
       "      <td>NaN</td>\n",
       "      <td>...</td>\n",
       "      <td>NaT</td>\n",
       "      <td>NaN</td>\n",
       "      <td>NaN</td>\n",
       "      <td>NaN</td>\n",
       "      <td>NaN</td>\n",
       "      <td>NaN</td>\n",
       "      <td>NaN</td>\n",
       "      <td>NaN</td>\n",
       "      <td>NaN</td>\n",
       "      <td>NaN</td>\n",
       "    </tr>\n",
       "    <tr>\n",
       "      <th>44835</th>\n",
       "      <td>NaN</td>\n",
       "      <td>NaN</td>\n",
       "      <td>NaN</td>\n",
       "      <td>NaN</td>\n",
       "      <td>NaN</td>\n",
       "      <td>NaN</td>\n",
       "      <td>NaN</td>\n",
       "      <td>NaN</td>\n",
       "      <td>NaN</td>\n",
       "      <td>NaN</td>\n",
       "      <td>...</td>\n",
       "      <td>NaT</td>\n",
       "      <td>NaN</td>\n",
       "      <td>NaN</td>\n",
       "      <td>NaN</td>\n",
       "      <td>NaN</td>\n",
       "      <td>NaN</td>\n",
       "      <td>NaN</td>\n",
       "      <td>NaN</td>\n",
       "      <td>NaN</td>\n",
       "      <td>NaN</td>\n",
       "    </tr>\n",
       "    <tr>\n",
       "      <th>45462</th>\n",
       "      <td>NaN</td>\n",
       "      <td>NaN</td>\n",
       "      <td>NaN</td>\n",
       "      <td>NaN</td>\n",
       "      <td>NaN</td>\n",
       "      <td>NaN</td>\n",
       "      <td>NaN</td>\n",
       "      <td>NaN</td>\n",
       "      <td>NaN</td>\n",
       "      <td>NaN</td>\n",
       "      <td>...</td>\n",
       "      <td>NaT</td>\n",
       "      <td>NaN</td>\n",
       "      <td>NaN</td>\n",
       "      <td>NaN</td>\n",
       "      <td>NaN</td>\n",
       "      <td>NaN</td>\n",
       "      <td>NaN</td>\n",
       "      <td>NaN</td>\n",
       "      <td>NaN</td>\n",
       "      <td>NaN</td>\n",
       "    </tr>\n",
       "  </tbody>\n",
       "</table>\n",
       "<p>126 rows × 21 columns</p>\n",
       "</div>"
      ],
      "text/plain": [
       "      adult belongs_to_collection  budget genres  id original_language  \\\n",
       "773     NaN                   NaN     NaN    NaN NaN               NaN   \n",
       "4184    NaN                   NaN     NaN    NaN NaN               NaN   \n",
       "5283    NaN                   NaN     NaN    NaN NaN               NaN   \n",
       "7778    NaN                   NaN     NaN    NaN NaN               NaN   \n",
       "7798    NaN                   NaN     NaN    NaN NaN               NaN   \n",
       "...     ...                   ...     ...    ...  ..               ...   \n",
       "42992   NaN                   NaN     NaN    NaN NaN               NaN   \n",
       "43313   NaN                   NaN     NaN    NaN NaN               NaN   \n",
       "44597   NaN                   NaN     NaN    NaN NaN               NaN   \n",
       "44835   NaN                   NaN     NaN    NaN NaN               NaN   \n",
       "45462   NaN                   NaN     NaN    NaN NaN               NaN   \n",
       "\n",
       "      original_title overview  popularity production_companies  ...  \\\n",
       "773              NaN      NaN         NaN                  NaN  ...   \n",
       "4184             NaN      NaN         NaN                  NaN  ...   \n",
       "5283             NaN      NaN         NaN                  NaN  ...   \n",
       "7778             NaN      NaN         NaN                  NaN  ...   \n",
       "7798             NaN      NaN         NaN                  NaN  ...   \n",
       "...              ...      ...         ...                  ...  ...   \n",
       "42992            NaN      NaN         NaN                  NaN  ...   \n",
       "43313            NaN      NaN         NaN                  NaN  ...   \n",
       "44597            NaN      NaN         NaN                  NaN  ...   \n",
       "44835            NaN      NaN         NaN                  NaN  ...   \n",
       "45462            NaN      NaN         NaN                  NaN  ...   \n",
       "\n",
       "      release_date revenue  runtime  spoken_languages status tagline title  \\\n",
       "773            NaT     NaN      NaN               NaN    NaN     NaN   NaN   \n",
       "4184           NaT     NaN      NaN               NaN    NaN     NaN   NaN   \n",
       "5283           NaT     NaN      NaN               NaN    NaN     NaN   NaN   \n",
       "7778           NaT     NaN      NaN               NaN    NaN     NaN   NaN   \n",
       "7798           NaT     NaN      NaN               NaN    NaN     NaN   NaN   \n",
       "...            ...     ...      ...               ...    ...     ...   ...   \n",
       "42992          NaT     NaN      NaN               NaN    NaN     NaN   NaN   \n",
       "43313          NaT     NaN      NaN               NaN    NaN     NaN   NaN   \n",
       "44597          NaT     NaN      NaN               NaN    NaN     NaN   NaN   \n",
       "44835          NaT     NaN      NaN               NaN    NaN     NaN   NaN   \n",
       "45462          NaT     NaN      NaN               NaN    NaN     NaN   NaN   \n",
       "\n",
       "      video vote_average  vote_count  \n",
       "773     NaN          NaN         NaN  \n",
       "4184    NaN          NaN         NaN  \n",
       "5283    NaN          NaN         NaN  \n",
       "7778    NaN          NaN         NaN  \n",
       "7798    NaN          NaN         NaN  \n",
       "...     ...          ...         ...  \n",
       "42992   NaN          NaN         NaN  \n",
       "43313   NaN          NaN         NaN  \n",
       "44597   NaN          NaN         NaN  \n",
       "44835   NaN          NaN         NaN  \n",
       "45462   NaN          NaN         NaN  \n",
       "\n",
       "[126 rows x 21 columns]"
      ]
     },
     "execution_count": 116,
     "metadata": {},
     "output_type": "execute_result"
    }
   ],
   "source": [
    "data[pd.isnull(data[\"vote_count\"])==True]"
   ]
  },
  {
   "cell_type": "code",
   "execution_count": null,
   "metadata": {},
   "outputs": [],
   "source": []
  },
  {
   "cell_type": "markdown",
   "metadata": {},
   "source": [
    "## Nan 많은 세 행 제거"
   ]
  },
  {
   "cell_type": "code",
   "execution_count": 117,
   "metadata": {},
   "outputs": [],
   "source": [
    "data=data.drop([19729, 29502, 35586])"
   ]
  },
  {
   "cell_type": "code",
   "execution_count": 118,
   "metadata": {},
   "outputs": [
    {
     "data": {
      "text/html": [
       "<div>\n",
       "<style scoped>\n",
       "    .dataframe tbody tr th:only-of-type {\n",
       "        vertical-align: middle;\n",
       "    }\n",
       "\n",
       "    .dataframe tbody tr th {\n",
       "        vertical-align: top;\n",
       "    }\n",
       "\n",
       "    .dataframe thead th {\n",
       "        text-align: right;\n",
       "    }\n",
       "</style>\n",
       "<table border=\"1\" class=\"dataframe\">\n",
       "  <thead>\n",
       "    <tr style=\"text-align: right;\">\n",
       "      <th></th>\n",
       "      <th>adult</th>\n",
       "      <th>belongs_to_collection</th>\n",
       "      <th>budget</th>\n",
       "      <th>genres</th>\n",
       "      <th>id</th>\n",
       "      <th>original_language</th>\n",
       "      <th>original_title</th>\n",
       "      <th>overview</th>\n",
       "      <th>popularity</th>\n",
       "      <th>production_companies</th>\n",
       "      <th>...</th>\n",
       "      <th>release_date</th>\n",
       "      <th>revenue</th>\n",
       "      <th>runtime</th>\n",
       "      <th>spoken_languages</th>\n",
       "      <th>status</th>\n",
       "      <th>tagline</th>\n",
       "      <th>title</th>\n",
       "      <th>video</th>\n",
       "      <th>vote_average</th>\n",
       "      <th>vote_count</th>\n",
       "    </tr>\n",
       "  </thead>\n",
       "  <tbody>\n",
       "    <tr>\n",
       "      <th>773</th>\n",
       "      <td>NaN</td>\n",
       "      <td>NaN</td>\n",
       "      <td>NaN</td>\n",
       "      <td>NaN</td>\n",
       "      <td>NaN</td>\n",
       "      <td>NaN</td>\n",
       "      <td>NaN</td>\n",
       "      <td>NaN</td>\n",
       "      <td>NaN</td>\n",
       "      <td>NaN</td>\n",
       "      <td>...</td>\n",
       "      <td>NaT</td>\n",
       "      <td>NaN</td>\n",
       "      <td>NaN</td>\n",
       "      <td>NaN</td>\n",
       "      <td>NaN</td>\n",
       "      <td>NaN</td>\n",
       "      <td>NaN</td>\n",
       "      <td>NaN</td>\n",
       "      <td>NaN</td>\n",
       "      <td>NaN</td>\n",
       "    </tr>\n",
       "    <tr>\n",
       "      <th>4184</th>\n",
       "      <td>NaN</td>\n",
       "      <td>NaN</td>\n",
       "      <td>NaN</td>\n",
       "      <td>NaN</td>\n",
       "      <td>NaN</td>\n",
       "      <td>NaN</td>\n",
       "      <td>NaN</td>\n",
       "      <td>NaN</td>\n",
       "      <td>NaN</td>\n",
       "      <td>NaN</td>\n",
       "      <td>...</td>\n",
       "      <td>NaT</td>\n",
       "      <td>NaN</td>\n",
       "      <td>NaN</td>\n",
       "      <td>NaN</td>\n",
       "      <td>NaN</td>\n",
       "      <td>NaN</td>\n",
       "      <td>NaN</td>\n",
       "      <td>NaN</td>\n",
       "      <td>NaN</td>\n",
       "      <td>NaN</td>\n",
       "    </tr>\n",
       "    <tr>\n",
       "      <th>5283</th>\n",
       "      <td>NaN</td>\n",
       "      <td>NaN</td>\n",
       "      <td>NaN</td>\n",
       "      <td>NaN</td>\n",
       "      <td>NaN</td>\n",
       "      <td>NaN</td>\n",
       "      <td>NaN</td>\n",
       "      <td>NaN</td>\n",
       "      <td>NaN</td>\n",
       "      <td>NaN</td>\n",
       "      <td>...</td>\n",
       "      <td>NaT</td>\n",
       "      <td>NaN</td>\n",
       "      <td>NaN</td>\n",
       "      <td>NaN</td>\n",
       "      <td>NaN</td>\n",
       "      <td>NaN</td>\n",
       "      <td>NaN</td>\n",
       "      <td>NaN</td>\n",
       "      <td>NaN</td>\n",
       "      <td>NaN</td>\n",
       "    </tr>\n",
       "    <tr>\n",
       "      <th>7778</th>\n",
       "      <td>NaN</td>\n",
       "      <td>NaN</td>\n",
       "      <td>NaN</td>\n",
       "      <td>NaN</td>\n",
       "      <td>NaN</td>\n",
       "      <td>NaN</td>\n",
       "      <td>NaN</td>\n",
       "      <td>NaN</td>\n",
       "      <td>NaN</td>\n",
       "      <td>NaN</td>\n",
       "      <td>...</td>\n",
       "      <td>NaT</td>\n",
       "      <td>NaN</td>\n",
       "      <td>NaN</td>\n",
       "      <td>NaN</td>\n",
       "      <td>NaN</td>\n",
       "      <td>NaN</td>\n",
       "      <td>NaN</td>\n",
       "      <td>NaN</td>\n",
       "      <td>NaN</td>\n",
       "      <td>NaN</td>\n",
       "    </tr>\n",
       "    <tr>\n",
       "      <th>7798</th>\n",
       "      <td>NaN</td>\n",
       "      <td>NaN</td>\n",
       "      <td>NaN</td>\n",
       "      <td>NaN</td>\n",
       "      <td>NaN</td>\n",
       "      <td>NaN</td>\n",
       "      <td>NaN</td>\n",
       "      <td>NaN</td>\n",
       "      <td>NaN</td>\n",
       "      <td>NaN</td>\n",
       "      <td>...</td>\n",
       "      <td>NaT</td>\n",
       "      <td>NaN</td>\n",
       "      <td>NaN</td>\n",
       "      <td>NaN</td>\n",
       "      <td>NaN</td>\n",
       "      <td>NaN</td>\n",
       "      <td>NaN</td>\n",
       "      <td>NaN</td>\n",
       "      <td>NaN</td>\n",
       "      <td>NaN</td>\n",
       "    </tr>\n",
       "    <tr>\n",
       "      <th>...</th>\n",
       "      <td>...</td>\n",
       "      <td>...</td>\n",
       "      <td>...</td>\n",
       "      <td>...</td>\n",
       "      <td>...</td>\n",
       "      <td>...</td>\n",
       "      <td>...</td>\n",
       "      <td>...</td>\n",
       "      <td>...</td>\n",
       "      <td>...</td>\n",
       "      <td>...</td>\n",
       "      <td>...</td>\n",
       "      <td>...</td>\n",
       "      <td>...</td>\n",
       "      <td>...</td>\n",
       "      <td>...</td>\n",
       "      <td>...</td>\n",
       "      <td>...</td>\n",
       "      <td>...</td>\n",
       "      <td>...</td>\n",
       "      <td>...</td>\n",
       "    </tr>\n",
       "    <tr>\n",
       "      <th>42992</th>\n",
       "      <td>NaN</td>\n",
       "      <td>NaN</td>\n",
       "      <td>NaN</td>\n",
       "      <td>NaN</td>\n",
       "      <td>NaN</td>\n",
       "      <td>NaN</td>\n",
       "      <td>NaN</td>\n",
       "      <td>NaN</td>\n",
       "      <td>NaN</td>\n",
       "      <td>NaN</td>\n",
       "      <td>...</td>\n",
       "      <td>NaT</td>\n",
       "      <td>NaN</td>\n",
       "      <td>NaN</td>\n",
       "      <td>NaN</td>\n",
       "      <td>NaN</td>\n",
       "      <td>NaN</td>\n",
       "      <td>NaN</td>\n",
       "      <td>NaN</td>\n",
       "      <td>NaN</td>\n",
       "      <td>NaN</td>\n",
       "    </tr>\n",
       "    <tr>\n",
       "      <th>43313</th>\n",
       "      <td>NaN</td>\n",
       "      <td>NaN</td>\n",
       "      <td>NaN</td>\n",
       "      <td>NaN</td>\n",
       "      <td>NaN</td>\n",
       "      <td>NaN</td>\n",
       "      <td>NaN</td>\n",
       "      <td>NaN</td>\n",
       "      <td>NaN</td>\n",
       "      <td>NaN</td>\n",
       "      <td>...</td>\n",
       "      <td>NaT</td>\n",
       "      <td>NaN</td>\n",
       "      <td>NaN</td>\n",
       "      <td>NaN</td>\n",
       "      <td>NaN</td>\n",
       "      <td>NaN</td>\n",
       "      <td>NaN</td>\n",
       "      <td>NaN</td>\n",
       "      <td>NaN</td>\n",
       "      <td>NaN</td>\n",
       "    </tr>\n",
       "    <tr>\n",
       "      <th>44597</th>\n",
       "      <td>NaN</td>\n",
       "      <td>NaN</td>\n",
       "      <td>NaN</td>\n",
       "      <td>NaN</td>\n",
       "      <td>NaN</td>\n",
       "      <td>NaN</td>\n",
       "      <td>NaN</td>\n",
       "      <td>NaN</td>\n",
       "      <td>NaN</td>\n",
       "      <td>NaN</td>\n",
       "      <td>...</td>\n",
       "      <td>NaT</td>\n",
       "      <td>NaN</td>\n",
       "      <td>NaN</td>\n",
       "      <td>NaN</td>\n",
       "      <td>NaN</td>\n",
       "      <td>NaN</td>\n",
       "      <td>NaN</td>\n",
       "      <td>NaN</td>\n",
       "      <td>NaN</td>\n",
       "      <td>NaN</td>\n",
       "    </tr>\n",
       "    <tr>\n",
       "      <th>44835</th>\n",
       "      <td>NaN</td>\n",
       "      <td>NaN</td>\n",
       "      <td>NaN</td>\n",
       "      <td>NaN</td>\n",
       "      <td>NaN</td>\n",
       "      <td>NaN</td>\n",
       "      <td>NaN</td>\n",
       "      <td>NaN</td>\n",
       "      <td>NaN</td>\n",
       "      <td>NaN</td>\n",
       "      <td>...</td>\n",
       "      <td>NaT</td>\n",
       "      <td>NaN</td>\n",
       "      <td>NaN</td>\n",
       "      <td>NaN</td>\n",
       "      <td>NaN</td>\n",
       "      <td>NaN</td>\n",
       "      <td>NaN</td>\n",
       "      <td>NaN</td>\n",
       "      <td>NaN</td>\n",
       "      <td>NaN</td>\n",
       "    </tr>\n",
       "    <tr>\n",
       "      <th>45462</th>\n",
       "      <td>NaN</td>\n",
       "      <td>NaN</td>\n",
       "      <td>NaN</td>\n",
       "      <td>NaN</td>\n",
       "      <td>NaN</td>\n",
       "      <td>NaN</td>\n",
       "      <td>NaN</td>\n",
       "      <td>NaN</td>\n",
       "      <td>NaN</td>\n",
       "      <td>NaN</td>\n",
       "      <td>...</td>\n",
       "      <td>NaT</td>\n",
       "      <td>NaN</td>\n",
       "      <td>NaN</td>\n",
       "      <td>NaN</td>\n",
       "      <td>NaN</td>\n",
       "      <td>NaN</td>\n",
       "      <td>NaN</td>\n",
       "      <td>NaN</td>\n",
       "      <td>NaN</td>\n",
       "      <td>NaN</td>\n",
       "    </tr>\n",
       "  </tbody>\n",
       "</table>\n",
       "<p>123 rows × 21 columns</p>\n",
       "</div>"
      ],
      "text/plain": [
       "      adult belongs_to_collection  budget genres  id original_language  \\\n",
       "773     NaN                   NaN     NaN    NaN NaN               NaN   \n",
       "4184    NaN                   NaN     NaN    NaN NaN               NaN   \n",
       "5283    NaN                   NaN     NaN    NaN NaN               NaN   \n",
       "7778    NaN                   NaN     NaN    NaN NaN               NaN   \n",
       "7798    NaN                   NaN     NaN    NaN NaN               NaN   \n",
       "...     ...                   ...     ...    ...  ..               ...   \n",
       "42992   NaN                   NaN     NaN    NaN NaN               NaN   \n",
       "43313   NaN                   NaN     NaN    NaN NaN               NaN   \n",
       "44597   NaN                   NaN     NaN    NaN NaN               NaN   \n",
       "44835   NaN                   NaN     NaN    NaN NaN               NaN   \n",
       "45462   NaN                   NaN     NaN    NaN NaN               NaN   \n",
       "\n",
       "      original_title overview  popularity production_companies  ...  \\\n",
       "773              NaN      NaN         NaN                  NaN  ...   \n",
       "4184             NaN      NaN         NaN                  NaN  ...   \n",
       "5283             NaN      NaN         NaN                  NaN  ...   \n",
       "7778             NaN      NaN         NaN                  NaN  ...   \n",
       "7798             NaN      NaN         NaN                  NaN  ...   \n",
       "...              ...      ...         ...                  ...  ...   \n",
       "42992            NaN      NaN         NaN                  NaN  ...   \n",
       "43313            NaN      NaN         NaN                  NaN  ...   \n",
       "44597            NaN      NaN         NaN                  NaN  ...   \n",
       "44835            NaN      NaN         NaN                  NaN  ...   \n",
       "45462            NaN      NaN         NaN                  NaN  ...   \n",
       "\n",
       "      release_date revenue  runtime  spoken_languages status tagline title  \\\n",
       "773            NaT     NaN      NaN               NaN    NaN     NaN   NaN   \n",
       "4184           NaT     NaN      NaN               NaN    NaN     NaN   NaN   \n",
       "5283           NaT     NaN      NaN               NaN    NaN     NaN   NaN   \n",
       "7778           NaT     NaN      NaN               NaN    NaN     NaN   NaN   \n",
       "7798           NaT     NaN      NaN               NaN    NaN     NaN   NaN   \n",
       "...            ...     ...      ...               ...    ...     ...   ...   \n",
       "42992          NaT     NaN      NaN               NaN    NaN     NaN   NaN   \n",
       "43313          NaT     NaN      NaN               NaN    NaN     NaN   NaN   \n",
       "44597          NaT     NaN      NaN               NaN    NaN     NaN   NaN   \n",
       "44835          NaT     NaN      NaN               NaN    NaN     NaN   NaN   \n",
       "45462          NaT     NaN      NaN               NaN    NaN     NaN   NaN   \n",
       "\n",
       "      video vote_average  vote_count  \n",
       "773     NaN          NaN         NaN  \n",
       "4184    NaN          NaN         NaN  \n",
       "5283    NaN          NaN         NaN  \n",
       "7778    NaN          NaN         NaN  \n",
       "7798    NaN          NaN         NaN  \n",
       "...     ...          ...         ...  \n",
       "42992   NaN          NaN         NaN  \n",
       "43313   NaN          NaN         NaN  \n",
       "44597   NaN          NaN         NaN  \n",
       "44835   NaN          NaN         NaN  \n",
       "45462   NaN          NaN         NaN  \n",
       "\n",
       "[123 rows x 21 columns]"
      ]
     },
     "execution_count": 118,
     "metadata": {},
     "output_type": "execute_result"
    }
   ],
   "source": [
    "data[pd.isnull(data[\"vote_count\"])==True]"
   ]
  },
  {
   "cell_type": "code",
   "execution_count": null,
   "metadata": {},
   "outputs": [],
   "source": []
  },
  {
   "cell_type": "markdown",
   "metadata": {},
   "source": [
    "## original_language 다시 정리"
   ]
  },
  {
   "cell_type": "code",
   "execution_count": 119,
   "metadata": {},
   "outputs": [
    {
     "data": {
      "text/plain": [
       "count     45287\n",
       "unique       83\n",
       "top          en\n",
       "freq      32204\n",
       "Name: original_language, dtype: object"
      ]
     },
     "execution_count": 119,
     "metadata": {},
     "output_type": "execute_result"
    }
   ],
   "source": [
    "data[\"original_language\"].describe()"
   ]
  },
  {
   "cell_type": "code",
   "execution_count": 120,
   "metadata": {},
   "outputs": [
    {
     "data": {
      "text/plain": [
       "134"
      ]
     },
     "execution_count": 120,
     "metadata": {},
     "output_type": "execute_result"
    }
   ],
   "source": [
    "np.sum(pd.isnull(data[\"original_language\"]))"
   ]
  },
  {
   "cell_type": "code",
   "execution_count": 121,
   "metadata": {
    "scrolled": true
   },
   "outputs": [],
   "source": [
    "index = pd.isnull(data[\"original_language\"])==True"
   ]
  },
  {
   "cell_type": "code",
   "execution_count": 122,
   "metadata": {},
   "outputs": [
    {
     "data": {
      "text/html": [
       "<div>\n",
       "<style scoped>\n",
       "    .dataframe tbody tr th:only-of-type {\n",
       "        vertical-align: middle;\n",
       "    }\n",
       "\n",
       "    .dataframe tbody tr th {\n",
       "        vertical-align: top;\n",
       "    }\n",
       "\n",
       "    .dataframe thead th {\n",
       "        text-align: right;\n",
       "    }\n",
       "</style>\n",
       "<table border=\"1\" class=\"dataframe\">\n",
       "  <thead>\n",
       "    <tr style=\"text-align: right;\">\n",
       "      <th></th>\n",
       "      <th>original_language</th>\n",
       "      <th>original_title</th>\n",
       "      <th>production_countries</th>\n",
       "      <th>spoken_languages</th>\n",
       "      <th>title</th>\n",
       "      <th>release_date</th>\n",
       "    </tr>\n",
       "  </thead>\n",
       "  <tbody>\n",
       "    <tr>\n",
       "      <th>773</th>\n",
       "      <td>NaN</td>\n",
       "      <td>NaN</td>\n",
       "      <td>NaN</td>\n",
       "      <td>NaN</td>\n",
       "      <td>NaN</td>\n",
       "      <td>NaT</td>\n",
       "    </tr>\n",
       "    <tr>\n",
       "      <th>4184</th>\n",
       "      <td>NaN</td>\n",
       "      <td>NaN</td>\n",
       "      <td>NaN</td>\n",
       "      <td>NaN</td>\n",
       "      <td>NaN</td>\n",
       "      <td>NaT</td>\n",
       "    </tr>\n",
       "    <tr>\n",
       "      <th>5283</th>\n",
       "      <td>NaN</td>\n",
       "      <td>NaN</td>\n",
       "      <td>NaN</td>\n",
       "      <td>NaN</td>\n",
       "      <td>NaN</td>\n",
       "      <td>NaT</td>\n",
       "    </tr>\n",
       "    <tr>\n",
       "      <th>7778</th>\n",
       "      <td>NaN</td>\n",
       "      <td>NaN</td>\n",
       "      <td>NaN</td>\n",
       "      <td>NaN</td>\n",
       "      <td>NaN</td>\n",
       "      <td>NaT</td>\n",
       "    </tr>\n",
       "    <tr>\n",
       "      <th>7798</th>\n",
       "      <td>NaN</td>\n",
       "      <td>NaN</td>\n",
       "      <td>NaN</td>\n",
       "      <td>NaN</td>\n",
       "      <td>NaN</td>\n",
       "      <td>NaT</td>\n",
       "    </tr>\n",
       "    <tr>\n",
       "      <th>...</th>\n",
       "      <td>...</td>\n",
       "      <td>...</td>\n",
       "      <td>...</td>\n",
       "      <td>...</td>\n",
       "      <td>...</td>\n",
       "      <td>...</td>\n",
       "    </tr>\n",
       "    <tr>\n",
       "      <th>44576</th>\n",
       "      <td>NaN</td>\n",
       "      <td>WiNWiN</td>\n",
       "      <td>[Austria]</td>\n",
       "      <td>[Deutsch, English]</td>\n",
       "      <td>WiNWiN</td>\n",
       "      <td>2016-01-27</td>\n",
       "    </tr>\n",
       "    <tr>\n",
       "      <th>44597</th>\n",
       "      <td>NaN</td>\n",
       "      <td>NaN</td>\n",
       "      <td>NaN</td>\n",
       "      <td>NaN</td>\n",
       "      <td>NaN</td>\n",
       "      <td>NaT</td>\n",
       "    </tr>\n",
       "    <tr>\n",
       "      <th>44655</th>\n",
       "      <td>NaN</td>\n",
       "      <td>La prise de Tournavos</td>\n",
       "      <td>[France]</td>\n",
       "      <td>[No Language]</td>\n",
       "      <td>The Surrender of Tournavos</td>\n",
       "      <td>1897-01-01</td>\n",
       "    </tr>\n",
       "    <tr>\n",
       "      <th>44835</th>\n",
       "      <td>NaN</td>\n",
       "      <td>NaN</td>\n",
       "      <td>NaN</td>\n",
       "      <td>NaN</td>\n",
       "      <td>NaN</td>\n",
       "      <td>NaT</td>\n",
       "    </tr>\n",
       "    <tr>\n",
       "      <th>45462</th>\n",
       "      <td>NaN</td>\n",
       "      <td>NaN</td>\n",
       "      <td>NaN</td>\n",
       "      <td>NaN</td>\n",
       "      <td>NaN</td>\n",
       "      <td>NaT</td>\n",
       "    </tr>\n",
       "  </tbody>\n",
       "</table>\n",
       "<p>134 rows × 6 columns</p>\n",
       "</div>"
      ],
      "text/plain": [
       "      original_language         original_title production_countries  \\\n",
       "773                 NaN                    NaN                  NaN   \n",
       "4184                NaN                    NaN                  NaN   \n",
       "5283                NaN                    NaN                  NaN   \n",
       "7778                NaN                    NaN                  NaN   \n",
       "7798                NaN                    NaN                  NaN   \n",
       "...                 ...                    ...                  ...   \n",
       "44576               NaN                 WiNWiN            [Austria]   \n",
       "44597               NaN                    NaN                  NaN   \n",
       "44655               NaN  La prise de Tournavos             [France]   \n",
       "44835               NaN                    NaN                  NaN   \n",
       "45462               NaN                    NaN                  NaN   \n",
       "\n",
       "         spoken_languages                       title release_date  \n",
       "773                   NaN                         NaN          NaT  \n",
       "4184                  NaN                         NaN          NaT  \n",
       "5283                  NaN                         NaN          NaT  \n",
       "7778                  NaN                         NaN          NaT  \n",
       "7798                  NaN                         NaN          NaT  \n",
       "...                   ...                         ...          ...  \n",
       "44576  [Deutsch, English]                      WiNWiN   2016-01-27  \n",
       "44597                 NaN                         NaN          NaT  \n",
       "44655       [No Language]  The Surrender of Tournavos   1897-01-01  \n",
       "44835                 NaN                         NaN          NaT  \n",
       "45462                 NaN                         NaN          NaT  \n",
       "\n",
       "[134 rows x 6 columns]"
      ]
     },
     "execution_count": 122,
     "metadata": {},
     "output_type": "execute_result"
    }
   ],
   "source": [
    "data.loc[index,[\"original_language\",\"original_title\",\"production_countries\",\"spoken_languages\",\"title\",\"release_date\"]]"
   ]
  },
  {
   "cell_type": "markdown",
   "metadata": {},
   "source": [
    "original_title이랑 title이랑 같은 행은 spoken_language랑 original_language랑 같다고 봐도 될것 같아요!"
   ]
  },
  {
   "cell_type": "markdown",
   "metadata": {},
   "source": [
    "song of lahore, WiNWiN은 미국 영화라 en으로 "
   ]
  },
  {
   "cell_type": "code",
   "execution_count": 123,
   "metadata": {},
   "outputs": [],
   "source": [
    "data.loc[[19574,21602,22832,32141,41047,41872,44576,44655],\"original_language\"]=\"en\""
   ]
  },
  {
   "cell_type": "markdown",
   "metadata": {},
   "source": [
    "체코어 언어부호(ISO 639-1)는\tcs"
   ]
  },
  {
   "cell_type": "code",
   "execution_count": 124,
   "metadata": {},
   "outputs": [],
   "source": [
    "data.loc[37407,\"original_language\"]=\"cs\""
   ]
  },
  {
   "cell_type": "markdown",
   "metadata": {},
   "source": [
    "프랑스어 언어부호(ISO 639-1)는 fr"
   ]
  },
  {
   "cell_type": "code",
   "execution_count": 125,
   "metadata": {},
   "outputs": [],
   "source": [
    "data.loc[44057,\"original_language\"]=\"fr\""
   ]
  },
  {
   "cell_type": "markdown",
   "metadata": {},
   "source": [
    "스웨덴어 언어부호(ISO 639-1)는 sv"
   ]
  },
  {
   "cell_type": "code",
   "execution_count": 126,
   "metadata": {},
   "outputs": [],
   "source": [
    "data.loc[44410,\"original_language\"]=\"sv\""
   ]
  },
  {
   "cell_type": "code",
   "execution_count": 127,
   "metadata": {},
   "outputs": [
    {
     "data": {
      "text/html": [
       "<div>\n",
       "<style scoped>\n",
       "    .dataframe tbody tr th:only-of-type {\n",
       "        vertical-align: middle;\n",
       "    }\n",
       "\n",
       "    .dataframe tbody tr th {\n",
       "        vertical-align: top;\n",
       "    }\n",
       "\n",
       "    .dataframe thead th {\n",
       "        text-align: right;\n",
       "    }\n",
       "</style>\n",
       "<table border=\"1\" class=\"dataframe\">\n",
       "  <thead>\n",
       "    <tr style=\"text-align: right;\">\n",
       "      <th></th>\n",
       "      <th>original_language</th>\n",
       "      <th>original_title</th>\n",
       "      <th>production_countries</th>\n",
       "      <th>spoken_languages</th>\n",
       "      <th>title</th>\n",
       "      <th>release_date</th>\n",
       "    </tr>\n",
       "  </thead>\n",
       "  <tbody>\n",
       "    <tr>\n",
       "      <th>773</th>\n",
       "      <td>NaN</td>\n",
       "      <td>NaN</td>\n",
       "      <td>NaN</td>\n",
       "      <td>NaN</td>\n",
       "      <td>NaN</td>\n",
       "      <td>NaT</td>\n",
       "    </tr>\n",
       "    <tr>\n",
       "      <th>4184</th>\n",
       "      <td>NaN</td>\n",
       "      <td>NaN</td>\n",
       "      <td>NaN</td>\n",
       "      <td>NaN</td>\n",
       "      <td>NaN</td>\n",
       "      <td>NaT</td>\n",
       "    </tr>\n",
       "    <tr>\n",
       "      <th>5283</th>\n",
       "      <td>NaN</td>\n",
       "      <td>NaN</td>\n",
       "      <td>NaN</td>\n",
       "      <td>NaN</td>\n",
       "      <td>NaN</td>\n",
       "      <td>NaT</td>\n",
       "    </tr>\n",
       "    <tr>\n",
       "      <th>7778</th>\n",
       "      <td>NaN</td>\n",
       "      <td>NaN</td>\n",
       "      <td>NaN</td>\n",
       "      <td>NaN</td>\n",
       "      <td>NaN</td>\n",
       "      <td>NaT</td>\n",
       "    </tr>\n",
       "    <tr>\n",
       "      <th>7798</th>\n",
       "      <td>NaN</td>\n",
       "      <td>NaN</td>\n",
       "      <td>NaN</td>\n",
       "      <td>NaN</td>\n",
       "      <td>NaN</td>\n",
       "      <td>NaT</td>\n",
       "    </tr>\n",
       "    <tr>\n",
       "      <th>...</th>\n",
       "      <td>...</td>\n",
       "      <td>...</td>\n",
       "      <td>...</td>\n",
       "      <td>...</td>\n",
       "      <td>...</td>\n",
       "      <td>...</td>\n",
       "    </tr>\n",
       "    <tr>\n",
       "      <th>44576</th>\n",
       "      <td>en</td>\n",
       "      <td>WiNWiN</td>\n",
       "      <td>[Austria]</td>\n",
       "      <td>[Deutsch, English]</td>\n",
       "      <td>WiNWiN</td>\n",
       "      <td>2016-01-27</td>\n",
       "    </tr>\n",
       "    <tr>\n",
       "      <th>44597</th>\n",
       "      <td>NaN</td>\n",
       "      <td>NaN</td>\n",
       "      <td>NaN</td>\n",
       "      <td>NaN</td>\n",
       "      <td>NaN</td>\n",
       "      <td>NaT</td>\n",
       "    </tr>\n",
       "    <tr>\n",
       "      <th>44655</th>\n",
       "      <td>en</td>\n",
       "      <td>La prise de Tournavos</td>\n",
       "      <td>[France]</td>\n",
       "      <td>[No Language]</td>\n",
       "      <td>The Surrender of Tournavos</td>\n",
       "      <td>1897-01-01</td>\n",
       "    </tr>\n",
       "    <tr>\n",
       "      <th>44835</th>\n",
       "      <td>NaN</td>\n",
       "      <td>NaN</td>\n",
       "      <td>NaN</td>\n",
       "      <td>NaN</td>\n",
       "      <td>NaN</td>\n",
       "      <td>NaT</td>\n",
       "    </tr>\n",
       "    <tr>\n",
       "      <th>45462</th>\n",
       "      <td>NaN</td>\n",
       "      <td>NaN</td>\n",
       "      <td>NaN</td>\n",
       "      <td>NaN</td>\n",
       "      <td>NaN</td>\n",
       "      <td>NaT</td>\n",
       "    </tr>\n",
       "  </tbody>\n",
       "</table>\n",
       "<p>134 rows × 6 columns</p>\n",
       "</div>"
      ],
      "text/plain": [
       "      original_language         original_title production_countries  \\\n",
       "773                 NaN                    NaN                  NaN   \n",
       "4184                NaN                    NaN                  NaN   \n",
       "5283                NaN                    NaN                  NaN   \n",
       "7778                NaN                    NaN                  NaN   \n",
       "7798                NaN                    NaN                  NaN   \n",
       "...                 ...                    ...                  ...   \n",
       "44576                en                 WiNWiN            [Austria]   \n",
       "44597               NaN                    NaN                  NaN   \n",
       "44655                en  La prise de Tournavos             [France]   \n",
       "44835               NaN                    NaN                  NaN   \n",
       "45462               NaN                    NaN                  NaN   \n",
       "\n",
       "         spoken_languages                       title release_date  \n",
       "773                   NaN                         NaN          NaT  \n",
       "4184                  NaN                         NaN          NaT  \n",
       "5283                  NaN                         NaN          NaT  \n",
       "7778                  NaN                         NaN          NaT  \n",
       "7798                  NaN                         NaN          NaT  \n",
       "...                   ...                         ...          ...  \n",
       "44576  [Deutsch, English]                      WiNWiN   2016-01-27  \n",
       "44597                 NaN                         NaN          NaT  \n",
       "44655       [No Language]  The Surrender of Tournavos   1897-01-01  \n",
       "44835                 NaN                         NaN          NaT  \n",
       "45462                 NaN                         NaN          NaT  \n",
       "\n",
       "[134 rows x 6 columns]"
      ]
     },
     "execution_count": 127,
     "metadata": {},
     "output_type": "execute_result"
    }
   ],
   "source": [
    "data.loc[index,[\"original_language\",\"original_title\",\"production_countries\",\"spoken_languages\",\"title\",\"release_date\"]]"
   ]
  },
  {
   "cell_type": "code",
   "execution_count": null,
   "metadata": {},
   "outputs": [],
   "source": []
  },
  {
   "cell_type": "markdown",
   "metadata": {},
   "source": [
    "# 텍스트 마이닝"
   ]
  },
  {
   "cell_type": "code",
   "execution_count": 128,
   "metadata": {},
   "outputs": [],
   "source": [
    "text_data=pd.DataFrame(data[[\"overview\",\"tagline\",\"genres\"]])\n",
    "text_data=text_data[pd.isnull(text_data[\"genres\"])==False]"
   ]
  },
  {
   "cell_type": "code",
   "execution_count": 129,
   "metadata": {},
   "outputs": [
    {
     "data": {
      "text/html": [
       "<div>\n",
       "<style scoped>\n",
       "    .dataframe tbody tr th:only-of-type {\n",
       "        vertical-align: middle;\n",
       "    }\n",
       "\n",
       "    .dataframe tbody tr th {\n",
       "        vertical-align: top;\n",
       "    }\n",
       "\n",
       "    .dataframe thead th {\n",
       "        text-align: right;\n",
       "    }\n",
       "</style>\n",
       "<table border=\"1\" class=\"dataframe\">\n",
       "  <thead>\n",
       "    <tr style=\"text-align: right;\">\n",
       "      <th></th>\n",
       "      <th>overview</th>\n",
       "      <th>tagline</th>\n",
       "      <th>genres</th>\n",
       "    </tr>\n",
       "  </thead>\n",
       "  <tbody>\n",
       "    <tr>\n",
       "      <th>0</th>\n",
       "      <td>Led by Woody, Andy's toys live happily in his ...</td>\n",
       "      <td>NaN</td>\n",
       "      <td>[Animation, Comedy, Family]</td>\n",
       "    </tr>\n",
       "    <tr>\n",
       "      <th>1</th>\n",
       "      <td>When siblings Judy and Peter discover an encha...</td>\n",
       "      <td>Roll the dice and unleash the excitement!</td>\n",
       "      <td>[Adventure, Fantasy, Family]</td>\n",
       "    </tr>\n",
       "    <tr>\n",
       "      <th>2</th>\n",
       "      <td>A family wedding reignites the ancient feud be...</td>\n",
       "      <td>Still Yelling. Still Fighting. Still Ready for...</td>\n",
       "      <td>[Romance, Comedy]</td>\n",
       "    </tr>\n",
       "    <tr>\n",
       "      <th>3</th>\n",
       "      <td>Cheated on, mistreated and stepped on, the wom...</td>\n",
       "      <td>Friends are the people who let you be yourself...</td>\n",
       "      <td>[Comedy, Drama, Romance]</td>\n",
       "    </tr>\n",
       "    <tr>\n",
       "      <th>4</th>\n",
       "      <td>Just when George Banks has recovered from his ...</td>\n",
       "      <td>Just When His World Is Back To Normal... He's ...</td>\n",
       "      <td>[Comedy]</td>\n",
       "    </tr>\n",
       "    <tr>\n",
       "      <th>...</th>\n",
       "      <td>...</td>\n",
       "      <td>...</td>\n",
       "      <td>...</td>\n",
       "    </tr>\n",
       "    <tr>\n",
       "      <th>45458</th>\n",
       "      <td>A film archivist revisits the story of Rustin ...</td>\n",
       "      <td>Do you know what happened 50 years before \"The...</td>\n",
       "      <td>[Horror]</td>\n",
       "    </tr>\n",
       "    <tr>\n",
       "      <th>45459</th>\n",
       "      <td>It's the year 3000 AD. The world's most danger...</td>\n",
       "      <td>NaN</td>\n",
       "      <td>[Science Fiction]</td>\n",
       "    </tr>\n",
       "    <tr>\n",
       "      <th>45460</th>\n",
       "      <td>Yet another version of the classic epic, with ...</td>\n",
       "      <td>NaN</td>\n",
       "      <td>[Drama, Action, Romance]</td>\n",
       "    </tr>\n",
       "    <tr>\n",
       "      <th>45461</th>\n",
       "      <td>Rising and falling between a man and woman.</td>\n",
       "      <td>Rising and falling between a man and woman</td>\n",
       "      <td>[Drama, Family]</td>\n",
       "    </tr>\n",
       "    <tr>\n",
       "      <th>45463</th>\n",
       "      <td>When one of her hits goes wrong, a professiona...</td>\n",
       "      <td>A deadly game of wits.</td>\n",
       "      <td>[Action, Drama, Thriller]</td>\n",
       "    </tr>\n",
       "  </tbody>\n",
       "</table>\n",
       "<p>42867 rows × 3 columns</p>\n",
       "</div>"
      ],
      "text/plain": [
       "                                                overview  \\\n",
       "0      Led by Woody, Andy's toys live happily in his ...   \n",
       "1      When siblings Judy and Peter discover an encha...   \n",
       "2      A family wedding reignites the ancient feud be...   \n",
       "3      Cheated on, mistreated and stepped on, the wom...   \n",
       "4      Just when George Banks has recovered from his ...   \n",
       "...                                                  ...   \n",
       "45458  A film archivist revisits the story of Rustin ...   \n",
       "45459  It's the year 3000 AD. The world's most danger...   \n",
       "45460  Yet another version of the classic epic, with ...   \n",
       "45461        Rising and falling between a man and woman.   \n",
       "45463  When one of her hits goes wrong, a professiona...   \n",
       "\n",
       "                                                 tagline  \\\n",
       "0                                                    NaN   \n",
       "1              Roll the dice and unleash the excitement!   \n",
       "2      Still Yelling. Still Fighting. Still Ready for...   \n",
       "3      Friends are the people who let you be yourself...   \n",
       "4      Just When His World Is Back To Normal... He's ...   \n",
       "...                                                  ...   \n",
       "45458  Do you know what happened 50 years before \"The...   \n",
       "45459                                                NaN   \n",
       "45460                                                NaN   \n",
       "45461         Rising and falling between a man and woman   \n",
       "45463                             A deadly game of wits.   \n",
       "\n",
       "                             genres  \n",
       "0       [Animation, Comedy, Family]  \n",
       "1      [Adventure, Fantasy, Family]  \n",
       "2                 [Romance, Comedy]  \n",
       "3          [Comedy, Drama, Romance]  \n",
       "4                          [Comedy]  \n",
       "...                             ...  \n",
       "45458                      [Horror]  \n",
       "45459             [Science Fiction]  \n",
       "45460      [Drama, Action, Romance]  \n",
       "45461               [Drama, Family]  \n",
       "45463     [Action, Drama, Thriller]  \n",
       "\n",
       "[42867 rows x 3 columns]"
      ]
     },
     "execution_count": 129,
     "metadata": {},
     "output_type": "execute_result"
    }
   ],
   "source": [
    "text_data"
   ]
  },
  {
   "cell_type": "code",
   "execution_count": null,
   "metadata": {},
   "outputs": [],
   "source": []
  },
  {
   "cell_type": "code",
   "execution_count": 130,
   "metadata": {},
   "outputs": [
    {
     "data": {
      "text/plain": [
       "0         [Animation, Comedy, Family]\n",
       "1        [Adventure, Fantasy, Family]\n",
       "2                   [Romance, Comedy]\n",
       "3            [Comedy, Drama, Romance]\n",
       "4                            [Comedy]\n",
       "                     ...             \n",
       "45458                        [Horror]\n",
       "45459               [Science Fiction]\n",
       "45460        [Drama, Action, Romance]\n",
       "45461                 [Drama, Family]\n",
       "45463       [Action, Drama, Thriller]\n",
       "Name: genres, Length: 42867, dtype: object"
      ]
     },
     "execution_count": 130,
     "metadata": {},
     "output_type": "execute_result"
    }
   ],
   "source": [
    "text_data[\"genres\"]"
   ]
  },
  {
   "cell_type": "code",
   "execution_count": 131,
   "metadata": {},
   "outputs": [],
   "source": [
    "genres_type=[]"
   ]
  },
  {
   "cell_type": "code",
   "execution_count": 132,
   "metadata": {},
   "outputs": [],
   "source": [
    "for genres in text_data[\"genres\"]:\n",
    "    for gen in genres:\n",
    "        if gen not in genres_type:\n",
    "            genres_type.append(gen)\n"
   ]
  },
  {
   "cell_type": "code",
   "execution_count": 133,
   "metadata": {},
   "outputs": [
    {
     "data": {
      "text/plain": [
       "['Animation',\n",
       " 'Comedy',\n",
       " 'Family',\n",
       " 'Adventure',\n",
       " 'Fantasy',\n",
       " 'Romance',\n",
       " 'Drama',\n",
       " 'Action',\n",
       " 'Crime',\n",
       " 'Thriller',\n",
       " 'Horror',\n",
       " 'History',\n",
       " 'Science Fiction',\n",
       " 'Mystery',\n",
       " 'War',\n",
       " 'Foreign',\n",
       " 'Music',\n",
       " 'Documentary',\n",
       " 'Western',\n",
       " 'TV Movie']"
      ]
     },
     "execution_count": 133,
     "metadata": {},
     "output_type": "execute_result"
    }
   ],
   "source": [
    "genres_type"
   ]
  },
  {
   "cell_type": "code",
   "execution_count": 134,
   "metadata": {},
   "outputs": [],
   "source": [
    "from collections import Counter"
   ]
  },
  {
   "cell_type": "code",
   "execution_count": 135,
   "metadata": {},
   "outputs": [],
   "source": [
    "gen_list=[]\n",
    "for genres in text_data[\"genres\"]:\n",
    "    for gen in genres:\n",
    "        gen_list.append(gen)"
   ]
  },
  {
   "cell_type": "code",
   "execution_count": 136,
   "metadata": {
    "scrolled": true
   },
   "outputs": [
    {
     "data": {
      "text/plain": [
       "['Animation',\n",
       " 'Comedy',\n",
       " 'Family',\n",
       " 'Adventure',\n",
       " 'Fantasy',\n",
       " 'Family',\n",
       " 'Romance',\n",
       " 'Comedy',\n",
       " 'Comedy',\n",
       " 'Drama',\n",
       " 'Romance',\n",
       " 'Comedy',\n",
       " 'Action',\n",
       " 'Crime',\n",
       " 'Drama',\n",
       " 'Thriller',\n",
       " 'Comedy',\n",
       " 'Romance',\n",
       " 'Action',\n",
       " 'Adventure']"
      ]
     },
     "execution_count": 136,
     "metadata": {},
     "output_type": "execute_result"
    }
   ],
   "source": [
    "gen_list[0:20]"
   ]
  },
  {
   "cell_type": "code",
   "execution_count": 137,
   "metadata": {
    "scrolled": false
   },
   "outputs": [
    {
     "data": {
      "text/plain": [
       "Counter({'Animation': 1928,\n",
       "         'Comedy': 13141,\n",
       "         'Family': 2761,\n",
       "         'Adventure': 3483,\n",
       "         'Fantasy': 2306,\n",
       "         'Romance': 6714,\n",
       "         'Drama': 20163,\n",
       "         'Action': 6580,\n",
       "         'Crime': 4294,\n",
       "         'Thriller': 7605,\n",
       "         'Horror': 4660,\n",
       "         'History': 1396,\n",
       "         'Science Fiction': 3039,\n",
       "         'Mystery': 2461,\n",
       "         'War': 1321,\n",
       "         'Foreign': 1613,\n",
       "         'Music': 1595,\n",
       "         'Documentary': 3926,\n",
       "         'Western': 1042,\n",
       "         'TV Movie': 765})"
      ]
     },
     "execution_count": 137,
     "metadata": {},
     "output_type": "execute_result"
    }
   ],
   "source": [
    "counts=Counter(gen_list)\n",
    "counts"
   ]
  },
  {
   "cell_type": "code",
   "execution_count": null,
   "metadata": {},
   "outputs": [],
   "source": []
  },
  {
   "cell_type": "code",
   "execution_count": 138,
   "metadata": {},
   "outputs": [
    {
     "data": {
      "text/plain": [
       "8"
      ]
     },
     "execution_count": 138,
     "metadata": {},
     "output_type": "execute_result"
    }
   ],
   "source": [
    "max_len=0\n",
    "for genres in text_data[\"genres\"]:\n",
    "    if len(genres)>max_len:\n",
    "        max_len=len(genres)\n",
    "\n",
    "max_len"
   ]
  },
  {
   "cell_type": "code",
   "execution_count": null,
   "metadata": {},
   "outputs": [],
   "source": []
  },
  {
   "cell_type": "code",
   "execution_count": 139,
   "metadata": {},
   "outputs": [
    {
     "name": "stdout",
     "output_type": "stream",
     "text": [
      "['Adventure', 'Fantasy', 'Animation', 'Action', 'Comedy', 'Thriller', 'Science Fiction', 'Family']\n",
      "['Fantasy', 'Animation', 'Drama', 'Science Fiction', 'Romance', 'Foreign', 'Family', 'Comedy']\n",
      "['Action', 'Comedy', 'Crime', 'Drama', 'Family', 'Fantasy', 'Music', 'Thriller']\n"
     ]
    }
   ],
   "source": [
    "for genres in text_data[\"genres\"]:\n",
    "    if len(genres)==max_len:\n",
    "        print(genres)"
   ]
  },
  {
   "cell_type": "code",
   "execution_count": null,
   "metadata": {},
   "outputs": [],
   "source": []
  },
  {
   "cell_type": "code",
   "execution_count": 140,
   "metadata": {},
   "outputs": [
    {
     "data": {
      "text/plain": [
       "0.01625959362679917"
      ]
     },
     "execution_count": 140,
     "metadata": {},
     "output_type": "execute_result"
    }
   ],
   "source": [
    "np.mean(pd.isnull(text_data[\"overview\"])) "
   ]
  },
  {
   "cell_type": "code",
   "execution_count": 141,
   "metadata": {},
   "outputs": [
    {
     "data": {
      "text/plain": [
       "0.5310378612919029"
      ]
     },
     "execution_count": 141,
     "metadata": {},
     "output_type": "execute_result"
    }
   ],
   "source": [
    "np.mean(pd.isnull(text_data[\"tagline\"]))"
   ]
  },
  {
   "cell_type": "markdown",
   "metadata": {},
   "source": [
    "- overview가 na인 경우는 1.6%, tagline이 na인 경우는 53%\n",
    "- na를 빈칸으로 바꿔서 사용"
   ]
  },
  {
   "cell_type": "markdown",
   "metadata": {},
   "source": [
    " ###  overview만 이용해서 genres 예측\n"
   ]
  },
  {
   "cell_type": "code",
   "execution_count": 142,
   "metadata": {},
   "outputs": [
    {
     "data": {
      "text/plain": [
       "32       NaN\n",
       "300      NaN\n",
       "634      NaN\n",
       "635      NaN\n",
       "641      NaN\n",
       "        ... \n",
       "45342    NaN\n",
       "45377    NaN\n",
       "45398    NaN\n",
       "45399    NaN\n",
       "45410    NaN\n",
       "Name: overview, Length: 697, dtype: object"
      ]
     },
     "execution_count": 142,
     "metadata": {},
     "output_type": "execute_result"
    }
   ],
   "source": [
    "text_data[pd.isnull(text_data[\"overview\"])==True][\"overview\"]"
   ]
  },
  {
   "cell_type": "code",
   "execution_count": 143,
   "metadata": {},
   "outputs": [],
   "source": [
    "na_ind=pd.isnull(text_data[\"overview\"])==True\n",
    "text_data.loc[na_ind,\"overview\"] = \"\""
   ]
  },
  {
   "cell_type": "code",
   "execution_count": 144,
   "metadata": {},
   "outputs": [
    {
     "data": {
      "text/plain": [
       "Series([], Name: overview, dtype: object)"
      ]
     },
     "execution_count": 144,
     "metadata": {},
     "output_type": "execute_result"
    }
   ],
   "source": [
    "text_data[pd.isnull(text_data[\"overview\"])==True][\"overview\"]"
   ]
  },
  {
   "cell_type": "code",
   "execution_count": null,
   "metadata": {},
   "outputs": [],
   "source": []
  },
  {
   "cell_type": "code",
   "execution_count": 145,
   "metadata": {},
   "outputs": [],
   "source": [
    "from sklearn.model_selection import train_test_split\n",
    "\n",
    "X_train, X_test, y_train, y_test = train_test_split(text_data[\"overview\"], text_data[\"genres\"], \n",
    "                                                    test_size=0.2, random_state=42)\n"
   ]
  },
  {
   "cell_type": "code",
   "execution_count": 146,
   "metadata": {},
   "outputs": [
    {
     "name": "stdout",
     "output_type": "stream",
     "text": [
      "(34293,)\n",
      "(34293,)\n",
      "(8574,)\n",
      "(8574,)\n"
     ]
    }
   ],
   "source": [
    "print(X_train.shape)\n",
    "print(y_train.shape)\n",
    "\n",
    "print(X_test.shape)\n",
    "print(y_test.shape)"
   ]
  },
  {
   "cell_type": "code",
   "execution_count": 147,
   "metadata": {},
   "outputs": [],
   "source": [
    "X_train = X_train.reset_index()[\"overview\"]\n",
    "X_test = X_test.reset_index()[\"overview\"]\n",
    "y_train = y_train.reset_index()[\"genres\"]\n",
    "y_test = y_test.reset_index()[\"genres\"]"
   ]
  },
  {
   "cell_type": "code",
   "execution_count": 148,
   "metadata": {},
   "outputs": [
    {
     "data": {
      "text/plain": [
       "0        General Fitzhugh, an ageing Lothario has an ov...\n",
       "1        Bruno loves his wife Maxine, but his love and ...\n",
       "2        After years working as a border patrolman, Jos...\n",
       "3        A nurse and her surgeon-lover are part of a re...\n",
       "4        Two young men, one rich, one middle class, bot...\n",
       "                               ...                        \n",
       "34288    To prevent a world war from breaking out, famo...\n",
       "34289    A young teacher inspires her class of at-risk ...\n",
       "34290    Tommaso Scalia is a man who commits three murd...\n",
       "34291    Young Dorothy finds herself in a magical world...\n",
       "34292    Michael Firch is very skilled in computers and...\n",
       "Name: overview, Length: 34293, dtype: object"
      ]
     },
     "execution_count": 148,
     "metadata": {},
     "output_type": "execute_result"
    }
   ],
   "source": [
    "X_train"
   ]
  },
  {
   "cell_type": "code",
   "execution_count": 149,
   "metadata": {},
   "outputs": [
    {
     "data": {
      "text/plain": [
       "0                                            [Comedy]\n",
       "1                                   [Drama, Thriller]\n",
       "2                                             [Drama]\n",
       "3                                    [Drama, Romance]\n",
       "4                       [Action, Drama, Romance, War]\n",
       "                             ...                     \n",
       "34288    [Fantasy, Action, Thriller, Science Fiction]\n",
       "34289                                  [Crime, Drama]\n",
       "34290                                         [Drama]\n",
       "34291                    [Adventure, Family, Fantasy]\n",
       "34292           [Adventure, Comedy, Fantasy, Romance]\n",
       "Name: genres, Length: 34293, dtype: object"
      ]
     },
     "execution_count": 149,
     "metadata": {},
     "output_type": "execute_result"
    }
   ],
   "source": [
    "y_train"
   ]
  },
  {
   "cell_type": "code",
   "execution_count": null,
   "metadata": {},
   "outputs": [],
   "source": []
  },
  {
   "cell_type": "code",
   "execution_count": 150,
   "metadata": {},
   "outputs": [],
   "source": [
    "from sklearn.preprocessing import MultiLabelBinarizer\n",
    "multilabel_binarizer = MultiLabelBinarizer()"
   ]
  },
  {
   "cell_type": "code",
   "execution_count": 151,
   "metadata": {},
   "outputs": [],
   "source": [
    "multilabel_binarizer.fit(y_train)\n",
    "y_train_oe = multilabel_binarizer.transform(y_train)"
   ]
  },
  {
   "cell_type": "code",
   "execution_count": 152,
   "metadata": {},
   "outputs": [],
   "source": [
    "multilabel_binarizer.fit(y_test)\n",
    "y_test_oe = multilabel_binarizer.transform(y_test)"
   ]
  },
  {
   "cell_type": "code",
   "execution_count": null,
   "metadata": {},
   "outputs": [],
   "source": []
  },
  {
   "cell_type": "code",
   "execution_count": 153,
   "metadata": {
    "scrolled": false
   },
   "outputs": [
    {
     "name": "stdout",
     "output_type": "stream",
     "text": [
      "['Comedy']\n",
      "[0 0 0 1 0 0 0 0 0 0 0 0 0 0 0 0 0 0 0 0] \n",
      "\n",
      "['Drama', 'Thriller']\n",
      "[0 0 0 0 0 0 1 0 0 0 0 0 0 0 0 0 0 1 0 0] \n",
      "\n",
      "['Drama']\n",
      "[0 0 0 0 0 0 1 0 0 0 0 0 0 0 0 0 0 0 0 0] \n",
      "\n",
      "['Drama', 'Romance']\n",
      "[0 0 0 0 0 0 1 0 0 0 0 0 0 0 1 0 0 0 0 0] \n",
      "\n",
      "['Action', 'Drama', 'Romance', 'War']\n",
      "[1 0 0 0 0 0 1 0 0 0 0 0 0 0 1 0 0 0 1 0] \n",
      "\n"
     ]
    }
   ],
   "source": [
    "for i in range(5):\n",
    "    print(y_train[i])\n",
    "    print(y_train_oe[i],\"\\n\")"
   ]
  },
  {
   "cell_type": "code",
   "execution_count": null,
   "metadata": {},
   "outputs": [],
   "source": []
  },
  {
   "cell_type": "code",
   "execution_count": 154,
   "metadata": {},
   "outputs": [],
   "source": [
    "from sklearn.feature_extraction.text import TfidfVectorizer\n",
    "tfidf_vect=TfidfVectorizer(stop_words=\"english\")"
   ]
  },
  {
   "cell_type": "code",
   "execution_count": null,
   "metadata": {},
   "outputs": [],
   "source": []
  },
  {
   "cell_type": "code",
   "execution_count": 155,
   "metadata": {},
   "outputs": [],
   "source": [
    "#train"
   ]
  },
  {
   "cell_type": "code",
   "execution_count": 156,
   "metadata": {},
   "outputs": [
    {
     "data": {
      "text/plain": [
       "(34293, 65514)"
      ]
     },
     "execution_count": 156,
     "metadata": {},
     "output_type": "execute_result"
    }
   ],
   "source": [
    "tfidf_vect.fit(X_train)\n",
    "X_train_tfidf_vect=tfidf_vect.transform(X_train)\n",
    "X_train_tfidf_vect.shape"
   ]
  },
  {
   "cell_type": "code",
   "execution_count": null,
   "metadata": {},
   "outputs": [],
   "source": []
  },
  {
   "cell_type": "code",
   "execution_count": 157,
   "metadata": {},
   "outputs": [],
   "source": [
    "from sklearn.linear_model import LogisticRegression\n",
    "from sklearn.multiclass import OneVsRestClassifier\n",
    "from sklearn.metrics import accuracy_score, f1_score"
   ]
  },
  {
   "cell_type": "code",
   "execution_count": 158,
   "metadata": {},
   "outputs": [],
   "source": [
    "lr = LogisticRegression()\n",
    "clf = OneVsRestClassifier(lr)"
   ]
  },
  {
   "cell_type": "code",
   "execution_count": 159,
   "metadata": {},
   "outputs": [
    {
     "name": "stderr",
     "output_type": "stream",
     "text": [
      "C:\\ProgramData\\Anaconda3\\envs\\testtest\\lib\\site-packages\\sklearn\\linear_model\\_logistic.py:764: ConvergenceWarning: lbfgs failed to converge (status=1):\n",
      "STOP: TOTAL NO. of ITERATIONS REACHED LIMIT.\n",
      "\n",
      "Increase the number of iterations (max_iter) or scale the data as shown in:\n",
      "    https://scikit-learn.org/stable/modules/preprocessing.html\n",
      "Please also refer to the documentation for alternative solver options:\n",
      "    https://scikit-learn.org/stable/modules/linear_model.html#logistic-regression\n",
      "  extra_warning_msg=_LOGISTIC_SOLVER_CONVERGENCE_MSG)\n"
     ]
    },
    {
     "data": {
      "text/plain": [
       "OneVsRestClassifier(estimator=LogisticRegression())"
      ]
     },
     "execution_count": 159,
     "metadata": {},
     "output_type": "execute_result"
    }
   ],
   "source": [
    "clf.fit(X_train_tfidf_vect, y_train_oe)"
   ]
  },
  {
   "cell_type": "code",
   "execution_count": 160,
   "metadata": {},
   "outputs": [],
   "source": [
    "pred_train=clf.predict(X_train_tfidf_vect)\n",
    "pred_genres_train=multilabel_binarizer.inverse_transform(pred_train)"
   ]
  },
  {
   "cell_type": "code",
   "execution_count": 161,
   "metadata": {},
   "outputs": [
    {
     "data": {
      "text/plain": [
       "[('Comedy',),\n",
       " ('Drama',),\n",
       " ('Drama',),\n",
       " ('Drama',),\n",
       " ('Drama', 'Romance'),\n",
       " ('Comedy',),\n",
       " ('Drama',),\n",
       " ('Comedy',),\n",
       " ('Drama',),\n",
       " ('Drama',),\n",
       " ('Comedy',),\n",
       " ('Drama',),\n",
       " ('Documentary',),\n",
       " ('Drama',),\n",
       " ('Music',),\n",
       " ('Drama',),\n",
       " ('Drama',),\n",
       " (),\n",
       " (),\n",
       " ('Drama',)]"
      ]
     },
     "execution_count": 161,
     "metadata": {},
     "output_type": "execute_result"
    }
   ],
   "source": [
    "pred_genres_train[0:20]"
   ]
  },
  {
   "cell_type": "code",
   "execution_count": null,
   "metadata": {},
   "outputs": [],
   "source": []
  },
  {
   "cell_type": "code",
   "execution_count": 162,
   "metadata": {
    "scrolled": true
   },
   "outputs": [
    {
     "data": {
      "text/plain": [
       "0.25290875688916103"
      ]
     },
     "execution_count": 162,
     "metadata": {},
     "output_type": "execute_result"
    }
   ],
   "source": [
    "accuracy_score(y_train_oe, pred_train)"
   ]
  },
  {
   "cell_type": "code",
   "execution_count": 163,
   "metadata": {
    "scrolled": true
   },
   "outputs": [
    {
     "data": {
      "text/plain": [
       "0.5592168808975406"
      ]
     },
     "execution_count": 163,
     "metadata": {},
     "output_type": "execute_result"
    }
   ],
   "source": [
    "f1_score(y_train_oe, pred_train, average=\"micro\")"
   ]
  },
  {
   "cell_type": "code",
   "execution_count": null,
   "metadata": {},
   "outputs": [],
   "source": []
  },
  {
   "cell_type": "code",
   "execution_count": 164,
   "metadata": {},
   "outputs": [],
   "source": [
    "#test"
   ]
  },
  {
   "cell_type": "code",
   "execution_count": 165,
   "metadata": {},
   "outputs": [
    {
     "data": {
      "text/plain": [
       "(8574, 65514)"
      ]
     },
     "execution_count": 165,
     "metadata": {},
     "output_type": "execute_result"
    }
   ],
   "source": [
    "X_test_tfidf_vect=tfidf_vect.transform(X_test)\n",
    "X_test_tfidf_vect.shape"
   ]
  },
  {
   "cell_type": "code",
   "execution_count": 166,
   "metadata": {},
   "outputs": [],
   "source": [
    "pred_test=clf.predict(X_test_tfidf_vect)\n",
    "pred_genres_test=multilabel_binarizer.inverse_transform(pred_test)"
   ]
  },
  {
   "cell_type": "code",
   "execution_count": 167,
   "metadata": {},
   "outputs": [
    {
     "data": {
      "text/plain": [
       "0.18754373687893633"
      ]
     },
     "execution_count": 167,
     "metadata": {},
     "output_type": "execute_result"
    }
   ],
   "source": [
    "accuracy_score(y_test_oe, pred_test)"
   ]
  },
  {
   "cell_type": "code",
   "execution_count": 168,
   "metadata": {},
   "outputs": [
    {
     "data": {
      "text/plain": [
       "0.46330466411548515"
      ]
     },
     "execution_count": 168,
     "metadata": {},
     "output_type": "execute_result"
    }
   ],
   "source": [
    "f1_score(y_test_oe, pred_test, average=\"micro\")"
   ]
  },
  {
   "cell_type": "markdown",
   "metadata": {},
   "source": [
    "정확도는 떨어짐. 모든 장르가 같게 예측되어야 옳게 분류된 것으로 보기 때문."
   ]
  },
  {
   "cell_type": "code",
   "execution_count": null,
   "metadata": {},
   "outputs": [],
   "source": []
  },
  {
   "cell_type": "markdown",
   "metadata": {},
   "source": [
    "### 해결 방법 1: decision threshold를 낮춘다"
   ]
  },
  {
   "cell_type": "code",
   "execution_count": 169,
   "metadata": {},
   "outputs": [],
   "source": [
    "#train"
   ]
  },
  {
   "cell_type": "code",
   "execution_count": 170,
   "metadata": {},
   "outputs": [
    {
     "data": {
      "text/plain": [
       "array([[0.09773301, 0.03751082, 0.01794111, ..., 0.07763693, 0.0203805 ,\n",
       "        0.02526564],\n",
       "       [0.06237304, 0.02231693, 0.0326623 , ..., 0.20071965, 0.0158572 ,\n",
       "        0.00954155],\n",
       "       [0.08552517, 0.05381511, 0.02366371, ..., 0.12834334, 0.04252555,\n",
       "        0.01506943],\n",
       "       ...,\n",
       "       [0.20078479, 0.02660671, 0.01837857, ..., 0.30293883, 0.00898194,\n",
       "        0.04645939],\n",
       "       [0.07453522, 0.31972128, 0.30319858, ..., 0.03199989, 0.00814872,\n",
       "        0.02522304],\n",
       "       [0.11651859, 0.26585396, 0.04387484, ..., 0.09008051, 0.01423304,\n",
       "        0.00994323]])"
      ]
     },
     "execution_count": 170,
     "metadata": {},
     "output_type": "execute_result"
    }
   ],
   "source": [
    "clf.predict_proba(X_train_tfidf_vect)"
   ]
  },
  {
   "cell_type": "code",
   "execution_count": 171,
   "metadata": {},
   "outputs": [
    {
     "data": {
      "text/plain": [
       "array([0.09766008, 0.0554361 , 0.03711857, 0.52867231, 0.15332641,\n",
       "       0.14569616, 0.30267336, 0.05100432, 0.03233032, 0.01528231,\n",
       "       0.01977148, 0.05728988, 0.07261807, 0.04176461, 0.08480326,\n",
       "       0.05523047, 0.01702867, 0.0894302 , 0.00820631, 0.01896097])"
      ]
     },
     "execution_count": 171,
     "metadata": {},
     "output_type": "execute_result"
    }
   ],
   "source": [
    "clf.predict_proba(X_train_tfidf_vect)[5]"
   ]
  },
  {
   "cell_type": "code",
   "execution_count": 172,
   "metadata": {},
   "outputs": [
    {
     "name": "stdout",
     "output_type": "stream",
     "text": [
      "[0 0 0 1 0 0 0 0 0 0 0 0 0 0 0 0 0 0 0 0]\n",
      "[0 0 0 1 1 0 1 0 0 0 0 0 0 0 0 0 0 0 0 0]\n"
     ]
    }
   ],
   "source": [
    "print(pred_train[5])\n",
    "print(y_train_oe[5])"
   ]
  },
  {
   "cell_type": "code",
   "execution_count": 173,
   "metadata": {},
   "outputs": [
    {
     "name": "stdout",
     "output_type": "stream",
     "text": [
      "('Comedy',)\n",
      "['Comedy', 'Drama', 'Crime']\n"
     ]
    }
   ],
   "source": [
    "print(pred_genres_train[5])\n",
    "print(y_train[5])"
   ]
  },
  {
   "cell_type": "markdown",
   "metadata": {},
   "source": [
    "기준을 0.3으로 낮춰보면"
   ]
  },
  {
   "cell_type": "code",
   "execution_count": 174,
   "metadata": {},
   "outputs": [],
   "source": [
    "prob_train = clf.predict_proba(X_train_tfidf_vect)\n",
    "\n",
    "new_pred_train = (prob_train >= 0.3).astype(int)"
   ]
  },
  {
   "cell_type": "code",
   "execution_count": 175,
   "metadata": {},
   "outputs": [
    {
     "name": "stdout",
     "output_type": "stream",
     "text": [
      "[0 0 0 1 0 0 1 0 0 0 0 0 0 0 0 0 0 0 0 0]\n",
      "[0 0 0 1 1 0 1 0 0 0 0 0 0 0 0 0 0 0 0 0]\n"
     ]
    }
   ],
   "source": [
    "print(new_pred_train[5])\n",
    "print(y_train_oe[5])"
   ]
  },
  {
   "cell_type": "code",
   "execution_count": 176,
   "metadata": {},
   "outputs": [],
   "source": [
    "new_pred_genres_train=multilabel_binarizer.inverse_transform(new_pred_train)"
   ]
  },
  {
   "cell_type": "code",
   "execution_count": null,
   "metadata": {},
   "outputs": [],
   "source": []
  },
  {
   "cell_type": "code",
   "execution_count": 177,
   "metadata": {
    "scrolled": true
   },
   "outputs": [
    {
     "data": {
      "text/plain": [
       "0.2660309684192109"
      ]
     },
     "execution_count": 177,
     "metadata": {},
     "output_type": "execute_result"
    }
   ],
   "source": [
    "accuracy_score(y_train_oe, new_pred_train)"
   ]
  },
  {
   "cell_type": "code",
   "execution_count": 178,
   "metadata": {
    "scrolled": false
   },
   "outputs": [
    {
     "data": {
      "text/plain": [
       "0.6875117383955092"
      ]
     },
     "execution_count": 178,
     "metadata": {},
     "output_type": "execute_result"
    }
   ],
   "source": [
    "f1_score(y_train_oe, new_pred_train, average=\"micro\")"
   ]
  },
  {
   "cell_type": "code",
   "execution_count": null,
   "metadata": {},
   "outputs": [],
   "source": []
  },
  {
   "cell_type": "code",
   "execution_count": 179,
   "metadata": {},
   "outputs": [],
   "source": [
    "#test"
   ]
  },
  {
   "cell_type": "code",
   "execution_count": 180,
   "metadata": {},
   "outputs": [
    {
     "data": {
      "text/plain": [
       "array([[0.06654023, 0.04813873, 0.03443253, ..., 0.04461443, 0.01350475,\n",
       "        0.01105429],\n",
       "       [0.10847897, 0.07111939, 0.04751479, ..., 0.11312403, 0.01930651,\n",
       "        0.01792832],\n",
       "       [0.01634912, 0.02153399, 0.01402249, ..., 0.04264818, 0.02019381,\n",
       "        0.00890216],\n",
       "       ...,\n",
       "       [0.00734607, 0.00760388, 0.01746339, ..., 0.01467087, 0.0101123 ,\n",
       "        0.00589358],\n",
       "       [0.11154863, 0.02826726, 0.05435625, ..., 0.14200778, 0.01217582,\n",
       "        0.01581689],\n",
       "       [0.45295257, 0.1058758 , 0.03816299, ..., 0.13268871, 0.02196581,\n",
       "        0.03144585]])"
      ]
     },
     "execution_count": 180,
     "metadata": {},
     "output_type": "execute_result"
    }
   ],
   "source": [
    "clf.predict_proba(X_test_tfidf_vect)"
   ]
  },
  {
   "cell_type": "code",
   "execution_count": 181,
   "metadata": {},
   "outputs": [
    {
     "data": {
      "text/plain": [
       "array([0.10847897, 0.07111939, 0.04751479, 0.3769959 , 0.07298559,\n",
       "       0.07226138, 0.40943703, 0.04996626, 0.04299898, 0.03296089,\n",
       "       0.02947181, 0.06888293, 0.02931334, 0.0375853 , 0.10647675,\n",
       "       0.05016457, 0.01622002, 0.11312403, 0.01930651, 0.01792832])"
      ]
     },
     "execution_count": 181,
     "metadata": {},
     "output_type": "execute_result"
    }
   ],
   "source": [
    "clf.predict_proba(X_test_tfidf_vect)[1]"
   ]
  },
  {
   "cell_type": "code",
   "execution_count": 182,
   "metadata": {},
   "outputs": [
    {
     "name": "stdout",
     "output_type": "stream",
     "text": [
      "[0 0 0 0 0 0 0 0 0 0 0 0 0 0 0 0 0 0 0 0]\n",
      "[1 0 0 1 0 0 1 0 0 0 0 0 0 0 0 0 0 0 0 0]\n"
     ]
    }
   ],
   "source": [
    "print(pred_test[1])\n",
    "print(y_test_oe[1])"
   ]
  },
  {
   "cell_type": "code",
   "execution_count": null,
   "metadata": {},
   "outputs": [],
   "source": []
  },
  {
   "cell_type": "code",
   "execution_count": 183,
   "metadata": {},
   "outputs": [],
   "source": [
    "prob_test = clf.predict_proba(X_test_tfidf_vect)\n",
    "\n",
    "new_pred_test = (prob_test >= 0.3).astype(int)"
   ]
  },
  {
   "cell_type": "code",
   "execution_count": 184,
   "metadata": {},
   "outputs": [],
   "source": [
    "new_pred_genres_test=multilabel_binarizer.inverse_transform(new_pred_test)"
   ]
  },
  {
   "cell_type": "code",
   "execution_count": 185,
   "metadata": {
    "scrolled": true
   },
   "outputs": [
    {
     "data": {
      "text/plain": [
       "0.1668999300209937"
      ]
     },
     "execution_count": 185,
     "metadata": {},
     "output_type": "execute_result"
    }
   ],
   "source": [
    "accuracy_score(y_test_oe, new_pred_test)"
   ]
  },
  {
   "cell_type": "code",
   "execution_count": 186,
   "metadata": {
    "scrolled": false
   },
   "outputs": [
    {
     "data": {
      "text/plain": [
       "0.5766268934585767"
      ]
     },
     "execution_count": 186,
     "metadata": {},
     "output_type": "execute_result"
    }
   ],
   "source": [
    "f1_score(y_test_oe, new_pred_test, average=\"micro\")"
   ]
  },
  {
   "cell_type": "code",
   "execution_count": null,
   "metadata": {},
   "outputs": [],
   "source": []
  },
  {
   "cell_type": "markdown",
   "metadata": {},
   "source": [
    "### 해결 방법2: 실제 장르 중 50% 이상 겹치면 맞춘 것으로 인정한다"
   ]
  },
  {
   "cell_type": "code",
   "execution_count": 187,
   "metadata": {},
   "outputs": [],
   "source": [
    "#train"
   ]
  },
  {
   "cell_type": "code",
   "execution_count": 188,
   "metadata": {},
   "outputs": [
    {
     "name": "stdout",
     "output_type": "stream",
     "text": [
      "실제\n",
      "[0 0 0 1 0 0 0 0 0 0 0 0 0 0 0 0 0 0 0 0]\n",
      "['Comedy']\n",
      "예측\n",
      "[0 0 0 1 0 0 0 0 0 0 0 0 0 0 0 0 0 0 0 0]\n",
      "('Comedy',) \n",
      "\n",
      "실제\n",
      "[0 0 0 0 0 0 1 0 0 0 0 0 0 0 0 0 0 1 0 0]\n",
      "['Drama', 'Thriller']\n",
      "예측\n",
      "[0 0 0 0 0 0 1 0 0 0 0 0 0 0 0 0 0 0 0 0]\n",
      "('Drama',) \n",
      "\n",
      "실제\n",
      "[0 0 0 0 0 0 1 0 0 0 0 0 0 0 0 0 0 0 0 0]\n",
      "['Drama']\n",
      "예측\n",
      "[0 0 0 0 0 0 1 0 0 0 0 0 0 0 0 0 0 0 0 0]\n",
      "('Drama',) \n",
      "\n",
      "실제\n",
      "[0 0 0 0 0 0 1 0 0 0 0 0 0 0 1 0 0 0 0 0]\n",
      "['Drama', 'Romance']\n",
      "예측\n",
      "[0 0 0 0 0 0 1 0 0 0 0 0 0 0 0 0 0 0 0 0]\n",
      "('Drama',) \n",
      "\n",
      "실제\n",
      "[1 0 0 0 0 0 1 0 0 0 0 0 0 0 1 0 0 0 1 0]\n",
      "['Action', 'Drama', 'Romance', 'War']\n",
      "예측\n",
      "[0 0 0 0 0 0 1 0 0 0 0 0 0 0 1 0 0 0 0 0]\n",
      "('Drama', 'Romance') \n",
      "\n"
     ]
    }
   ],
   "source": [
    "for i in range(5):\n",
    "    print(\"실제\")\n",
    "    print(y_train_oe[i])\n",
    "    print(y_train[i])\n",
    "    print(\"예측\")\n",
    "    print(pred_train[i])\n",
    "    print(pred_genres_train[i],\"\\n\")"
   ]
  },
  {
   "cell_type": "code",
   "execution_count": null,
   "metadata": {},
   "outputs": [],
   "source": []
  },
  {
   "cell_type": "code",
   "execution_count": 189,
   "metadata": {},
   "outputs": [
    {
     "name": "stdout",
     "output_type": "stream",
     "text": [
      "('Comedy',)\n",
      "['Fantasy', 'Adventure', 'Comedy', 'Family']\n"
     ]
    }
   ],
   "source": [
    "print(pred_genres_train[7])\n",
    "print(y_train[7])"
   ]
  },
  {
   "cell_type": "markdown",
   "metadata": {},
   "source": [
    "그치만 이렇게 장르가 여러가지인 경우, 50% 이상 맞게 예측한다면 옳게 예측되었다고 하자"
   ]
  },
  {
   "cell_type": "code",
   "execution_count": 190,
   "metadata": {},
   "outputs": [
    {
     "data": {
      "text/plain": [
       "[('Comedy',),\n",
       " ('Drama',),\n",
       " ('Drama',),\n",
       " ('Drama',),\n",
       " ('Drama', 'Romance'),\n",
       " ('Comedy',),\n",
       " ('Drama',),\n",
       " ('Comedy',),\n",
       " ('Drama',),\n",
       " ('Drama',)]"
      ]
     },
     "execution_count": 190,
     "metadata": {},
     "output_type": "execute_result"
    }
   ],
   "source": [
    "pred_genres_train[0:10]"
   ]
  },
  {
   "cell_type": "code",
   "execution_count": 191,
   "metadata": {},
   "outputs": [],
   "source": [
    "over_50=[]\n",
    "\n",
    "for i in range(len(y_train)):\n",
    "    over50=[]\n",
    "    for pred in pred_genres_train[i]:\n",
    "        if pred in y_train[i]:\n",
    "            over50.append(1)\n",
    "        else:\n",
    "            over50.append(0)\n",
    "    over_50.append(over50)\n",
    "            \n",
    "            "
   ]
  },
  {
   "cell_type": "code",
   "execution_count": 192,
   "metadata": {},
   "outputs": [
    {
     "data": {
      "text/plain": [
       "[[1], [1], [1], [1, 1], [1], [1], [1], [1], [1]]"
      ]
     },
     "execution_count": 192,
     "metadata": {},
     "output_type": "execute_result"
    }
   ],
   "source": [
    "over_50[1:10]"
   ]
  },
  {
   "cell_type": "code",
   "execution_count": 193,
   "metadata": {},
   "outputs": [
    {
     "name": "stdout",
     "output_type": "stream",
     "text": [
      "실제 장르의 50% 이상을 맞춘 경우:\n",
      "총 34293 개의 데이터 중 18758 개\n",
      "\n",
      "  - index: 0\n",
      "  - 예측된 장르: ('Comedy',) -> 옳게 예측된 장르 개수: 1\n",
      "  - 실제 장르: ['Comedy'] -> 실제 장르 개수: 1 \n",
      "\n",
      "  - index: 1\n",
      "  - 예측된 장르: ('Drama',) -> 옳게 예측된 장르 개수: 1\n",
      "  - 실제 장르: ['Drama', 'Thriller'] -> 실제 장르 개수: 2 \n",
      "\n",
      "  - index: 2\n",
      "  - 예측된 장르: ('Drama',) -> 옳게 예측된 장르 개수: 1\n",
      "  - 실제 장르: ['Drama'] -> 실제 장르 개수: 1 \n",
      "\n",
      "  - index: 3\n",
      "  - 예측된 장르: ('Drama',) -> 옳게 예측된 장르 개수: 1\n",
      "  - 실제 장르: ['Drama', 'Romance'] -> 실제 장르 개수: 2 \n",
      "\n",
      "  - index: 4\n",
      "  - 예측된 장르: ('Drama', 'Romance') -> 옳게 예측된 장르 개수: 2\n",
      "  - 실제 장르: ['Action', 'Drama', 'Romance', 'War'] -> 실제 장르 개수: 4 \n",
      "\n",
      "  - index: 5\n",
      "  - 예측된 장르: ('Comedy',) -> 옳게 예측된 장르 개수: 1\n",
      "  - 실제 장르: ['Comedy', 'Drama', 'Crime'] -> 실제 장르 개수: 3 \n",
      "\n",
      "  - index: 6\n",
      "  - 예측된 장르: ('Drama',) -> 옳게 예측된 장르 개수: 1\n",
      "  - 실제 장르: ['Drama', 'Romance'] -> 실제 장르 개수: 2 \n",
      "\n",
      "  - index: 7\n",
      "  - 예측된 장르: ('Comedy',) -> 옳게 예측된 장르 개수: 1\n",
      "  - 실제 장르: ['Fantasy', 'Adventure', 'Comedy', 'Family'] -> 실제 장르 개수: 4 \n",
      "\n",
      "  - index: 8\n",
      "  - 예측된 장르: ('Drama',) -> 옳게 예측된 장르 개수: 1\n",
      "  - 실제 장르: ['Drama', 'Comedy', 'Romance'] -> 실제 장르 개수: 3 \n",
      "\n",
      "  - index: 9\n",
      "  - 예측된 장르: ('Drama',) -> 옳게 예측된 장르 개수: 1\n",
      "  - 실제 장르: ['Drama', 'Horror', 'Mystery', 'Thriller'] -> 실제 장르 개수: 4 \n",
      "\n"
     ]
    }
   ],
   "source": [
    "count=0\n",
    "\n",
    "for i in range(len(over_50)):\n",
    "    if np.sum(over_50[i])>=0.5*len(y_train[i]):\n",
    "        count+=1\n",
    "\n",
    "print(\"실제 장르의 50% 이상을 맞춘 경우:\")\n",
    "print(\"총\", len(over_50), \"개의 데이터 중\", count, \"개\\n\")\n",
    "    \n",
    "for i in range(10):\n",
    "    print(\"  - index:\",i)\n",
    "    print('  - 예측된 장르:', pred_genres_train[i], '-> 옳게 예측된 장르 개수:', np.sum(over_50[i]))\n",
    "    print('  - 실제 장르:', y_train[i],'-> 실제 장르 개수:', len(y_train[i]),'\\n')"
   ]
  },
  {
   "cell_type": "code",
   "execution_count": 194,
   "metadata": {},
   "outputs": [
    {
     "data": {
      "text/plain": [
       "18758"
      ]
     },
     "execution_count": 194,
     "metadata": {},
     "output_type": "execute_result"
    }
   ],
   "source": [
    "count"
   ]
  },
  {
   "cell_type": "code",
   "execution_count": 195,
   "metadata": {},
   "outputs": [
    {
     "data": {
      "text/plain": [
       "0.5469920975126119"
      ]
     },
     "execution_count": 195,
     "metadata": {},
     "output_type": "execute_result"
    }
   ],
   "source": [
    "count/len(over_50)"
   ]
  },
  {
   "cell_type": "code",
   "execution_count": null,
   "metadata": {},
   "outputs": [],
   "source": []
  },
  {
   "cell_type": "code",
   "execution_count": 196,
   "metadata": {},
   "outputs": [],
   "source": [
    "#test"
   ]
  },
  {
   "cell_type": "code",
   "execution_count": 197,
   "metadata": {},
   "outputs": [
    {
     "name": "stdout",
     "output_type": "stream",
     "text": [
      "실제\n",
      "[0 0 0 1 0 0 1 0 0 0 0 0 0 0 1 0 0 0 0 0]\n",
      "['Drama', 'Romance', 'Comedy']\n",
      "예측\n",
      "[0 0 0 1 0 0 0 0 0 0 0 0 0 0 0 0 0 0 0 0]\n",
      "('Comedy',) \n",
      "\n",
      "실제\n",
      "[1 0 0 1 0 0 1 0 0 0 0 0 0 0 0 0 0 0 0 0]\n",
      "['Action', 'Comedy', 'Drama']\n",
      "예측\n",
      "[0 0 0 0 0 0 0 0 0 0 0 0 0 0 0 0 0 0 0 0]\n",
      "() \n",
      "\n",
      "실제\n",
      "[0 0 0 1 0 0 0 0 0 0 0 0 0 0 0 0 0 0 0 0]\n",
      "['Comedy']\n",
      "예측\n",
      "[0 0 0 1 0 0 1 0 0 0 0 0 0 0 0 0 0 0 0 0]\n",
      "('Comedy', 'Drama') \n",
      "\n",
      "실제\n",
      "[0 0 0 0 0 0 1 0 0 0 0 0 0 0 1 0 0 0 0 0]\n",
      "['Drama', 'Romance']\n",
      "예측\n",
      "[0 0 0 0 0 0 1 0 0 0 0 0 0 0 0 0 0 0 0 0]\n",
      "('Drama',) \n",
      "\n",
      "실제\n",
      "[0 1 1 1 0 0 0 1 0 0 0 0 0 0 1 0 0 0 0 0]\n",
      "['Romance', 'Animation', 'Family', 'Comedy', 'Adventure']\n",
      "예측\n",
      "[0 0 0 1 0 0 0 0 0 0 0 0 0 0 0 0 0 0 0 0]\n",
      "('Comedy',) \n",
      "\n"
     ]
    }
   ],
   "source": [
    "for i in range(5):\n",
    "    print(\"실제\")\n",
    "    print(y_test_oe[i])\n",
    "    print(y_test[i])\n",
    "    print(\"예측\")\n",
    "    print(pred_test[i])\n",
    "    print(pred_genres_test[i],\"\\n\")"
   ]
  },
  {
   "cell_type": "code",
   "execution_count": null,
   "metadata": {},
   "outputs": [],
   "source": []
  },
  {
   "cell_type": "code",
   "execution_count": 198,
   "metadata": {},
   "outputs": [
    {
     "name": "stdout",
     "output_type": "stream",
     "text": [
      "('Comedy',)\n",
      "['Romance', 'Animation', 'Family', 'Comedy', 'Adventure']\n"
     ]
    }
   ],
   "source": [
    "print(pred_genres_test[4])\n",
    "print(y_test[4])"
   ]
  },
  {
   "cell_type": "code",
   "execution_count": null,
   "metadata": {},
   "outputs": [],
   "source": []
  },
  {
   "cell_type": "code",
   "execution_count": 199,
   "metadata": {},
   "outputs": [
    {
     "data": {
      "text/plain": [
       "[('Comedy',),\n",
       " (),\n",
       " ('Comedy', 'Drama'),\n",
       " ('Drama',),\n",
       " ('Comedy',),\n",
       " ('Drama',),\n",
       " ('Drama',),\n",
       " ('Drama',),\n",
       " ('Action', 'Science Fiction'),\n",
       " ('Drama',)]"
      ]
     },
     "execution_count": 199,
     "metadata": {},
     "output_type": "execute_result"
    }
   ],
   "source": [
    "pred_genres_test[0:10]"
   ]
  },
  {
   "cell_type": "code",
   "execution_count": 200,
   "metadata": {},
   "outputs": [],
   "source": [
    "over_50_test=[]\n",
    "\n",
    "for i in range(len(y_test)):\n",
    "    over50=[]\n",
    "    for pred in pred_genres_test[i]:\n",
    "        if pred in y_test[i]:\n",
    "            over50.append(1)\n",
    "        else:\n",
    "            over50.append(0)\n",
    "    over_50_test.append(over50)"
   ]
  },
  {
   "cell_type": "code",
   "execution_count": 201,
   "metadata": {
    "scrolled": true
   },
   "outputs": [
    {
     "data": {
      "text/plain": [
       "[[1], [], [1, 0], [1], [1], [1], [0], [1], [1, 1], [0]]"
      ]
     },
     "execution_count": 201,
     "metadata": {},
     "output_type": "execute_result"
    }
   ],
   "source": [
    "over_50_test[0:10]"
   ]
  },
  {
   "cell_type": "code",
   "execution_count": 202,
   "metadata": {},
   "outputs": [
    {
     "name": "stdout",
     "output_type": "stream",
     "text": [
      "실제 장르의 50% 이상을 맞춘 경우:\n",
      "총 8574 개의 데이터 중 3951 개\n",
      "\n",
      "  - index: 0\n",
      "  - 예측된 장르: ('Comedy',) -> 옳게 예측된 장르 개수: 1\n",
      "  - 실제 장르: ['Drama', 'Romance', 'Comedy'] -> 실제 장르 개수: 3 \n",
      "\n",
      "  - index: 1\n",
      "  - 예측된 장르: () -> 옳게 예측된 장르 개수: 0.0\n",
      "  - 실제 장르: ['Action', 'Comedy', 'Drama'] -> 실제 장르 개수: 3 \n",
      "\n",
      "  - index: 2\n",
      "  - 예측된 장르: ('Comedy', 'Drama') -> 옳게 예측된 장르 개수: 1\n",
      "  - 실제 장르: ['Comedy'] -> 실제 장르 개수: 1 \n",
      "\n",
      "  - index: 3\n",
      "  - 예측된 장르: ('Drama',) -> 옳게 예측된 장르 개수: 1\n",
      "  - 실제 장르: ['Drama', 'Romance'] -> 실제 장르 개수: 2 \n",
      "\n",
      "  - index: 4\n",
      "  - 예측된 장르: ('Comedy',) -> 옳게 예측된 장르 개수: 1\n",
      "  - 실제 장르: ['Romance', 'Animation', 'Family', 'Comedy', 'Adventure'] -> 실제 장르 개수: 5 \n",
      "\n",
      "  - index: 5\n",
      "  - 예측된 장르: ('Drama',) -> 옳게 예측된 장르 개수: 1\n",
      "  - 실제 장르: ['Comedy', 'Drama'] -> 실제 장르 개수: 2 \n",
      "\n",
      "  - index: 6\n",
      "  - 예측된 장르: ('Drama',) -> 옳게 예측된 장르 개수: 0\n",
      "  - 실제 장르: ['Comedy'] -> 실제 장르 개수: 1 \n",
      "\n",
      "  - index: 7\n",
      "  - 예측된 장르: ('Drama',) -> 옳게 예측된 장르 개수: 1\n",
      "  - 실제 장르: ['History', 'Drama'] -> 실제 장르 개수: 2 \n",
      "\n",
      "  - index: 8\n",
      "  - 예측된 장르: ('Action', 'Science Fiction') -> 옳게 예측된 장르 개수: 2\n",
      "  - 실제 장르: ['Action', 'Horror', 'Science Fiction'] -> 실제 장르 개수: 3 \n",
      "\n",
      "  - index: 9\n",
      "  - 예측된 장르: ('Drama',) -> 옳게 예측된 장르 개수: 0\n",
      "  - 실제 장르: ['Western'] -> 실제 장르 개수: 1 \n",
      "\n"
     ]
    }
   ],
   "source": [
    "count=0\n",
    "\n",
    "for i in range(len(over_50_test)):\n",
    "    if np.sum(over_50_test[i])>=0.5*len(y_test[i]):\n",
    "        count+=1\n",
    "\n",
    "print(\"실제 장르의 50% 이상을 맞춘 경우:\")\n",
    "print(\"총\", len(over_50_test), \"개의 데이터 중\", count, \"개\\n\")\n",
    "\n",
    "for i in range(10):\n",
    "    print(\"  - index:\",i)\n",
    "    print('  - 예측된 장르:', pred_genres_test[i], '-> 옳게 예측된 장르 개수:', np.sum(over_50_test[i]))\n",
    "    print('  - 실제 장르:', y_test[i],'-> 실제 장르 개수:', len(y_test[i]),'\\n')"
   ]
  },
  {
   "cell_type": "code",
   "execution_count": 203,
   "metadata": {},
   "outputs": [
    {
     "data": {
      "text/plain": [
       "3951"
      ]
     },
     "execution_count": 203,
     "metadata": {},
     "output_type": "execute_result"
    }
   ],
   "source": [
    "count"
   ]
  },
  {
   "cell_type": "code",
   "execution_count": 204,
   "metadata": {},
   "outputs": [
    {
     "data": {
      "text/plain": [
       "0.4608117564730581"
      ]
     },
     "execution_count": 204,
     "metadata": {},
     "output_type": "execute_result"
    }
   ],
   "source": [
    "count/len(over_50_test)"
   ]
  },
  {
   "cell_type": "code",
   "execution_count": null,
   "metadata": {},
   "outputs": [],
   "source": []
  },
  {
   "cell_type": "markdown",
   "metadata": {},
   "source": [
    " ##  tagline 이용해서 genres 예측\n"
   ]
  },
  {
   "cell_type": "code",
   "execution_count": 205,
   "metadata": {},
   "outputs": [],
   "source": [
    "na_ind=pd.isnull(text_data[\"tagline\"])==True\n",
    "text_data.loc[na_ind,\"tagline\"] = \"\""
   ]
  },
  {
   "cell_type": "code",
   "execution_count": 206,
   "metadata": {
    "scrolled": true
   },
   "outputs": [
    {
     "data": {
      "text/plain": [
       "Series([], Name: tagline, dtype: object)"
      ]
     },
     "execution_count": 206,
     "metadata": {},
     "output_type": "execute_result"
    }
   ],
   "source": [
    "text_data[pd.isnull(text_data[\"tagline\"])==True][\"tagline\"]"
   ]
  },
  {
   "cell_type": "code",
   "execution_count": null,
   "metadata": {},
   "outputs": [],
   "source": []
  },
  {
   "cell_type": "code",
   "execution_count": 207,
   "metadata": {},
   "outputs": [],
   "source": [
    "from sklearn.model_selection import train_test_split\n",
    "\n",
    "X_train, X_test, y_train, y_test = train_test_split(text_data[\"tagline\"], text_data[\"genres\"], \n",
    "                                                    test_size=0.2, random_state=42)"
   ]
  },
  {
   "cell_type": "code",
   "execution_count": 208,
   "metadata": {},
   "outputs": [],
   "source": [
    "X_train = X_train.reset_index()[\"tagline\"]\n",
    "X_test = X_test.reset_index()[\"tagline\"]\n",
    "y_train = y_train.reset_index()[\"genres\"]\n",
    "y_test = y_test.reset_index()[\"genres\"]"
   ]
  },
  {
   "cell_type": "code",
   "execution_count": null,
   "metadata": {},
   "outputs": [],
   "source": []
  },
  {
   "cell_type": "code",
   "execution_count": 209,
   "metadata": {},
   "outputs": [
    {
     "data": {
      "text/plain": [
       "0                                                         \n",
       "1                                                         \n",
       "2                                                         \n",
       "3                                                         \n",
       "4        Youth, hitting the clouds! Laughing at danger!...\n",
       "                               ...                        \n",
       "34288           The power of seven become a league of one.\n",
       "34289              Their story. Their world. Their future.\n",
       "34290                                                     \n",
       "34291    We're off to see the Wizard, the wonderful Wiz...\n",
       "34292                                                     \n",
       "Name: tagline, Length: 34293, dtype: object"
      ]
     },
     "execution_count": 209,
     "metadata": {},
     "output_type": "execute_result"
    }
   ],
   "source": [
    "X_train"
   ]
  },
  {
   "cell_type": "code",
   "execution_count": 210,
   "metadata": {},
   "outputs": [
    {
     "data": {
      "text/plain": [
       "0                                            [Comedy]\n",
       "1                                   [Drama, Thriller]\n",
       "2                                             [Drama]\n",
       "3                                    [Drama, Romance]\n",
       "4                       [Action, Drama, Romance, War]\n",
       "                             ...                     \n",
       "34288    [Fantasy, Action, Thriller, Science Fiction]\n",
       "34289                                  [Crime, Drama]\n",
       "34290                                         [Drama]\n",
       "34291                    [Adventure, Family, Fantasy]\n",
       "34292           [Adventure, Comedy, Fantasy, Romance]\n",
       "Name: genres, Length: 34293, dtype: object"
      ]
     },
     "execution_count": 210,
     "metadata": {},
     "output_type": "execute_result"
    }
   ],
   "source": [
    "y_train"
   ]
  },
  {
   "cell_type": "code",
   "execution_count": null,
   "metadata": {},
   "outputs": [],
   "source": []
  },
  {
   "cell_type": "code",
   "execution_count": 211,
   "metadata": {},
   "outputs": [],
   "source": [
    "from sklearn.preprocessing import MultiLabelBinarizer\n",
    "multilabel_binarizer = MultiLabelBinarizer()\n",
    "multilabel_binarizer.fit(y_train)\n",
    "y_train_oe = multilabel_binarizer.transform(y_train)"
   ]
  },
  {
   "cell_type": "code",
   "execution_count": 212,
   "metadata": {},
   "outputs": [],
   "source": [
    "multilabel_binarizer.fit(y_test)\n",
    "y_test_oe = multilabel_binarizer.transform(y_test)"
   ]
  },
  {
   "cell_type": "code",
   "execution_count": null,
   "metadata": {},
   "outputs": [],
   "source": []
  },
  {
   "cell_type": "code",
   "execution_count": 213,
   "metadata": {},
   "outputs": [
    {
     "name": "stdout",
     "output_type": "stream",
     "text": [
      "['Comedy']\n",
      "[0 0 0 1 0 0 0 0 0 0 0 0 0 0 0 0 0 0 0 0] \n",
      "\n",
      "['Drama', 'Thriller']\n",
      "[0 0 0 0 0 0 1 0 0 0 0 0 0 0 0 0 0 1 0 0] \n",
      "\n",
      "['Drama']\n",
      "[0 0 0 0 0 0 1 0 0 0 0 0 0 0 0 0 0 0 0 0] \n",
      "\n",
      "['Drama', 'Romance']\n",
      "[0 0 0 0 0 0 1 0 0 0 0 0 0 0 1 0 0 0 0 0] \n",
      "\n",
      "['Action', 'Drama', 'Romance', 'War']\n",
      "[1 0 0 0 0 0 1 0 0 0 0 0 0 0 1 0 0 0 1 0] \n",
      "\n"
     ]
    }
   ],
   "source": [
    "for i in range(5):\n",
    "    print(y_train[i])\n",
    "    print(y_train_oe[i],\"\\n\")"
   ]
  },
  {
   "cell_type": "code",
   "execution_count": null,
   "metadata": {},
   "outputs": [],
   "source": []
  },
  {
   "cell_type": "code",
   "execution_count": 214,
   "metadata": {},
   "outputs": [],
   "source": [
    "from sklearn.feature_extraction.text import TfidfVectorizer\n",
    "tfidf_vect=TfidfVectorizer(stop_words=\"english\")"
   ]
  },
  {
   "cell_type": "code",
   "execution_count": null,
   "metadata": {},
   "outputs": [],
   "source": []
  },
  {
   "cell_type": "code",
   "execution_count": 215,
   "metadata": {},
   "outputs": [],
   "source": [
    "#train"
   ]
  },
  {
   "cell_type": "code",
   "execution_count": 216,
   "metadata": {},
   "outputs": [],
   "source": [
    "tfidf_vect.fit(X_train)\n",
    "X_train_tfidf_vect=tfidf_vect.transform(X_train)\n"
   ]
  },
  {
   "cell_type": "code",
   "execution_count": 217,
   "metadata": {},
   "outputs": [],
   "source": [
    "from sklearn.linear_model import LogisticRegression\n",
    "from sklearn.multiclass import OneVsRestClassifier\n",
    "from sklearn.metrics import accuracy_score, f1_score"
   ]
  },
  {
   "cell_type": "code",
   "execution_count": 218,
   "metadata": {},
   "outputs": [],
   "source": [
    "lr = LogisticRegression()\n",
    "clf = OneVsRestClassifier(lr)"
   ]
  },
  {
   "cell_type": "code",
   "execution_count": 219,
   "metadata": {
    "scrolled": true
   },
   "outputs": [
    {
     "name": "stderr",
     "output_type": "stream",
     "text": [
      "C:\\ProgramData\\Anaconda3\\envs\\testtest\\lib\\site-packages\\sklearn\\linear_model\\_logistic.py:764: ConvergenceWarning: lbfgs failed to converge (status=1):\n",
      "STOP: TOTAL NO. of ITERATIONS REACHED LIMIT.\n",
      "\n",
      "Increase the number of iterations (max_iter) or scale the data as shown in:\n",
      "    https://scikit-learn.org/stable/modules/preprocessing.html\n",
      "Please also refer to the documentation for alternative solver options:\n",
      "    https://scikit-learn.org/stable/modules/linear_model.html#logistic-regression\n",
      "  extra_warning_msg=_LOGISTIC_SOLVER_CONVERGENCE_MSG)\n",
      "C:\\ProgramData\\Anaconda3\\envs\\testtest\\lib\\site-packages\\sklearn\\linear_model\\_logistic.py:764: ConvergenceWarning: lbfgs failed to converge (status=1):\n",
      "STOP: TOTAL NO. of ITERATIONS REACHED LIMIT.\n",
      "\n",
      "Increase the number of iterations (max_iter) or scale the data as shown in:\n",
      "    https://scikit-learn.org/stable/modules/preprocessing.html\n",
      "Please also refer to the documentation for alternative solver options:\n",
      "    https://scikit-learn.org/stable/modules/linear_model.html#logistic-regression\n",
      "  extra_warning_msg=_LOGISTIC_SOLVER_CONVERGENCE_MSG)\n"
     ]
    }
   ],
   "source": [
    "clf.fit(X_train_tfidf_vect, y_train_oe)\n",
    "pred_train=clf.predict(X_train_tfidf_vect)\n",
    "pred_genres_train=multilabel_binarizer.inverse_transform(pred_train)"
   ]
  },
  {
   "cell_type": "code",
   "execution_count": 220,
   "metadata": {},
   "outputs": [
    {
     "data": {
      "text/plain": [
       "[(),\n",
       " (),\n",
       " (),\n",
       " (),\n",
       " ('Drama',),\n",
       " (),\n",
       " (),\n",
       " (),\n",
       " ('Drama', 'Romance'),\n",
       " (),\n",
       " ('Drama',),\n",
       " (),\n",
       " ('Drama',),\n",
       " (),\n",
       " (),\n",
       " (),\n",
       " ('Drama',),\n",
       " ('Drama',),\n",
       " (),\n",
       " ()]"
      ]
     },
     "execution_count": 220,
     "metadata": {},
     "output_type": "execute_result"
    }
   ],
   "source": [
    "pred_genres_train[0:20]"
   ]
  },
  {
   "cell_type": "code",
   "execution_count": 221,
   "metadata": {},
   "outputs": [
    {
     "data": {
      "text/plain": [
       "['',\n",
       " '',\n",
       " '',\n",
       " '',\n",
       " \"Youth, hitting the clouds! Laughing at danger! Fighting, loving, dodging death! That's\",\n",
       " \"'Til death do they party...\",\n",
       " 'Too beautiful to die. Too wild to live.',\n",
       " '',\n",
       " 'You never choose love. Love chooses you.',\n",
       " \"Ask her no questions, she'll tell you no lies. Ask her too many and somebody dies.\",\n",
       " 'The most WANTED picture of the year!',\n",
       " '',\n",
       " 'During an anti-war protest on May 4, 1970, four students are shot and killed at Kent State in Ohio.',\n",
       " '',\n",
       " '',\n",
       " '',\n",
       " 'A quite place in the country, where reality and fantasy are too close',\n",
       " \"She's Every Big-Time Rodeo Prize Rolled Into One ...pair of tight pants!\",\n",
       " '',\n",
       " '']"
      ]
     },
     "execution_count": 221,
     "metadata": {},
     "output_type": "execute_result"
    }
   ],
   "source": [
    "list(X_train)[0:20]"
   ]
  },
  {
   "cell_type": "markdown",
   "metadata": {},
   "source": [
    "예측 장르에 빈 튜플이 많은 이유는 애초에 tagline에 빈 칸이 많기 때문"
   ]
  },
  {
   "cell_type": "code",
   "execution_count": 222,
   "metadata": {},
   "outputs": [
    {
     "data": {
      "text/plain": [
       "0.05671711427988219"
      ]
     },
     "execution_count": 222,
     "metadata": {},
     "output_type": "execute_result"
    }
   ],
   "source": [
    "accuracy_score(y_train_oe, pred_train)"
   ]
  },
  {
   "cell_type": "code",
   "execution_count": 223,
   "metadata": {},
   "outputs": [
    {
     "data": {
      "text/plain": [
       "0.22931747673216132"
      ]
     },
     "execution_count": 223,
     "metadata": {},
     "output_type": "execute_result"
    }
   ],
   "source": [
    "f1_score(y_train_oe, pred_train, average=\"micro\")"
   ]
  },
  {
   "cell_type": "code",
   "execution_count": null,
   "metadata": {},
   "outputs": [],
   "source": []
  },
  {
   "cell_type": "code",
   "execution_count": 224,
   "metadata": {},
   "outputs": [],
   "source": [
    "#test"
   ]
  },
  {
   "cell_type": "code",
   "execution_count": 225,
   "metadata": {},
   "outputs": [
    {
     "data": {
      "text/plain": [
       "(8574, 11024)"
      ]
     },
     "execution_count": 225,
     "metadata": {},
     "output_type": "execute_result"
    }
   ],
   "source": [
    "X_test_tfidf_vect=tfidf_vect.transform(X_test)\n",
    "X_test_tfidf_vect.shape"
   ]
  },
  {
   "cell_type": "code",
   "execution_count": 226,
   "metadata": {},
   "outputs": [],
   "source": [
    "pred_test=clf.predict(X_test_tfidf_vect)\n",
    "pred_genres_test=multilabel_binarizer.inverse_transform(pred_test)"
   ]
  },
  {
   "cell_type": "code",
   "execution_count": 227,
   "metadata": {},
   "outputs": [
    {
     "data": {
      "text/plain": [
       "0.04187077210170282"
      ]
     },
     "execution_count": 227,
     "metadata": {},
     "output_type": "execute_result"
    }
   ],
   "source": [
    "accuracy_score(y_test_oe, pred_test)"
   ]
  },
  {
   "cell_type": "code",
   "execution_count": 228,
   "metadata": {
    "scrolled": true
   },
   "outputs": [
    {
     "data": {
      "text/plain": [
       "0.18183549124143183"
      ]
     },
     "execution_count": 228,
     "metadata": {},
     "output_type": "execute_result"
    }
   ],
   "source": [
    "f1_score(y_test_oe, pred_test, average=\"micro\")"
   ]
  },
  {
   "cell_type": "markdown",
   "metadata": {},
   "source": [
    "정확도가 overview에 비해 떨어짐. "
   ]
  },
  {
   "cell_type": "code",
   "execution_count": null,
   "metadata": {},
   "outputs": [],
   "source": []
  },
  {
   "cell_type": "markdown",
   "metadata": {},
   "source": [
    "### 해결 방법 1: decision threshold를 낮춘다"
   ]
  },
  {
   "cell_type": "code",
   "execution_count": 229,
   "metadata": {},
   "outputs": [],
   "source": [
    "#train"
   ]
  },
  {
   "cell_type": "code",
   "execution_count": 230,
   "metadata": {},
   "outputs": [
    {
     "data": {
      "text/plain": [
       "array([0.17085212, 0.05293154, 0.02354324, 0.40466698, 0.20356531,\n",
       "       0.04573882, 0.32175139, 0.0247183 , 0.04333257, 0.02509459,\n",
       "       0.01911916, 0.41378956, 0.01398864, 0.1400357 , 0.0678473 ,\n",
       "       0.06249603, 0.01604847, 0.19541921, 0.01664514, 0.0179728 ])"
      ]
     },
     "execution_count": 230,
     "metadata": {},
     "output_type": "execute_result"
    }
   ],
   "source": [
    "clf.predict_proba(X_train_tfidf_vect)[5]"
   ]
  },
  {
   "cell_type": "code",
   "execution_count": 231,
   "metadata": {},
   "outputs": [
    {
     "name": "stdout",
     "output_type": "stream",
     "text": [
      "[0 0 0 0 0 0 0 0 0 0 0 0 0 0 0 0 0 0 0 0]\n",
      "[0 0 0 1 1 0 1 0 0 0 0 0 0 0 0 0 0 0 0 0]\n",
      "()\n",
      "['Comedy', 'Drama', 'Crime']\n"
     ]
    }
   ],
   "source": [
    "print(pred_train[5])\n",
    "print(y_train_oe[5])\n",
    "print(pred_genres_train[5])\n",
    "print(y_train[5])"
   ]
  },
  {
   "cell_type": "markdown",
   "metadata": {},
   "source": [
    "기준을 0.2로 낮춰보면"
   ]
  },
  {
   "cell_type": "code",
   "execution_count": 232,
   "metadata": {},
   "outputs": [],
   "source": [
    "prob_train = clf.predict_proba(X_train_tfidf_vect)\n",
    "\n",
    "new_pred_train = (prob_train >= 0.2).astype(int)"
   ]
  },
  {
   "cell_type": "code",
   "execution_count": 233,
   "metadata": {},
   "outputs": [
    {
     "name": "stdout",
     "output_type": "stream",
     "text": [
      "[0 0 0 1 1 0 1 0 0 0 0 1 0 0 0 0 0 0 0 0]\n",
      "[0 0 0 1 1 0 1 0 0 0 0 0 0 0 0 0 0 0 0 0]\n"
     ]
    }
   ],
   "source": [
    "print(new_pred_train[5])\n",
    "print(y_train_oe[5])"
   ]
  },
  {
   "cell_type": "code",
   "execution_count": 234,
   "metadata": {},
   "outputs": [],
   "source": [
    "new_pred_genres_train=multilabel_binarizer.inverse_transform(new_pred_train)"
   ]
  },
  {
   "cell_type": "code",
   "execution_count": null,
   "metadata": {},
   "outputs": [],
   "source": []
  },
  {
   "cell_type": "code",
   "execution_count": 235,
   "metadata": {},
   "outputs": [
    {
     "data": {
      "text/plain": [
       "0.055988102528212756"
      ]
     },
     "execution_count": 235,
     "metadata": {},
     "output_type": "execute_result"
    }
   ],
   "source": [
    "accuracy_score(y_train_oe, new_pred_train)"
   ]
  },
  {
   "cell_type": "code",
   "execution_count": 236,
   "metadata": {},
   "outputs": [
    {
     "data": {
      "text/plain": [
       "0.4990073210075692"
      ]
     },
     "execution_count": 236,
     "metadata": {},
     "output_type": "execute_result"
    }
   ],
   "source": [
    "f1_score(y_train_oe, new_pred_train, average=\"micro\")"
   ]
  },
  {
   "cell_type": "code",
   "execution_count": null,
   "metadata": {},
   "outputs": [],
   "source": []
  },
  {
   "cell_type": "code",
   "execution_count": 237,
   "metadata": {},
   "outputs": [],
   "source": [
    "#test"
   ]
  },
  {
   "cell_type": "code",
   "execution_count": 238,
   "metadata": {},
   "outputs": [],
   "source": [
    "prob_test = clf.predict_proba(X_test_tfidf_vect)\n",
    "\n",
    "new_pred_test = (prob_test >= 0.2).astype(int)"
   ]
  },
  {
   "cell_type": "code",
   "execution_count": 239,
   "metadata": {},
   "outputs": [],
   "source": [
    "new_pred_genres_test=multilabel_binarizer.inverse_transform(new_pred_test)"
   ]
  },
  {
   "cell_type": "code",
   "execution_count": 240,
   "metadata": {
    "scrolled": true
   },
   "outputs": [
    {
     "data": {
      "text/plain": [
       "0.039771401912759505"
      ]
     },
     "execution_count": 240,
     "metadata": {},
     "output_type": "execute_result"
    }
   ],
   "source": [
    "accuracy_score(y_test_oe, new_pred_test)"
   ]
  },
  {
   "cell_type": "code",
   "execution_count": 241,
   "metadata": {
    "scrolled": false
   },
   "outputs": [
    {
     "data": {
      "text/plain": [
       "0.44541462927851516"
      ]
     },
     "execution_count": 241,
     "metadata": {},
     "output_type": "execute_result"
    }
   ],
   "source": [
    "f1_score(y_test_oe, new_pred_test, average=\"micro\")"
   ]
  },
  {
   "cell_type": "code",
   "execution_count": null,
   "metadata": {},
   "outputs": [],
   "source": []
  },
  {
   "cell_type": "markdown",
   "metadata": {},
   "source": [
    "### 해결 방법2: 실제 장르 중 33% 이상 겹치면 맞춘 것으로 인정한다"
   ]
  },
  {
   "cell_type": "code",
   "execution_count": 242,
   "metadata": {},
   "outputs": [],
   "source": [
    "#train"
   ]
  },
  {
   "cell_type": "code",
   "execution_count": 243,
   "metadata": {},
   "outputs": [
    {
     "name": "stdout",
     "output_type": "stream",
     "text": [
      "실제\n",
      "[0 0 0 1 0 0 0 0 0 0 0 0 0 0 0 0 0 0 0 0]\n",
      "['Comedy']\n",
      "예측\n",
      "[0 0 0 0 0 0 0 0 0 0 0 0 0 0 0 0 0 0 0 0]\n",
      "() \n",
      "\n",
      "실제\n",
      "[0 0 0 0 0 0 1 0 0 0 0 0 0 0 0 0 0 1 0 0]\n",
      "['Drama', 'Thriller']\n",
      "예측\n",
      "[0 0 0 0 0 0 0 0 0 0 0 0 0 0 0 0 0 0 0 0]\n",
      "() \n",
      "\n",
      "실제\n",
      "[0 0 0 0 0 0 1 0 0 0 0 0 0 0 0 0 0 0 0 0]\n",
      "['Drama']\n",
      "예측\n",
      "[0 0 0 0 0 0 0 0 0 0 0 0 0 0 0 0 0 0 0 0]\n",
      "() \n",
      "\n",
      "실제\n",
      "[0 0 0 0 0 0 1 0 0 0 0 0 0 0 1 0 0 0 0 0]\n",
      "['Drama', 'Romance']\n",
      "예측\n",
      "[0 0 0 0 0 0 0 0 0 0 0 0 0 0 0 0 0 0 0 0]\n",
      "() \n",
      "\n",
      "실제\n",
      "[1 0 0 0 0 0 1 0 0 0 0 0 0 0 1 0 0 0 1 0]\n",
      "['Action', 'Drama', 'Romance', 'War']\n",
      "예측\n",
      "[0 0 0 0 0 0 1 0 0 0 0 0 0 0 0 0 0 0 0 0]\n",
      "('Drama',) \n",
      "\n"
     ]
    }
   ],
   "source": [
    "for i in range(5):\n",
    "    print(\"실제\")\n",
    "    print(y_train_oe[i])\n",
    "    print(y_train[i])\n",
    "    print(\"예측\")\n",
    "    print(pred_train[i])\n",
    "    print(pred_genres_train[i],\"\\n\")"
   ]
  },
  {
   "cell_type": "code",
   "execution_count": null,
   "metadata": {},
   "outputs": [],
   "source": []
  },
  {
   "cell_type": "code",
   "execution_count": 244,
   "metadata": {},
   "outputs": [
    {
     "name": "stdout",
     "output_type": "stream",
     "text": [
      "('Drama',)\n",
      "['Action', 'Drama', 'Romance', 'War']\n"
     ]
    }
   ],
   "source": [
    "print(pred_genres_train[4])\n",
    "print(y_train[4])"
   ]
  },
  {
   "cell_type": "markdown",
   "metadata": {},
   "source": [
    "그치만 이렇게 장르가 여러가지인 경우, 33% 이상 맞게 예측한다면 옳게 예측되었다고 하자"
   ]
  },
  {
   "cell_type": "code",
   "execution_count": 245,
   "metadata": {},
   "outputs": [],
   "source": [
    "over_33=[]\n",
    "\n",
    "for i in range(len(y_train)):\n",
    "    over33=[]\n",
    "    for pred in pred_genres_train[i]:\n",
    "        if pred in y_train[i]:\n",
    "            over33.append(1)\n",
    "        else:\n",
    "            over33.append(0)\n",
    "    over_33.append(over33)\n",
    "            "
   ]
  },
  {
   "cell_type": "code",
   "execution_count": 246,
   "metadata": {},
   "outputs": [
    {
     "data": {
      "text/plain": [
       "[[],\n",
       " [],\n",
       " [],\n",
       " [],\n",
       " [1],\n",
       " [],\n",
       " [],\n",
       " [],\n",
       " [1, 1],\n",
       " [],\n",
       " [0],\n",
       " [],\n",
       " [0],\n",
       " [],\n",
       " [],\n",
       " [],\n",
       " [1],\n",
       " [1],\n",
       " [],\n",
       " []]"
      ]
     },
     "execution_count": 246,
     "metadata": {},
     "output_type": "execute_result"
    }
   ],
   "source": [
    "over_33[0:20]"
   ]
  },
  {
   "cell_type": "code",
   "execution_count": 247,
   "metadata": {},
   "outputs": [
    {
     "name": "stdout",
     "output_type": "stream",
     "text": [
      "실제 장르의 33% 이상을 맞춘 경우:\n",
      "총 34293 개의 데이터 중 7436 개\n",
      "\n",
      "  - index: 0\n",
      "  - 예측된 장르: () -> 옳게 예측된 장르 개수: 0.0\n",
      "  - 실제 장르: ['Comedy'] -> 실제 장르 개수: 1 \n",
      "\n",
      "  - index: 1\n",
      "  - 예측된 장르: () -> 옳게 예측된 장르 개수: 0.0\n",
      "  - 실제 장르: ['Drama', 'Thriller'] -> 실제 장르 개수: 2 \n",
      "\n",
      "  - index: 2\n",
      "  - 예측된 장르: () -> 옳게 예측된 장르 개수: 0.0\n",
      "  - 실제 장르: ['Drama'] -> 실제 장르 개수: 1 \n",
      "\n",
      "  - index: 3\n",
      "  - 예측된 장르: () -> 옳게 예측된 장르 개수: 0.0\n",
      "  - 실제 장르: ['Drama', 'Romance'] -> 실제 장르 개수: 2 \n",
      "\n",
      "  - index: 4\n",
      "  - 예측된 장르: ('Drama',) -> 옳게 예측된 장르 개수: 1\n",
      "  - 실제 장르: ['Action', 'Drama', 'Romance', 'War'] -> 실제 장르 개수: 4 \n",
      "\n",
      "  - index: 5\n",
      "  - 예측된 장르: () -> 옳게 예측된 장르 개수: 0.0\n",
      "  - 실제 장르: ['Comedy', 'Drama', 'Crime'] -> 실제 장르 개수: 3 \n",
      "\n",
      "  - index: 6\n",
      "  - 예측된 장르: () -> 옳게 예측된 장르 개수: 0.0\n",
      "  - 실제 장르: ['Drama', 'Romance'] -> 실제 장르 개수: 2 \n",
      "\n",
      "  - index: 7\n",
      "  - 예측된 장르: () -> 옳게 예측된 장르 개수: 0.0\n",
      "  - 실제 장르: ['Fantasy', 'Adventure', 'Comedy', 'Family'] -> 실제 장르 개수: 4 \n",
      "\n",
      "  - index: 8\n",
      "  - 예측된 장르: ('Drama', 'Romance') -> 옳게 예측된 장르 개수: 2\n",
      "  - 실제 장르: ['Drama', 'Comedy', 'Romance'] -> 실제 장르 개수: 3 \n",
      "\n",
      "  - index: 9\n",
      "  - 예측된 장르: () -> 옳게 예측된 장르 개수: 0.0\n",
      "  - 실제 장르: ['Drama', 'Horror', 'Mystery', 'Thriller'] -> 실제 장르 개수: 4 \n",
      "\n"
     ]
    }
   ],
   "source": [
    "count=0\n",
    "\n",
    "for i in range(len(over_33)):\n",
    "    if np.sum(over_33[i])>=len(y_train[i])/3:\n",
    "        count+=1\n",
    "\n",
    "print(\"실제 장르의 33% 이상을 맞춘 경우:\")\n",
    "print(\"총\", len(over_33), \"개의 데이터 중\", count, \"개\\n\")\n",
    "\n",
    "for i in range(10):\n",
    "    print(\"  - index:\",i)\n",
    "    print('  - 예측된 장르:', pred_genres_train[i], '-> 옳게 예측된 장르 개수:', np.sum(over_33[i]))\n",
    "    print('  - 실제 장르:', y_train[i],'-> 실제 장르 개수:', len(y_train[i]),'\\n')"
   ]
  },
  {
   "cell_type": "code",
   "execution_count": 248,
   "metadata": {},
   "outputs": [
    {
     "data": {
      "text/plain": [
       "7436"
      ]
     },
     "execution_count": 248,
     "metadata": {},
     "output_type": "execute_result"
    }
   ],
   "source": [
    "count"
   ]
  },
  {
   "cell_type": "code",
   "execution_count": 249,
   "metadata": {
    "scrolled": true
   },
   "outputs": [
    {
     "data": {
      "text/plain": [
       "0.21683725541655732"
      ]
     },
     "execution_count": 249,
     "metadata": {},
     "output_type": "execute_result"
    }
   ],
   "source": [
    "count/len(over_33)"
   ]
  },
  {
   "cell_type": "code",
   "execution_count": null,
   "metadata": {},
   "outputs": [],
   "source": []
  },
  {
   "cell_type": "code",
   "execution_count": 250,
   "metadata": {},
   "outputs": [],
   "source": [
    "#test"
   ]
  },
  {
   "cell_type": "code",
   "execution_count": 251,
   "metadata": {},
   "outputs": [
    {
     "name": "stdout",
     "output_type": "stream",
     "text": [
      "실제\n",
      "[0 0 0 1 0 0 1 0 0 0 0 0 0 0 1 0 0 0 0 0]\n",
      "['Drama', 'Romance', 'Comedy']\n",
      "예측\n",
      "[0 0 0 0 0 0 0 0 0 0 0 0 0 0 0 0 0 0 0 0]\n",
      "() \n",
      "\n",
      "실제\n",
      "[1 0 0 1 0 0 1 0 0 0 0 0 0 0 0 0 0 0 0 0]\n",
      "['Action', 'Comedy', 'Drama']\n",
      "예측\n",
      "[0 0 0 0 0 0 0 0 0 0 0 0 0 0 0 0 0 0 0 0]\n",
      "() \n",
      "\n",
      "실제\n",
      "[0 0 0 1 0 0 0 0 0 0 0 0 0 0 0 0 0 0 0 0]\n",
      "['Comedy']\n",
      "예측\n",
      "[0 0 0 0 0 0 0 0 0 0 0 0 0 0 0 0 0 0 0 0]\n",
      "() \n",
      "\n",
      "실제\n",
      "[0 0 0 0 0 0 1 0 0 0 0 0 0 0 1 0 0 0 0 0]\n",
      "['Drama', 'Romance']\n",
      "예측\n",
      "[0 0 0 0 0 0 0 0 0 0 0 0 0 0 0 0 0 0 0 0]\n",
      "() \n",
      "\n",
      "실제\n",
      "[0 1 1 1 0 0 0 1 0 0 0 0 0 0 1 0 0 0 0 0]\n",
      "['Romance', 'Animation', 'Family', 'Comedy', 'Adventure']\n",
      "예측\n",
      "[0 0 0 0 0 0 1 0 0 0 0 0 0 0 0 0 0 0 0 0]\n",
      "('Drama',) \n",
      "\n"
     ]
    }
   ],
   "source": [
    "for i in range(5):\n",
    "    print(\"실제\")\n",
    "    print(y_test_oe[i])\n",
    "    print(y_test[i])\n",
    "    print(\"예측\")\n",
    "    print(pred_test[i])\n",
    "    print(pred_genres_test[i],\"\\n\")"
   ]
  },
  {
   "cell_type": "code",
   "execution_count": null,
   "metadata": {},
   "outputs": [],
   "source": []
  },
  {
   "cell_type": "code",
   "execution_count": 252,
   "metadata": {},
   "outputs": [
    {
     "name": "stdout",
     "output_type": "stream",
     "text": [
      "('Drama',)\n",
      "['Romance', 'Animation', 'Family', 'Comedy', 'Adventure']\n"
     ]
    }
   ],
   "source": [
    "print(pred_genres_test[4])\n",
    "print(y_test[4])"
   ]
  },
  {
   "cell_type": "code",
   "execution_count": null,
   "metadata": {},
   "outputs": [],
   "source": []
  },
  {
   "cell_type": "code",
   "execution_count": 253,
   "metadata": {},
   "outputs": [],
   "source": [
    "over_33_test=[]\n",
    "\n",
    "for i in range(len(y_test)):\n",
    "    over33=[]\n",
    "    for pred in pred_genres_test[i]:\n",
    "        if pred in y_test[i]:\n",
    "            over33.append(1)\n",
    "        else:\n",
    "            over33.append(0)\n",
    "    over_33_test.append(over33)\n",
    "            \n",
    "            "
   ]
  },
  {
   "cell_type": "code",
   "execution_count": 254,
   "metadata": {
    "scrolled": true
   },
   "outputs": [
    {
     "data": {
      "text/plain": [
       "[[],\n",
       " [],\n",
       " [],\n",
       " [],\n",
       " [0],\n",
       " [1, 1],\n",
       " [],\n",
       " [1],\n",
       " [1],\n",
       " [],\n",
       " [],\n",
       " [],\n",
       " [],\n",
       " [],\n",
       " [],\n",
       " [1],\n",
       " [],\n",
       " [],\n",
       " [],\n",
       " [1]]"
      ]
     },
     "execution_count": 254,
     "metadata": {},
     "output_type": "execute_result"
    }
   ],
   "source": [
    "over_33_test[0:20]"
   ]
  },
  {
   "cell_type": "code",
   "execution_count": 255,
   "metadata": {},
   "outputs": [
    {
     "name": "stdout",
     "output_type": "stream",
     "text": [
      "실제 장르의 33% 이상을 맞춘 경우:\n",
      "총 8574 개의 데이터 중 1495 개\n",
      "\n",
      "  - index: 0\n",
      "  - 예측된 장르: () -> 옳게 예측된 장르 개수: 0.0\n",
      "  - 실제 장르: ['Drama', 'Romance', 'Comedy'] -> 실제 장르 개수: 3 \n",
      "\n",
      "  - index: 1\n",
      "  - 예측된 장르: () -> 옳게 예측된 장르 개수: 0.0\n",
      "  - 실제 장르: ['Action', 'Comedy', 'Drama'] -> 실제 장르 개수: 3 \n",
      "\n",
      "  - index: 2\n",
      "  - 예측된 장르: () -> 옳게 예측된 장르 개수: 0.0\n",
      "  - 실제 장르: ['Comedy'] -> 실제 장르 개수: 1 \n",
      "\n",
      "  - index: 3\n",
      "  - 예측된 장르: () -> 옳게 예측된 장르 개수: 0.0\n",
      "  - 실제 장르: ['Drama', 'Romance'] -> 실제 장르 개수: 2 \n",
      "\n",
      "  - index: 4\n",
      "  - 예측된 장르: ('Drama',) -> 옳게 예측된 장르 개수: 0\n",
      "  - 실제 장르: ['Romance', 'Animation', 'Family', 'Comedy', 'Adventure'] -> 실제 장르 개수: 5 \n",
      "\n",
      "  - index: 5\n",
      "  - 예측된 장르: ('Comedy', 'Drama') -> 옳게 예측된 장르 개수: 2\n",
      "  - 실제 장르: ['Comedy', 'Drama'] -> 실제 장르 개수: 2 \n",
      "\n",
      "  - index: 6\n",
      "  - 예측된 장르: () -> 옳게 예측된 장르 개수: 0.0\n",
      "  - 실제 장르: ['Comedy'] -> 실제 장르 개수: 1 \n",
      "\n",
      "  - index: 7\n",
      "  - 예측된 장르: ('Drama',) -> 옳게 예측된 장르 개수: 1\n",
      "  - 실제 장르: ['History', 'Drama'] -> 실제 장르 개수: 2 \n",
      "\n",
      "  - index: 8\n",
      "  - 예측된 장르: ('Science Fiction',) -> 옳게 예측된 장르 개수: 1\n",
      "  - 실제 장르: ['Action', 'Horror', 'Science Fiction'] -> 실제 장르 개수: 3 \n",
      "\n",
      "  - index: 9\n",
      "  - 예측된 장르: () -> 옳게 예측된 장르 개수: 0.0\n",
      "  - 실제 장르: ['Western'] -> 실제 장르 개수: 1 \n",
      "\n"
     ]
    }
   ],
   "source": [
    "count=0\n",
    "\n",
    "for i in range(len(over_33_test)):\n",
    "    if np.sum(over_33_test[i])>=len(y_test[i])/3:\n",
    "        count+=1\n",
    "\n",
    "print(\"실제 장르의 33% 이상을 맞춘 경우:\")\n",
    "print(\"총\", len(over_33_test), \"개의 데이터 중\", count, \"개\\n\")\n",
    "\n",
    "for i in range(10):\n",
    "    print(\"  - index:\",i)\n",
    "    print('  - 예측된 장르:', pred_genres_test[i], '-> 옳게 예측된 장르 개수:', np.sum(over_33_test[i]))\n",
    "    print('  - 실제 장르:', y_test[i],'-> 실제 장르 개수:', len(y_test[i]),'\\n')"
   ]
  },
  {
   "cell_type": "code",
   "execution_count": 256,
   "metadata": {},
   "outputs": [
    {
     "data": {
      "text/plain": [
       "1495"
      ]
     },
     "execution_count": 256,
     "metadata": {},
     "output_type": "execute_result"
    }
   ],
   "source": [
    "count"
   ]
  },
  {
   "cell_type": "code",
   "execution_count": 257,
   "metadata": {
    "scrolled": false
   },
   "outputs": [
    {
     "data": {
      "text/plain": [
       "0.17436435735945882"
      ]
     },
     "execution_count": 257,
     "metadata": {},
     "output_type": "execute_result"
    }
   ],
   "source": [
    "count/len(over_33_test)"
   ]
  },
  {
   "cell_type": "code",
   "execution_count": null,
   "metadata": {},
   "outputs": [],
   "source": []
  },
  {
   "cell_type": "markdown",
   "metadata": {},
   "source": [
    "# overview의 유사도를 이용한 유사한 영화 추천"
   ]
  },
  {
   "cell_type": "code",
   "execution_count": 258,
   "metadata": {},
   "outputs": [],
   "source": [
    "from sklearn.feature_extraction.text import TfidfVectorizer\n",
    "tfidf = TfidfVectorizer(stop_words='english')"
   ]
  },
  {
   "cell_type": "code",
   "execution_count": 259,
   "metadata": {},
   "outputs": [],
   "source": [
    "sim_data = data[:]"
   ]
  },
  {
   "cell_type": "code",
   "execution_count": 260,
   "metadata": {},
   "outputs": [],
   "source": [
    "sim_data[\"overview\"] = sim_data[\"overview\"].fillna(\"\")"
   ]
  },
  {
   "cell_type": "code",
   "execution_count": 261,
   "metadata": {},
   "outputs": [
    {
     "data": {
      "text/plain": [
       "(45421, 75584)"
      ]
     },
     "execution_count": 261,
     "metadata": {},
     "output_type": "execute_result"
    }
   ],
   "source": [
    "feature_vect_simple = tfidf.fit_transform(sim_data[\"overview\"])\n",
    "feature_vect_simple.shape"
   ]
  },
  {
   "cell_type": "code",
   "execution_count": 262,
   "metadata": {},
   "outputs": [
    {
     "data": {
      "text/plain": [
       "(45421, 21)"
      ]
     },
     "execution_count": 262,
     "metadata": {},
     "output_type": "execute_result"
    }
   ],
   "source": [
    "sim_data.shape"
   ]
  },
  {
   "cell_type": "markdown",
   "metadata": {},
   "source": [
    "75584개의 단어가 45421개의 영화를 설명하는 데에 쓰임"
   ]
  },
  {
   "cell_type": "code",
   "execution_count": null,
   "metadata": {},
   "outputs": [],
   "source": []
  },
  {
   "cell_type": "code",
   "execution_count": 263,
   "metadata": {},
   "outputs": [],
   "source": [
    "from sklearn.metrics.pairwise import cosine_similarity"
   ]
  },
  {
   "cell_type": "code",
   "execution_count": 264,
   "metadata": {},
   "outputs": [],
   "source": [
    "sim_pair = cosine_similarity(feature_vect_simple, feature_vect_simple)"
   ]
  },
  {
   "cell_type": "code",
   "execution_count": 265,
   "metadata": {
    "scrolled": true
   },
   "outputs": [
    {
     "data": {
      "text/plain": [
       "(45421, 45421)"
      ]
     },
     "execution_count": 265,
     "metadata": {},
     "output_type": "execute_result"
    }
   ],
   "source": [
    "sim_pair.shape"
   ]
  },
  {
   "cell_type": "code",
   "execution_count": null,
   "metadata": {},
   "outputs": [],
   "source": []
  },
  {
   "cell_type": "code",
   "execution_count": 266,
   "metadata": {},
   "outputs": [],
   "source": [
    "indices = pd.Series(sim_data.index, index=sim_data[\"title\"]).drop_duplicates()"
   ]
  },
  {
   "cell_type": "code",
   "execution_count": 267,
   "metadata": {},
   "outputs": [
    {
     "data": {
      "text/plain": [
       "title\n",
       "Toy Story                          0\n",
       "Jumanji                            1\n",
       "Grumpier Old Men                   2\n",
       "Waiting to Exhale                  3\n",
       "Father of the Bride Part II        4\n",
       "                               ...  \n",
       "Subdue                         45461\n",
       "NaN                            45462\n",
       "Betrayal                       45463\n",
       "Satan Triumphant               45464\n",
       "Queerama                       45465\n",
       "Length: 45421, dtype: int64"
      ]
     },
     "execution_count": 267,
     "metadata": {},
     "output_type": "execute_result"
    }
   ],
   "source": [
    "indices"
   ]
  },
  {
   "cell_type": "code",
   "execution_count": null,
   "metadata": {},
   "outputs": [],
   "source": []
  },
  {
   "cell_type": "code",
   "execution_count": 268,
   "metadata": {},
   "outputs": [],
   "source": [
    "def get_recommendations(title, cos_sim=sim_pair):\n",
    "    idx = indices[title]\n",
    "    sim_scores = list(enumerate(cos_sim[idx]))\n",
    "    sim_scores = sorted(sim_scores, key=lambda x: x[1], reverse=True)\n",
    "    sim_scores = sim_scores[1:11]\n",
    "    similarity = [i[1] for i in sim_scores]\n",
    "    movie_indices = [i[0] for i in sim_scores]\n",
    "    return (sim_data['title'].iloc[movie_indices], similarity)"
   ]
  },
  {
   "cell_type": "code",
   "execution_count": null,
   "metadata": {},
   "outputs": [],
   "source": []
  },
  {
   "cell_type": "code",
   "execution_count": 269,
   "metadata": {},
   "outputs": [
    {
     "data": {
      "text/plain": [
       "9                              GoldenEye\n",
       "1640                 Tomorrow Never Dies\n",
       "2263                    A View to a Kill\n",
       "2831                          Goldfinger\n",
       "2832               From Russia with Love\n",
       "2833                              Dr. No\n",
       "2873                  For Your Eyes Only\n",
       "2874                     Licence to Kill\n",
       "2875                    Live and Let Die\n",
       "2877                         Thunderball\n",
       "2965             The World Is Not Enough\n",
       "3511     On Her Majesty's Secret Service\n",
       "3513                The Spy Who Loved Me\n",
       "3516                           Moonraker\n",
       "3517         The Man with the Golden Gun\n",
       "3859                Diamonds Are Forever\n",
       "3880                The Living Daylights\n",
       "5658                       Casino Royale\n",
       "5734                     Die Another Day\n",
       "7329                 You Only Live Twice\n",
       "7330                           Octopussy\n",
       "7333               Never Say Never Again\n",
       "11404                      Casino Royale\n",
       "13061                  Quantum of Solace\n",
       "19261                            Skyfall\n",
       "30761                            Spectre\n",
       "Name: title, dtype: object"
      ]
     },
     "execution_count": 269,
     "metadata": {},
     "output_type": "execute_result"
    }
   ],
   "source": [
    "JB = sim_data[sim_data[\"belongs_to_collection\"]==\"James Bond Collection\"]\n",
    "JB[\"title\"]"
   ]
  },
  {
   "cell_type": "code",
   "execution_count": 270,
   "metadata": {
    "scrolled": true
   },
   "outputs": [
    {
     "data": {
      "text/plain": [
       "(2874           Licence to Kill\n",
       " 37440               Dream Work\n",
       " 2875          Live and Let Die\n",
       " 7330                 Octopussy\n",
       " 7329       You Only Live Twice\n",
       " 8331                  Doctor X\n",
       " 7333     Never Say Never Again\n",
       " 37934      Johnny Stool Pigeon\n",
       " 5658             Casino Royale\n",
       " 4316     The Way of the Dragon\n",
       " Name: title, dtype: object,\n",
       " [0.1549474110705256,\n",
       "  0.14106026979581043,\n",
       "  0.13782263025831368,\n",
       "  0.13464603579464562,\n",
       "  0.13439971271421577,\n",
       "  0.13195901571908353,\n",
       "  0.13121469366853064,\n",
       "  0.1308351209659407,\n",
       "  0.12298782443867343,\n",
       "  0.12210958169658431])"
      ]
     },
     "execution_count": 270,
     "metadata": {},
     "output_type": "execute_result"
    }
   ],
   "source": [
    "get_recommendations(\"GoldenEye\")"
   ]
  },
  {
   "cell_type": "code",
   "execution_count": null,
   "metadata": {},
   "outputs": [],
   "source": []
  },
  {
   "cell_type": "code",
   "execution_count": 271,
   "metadata": {},
   "outputs": [],
   "source": [
    "import seaborn as sns\n",
    "import matplotlib.pyplot as plt\n",
    "%matplotlib inline"
   ]
  },
  {
   "cell_type": "code",
   "execution_count": 272,
   "metadata": {},
   "outputs": [],
   "source": [
    "GE_sim = pd.DataFrame()\n",
    "GE_sim[\"title\"] = get_recommendations(\"GoldenEye\")[0]\n",
    "GE_sim[\"similarity\"] = get_recommendations(\"GoldenEye\")[1]"
   ]
  },
  {
   "cell_type": "code",
   "execution_count": 273,
   "metadata": {},
   "outputs": [
    {
     "data": {
      "text/html": [
       "<div>\n",
       "<style scoped>\n",
       "    .dataframe tbody tr th:only-of-type {\n",
       "        vertical-align: middle;\n",
       "    }\n",
       "\n",
       "    .dataframe tbody tr th {\n",
       "        vertical-align: top;\n",
       "    }\n",
       "\n",
       "    .dataframe thead th {\n",
       "        text-align: right;\n",
       "    }\n",
       "</style>\n",
       "<table border=\"1\" class=\"dataframe\">\n",
       "  <thead>\n",
       "    <tr style=\"text-align: right;\">\n",
       "      <th></th>\n",
       "      <th>title</th>\n",
       "      <th>similarity</th>\n",
       "    </tr>\n",
       "  </thead>\n",
       "  <tbody>\n",
       "    <tr>\n",
       "      <th>2874</th>\n",
       "      <td>Licence to Kill</td>\n",
       "      <td>0.154947</td>\n",
       "    </tr>\n",
       "    <tr>\n",
       "      <th>37440</th>\n",
       "      <td>Dream Work</td>\n",
       "      <td>0.141060</td>\n",
       "    </tr>\n",
       "    <tr>\n",
       "      <th>2875</th>\n",
       "      <td>Live and Let Die</td>\n",
       "      <td>0.137823</td>\n",
       "    </tr>\n",
       "    <tr>\n",
       "      <th>7330</th>\n",
       "      <td>Octopussy</td>\n",
       "      <td>0.134646</td>\n",
       "    </tr>\n",
       "    <tr>\n",
       "      <th>7329</th>\n",
       "      <td>You Only Live Twice</td>\n",
       "      <td>0.134400</td>\n",
       "    </tr>\n",
       "    <tr>\n",
       "      <th>8331</th>\n",
       "      <td>Doctor X</td>\n",
       "      <td>0.131959</td>\n",
       "    </tr>\n",
       "    <tr>\n",
       "      <th>7333</th>\n",
       "      <td>Never Say Never Again</td>\n",
       "      <td>0.131215</td>\n",
       "    </tr>\n",
       "    <tr>\n",
       "      <th>37934</th>\n",
       "      <td>Johnny Stool Pigeon</td>\n",
       "      <td>0.130835</td>\n",
       "    </tr>\n",
       "    <tr>\n",
       "      <th>5658</th>\n",
       "      <td>Casino Royale</td>\n",
       "      <td>0.122988</td>\n",
       "    </tr>\n",
       "    <tr>\n",
       "      <th>4316</th>\n",
       "      <td>The Way of the Dragon</td>\n",
       "      <td>0.122110</td>\n",
       "    </tr>\n",
       "  </tbody>\n",
       "</table>\n",
       "</div>"
      ],
      "text/plain": [
       "                       title  similarity\n",
       "2874         Licence to Kill    0.154947\n",
       "37440             Dream Work    0.141060\n",
       "2875        Live and Let Die    0.137823\n",
       "7330               Octopussy    0.134646\n",
       "7329     You Only Live Twice    0.134400\n",
       "8331                Doctor X    0.131959\n",
       "7333   Never Say Never Again    0.131215\n",
       "37934    Johnny Stool Pigeon    0.130835\n",
       "5658           Casino Royale    0.122988\n",
       "4316   The Way of the Dragon    0.122110"
      ]
     },
     "execution_count": 273,
     "metadata": {},
     "output_type": "execute_result"
    }
   ],
   "source": [
    "GE_sim"
   ]
  },
  {
   "cell_type": "code",
   "execution_count": 274,
   "metadata": {
    "scrolled": true
   },
   "outputs": [
    {
     "data": {
      "text/plain": [
       "Text(0.5, 1.0, 'Top 10 similar movies - GoldenEye')"
      ]
     },
     "execution_count": 274,
     "metadata": {},
     "output_type": "execute_result"
    },
    {
     "data": {
      "image/png": "[encoded data removed]",
      "text/plain": [
       "<Figure size 432x288 with 1 Axes>"
      ]
     },
     "metadata": {
      "needs_background": "light"
     },
     "output_type": "display_data"
    }
   ],
   "source": [
    "sns.barplot(x=\"similarity\", y=\"title\", data=GE_sim)\n",
    "plt.title(\"Top 10 similar movies - GoldenEye\")"
   ]
  },
  {
   "cell_type": "code",
   "execution_count": null,
   "metadata": {},
   "outputs": [],
   "source": []
  },
  {
   "cell_type": "code",
   "execution_count": 275,
   "metadata": {
    "scrolled": true
   },
   "outputs": [
    {
     "data": {
      "text/plain": [
       "0          Toy Story\n",
       "2997     Toy Story 2\n",
       "15348    Toy Story 3\n",
       "Name: title, dtype: object"
      ]
     },
     "execution_count": 275,
     "metadata": {},
     "output_type": "execute_result"
    }
   ],
   "source": [
    "TS = sim_data[sim_data[\"belongs_to_collection\"]==\"Toy Story Collection\"]\n",
    "TS[\"title\"]"
   ]
  },
  {
   "cell_type": "code",
   "execution_count": 276,
   "metadata": {},
   "outputs": [
    {
     "data": {
      "text/plain": [
       "(15348                                     Toy Story 3\n",
       " 2997                                      Toy Story 2\n",
       " 10301                          The 40 Year Old Virgin\n",
       " 24523                                       Small Fry\n",
       " 23843                     Andy Hardy's Blonde Trouble\n",
       " 29202                                      Hot Splash\n",
       " 43427                Andy Kaufman Plays Carnegie Hall\n",
       " 38476    Superstar: The Life and Times of Andy Warhol\n",
       " 42721    Andy Peters: Exclamation Mark Question Point\n",
       " 8327                                        The Champ\n",
       " Name: title, dtype: object,\n",
       " [0.5317249390108459,\n",
       "  0.4718643328120839,\n",
       "  0.2749594871030276,\n",
       "  0.27298697340301753,\n",
       "  0.23537059350801215,\n",
       "  0.22376140634350095,\n",
       "  0.21760587671568432,\n",
       "  0.21591232086538942,\n",
       "  0.20188419113977984,\n",
       "  0.19878141357655565])"
      ]
     },
     "execution_count": 276,
     "metadata": {},
     "output_type": "execute_result"
    }
   ],
   "source": [
    "get_recommendations(\"Toy Story\")"
   ]
  },
  {
   "cell_type": "code",
   "execution_count": null,
   "metadata": {},
   "outputs": [],
   "source": []
  },
  {
   "cell_type": "code",
   "execution_count": 277,
   "metadata": {},
   "outputs": [],
   "source": [
    "TS_sim = pd.DataFrame()\n",
    "TS_sim[\"title\"] = get_recommendations(\"Toy Story\")[0]\n",
    "TS_sim[\"similarity\"] = get_recommendations(\"Toy Story\")[1]"
   ]
  },
  {
   "cell_type": "code",
   "execution_count": 278,
   "metadata": {},
   "outputs": [
    {
     "data": {
      "text/html": [
       "<div>\n",
       "<style scoped>\n",
       "    .dataframe tbody tr th:only-of-type {\n",
       "        vertical-align: middle;\n",
       "    }\n",
       "\n",
       "    .dataframe tbody tr th {\n",
       "        vertical-align: top;\n",
       "    }\n",
       "\n",
       "    .dataframe thead th {\n",
       "        text-align: right;\n",
       "    }\n",
       "</style>\n",
       "<table border=\"1\" class=\"dataframe\">\n",
       "  <thead>\n",
       "    <tr style=\"text-align: right;\">\n",
       "      <th></th>\n",
       "      <th>title</th>\n",
       "      <th>similarity</th>\n",
       "    </tr>\n",
       "  </thead>\n",
       "  <tbody>\n",
       "    <tr>\n",
       "      <th>15348</th>\n",
       "      <td>Toy Story 3</td>\n",
       "      <td>0.531725</td>\n",
       "    </tr>\n",
       "    <tr>\n",
       "      <th>2997</th>\n",
       "      <td>Toy Story 2</td>\n",
       "      <td>0.471864</td>\n",
       "    </tr>\n",
       "    <tr>\n",
       "      <th>10301</th>\n",
       "      <td>The 40 Year Old Virgin</td>\n",
       "      <td>0.274959</td>\n",
       "    </tr>\n",
       "    <tr>\n",
       "      <th>24523</th>\n",
       "      <td>Small Fry</td>\n",
       "      <td>0.272987</td>\n",
       "    </tr>\n",
       "    <tr>\n",
       "      <th>23843</th>\n",
       "      <td>Andy Hardy's Blonde Trouble</td>\n",
       "      <td>0.235371</td>\n",
       "    </tr>\n",
       "    <tr>\n",
       "      <th>29202</th>\n",
       "      <td>Hot Splash</td>\n",
       "      <td>0.223761</td>\n",
       "    </tr>\n",
       "    <tr>\n",
       "      <th>43427</th>\n",
       "      <td>Andy Kaufman Plays Carnegie Hall</td>\n",
       "      <td>0.217606</td>\n",
       "    </tr>\n",
       "    <tr>\n",
       "      <th>38476</th>\n",
       "      <td>Superstar: The Life and Times of Andy Warhol</td>\n",
       "      <td>0.215912</td>\n",
       "    </tr>\n",
       "    <tr>\n",
       "      <th>42721</th>\n",
       "      <td>Andy Peters: Exclamation Mark Question Point</td>\n",
       "      <td>0.201884</td>\n",
       "    </tr>\n",
       "    <tr>\n",
       "      <th>8327</th>\n",
       "      <td>The Champ</td>\n",
       "      <td>0.198781</td>\n",
       "    </tr>\n",
       "  </tbody>\n",
       "</table>\n",
       "</div>"
      ],
      "text/plain": [
       "                                              title  similarity\n",
       "15348                                   Toy Story 3    0.531725\n",
       "2997                                    Toy Story 2    0.471864\n",
       "10301                        The 40 Year Old Virgin    0.274959\n",
       "24523                                     Small Fry    0.272987\n",
       "23843                   Andy Hardy's Blonde Trouble    0.235371\n",
       "29202                                    Hot Splash    0.223761\n",
       "43427              Andy Kaufman Plays Carnegie Hall    0.217606\n",
       "38476  Superstar: The Life and Times of Andy Warhol    0.215912\n",
       "42721  Andy Peters: Exclamation Mark Question Point    0.201884\n",
       "8327                                      The Champ    0.198781"
      ]
     },
     "execution_count": 278,
     "metadata": {},
     "output_type": "execute_result"
    }
   ],
   "source": [
    "TS_sim"
   ]
  },
  {
   "cell_type": "code",
   "execution_count": 279,
   "metadata": {
    "scrolled": true
   },
   "outputs": [
    {
     "data": {
      "text/plain": [
       "Text(0.5, 1.0, 'Top 10 similar movies - Toy Story')"
      ]
     },
     "execution_count": 279,
     "metadata": {},
     "output_type": "execute_result"
    },
    {
     "data": {
      "image/png": "[encoded data removed]",
      "text/plain": [
       "<Figure size 432x288 with 1 Axes>"
      ]
     },
     "metadata": {
      "needs_background": "light"
     },
     "output_type": "display_data"
    }
   ],
   "source": [
    "sns.barplot(x=\"similarity\", y=\"title\", data=TS_sim)\n",
    "plt.title(\"Top 10 similar movies - Toy Story\")"
   ]
  },
  {
   "cell_type": "code",
   "execution_count": null,
   "metadata": {},
   "outputs": [],
   "source": []
  },
  {
   "cell_type": "code",
   "execution_count": 280,
   "metadata": {
    "scrolled": true
   },
   "outputs": [
    {
     "data": {
      "text/plain": [
       "6772     Sherlock Holmes and the Voice of Terror\n",
       "6773                 Sherlock Holmes Faces Death\n",
       "6774               Sherlock Holmes in Washington\n",
       "7754           The Adventures of Sherlock Holmes\n",
       "7757               The Hound of the Baskervilles\n",
       "8044                             Terror by Night\n",
       "8046       Sherlock Holmes and the Secret Weapon\n",
       "8047                          The Woman in Green\n",
       "8051                             Dressed to Kill\n",
       "14993                         The Pearl of Death\n",
       "27790                         Pursuit to Algiers\n",
       "37766                          The House of Fear\n",
       "Name: title, dtype: object"
      ]
     },
     "execution_count": 280,
     "metadata": {},
     "output_type": "execute_result"
    }
   ],
   "source": [
    "SH = sim_data[sim_data[\"belongs_to_collection\"]==\"Sherlock Holmes (1939 series)\"]\n",
    "SH[\"title\"]"
   ]
  },
  {
   "cell_type": "code",
   "execution_count": 281,
   "metadata": {},
   "outputs": [
    {
     "data": {
      "text/plain": [
       "(4434                                        Without a Clue\n",
       " 3166                                  They Might Be Giants\n",
       " 34730    The Adventures of Sherlock Holmes and Doctor W...\n",
       " 9743                           The Seven-Per-Cent Solution\n",
       " 6432                   The Private Life of Sherlock Holmes\n",
       " 33568                                Home for the Holidays\n",
       " 34750    The Adventures of Sherlock Holmes and Doctor W...\n",
       " 28505               Sherlock Holmes and the Masks of Death\n",
       " 2301                                 Young Sherlock Holmes\n",
       " 24665     The Sign of Four: Sherlock Holmes' Greatest Case\n",
       " Name: title, dtype: object,\n",
       " [0.22662624507146747,\n",
       "  0.22462790337758284,\n",
       "  0.20922822208712186,\n",
       "  0.19851462941672274,\n",
       "  0.1959147305412208,\n",
       "  0.19476857300122327,\n",
       "  0.17074586150747567,\n",
       "  0.17027983221710133,\n",
       "  0.16862713947213648,\n",
       "  0.16226658153003773])"
      ]
     },
     "execution_count": 281,
     "metadata": {},
     "output_type": "execute_result"
    }
   ],
   "source": [
    "get_recommendations(\"Sherlock Holmes and the Voice of Terror\")"
   ]
  },
  {
   "cell_type": "code",
   "execution_count": null,
   "metadata": {},
   "outputs": [],
   "source": []
  },
  {
   "cell_type": "code",
   "execution_count": 282,
   "metadata": {},
   "outputs": [],
   "source": [
    "SH_sim = pd.DataFrame()\n",
    "SH_sim[\"title\"] = get_recommendations(\"Sherlock Holmes and the Voice of Terror\")[0]\n",
    "SH_sim[\"similarity\"] = get_recommendations(\"Sherlock Holmes and the Voice of Terror\")[1]"
   ]
  },
  {
   "cell_type": "code",
   "execution_count": 283,
   "metadata": {},
   "outputs": [
    {
     "data": {
      "text/html": [
       "<div>\n",
       "<style scoped>\n",
       "    .dataframe tbody tr th:only-of-type {\n",
       "        vertical-align: middle;\n",
       "    }\n",
       "\n",
       "    .dataframe tbody tr th {\n",
       "        vertical-align: top;\n",
       "    }\n",
       "\n",
       "    .dataframe thead th {\n",
       "        text-align: right;\n",
       "    }\n",
       "</style>\n",
       "<table border=\"1\" class=\"dataframe\">\n",
       "  <thead>\n",
       "    <tr style=\"text-align: right;\">\n",
       "      <th></th>\n",
       "      <th>title</th>\n",
       "      <th>similarity</th>\n",
       "    </tr>\n",
       "  </thead>\n",
       "  <tbody>\n",
       "    <tr>\n",
       "      <th>4434</th>\n",
       "      <td>Without a Clue</td>\n",
       "      <td>0.226626</td>\n",
       "    </tr>\n",
       "    <tr>\n",
       "      <th>3166</th>\n",
       "      <td>They Might Be Giants</td>\n",
       "      <td>0.224628</td>\n",
       "    </tr>\n",
       "    <tr>\n",
       "      <th>34730</th>\n",
       "      <td>The Adventures of Sherlock Holmes and Doctor W...</td>\n",
       "      <td>0.209228</td>\n",
       "    </tr>\n",
       "    <tr>\n",
       "      <th>9743</th>\n",
       "      <td>The Seven-Per-Cent Solution</td>\n",
       "      <td>0.198515</td>\n",
       "    </tr>\n",
       "    <tr>\n",
       "      <th>6432</th>\n",
       "      <td>The Private Life of Sherlock Holmes</td>\n",
       "      <td>0.195915</td>\n",
       "    </tr>\n",
       "    <tr>\n",
       "      <th>33568</th>\n",
       "      <td>Home for the Holidays</td>\n",
       "      <td>0.194769</td>\n",
       "    </tr>\n",
       "    <tr>\n",
       "      <th>34750</th>\n",
       "      <td>The Adventures of Sherlock Holmes and Doctor W...</td>\n",
       "      <td>0.170746</td>\n",
       "    </tr>\n",
       "    <tr>\n",
       "      <th>28505</th>\n",
       "      <td>Sherlock Holmes and the Masks of Death</td>\n",
       "      <td>0.170280</td>\n",
       "    </tr>\n",
       "    <tr>\n",
       "      <th>2301</th>\n",
       "      <td>Young Sherlock Holmes</td>\n",
       "      <td>0.168627</td>\n",
       "    </tr>\n",
       "    <tr>\n",
       "      <th>24665</th>\n",
       "      <td>The Sign of Four: Sherlock Holmes' Greatest Case</td>\n",
       "      <td>0.162267</td>\n",
       "    </tr>\n",
       "  </tbody>\n",
       "</table>\n",
       "</div>"
      ],
      "text/plain": [
       "                                                   title  similarity\n",
       "4434                                      Without a Clue    0.226626\n",
       "3166                                They Might Be Giants    0.224628\n",
       "34730  The Adventures of Sherlock Holmes and Doctor W...    0.209228\n",
       "9743                         The Seven-Per-Cent Solution    0.198515\n",
       "6432                 The Private Life of Sherlock Holmes    0.195915\n",
       "33568                              Home for the Holidays    0.194769\n",
       "34750  The Adventures of Sherlock Holmes and Doctor W...    0.170746\n",
       "28505             Sherlock Holmes and the Masks of Death    0.170280\n",
       "2301                               Young Sherlock Holmes    0.168627\n",
       "24665   The Sign of Four: Sherlock Holmes' Greatest Case    0.162267"
      ]
     },
     "execution_count": 283,
     "metadata": {},
     "output_type": "execute_result"
    }
   ],
   "source": [
    "SH_sim"
   ]
  },
  {
   "cell_type": "code",
   "execution_count": 284,
   "metadata": {
    "scrolled": false
   },
   "outputs": [
    {
     "data": {
      "text/plain": [
       "Text(0.5, 1.0, 'Top 10 similar movies - Sherlock Holmes')"
      ]
     },
     "execution_count": 284,
     "metadata": {},
     "output_type": "execute_result"
    },
    {
     "data": {
      "image/png": "[encoded data removed]",
      "text/plain": [
       "<Figure size 432x288 with 1 Axes>"
      ]
     },
     "metadata": {
      "needs_background": "light"
     },
     "output_type": "display_data"
    }
   ],
   "source": [
    "sns.barplot(x=\"similarity\", y=\"title\", data=SH_sim)\n",
    "plt.title(\"Top 10 similar movies - Sherlock Holmes\")"
   ]
  },
  {
   "cell_type": "code",
   "execution_count": null,
   "metadata": {},
   "outputs": [],
   "source": []
  },
  {
   "cell_type": "markdown",
   "metadata": {},
   "source": [
    "# cast, director, genres의 유사도를 이용한 유사한 영화 추천"
   ]
  },
  {
   "cell_type": "code",
   "execution_count": 285,
   "metadata": {},
   "outputs": [],
   "source": [
    "data2 = pd.read_csv(\"D:/ESAA/project/data/credits.csv\")"
   ]
  },
  {
   "cell_type": "code",
   "execution_count": 286,
   "metadata": {},
   "outputs": [
    {
     "data": {
      "text/html": [
       "<div>\n",
       "<style scoped>\n",
       "    .dataframe tbody tr th:only-of-type {\n",
       "        vertical-align: middle;\n",
       "    }\n",
       "\n",
       "    .dataframe tbody tr th {\n",
       "        vertical-align: top;\n",
       "    }\n",
       "\n",
       "    .dataframe thead th {\n",
       "        text-align: right;\n",
       "    }\n",
       "</style>\n",
       "<table border=\"1\" class=\"dataframe\">\n",
       "  <thead>\n",
       "    <tr style=\"text-align: right;\">\n",
       "      <th></th>\n",
       "      <th>cast</th>\n",
       "      <th>crew</th>\n",
       "      <th>id</th>\n",
       "    </tr>\n",
       "  </thead>\n",
       "  <tbody>\n",
       "    <tr>\n",
       "      <th>0</th>\n",
       "      <td>[{'cast_id': 14, 'character': 'Woody (voice)',...</td>\n",
       "      <td>[{'credit_id': '52fe4284c3a36847f8024f49', 'de...</td>\n",
       "      <td>862</td>\n",
       "    </tr>\n",
       "    <tr>\n",
       "      <th>1</th>\n",
       "      <td>[{'cast_id': 1, 'character': 'Alan Parrish', '...</td>\n",
       "      <td>[{'credit_id': '52fe44bfc3a36847f80a7cd1', 'de...</td>\n",
       "      <td>8844</td>\n",
       "    </tr>\n",
       "    <tr>\n",
       "      <th>2</th>\n",
       "      <td>[{'cast_id': 2, 'character': 'Max Goldman', 'c...</td>\n",
       "      <td>[{'credit_id': '52fe466a9251416c75077a89', 'de...</td>\n",
       "      <td>15602</td>\n",
       "    </tr>\n",
       "    <tr>\n",
       "      <th>3</th>\n",
       "      <td>[{'cast_id': 1, 'character': \"Savannah 'Vannah...</td>\n",
       "      <td>[{'credit_id': '52fe44779251416c91011acb', 'de...</td>\n",
       "      <td>31357</td>\n",
       "    </tr>\n",
       "    <tr>\n",
       "      <th>4</th>\n",
       "      <td>[{'cast_id': 1, 'character': 'George Banks', '...</td>\n",
       "      <td>[{'credit_id': '52fe44959251416c75039ed7', 'de...</td>\n",
       "      <td>11862</td>\n",
       "    </tr>\n",
       "  </tbody>\n",
       "</table>\n",
       "</div>"
      ],
      "text/plain": [
       "                                                cast  \\\n",
       "0  [{'cast_id': 14, 'character': 'Woody (voice)',...   \n",
       "1  [{'cast_id': 1, 'character': 'Alan Parrish', '...   \n",
       "2  [{'cast_id': 2, 'character': 'Max Goldman', 'c...   \n",
       "3  [{'cast_id': 1, 'character': \"Savannah 'Vannah...   \n",
       "4  [{'cast_id': 1, 'character': 'George Banks', '...   \n",
       "\n",
       "                                                crew     id  \n",
       "0  [{'credit_id': '52fe4284c3a36847f8024f49', 'de...    862  \n",
       "1  [{'credit_id': '52fe44bfc3a36847f80a7cd1', 'de...   8844  \n",
       "2  [{'credit_id': '52fe466a9251416c75077a89', 'de...  15602  \n",
       "3  [{'credit_id': '52fe44779251416c91011acb', 'de...  31357  \n",
       "4  [{'credit_id': '52fe44959251416c75039ed7', 'de...  11862  "
      ]
     },
     "execution_count": 286,
     "metadata": {},
     "output_type": "execute_result"
    }
   ],
   "source": [
    "data2.head()"
   ]
  },
  {
   "cell_type": "code",
   "execution_count": 287,
   "metadata": {},
   "outputs": [
    {
     "data": {
      "text/plain": [
       "\"[{'cast_id': 14, 'character': 'Woody (voice)', 'credit_id': '52fe4284c3a36847f8024f95', 'gender': 2, 'id': 31, 'name': 'Tom Hanks', 'order': 0, 'profile_path': '/pQFoyx7rp09CJTAb932F2g8Nlho.jpg'}, {'cast_id': 15, 'character': 'Buzz Lightyear (voice)', 'credit_id': '52fe4284c3a36847f8024f99', 'gender': 2, 'id': 12898, 'name': 'Tim Allen', 'order': 1, 'profile_path': '/uX2xVf6pMmPepxnvFWyBtjexzgY.jpg'}, {'cast_id': 16, 'character': 'Mr. Potato Head (voice)', 'credit_id': '52fe4284c3a36847f8024f9d', 'gender': 2, 'id': 7167, 'name': 'Don Rickles', 'order': 2, 'profile_path': '/h5BcaDMPRVLHLDzbQavec4xfSdt.jpg'}, {'cast_id': 17, 'character': 'Slinky Dog (voice)', 'credit_id': '52fe4284c3a36847f8024fa1', 'gender': 2, 'id': 12899, 'name': 'Jim Varney', 'order': 3, 'profile_path': '/eIo2jVVXYgjDtaHoF19Ll9vtW7h.jpg'}, {'cast_id': 18, 'character': 'Rex (voice)', 'credit_id': '52fe4284c3a36847f8024fa5', 'gender': 2, 'id': 12900, 'name': 'Wallace Shawn', 'order': 4, 'profile_path': '/oGE6JqPP2xH4tNORKNqxbNPYi7u.jpg'}, {'cast_id': 19, 'character': 'Hamm (voice)', 'credit_id': '52fe4284c3a36847f8024fa9', 'gender': 2, 'id': 7907, 'name': 'John Ratzenberger', 'order': 5, 'profile_path': '/yGechiKWL6TJDfVE2KPSJYqdMsY.jpg'}, {'cast_id': 20, 'character': 'Bo Peep (voice)', 'credit_id': '52fe4284c3a36847f8024fad', 'gender': 1, 'id': 8873, 'name': 'Annie Potts', 'order': 6, 'profile_path': '/eryXT84RL41jHSJcMy4kS3u9y6w.jpg'}, {'cast_id': 26, 'character': 'Andy (voice)', 'credit_id': '52fe4284c3a36847f8024fc1', 'gender': 0, 'id': 1116442, 'name': 'John Morris', 'order': 7, 'profile_path': '/vYGyvK4LzeaUCoNSHtsuqJUY15M.jpg'}, {'cast_id': 22, 'character': 'Sid (voice)', 'credit_id': '52fe4284c3a36847f8024fb1', 'gender': 2, 'id': 12901, 'name': 'Erik von Detten', 'order': 8, 'profile_path': '/twnF1ZaJ1FUNUuo6xLXwcxjayBE.jpg'}, {'cast_id': 23, 'character': 'Mrs. Davis (voice)', 'credit_id': '52fe4284c3a36847f8024fb5', 'gender': 1, 'id': 12133, 'name': 'Laurie Metcalf', 'order': 9, 'profile_path': '/unMMIT60eoBM2sN2nyR7EZ2BvvD.jpg'}, {'cast_id': 24, 'character': 'Sergeant (voice)', 'credit_id': '52fe4284c3a36847f8024fb9', 'gender': 2, 'id': 8655, 'name': 'R. Lee Ermey', 'order': 10, 'profile_path': '/r8GBqFBjypLUP9VVqDqfZ7wYbSs.jpg'}, {'cast_id': 25, 'character': 'Hannah (voice)', 'credit_id': '52fe4284c3a36847f8024fbd', 'gender': 1, 'id': 12903, 'name': 'Sarah Freeman', 'order': 11, 'profile_path': None}, {'cast_id': 27, 'character': 'TV Announcer (voice)', 'credit_id': '52fe4284c3a36847f8024fc5', 'gender': 2, 'id': 37221, 'name': 'Penn Jillette', 'order': 12, 'profile_path': '/zmAaXUdx12NRsssgHbk1T31j2x9.jpg'}]\""
      ]
     },
     "execution_count": 287,
     "metadata": {},
     "output_type": "execute_result"
    }
   ],
   "source": [
    "data2[\"cast\"][0]"
   ]
  },
  {
   "cell_type": "code",
   "execution_count": null,
   "metadata": {},
   "outputs": [],
   "source": [
    "data2[\"crew\"][0][0:10]"
   ]
  },
  {
   "cell_type": "markdown",
   "metadata": {},
   "source": [
    "casting된 배우(성우)의 이름과 director의 이름만 뽑아서 기존 data에 id가 같은 행에 추가"
   ]
  },
  {
   "cell_type": "code",
   "execution_count": null,
   "metadata": {},
   "outputs": [],
   "source": []
  },
  {
   "cell_type": "code",
   "execution_count": 289,
   "metadata": {},
   "outputs": [],
   "source": [
    "features = ['cast', 'crew']\n",
    "for feature in features:\n",
    "    data2[feature] = data2[feature].apply(eval)"
   ]
  },
  {
   "cell_type": "code",
   "execution_count": 290,
   "metadata": {},
   "outputs": [
    {
     "data": {
      "text/plain": [
       "{'cast_id': 14,\n",
       " 'character': 'Woody (voice)',\n",
       " 'credit_id': '52fe4284c3a36847f8024f95',\n",
       " 'gender': 2,\n",
       " 'id': 31,\n",
       " 'name': 'Tom Hanks',\n",
       " 'order': 0,\n",
       " 'profile_path': '/pQFoyx7rp09CJTAb932F2g8Nlho.jpg'}"
      ]
     },
     "execution_count": 290,
     "metadata": {},
     "output_type": "execute_result"
    }
   ],
   "source": [
    "data2[\"cast\"][0][0]"
   ]
  },
  {
   "cell_type": "code",
   "execution_count": 291,
   "metadata": {},
   "outputs": [
    {
     "data": {
      "text/plain": [
       "[{'credit_id': '52fe4284c3a36847f8024f49',\n",
       "  'department': 'Directing',\n",
       "  'gender': 2,\n",
       "  'id': 7879,\n",
       "  'job': 'Director',\n",
       "  'name': 'John Lasseter',\n",
       "  'profile_path': '/7EdqiNbr4FRjIhKHyPPdFfEEEFG.jpg'},\n",
       " {'credit_id': '52fe4284c3a36847f8024f4f',\n",
       "  'department': 'Writing',\n",
       "  'gender': 2,\n",
       "  'id': 12891,\n",
       "  'job': 'Screenplay',\n",
       "  'name': 'Joss Whedon',\n",
       "  'profile_path': '/dTiVsuaTVTeGmvkhcyJvKp2A5kr.jpg'},\n",
       " {'credit_id': '52fe4284c3a36847f8024f55',\n",
       "  'department': 'Writing',\n",
       "  'gender': 2,\n",
       "  'id': 7,\n",
       "  'job': 'Screenplay',\n",
       "  'name': 'Andrew Stanton',\n",
       "  'profile_path': '/pvQWsu0qc8JFQhMVJkTHuexUAa1.jpg'},\n",
       " {'credit_id': '52fe4284c3a36847f8024f5b',\n",
       "  'department': 'Writing',\n",
       "  'gender': 2,\n",
       "  'id': 12892,\n",
       "  'job': 'Screenplay',\n",
       "  'name': 'Joel Cohen',\n",
       "  'profile_path': '/dAubAiZcvKFbboWlj7oXOkZnTSu.jpg'},\n",
       " {'credit_id': '52fe4284c3a36847f8024f61',\n",
       "  'department': 'Writing',\n",
       "  'gender': 0,\n",
       "  'id': 12893,\n",
       "  'job': 'Screenplay',\n",
       "  'name': 'Alec Sokolow',\n",
       "  'profile_path': '/v79vlRYi94BZUQnkkyznbGUZLjT.jpg'},\n",
       " {'credit_id': '52fe4284c3a36847f8024f67',\n",
       "  'department': 'Production',\n",
       "  'gender': 1,\n",
       "  'id': 12894,\n",
       "  'job': 'Producer',\n",
       "  'name': 'Bonnie Arnold',\n",
       "  'profile_path': None},\n",
       " {'credit_id': '52fe4284c3a36847f8024f6d',\n",
       "  'department': 'Production',\n",
       "  'gender': 0,\n",
       "  'id': 12895,\n",
       "  'job': 'Executive Producer',\n",
       "  'name': 'Ed Catmull',\n",
       "  'profile_path': None},\n",
       " {'credit_id': '52fe4284c3a36847f8024f73',\n",
       "  'department': 'Production',\n",
       "  'gender': 2,\n",
       "  'id': 12896,\n",
       "  'job': 'Producer',\n",
       "  'name': 'Ralph Guggenheim',\n",
       "  'profile_path': None},\n",
       " {'credit_id': '52fe4284c3a36847f8024f79',\n",
       "  'department': 'Production',\n",
       "  'gender': 2,\n",
       "  'id': 12897,\n",
       "  'job': 'Executive Producer',\n",
       "  'name': 'Steve Jobs',\n",
       "  'profile_path': '/mOMP3SwD5qWQSR0ldCIByd3guTV.jpg'},\n",
       " {'credit_id': '52fe4284c3a36847f8024f8b',\n",
       "  'department': 'Editing',\n",
       "  'gender': 2,\n",
       "  'id': 8,\n",
       "  'job': 'Editor',\n",
       "  'name': 'Lee Unkrich',\n",
       "  'profile_path': '/bdTCCXjgOV3YyaNmLGYGOxFQMOc.jpg'},\n",
       " {'credit_id': '52fe4284c3a36847f8024f91',\n",
       "  'department': 'Art',\n",
       "  'gender': 2,\n",
       "  'id': 7883,\n",
       "  'job': 'Art Direction',\n",
       "  'name': 'Ralph Eggleston',\n",
       "  'profile_path': '/uUfcGKDsKO1aROMpXRs67Hn6RvR.jpg'},\n",
       " {'credit_id': '598331bf925141421201044b',\n",
       "  'department': 'Editing',\n",
       "  'gender': 2,\n",
       "  'id': 1168870,\n",
       "  'job': 'Editor',\n",
       "  'name': 'Robert Gordon',\n",
       "  'profile_path': None},\n",
       " {'credit_id': '5892168cc3a36809660095f9',\n",
       "  'department': 'Sound',\n",
       "  'gender': 0,\n",
       "  'id': 1552883,\n",
       "  'job': 'Foley Editor',\n",
       "  'name': 'Mary Helen Leasman',\n",
       "  'profile_path': None},\n",
       " {'credit_id': '5531824d9251415289000945',\n",
       "  'department': 'Visual Effects',\n",
       "  'gender': 0,\n",
       "  'id': 1453514,\n",
       "  'job': 'Animation',\n",
       "  'name': 'Kim Blanchette',\n",
       "  'profile_path': None},\n",
       " {'credit_id': '589215969251412dcb009bf6',\n",
       "  'department': 'Sound',\n",
       "  'gender': 0,\n",
       "  'id': 1414182,\n",
       "  'job': 'ADR Editor',\n",
       "  'name': 'Marilyn McCoppen',\n",
       "  'profile_path': None},\n",
       " {'credit_id': '589217099251412dc500a018',\n",
       "  'department': 'Sound',\n",
       "  'gender': 2,\n",
       "  'id': 7885,\n",
       "  'job': 'Orchestrator',\n",
       "  'name': 'Randy Newman',\n",
       "  'profile_path': '/w0JzfoiM25nrnxYOzosPHRq6mlE.jpg'},\n",
       " {'credit_id': '5693e6b29251417b0e0000e3',\n",
       "  'department': 'Editing',\n",
       "  'gender': 0,\n",
       "  'id': 1429549,\n",
       "  'job': 'Color Timer',\n",
       "  'name': 'Dale E. Grahn',\n",
       "  'profile_path': None},\n",
       " {'credit_id': '572e2522c3a36869e6001a9c',\n",
       "  'department': 'Visual Effects',\n",
       "  'gender': 0,\n",
       "  'id': 7949,\n",
       "  'job': 'CG Painter',\n",
       "  'name': 'Robin Cooper',\n",
       "  'profile_path': None},\n",
       " {'credit_id': '574f12309251415ca1000012',\n",
       "  'department': 'Writing',\n",
       "  'gender': 2,\n",
       "  'id': 7879,\n",
       "  'job': 'Original Story',\n",
       "  'name': 'John Lasseter',\n",
       "  'profile_path': '/7EdqiNbr4FRjIhKHyPPdFfEEEFG.jpg'},\n",
       " {'credit_id': '574f1240c3a3682e7300001c',\n",
       "  'department': 'Writing',\n",
       "  'gender': 2,\n",
       "  'id': 12890,\n",
       "  'job': 'Original Story',\n",
       "  'name': 'Pete Docter',\n",
       "  'profile_path': '/r6ngPgnReA3RHmKjmSoVsc6Awjp.jpg'},\n",
       " {'credit_id': '574f12519251415c92000015',\n",
       "  'department': 'Writing',\n",
       "  'gender': 0,\n",
       "  'id': 7911,\n",
       "  'job': 'Original Story',\n",
       "  'name': 'Joe Ranft',\n",
       "  'profile_path': '/f1BoWC2JbCcfP1e5hKfGsxkHzVU.jpg'},\n",
       " {'credit_id': '574f12cec3a3682e82000022',\n",
       "  'department': 'Crew',\n",
       "  'gender': 0,\n",
       "  'id': 1629419,\n",
       "  'job': 'Post Production Supervisor',\n",
       "  'name': 'Patsy Bouge',\n",
       "  'profile_path': None},\n",
       " {'credit_id': '574f14f19251415ca1000082',\n",
       "  'department': 'Art',\n",
       "  'gender': 0,\n",
       "  'id': 7961,\n",
       "  'job': 'Sculptor',\n",
       "  'name': 'Norm DeCarlo',\n",
       "  'profile_path': None},\n",
       " {'credit_id': '5751ae4bc3a3683772002b7f',\n",
       "  'department': 'Visual Effects',\n",
       "  'gender': 2,\n",
       "  'id': 12905,\n",
       "  'job': 'Animation Director',\n",
       "  'name': 'Ash Brannon',\n",
       "  'profile_path': '/6ueWgPEEBHvS3De2BHYQnYjRTig.jpg'},\n",
       " {'credit_id': '5891edbe9251412dc5007cd6',\n",
       "  'department': 'Sound',\n",
       "  'gender': 2,\n",
       "  'id': 7885,\n",
       "  'job': 'Music',\n",
       "  'name': 'Randy Newman',\n",
       "  'profile_path': '/w0JzfoiM25nrnxYOzosPHRq6mlE.jpg'},\n",
       " {'credit_id': '589213d39251412dc8009832',\n",
       "  'department': 'Directing',\n",
       "  'gender': 0,\n",
       "  'id': 1748707,\n",
       "  'job': 'Layout',\n",
       "  'name': 'Roman Figun',\n",
       "  'profile_path': None},\n",
       " {'credit_id': '5892173dc3a3680968009351',\n",
       "  'department': 'Sound',\n",
       "  'gender': 2,\n",
       "  'id': 4949,\n",
       "  'job': 'Orchestrator',\n",
       "  'name': 'Don Davis',\n",
       "  'profile_path': None},\n",
       " {'credit_id': '589217cec3a3686b0a0052ba',\n",
       "  'department': 'Sound',\n",
       "  'gender': 0,\n",
       "  'id': 1372885,\n",
       "  'job': 'Music Editor',\n",
       "  'name': 'James Flamberg',\n",
       "  'profile_path': None},\n",
       " {'credit_id': '58921831c3a3686348004a64',\n",
       "  'department': 'Editing',\n",
       "  'gender': 0,\n",
       "  'id': 1739962,\n",
       "  'job': 'Negative Cutter',\n",
       "  'name': 'Mary Beth Smith',\n",
       "  'profile_path': None},\n",
       " {'credit_id': '58921838c3a36809700096c0',\n",
       "  'department': 'Editing',\n",
       "  'gender': 0,\n",
       "  'id': 1748513,\n",
       "  'job': 'Negative Cutter',\n",
       "  'name': 'Rick Mackay',\n",
       "  'profile_path': None},\n",
       " {'credit_id': '589218429251412dd1009d1b',\n",
       "  'department': 'Art',\n",
       "  'gender': 0,\n",
       "  'id': 1458006,\n",
       "  'job': 'Title Designer',\n",
       "  'name': 'Susan Bradley',\n",
       "  'profile_path': None},\n",
       " {'credit_id': '5891ed99c3a3680966007670',\n",
       "  'department': 'Crew',\n",
       "  'gender': 0,\n",
       "  'id': 1748557,\n",
       "  'job': 'Supervising Technical Director',\n",
       "  'name': 'William Reeves',\n",
       "  'profile_path': None},\n",
       " {'credit_id': '5891edcec3a3686b0a002eb2',\n",
       "  'department': 'Sound',\n",
       "  'gender': 2,\n",
       "  'id': 7885,\n",
       "  'job': 'Songs',\n",
       "  'name': 'Randy Newman',\n",
       "  'profile_path': '/w0JzfoiM25nrnxYOzosPHRq6mlE.jpg'},\n",
       " {'credit_id': '5891edf9c3a36809700075e6',\n",
       "  'department': 'Writing',\n",
       "  'gender': 2,\n",
       "  'id': 7,\n",
       "  'job': 'Original Story',\n",
       "  'name': 'Andrew Stanton',\n",
       "  'profile_path': '/pvQWsu0qc8JFQhMVJkTHuexUAa1.jpg'},\n",
       " {'credit_id': '58920f0b9251412dd7009104',\n",
       "  'department': 'Crew',\n",
       "  'gender': 2,\n",
       "  'id': 12890,\n",
       "  'job': 'Supervising Animator',\n",
       "  'name': 'Pete Docter',\n",
       "  'profile_path': '/r6ngPgnReA3RHmKjmSoVsc6Awjp.jpg'},\n",
       " {'credit_id': '58920f1fc3a3680977009021',\n",
       "  'department': 'Sound',\n",
       "  'gender': 2,\n",
       "  'id': 2216,\n",
       "  'job': 'Sound Designer',\n",
       "  'name': 'Gary Rydstrom',\n",
       "  'profile_path': '/jZpr1nVfO7lldWI0YtmP1FGw7Rj.jpg'},\n",
       " {'credit_id': '58920f389251412dd700912d',\n",
       "  'department': 'Production',\n",
       "  'gender': 0,\n",
       "  'id': 12909,\n",
       "  'job': 'Production Supervisor',\n",
       "  'name': 'Karen Robert Jackson',\n",
       "  'profile_path': None},\n",
       " {'credit_id': '58920fbd9251412dcb00969c',\n",
       "  'department': 'Crew',\n",
       "  'gender': 0,\n",
       "  'id': 953331,\n",
       "  'job': 'Executive Music Producer',\n",
       "  'name': 'Chris Montan',\n",
       "  'profile_path': None},\n",
       " {'credit_id': '589210069251412dd7009219',\n",
       "  'department': 'Visual Effects',\n",
       "  'gender': 0,\n",
       "  'id': 7893,\n",
       "  'job': 'Animation Director',\n",
       "  'name': 'Rich Quade',\n",
       "  'profile_path': None},\n",
       " {'credit_id': '589210329251412dcd00943b',\n",
       "  'department': 'Visual Effects',\n",
       "  'gender': 0,\n",
       "  'id': 8025,\n",
       "  'job': 'Animation',\n",
       "  'name': 'Michael Berenstein',\n",
       "  'profile_path': None},\n",
       " {'credit_id': '5892103bc3a368096a009180',\n",
       "  'department': 'Visual Effects',\n",
       "  'gender': 0,\n",
       "  'id': 78009,\n",
       "  'job': 'Animation',\n",
       "  'name': 'Colin Brady',\n",
       "  'profile_path': None},\n",
       " {'credit_id': '5892105dc3a3680968008db2',\n",
       "  'department': 'Visual Effects',\n",
       "  'gender': 0,\n",
       "  'id': 1748682,\n",
       "  'job': 'Animation',\n",
       "  'name': 'Davey Crockett Feiten',\n",
       "  'profile_path': None},\n",
       " {'credit_id': '589210669251412dcd009466',\n",
       "  'department': 'Visual Effects',\n",
       "  'gender': 0,\n",
       "  'id': 1454030,\n",
       "  'job': 'Animation',\n",
       "  'name': 'Angie Glocka',\n",
       "  'profile_path': None},\n",
       " {'credit_id': '5892107c9251412dd1009613',\n",
       "  'department': 'Visual Effects',\n",
       "  'gender': 0,\n",
       "  'id': 1748683,\n",
       "  'job': 'Animation',\n",
       "  'name': 'Rex Grignon',\n",
       "  'profile_path': None},\n",
       " {'credit_id': '5892108ac3a3680973008d3f',\n",
       "  'department': 'Visual Effects',\n",
       "  'gender': 0,\n",
       "  'id': 1748684,\n",
       "  'job': 'Animation',\n",
       "  'name': 'Tom K. Gurney',\n",
       "  'profile_path': None},\n",
       " {'credit_id': '58921093c3a3686348004477',\n",
       "  'department': 'Visual Effects',\n",
       "  'gender': 2,\n",
       "  'id': 8029,\n",
       "  'job': 'Animation',\n",
       "  'name': 'Jimmy Hayward',\n",
       "  'profile_path': '/lTDRpudEY7BDwTefXbXzMlmb0ui.jpg'},\n",
       " {'credit_id': '5892109b9251412dcd0094b0',\n",
       "  'department': 'Visual Effects',\n",
       "  'gender': 0,\n",
       "  'id': 1426773,\n",
       "  'job': 'Animation',\n",
       "  'name': 'Hal T. Hickel',\n",
       "  'profile_path': None},\n",
       " {'credit_id': '589210a29251412dc5009a29',\n",
       "  'department': 'Visual Effects',\n",
       "  'gender': 0,\n",
       "  'id': 8035,\n",
       "  'job': 'Animation',\n",
       "  'name': 'Karen Kiser',\n",
       "  'profile_path': None},\n",
       " {'credit_id': '589210ccc3a3680977009191',\n",
       "  'department': 'Visual Effects',\n",
       "  'gender': 0,\n",
       "  'id': 1748688,\n",
       "  'job': 'Animation',\n",
       "  'name': 'Anthony B. LaMolinara',\n",
       "  'profile_path': None},\n",
       " {'credit_id': '589210d7c3a3686b0a004c1f',\n",
       "  'department': 'Visual Effects',\n",
       "  'gender': 0,\n",
       "  'id': 587314,\n",
       "  'job': 'Animation',\n",
       "  'name': 'Guionne Leroy',\n",
       "  'profile_path': None},\n",
       " {'credit_id': '589210e1c3a36809770091a7',\n",
       "  'department': 'Visual Effects',\n",
       "  'gender': 2,\n",
       "  'id': 7918,\n",
       "  'job': 'Animation',\n",
       "  'name': 'Bud Luckey',\n",
       "  'profile_path': '/pcCh7G19FKMNijmPQg1PMH1btic.jpg'},\n",
       " {'credit_id': '589210ee9251412dc200978a',\n",
       "  'department': 'Visual Effects',\n",
       "  'gender': 0,\n",
       "  'id': 1748689,\n",
       "  'job': 'Animation',\n",
       "  'name': 'Les Major',\n",
       "  'profile_path': None},\n",
       " {'credit_id': '589210fa9251412dc8009595',\n",
       "  'department': 'Visual Effects',\n",
       "  'gender': 2,\n",
       "  'id': 7892,\n",
       "  'job': 'Animation',\n",
       "  'name': 'Glenn McQueen',\n",
       "  'profile_path': None},\n",
       " {'credit_id': '589211029251412dc8009598',\n",
       "  'department': 'Visual Effects',\n",
       "  'gender': 0,\n",
       "  'id': 555795,\n",
       "  'job': 'Animation',\n",
       "  'name': 'Mark Oftedal',\n",
       "  'profile_path': None},\n",
       " {'credit_id': '5892110b9251412dc800959d',\n",
       "  'department': 'Visual Effects',\n",
       "  'gender': 2,\n",
       "  'id': 7882,\n",
       "  'job': 'Animation',\n",
       "  'name': 'Jeff Pidgeon',\n",
       "  'profile_path': '/yLddkg5HcgbJg00cS13GVBnP0HY.jpg'},\n",
       " {'credit_id': '58921113c3a36863480044e4',\n",
       "  'department': 'Visual Effects',\n",
       "  'gender': 0,\n",
       "  'id': 8017,\n",
       "  'job': 'Animation',\n",
       "  'name': 'Jeff Pratt',\n",
       "  'profile_path': None},\n",
       " {'credit_id': '5892111c9251412dcb0097e9',\n",
       "  'department': 'Visual Effects',\n",
       "  'gender': 0,\n",
       "  'id': 1184140,\n",
       "  'job': 'Animation',\n",
       "  'name': 'Steve Rabatich',\n",
       "  'profile_path': None},\n",
       " {'credit_id': '58921123c3a36809700090f6',\n",
       "  'department': 'Visual Effects',\n",
       "  'gender': 0,\n",
       "  'id': 8049,\n",
       "  'job': 'Animation',\n",
       "  'name': 'Roger Rose',\n",
       "  'profile_path': None},\n",
       " {'credit_id': '5892112b9251412dcb0097fb',\n",
       "  'department': 'Visual Effects',\n",
       "  'gender': 0,\n",
       "  'id': 1509559,\n",
       "  'job': 'Animation',\n",
       "  'name': 'Steve Segal',\n",
       "  'profile_path': None},\n",
       " {'credit_id': '589211349251412dc80095c3',\n",
       "  'department': 'Visual Effects',\n",
       "  'gender': 0,\n",
       "  'id': 1748691,\n",
       "  'job': 'Animation',\n",
       "  'name': 'Doug Sheppeck',\n",
       "  'profile_path': None},\n",
       " {'credit_id': '5892113cc3a3680970009106',\n",
       "  'department': 'Visual Effects',\n",
       "  'gender': 0,\n",
       "  'id': 8050,\n",
       "  'job': 'Animation',\n",
       "  'name': 'Alan Sperling',\n",
       "  'profile_path': None},\n",
       " {'credit_id': '58921148c3a3686b0a004c99',\n",
       "  'department': 'Visual Effects',\n",
       "  'gender': 0,\n",
       "  'id': 8010,\n",
       "  'job': 'Animation',\n",
       "  'name': 'Doug Sweetland',\n",
       "  'profile_path': None},\n",
       " {'credit_id': '58921150c3a3680966009125',\n",
       "  'department': 'Visual Effects',\n",
       "  'gender': 0,\n",
       "  'id': 8044,\n",
       "  'job': 'Animation',\n",
       "  'name': 'David Tart',\n",
       "  'profile_path': None},\n",
       " {'credit_id': '589211629251412dc5009b00',\n",
       "  'department': 'Visual Effects',\n",
       "  'gender': 0,\n",
       "  'id': 1454034,\n",
       "  'job': 'Animation',\n",
       "  'name': 'Ken Willard',\n",
       "  'profile_path': None},\n",
       " {'credit_id': '589211c1c3a3686b0a004d28',\n",
       "  'department': 'Visual Effects',\n",
       "  'gender': 0,\n",
       "  'id': 7887,\n",
       "  'job': 'Visual Effects Supervisor',\n",
       "  'name': 'Thomas Porter',\n",
       "  'profile_path': None},\n",
       " {'credit_id': '589211d4c3a3680968008ed9',\n",
       "  'department': 'Visual Effects',\n",
       "  'gender': 0,\n",
       "  'id': 1406878,\n",
       "  'job': 'Visual Effects',\n",
       "  'name': 'Mark Thomas Henne',\n",
       "  'profile_path': None},\n",
       " {'credit_id': '589211f59251412dd4008e65',\n",
       "  'department': 'Visual Effects',\n",
       "  'gender': 0,\n",
       "  'id': 1748698,\n",
       "  'job': 'Visual Effects',\n",
       "  'name': 'Oren Jacob',\n",
       "  'profile_path': None},\n",
       " {'credit_id': '58921242c3a368096a00939b',\n",
       "  'department': 'Visual Effects',\n",
       "  'gender': 0,\n",
       "  'id': 1748699,\n",
       "  'job': 'Visual Effects',\n",
       "  'name': 'Darwyn Peachey',\n",
       "  'profile_path': None},\n",
       " {'credit_id': '5892124b9251412dc5009bd2',\n",
       "  'department': 'Visual Effects',\n",
       "  'gender': 0,\n",
       "  'id': 1748701,\n",
       "  'job': 'Visual Effects',\n",
       "  'name': 'Mitch Prater',\n",
       "  'profile_path': None},\n",
       " {'credit_id': '58921264c3a3686b0a004dbf',\n",
       "  'department': 'Visual Effects',\n",
       "  'gender': 0,\n",
       "  'id': 1748703,\n",
       "  'job': 'Visual Effects',\n",
       "  'name': 'Brian M. Rosen',\n",
       "  'profile_path': None},\n",
       " {'credit_id': '589212709251412dcd009676',\n",
       "  'department': 'Lighting',\n",
       "  'gender': 1,\n",
       "  'id': 12912,\n",
       "  'job': 'Lighting Supervisor',\n",
       "  'name': 'Sharon Calahan',\n",
       "  'profile_path': None},\n",
       " {'credit_id': '5892127fc3a3686b0a004de5',\n",
       "  'department': 'Lighting',\n",
       "  'gender': 0,\n",
       "  'id': 7899,\n",
       "  'job': 'Lighting Supervisor',\n",
       "  'name': 'Galyn Susman',\n",
       "  'profile_path': None},\n",
       " {'credit_id': '589212cdc3a3680970009268',\n",
       "  'department': 'Visual Effects',\n",
       "  'gender': 0,\n",
       "  'id': 12915,\n",
       "  'job': 'CG Painter',\n",
       "  'name': 'William Cone',\n",
       "  'profile_path': None},\n",
       " {'credit_id': '5892130f9251412dc8009791',\n",
       "  'department': 'Art',\n",
       "  'gender': 0,\n",
       "  'id': 1748705,\n",
       "  'job': 'Sculptor',\n",
       "  'name': 'Shelley Daniels Lekven',\n",
       "  'profile_path': None},\n",
       " {'credit_id': '5892131c9251412dd4008f4c',\n",
       "  'department': 'Visual Effects',\n",
       "  'gender': 2,\n",
       "  'id': 7889,\n",
       "  'job': 'Character Designer',\n",
       "  'name': 'Bob Pauley',\n",
       "  'profile_path': None},\n",
       " {'credit_id': '589213249251412dd100987b',\n",
       "  'department': 'Visual Effects',\n",
       "  'gender': 2,\n",
       "  'id': 7918,\n",
       "  'job': 'Character Designer',\n",
       "  'name': 'Bud Luckey',\n",
       "  'profile_path': '/pcCh7G19FKMNijmPQg1PMH1btic.jpg'},\n",
       " {'credit_id': '5892132b9251412dc80097b1',\n",
       "  'department': 'Visual Effects',\n",
       "  'gender': 2,\n",
       "  'id': 7,\n",
       "  'job': 'Character Designer',\n",
       "  'name': 'Andrew Stanton',\n",
       "  'profile_path': '/pvQWsu0qc8JFQhMVJkTHuexUAa1.jpg'},\n",
       " {'credit_id': '58921332c3a368634800467b',\n",
       "  'department': 'Visual Effects',\n",
       "  'gender': 0,\n",
       "  'id': 12915,\n",
       "  'job': 'Character Designer',\n",
       "  'name': 'William Cone',\n",
       "  'profile_path': None},\n",
       " {'credit_id': '5892135f9251412dd4008f90',\n",
       "  'department': 'Visual Effects',\n",
       "  'gender': 0,\n",
       "  'id': 1748706,\n",
       "  'job': 'Character Designer',\n",
       "  'name': 'Steve Johnson',\n",
       "  'profile_path': None},\n",
       " {'credit_id': '58921384c3a3680973008fd4',\n",
       "  'department': 'Visual Effects',\n",
       "  'gender': 0,\n",
       "  'id': 1176752,\n",
       "  'job': 'Character Designer',\n",
       "  'name': 'Dan Haskett',\n",
       "  'profile_path': None},\n",
       " {'credit_id': '5892138e9251412dc20099fc',\n",
       "  'department': 'Visual Effects',\n",
       "  'gender': 0,\n",
       "  'id': 1088034,\n",
       "  'job': 'Character Designer',\n",
       "  'name': 'Tom Holloway',\n",
       "  'profile_path': '/a0r0T2usTBpgMI5aZbRBDW1fTl8.jpg'},\n",
       " {'credit_id': '58921395c3a368097700942f',\n",
       "  'department': 'Visual Effects',\n",
       "  'gender': 0,\n",
       "  'id': 1447465,\n",
       "  'job': 'Character Designer',\n",
       "  'name': 'Jean Gillmore',\n",
       "  'profile_path': None},\n",
       " {'credit_id': '589213e2c3a3680973009026',\n",
       "  'department': 'Directing',\n",
       "  'gender': 0,\n",
       "  'id': 1748709,\n",
       "  'job': 'Layout',\n",
       "  'name': 'Desirée Mourad',\n",
       "  'profile_path': None},\n",
       " {'credit_id': '589214099251412dc5009d57',\n",
       "  'department': 'Art',\n",
       "  'gender': 0,\n",
       "  'id': 1748710,\n",
       "  'job': 'Set Dresser',\n",
       "  'name': \"Kelly O'Connell\",\n",
       "  'profile_path': None},\n",
       " {'credit_id': '58921411c3a3686b0a004f70',\n",
       "  'department': 'Art',\n",
       "  'gender': 0,\n",
       "  'id': 1443471,\n",
       "  'job': 'Set Dresser',\n",
       "  'name': 'Sonoko Konishi',\n",
       "  'profile_path': None},\n",
       " {'credit_id': '58921434c3a368096a00956e',\n",
       "  'department': 'Art',\n",
       "  'gender': 0,\n",
       "  'id': 1748711,\n",
       "  'job': 'Set Dresser',\n",
       "  'name': 'Ann M. Rockwell',\n",
       "  'profile_path': None},\n",
       " {'credit_id': '5892144ac3a36809680090de',\n",
       "  'department': 'Editing',\n",
       "  'gender': 0,\n",
       "  'id': 1748712,\n",
       "  'job': 'Editorial Manager',\n",
       "  'name': 'Julie M. McDonald',\n",
       "  'profile_path': None},\n",
       " {'credit_id': '58921479c3a368096800910f',\n",
       "  'department': 'Editing',\n",
       "  'gender': 0,\n",
       "  'id': 1589729,\n",
       "  'job': 'Assistant Editor',\n",
       "  'name': 'Robin Lee',\n",
       "  'profile_path': None},\n",
       " {'credit_id': '5892148b9251412dd10099cc',\n",
       "  'department': 'Editing',\n",
       "  'gender': 0,\n",
       "  'id': 1748716,\n",
       "  'job': 'Assistant Editor',\n",
       "  'name': 'Tom Freeman',\n",
       "  'profile_path': None},\n",
       " {'credit_id': '589214959251412dcb009b1f',\n",
       "  'department': 'Editing',\n",
       "  'gender': 0,\n",
       "  'id': 1748717,\n",
       "  'job': 'Assistant Editor',\n",
       "  'name': 'Ada Cochavi',\n",
       "  'profile_path': None},\n",
       " {'credit_id': '5892149ec3a3686348004798',\n",
       "  'department': 'Editing',\n",
       "  'gender': 0,\n",
       "  'id': 1336438,\n",
       "  'job': 'Assistant Editor',\n",
       "  'name': 'Dana Mulligan',\n",
       "  'profile_path': None},\n",
       " {'credit_id': '589214adc3a368096a0095db',\n",
       "  'department': 'Editing',\n",
       "  'gender': 0,\n",
       "  'id': 1748718,\n",
       "  'job': 'Editorial Coordinator',\n",
       "  'name': 'Deirdre Morrison',\n",
       "  'profile_path': None},\n",
       " {'credit_id': '589214c7c3a368097700952b',\n",
       "  'department': 'Production',\n",
       "  'gender': 0,\n",
       "  'id': 1748719,\n",
       "  'job': 'Production Coordinator',\n",
       "  'name': 'Lori Lombardo',\n",
       "  'profile_path': None},\n",
       " {'credit_id': '589214cec3a368096a009603',\n",
       "  'department': 'Production',\n",
       "  'gender': 0,\n",
       "  'id': 1748720,\n",
       "  'job': 'Production Coordinator',\n",
       "  'name': 'Ellen Devine',\n",
       "  'profile_path': None},\n",
       " {'credit_id': '589214e39251412dc8009904',\n",
       "  'department': 'Crew',\n",
       "  'gender': 0,\n",
       "  'id': 1468014,\n",
       "  'job': 'Unit Publicist',\n",
       "  'name': 'Lauren Beth Strogoff',\n",
       "  'profile_path': None},\n",
       " {'credit_id': '58921544c3a3686b0a00507d',\n",
       "  'department': 'Sound',\n",
       "  'gender': 2,\n",
       "  'id': 2216,\n",
       "  'job': 'Sound Re-Recording Mixer',\n",
       "  'name': 'Gary Rydstrom',\n",
       "  'profile_path': '/jZpr1nVfO7lldWI0YtmP1FGw7Rj.jpg'},\n",
       " {'credit_id': '5892154c9251412dd1009a56',\n",
       "  'department': 'Sound',\n",
       "  'gender': 0,\n",
       "  'id': 1425978,\n",
       "  'job': 'Sound Re-Recording Mixer',\n",
       "  'name': 'Gary Summers',\n",
       "  'profile_path': None},\n",
       " {'credit_id': '58921555c3a36809680091bd',\n",
       "  'department': 'Sound',\n",
       "  'gender': 2,\n",
       "  'id': 8276,\n",
       "  'job': 'Supervising Sound Editor',\n",
       "  'name': 'Tim Holland',\n",
       "  'profile_path': None},\n",
       " {'credit_id': '589215c39251412dcb009c12',\n",
       "  'department': 'Sound',\n",
       "  'gender': 0,\n",
       "  'id': 7069,\n",
       "  'job': 'Sound Effects Editor',\n",
       "  'name': 'Pat Jackson',\n",
       "  'profile_path': None},\n",
       " {'credit_id': '58921698c3a368096a009788',\n",
       "  'department': 'Crew',\n",
       "  'gender': 2,\n",
       "  'id': 15894,\n",
       "  'job': 'Sound Design Assistant',\n",
       "  'name': 'Tom Myers',\n",
       "  'profile_path': None},\n",
       " {'credit_id': '589216a89251412dc2009ca4',\n",
       "  'department': 'Sound',\n",
       "  'gender': 0,\n",
       "  'id': 1414177,\n",
       "  'job': 'Assistant Sound Editor',\n",
       "  'name': 'J.R. Grubbs',\n",
       "  'profile_path': None},\n",
       " {'credit_id': '589216c19251412dc2009cb9',\n",
       "  'department': 'Sound',\n",
       "  'gender': 1,\n",
       "  'id': 1748724,\n",
       "  'job': 'Assistant Sound Editor',\n",
       "  'name': 'Susan Sanford',\n",
       "  'profile_path': None},\n",
       " {'credit_id': '589216ccc3a3680973009274',\n",
       "  'department': 'Sound',\n",
       "  'gender': 0,\n",
       "  'id': 1748725,\n",
       "  'job': 'Assistant Sound Editor',\n",
       "  'name': 'Susan Popovic',\n",
       "  'profile_path': None},\n",
       " {'credit_id': '589216d79251412dc8009aa0',\n",
       "  'department': 'Sound',\n",
       "  'gender': 0,\n",
       "  'id': 8067,\n",
       "  'job': 'Assistant Sound Editor',\n",
       "  'name': 'Dan Engstrom',\n",
       "  'profile_path': None},\n",
       " {'credit_id': '589216e49251412dcd009a4f',\n",
       "  'department': 'Production',\n",
       "  'gender': 1,\n",
       "  'id': 7902,\n",
       "  'job': 'Casting Consultant',\n",
       "  'name': 'Ruth Lambert',\n",
       "  'profile_path': None},\n",
       " {'credit_id': '589216f39251412dc2009cf3',\n",
       "  'department': 'Production',\n",
       "  'gender': 0,\n",
       "  'id': 84493,\n",
       "  'job': 'ADR Voice Casting',\n",
       "  'name': 'Mickie McGowan',\n",
       "  'profile_path': '/k7TjJBfINsg8vLQxJwos6XObAD6.jpg'}]"
      ]
     },
     "execution_count": 291,
     "metadata": {},
     "output_type": "execute_result"
    }
   ],
   "source": [
    "data2[\"crew\"][0][0:10]"
   ]
  },
  {
   "cell_type": "code",
   "execution_count": null,
   "metadata": {},
   "outputs": [],
   "source": []
  },
  {
   "cell_type": "code",
   "execution_count": 292,
   "metadata": {},
   "outputs": [],
   "source": [
    "def get_name(data):\n",
    "    name_list=[]\n",
    "    for l in data:\n",
    "        name=[]\n",
    "        for d in l:\n",
    "            name.append(d[\"name\"])\n",
    "        name_list.append(name)\n",
    "    return name_list"
   ]
  },
  {
   "cell_type": "code",
   "execution_count": 293,
   "metadata": {},
   "outputs": [],
   "source": [
    "def get_dir(data):\n",
    "    director_list=[]\n",
    "    for l in data:\n",
    "        director=[]\n",
    "        for d in l:\n",
    "            if d[\"job\"]==\"Director\":\n",
    "                director.append(d[\"name\"])\n",
    "            else:\n",
    "                pass\n",
    "        director_list.append(director)\n",
    "    return director_list"
   ]
  },
  {
   "cell_type": "code",
   "execution_count": 294,
   "metadata": {},
   "outputs": [],
   "source": [
    "data2[\"cast\"] = get_name(data2[\"cast\"])\n",
    "data2[\"crew\"] = get_dir(data2[\"crew\"])"
   ]
  },
  {
   "cell_type": "code",
   "execution_count": 295,
   "metadata": {},
   "outputs": [
    {
     "data": {
      "text/html": [
       "<div>\n",
       "<style scoped>\n",
       "    .dataframe tbody tr th:only-of-type {\n",
       "        vertical-align: middle;\n",
       "    }\n",
       "\n",
       "    .dataframe tbody tr th {\n",
       "        vertical-align: top;\n",
       "    }\n",
       "\n",
       "    .dataframe thead th {\n",
       "        text-align: right;\n",
       "    }\n",
       "</style>\n",
       "<table border=\"1\" class=\"dataframe\">\n",
       "  <thead>\n",
       "    <tr style=\"text-align: right;\">\n",
       "      <th></th>\n",
       "      <th>cast</th>\n",
       "      <th>crew</th>\n",
       "      <th>id</th>\n",
       "    </tr>\n",
       "  </thead>\n",
       "  <tbody>\n",
       "    <tr>\n",
       "      <th>0</th>\n",
       "      <td>[Tom Hanks, Tim Allen, Don Rickles, Jim Varney...</td>\n",
       "      <td>[John Lasseter]</td>\n",
       "      <td>862</td>\n",
       "    </tr>\n",
       "    <tr>\n",
       "      <th>1</th>\n",
       "      <td>[Robin Williams, Jonathan Hyde, Kirsten Dunst,...</td>\n",
       "      <td>[Joe Johnston]</td>\n",
       "      <td>8844</td>\n",
       "    </tr>\n",
       "    <tr>\n",
       "      <th>2</th>\n",
       "      <td>[Walter Matthau, Jack Lemmon, Ann-Margret, Sop...</td>\n",
       "      <td>[Howard Deutch]</td>\n",
       "      <td>15602</td>\n",
       "    </tr>\n",
       "    <tr>\n",
       "      <th>3</th>\n",
       "      <td>[Whitney Houston, Angela Bassett, Loretta Devi...</td>\n",
       "      <td>[Forest Whitaker]</td>\n",
       "      <td>31357</td>\n",
       "    </tr>\n",
       "    <tr>\n",
       "      <th>4</th>\n",
       "      <td>[Steve Martin, Diane Keaton, Martin Short, Kim...</td>\n",
       "      <td>[Charles Shyer]</td>\n",
       "      <td>11862</td>\n",
       "    </tr>\n",
       "    <tr>\n",
       "      <th>...</th>\n",
       "      <td>...</td>\n",
       "      <td>...</td>\n",
       "      <td>...</td>\n",
       "    </tr>\n",
       "    <tr>\n",
       "      <th>45471</th>\n",
       "      <td>[Leila Hatami, Kourosh Tahami, Elham Korda]</td>\n",
       "      <td>[Hamid Nematollah]</td>\n",
       "      <td>439050</td>\n",
       "    </tr>\n",
       "    <tr>\n",
       "      <th>45472</th>\n",
       "      <td>[Angel Aquino, Perry Dizon, Hazel Orencio, Joe...</td>\n",
       "      <td>[Lav Diaz]</td>\n",
       "      <td>111109</td>\n",
       "    </tr>\n",
       "    <tr>\n",
       "      <th>45473</th>\n",
       "      <td>[Erika Eleniak, Adam Baldwin, Julie du Page, J...</td>\n",
       "      <td>[Mark L. Lester]</td>\n",
       "      <td>67758</td>\n",
       "    </tr>\n",
       "    <tr>\n",
       "      <th>45474</th>\n",
       "      <td>[Iwan Mosschuchin, Nathalie Lissenko, Pavel Pa...</td>\n",
       "      <td>[Yakov Protazanov]</td>\n",
       "      <td>227506</td>\n",
       "    </tr>\n",
       "    <tr>\n",
       "      <th>45475</th>\n",
       "      <td>[]</td>\n",
       "      <td>[Daisy Asquith]</td>\n",
       "      <td>461257</td>\n",
       "    </tr>\n",
       "  </tbody>\n",
       "</table>\n",
       "<p>45476 rows × 3 columns</p>\n",
       "</div>"
      ],
      "text/plain": [
       "                                                    cast                crew  \\\n",
       "0      [Tom Hanks, Tim Allen, Don Rickles, Jim Varney...     [John Lasseter]   \n",
       "1      [Robin Williams, Jonathan Hyde, Kirsten Dunst,...      [Joe Johnston]   \n",
       "2      [Walter Matthau, Jack Lemmon, Ann-Margret, Sop...     [Howard Deutch]   \n",
       "3      [Whitney Houston, Angela Bassett, Loretta Devi...   [Forest Whitaker]   \n",
       "4      [Steve Martin, Diane Keaton, Martin Short, Kim...     [Charles Shyer]   \n",
       "...                                                  ...                 ...   \n",
       "45471        [Leila Hatami, Kourosh Tahami, Elham Korda]  [Hamid Nematollah]   \n",
       "45472  [Angel Aquino, Perry Dizon, Hazel Orencio, Joe...          [Lav Diaz]   \n",
       "45473  [Erika Eleniak, Adam Baldwin, Julie du Page, J...    [Mark L. Lester]   \n",
       "45474  [Iwan Mosschuchin, Nathalie Lissenko, Pavel Pa...  [Yakov Protazanov]   \n",
       "45475                                                 []     [Daisy Asquith]   \n",
       "\n",
       "           id  \n",
       "0         862  \n",
       "1        8844  \n",
       "2       15602  \n",
       "3       31357  \n",
       "4       11862  \n",
       "...       ...  \n",
       "45471  439050  \n",
       "45472  111109  \n",
       "45473   67758  \n",
       "45474  227506  \n",
       "45475  461257  \n",
       "\n",
       "[45476 rows x 3 columns]"
      ]
     },
     "execution_count": 295,
     "metadata": {},
     "output_type": "execute_result"
    }
   ],
   "source": [
    "data2"
   ]
  },
  {
   "cell_type": "code",
   "execution_count": 296,
   "metadata": {},
   "outputs": [],
   "source": [
    "data2 = data2.merge(data, on=\"id\")"
   ]
  },
  {
   "cell_type": "code",
   "execution_count": 297,
   "metadata": {},
   "outputs": [
    {
     "data": {
      "text/html": [
       "<div>\n",
       "<style scoped>\n",
       "    .dataframe tbody tr th:only-of-type {\n",
       "        vertical-align: middle;\n",
       "    }\n",
       "\n",
       "    .dataframe tbody tr th {\n",
       "        vertical-align: top;\n",
       "    }\n",
       "\n",
       "    .dataframe thead th {\n",
       "        text-align: right;\n",
       "    }\n",
       "</style>\n",
       "<table border=\"1\" class=\"dataframe\">\n",
       "  <thead>\n",
       "    <tr style=\"text-align: right;\">\n",
       "      <th></th>\n",
       "      <th>cast</th>\n",
       "      <th>crew</th>\n",
       "      <th>id</th>\n",
       "      <th>adult</th>\n",
       "      <th>belongs_to_collection</th>\n",
       "      <th>budget</th>\n",
       "      <th>genres</th>\n",
       "      <th>original_language</th>\n",
       "      <th>original_title</th>\n",
       "      <th>overview</th>\n",
       "      <th>...</th>\n",
       "      <th>release_date</th>\n",
       "      <th>revenue</th>\n",
       "      <th>runtime</th>\n",
       "      <th>spoken_languages</th>\n",
       "      <th>status</th>\n",
       "      <th>tagline</th>\n",
       "      <th>title</th>\n",
       "      <th>video</th>\n",
       "      <th>vote_average</th>\n",
       "      <th>vote_count</th>\n",
       "    </tr>\n",
       "  </thead>\n",
       "  <tbody>\n",
       "    <tr>\n",
       "      <th>0</th>\n",
       "      <td>[Tom Hanks, Tim Allen, Don Rickles, Jim Varney...</td>\n",
       "      <td>[John Lasseter]</td>\n",
       "      <td>862</td>\n",
       "      <td>False</td>\n",
       "      <td>Toy Story Collection</td>\n",
       "      <td>30000000.0</td>\n",
       "      <td>[Animation, Comedy, Family]</td>\n",
       "      <td>en</td>\n",
       "      <td>Toy Story</td>\n",
       "      <td>Led by Woody, Andy's toys live happily in his ...</td>\n",
       "      <td>...</td>\n",
       "      <td>1995-10-30</td>\n",
       "      <td>373554033.0</td>\n",
       "      <td>81.0</td>\n",
       "      <td>[English]</td>\n",
       "      <td>Released</td>\n",
       "      <td>NaN</td>\n",
       "      <td>Toy Story</td>\n",
       "      <td>False</td>\n",
       "      <td>7.7</td>\n",
       "      <td>5415.0</td>\n",
       "    </tr>\n",
       "    <tr>\n",
       "      <th>1</th>\n",
       "      <td>[Robin Williams, Jonathan Hyde, Kirsten Dunst,...</td>\n",
       "      <td>[Joe Johnston]</td>\n",
       "      <td>8844</td>\n",
       "      <td>False</td>\n",
       "      <td>NaN</td>\n",
       "      <td>65000000.0</td>\n",
       "      <td>[Adventure, Fantasy, Family]</td>\n",
       "      <td>en</td>\n",
       "      <td>Jumanji</td>\n",
       "      <td>When siblings Judy and Peter discover an encha...</td>\n",
       "      <td>...</td>\n",
       "      <td>1995-12-15</td>\n",
       "      <td>262797249.0</td>\n",
       "      <td>104.0</td>\n",
       "      <td>[English, Français]</td>\n",
       "      <td>Released</td>\n",
       "      <td>Roll the dice and unleash the excitement!</td>\n",
       "      <td>Jumanji</td>\n",
       "      <td>False</td>\n",
       "      <td>6.9</td>\n",
       "      <td>2413.0</td>\n",
       "    </tr>\n",
       "    <tr>\n",
       "      <th>2</th>\n",
       "      <td>[Walter Matthau, Jack Lemmon, Ann-Margret, Sop...</td>\n",
       "      <td>[Howard Deutch]</td>\n",
       "      <td>15602</td>\n",
       "      <td>False</td>\n",
       "      <td>Grumpy Old Men Collection</td>\n",
       "      <td>0.0</td>\n",
       "      <td>[Romance, Comedy]</td>\n",
       "      <td>en</td>\n",
       "      <td>Grumpier Old Men</td>\n",
       "      <td>A family wedding reignites the ancient feud be...</td>\n",
       "      <td>...</td>\n",
       "      <td>1995-12-22</td>\n",
       "      <td>0.0</td>\n",
       "      <td>101.0</td>\n",
       "      <td>[English]</td>\n",
       "      <td>Released</td>\n",
       "      <td>Still Yelling. Still Fighting. Still Ready for...</td>\n",
       "      <td>Grumpier Old Men</td>\n",
       "      <td>False</td>\n",
       "      <td>6.5</td>\n",
       "      <td>92.0</td>\n",
       "    </tr>\n",
       "    <tr>\n",
       "      <th>3</th>\n",
       "      <td>[Whitney Houston, Angela Bassett, Loretta Devi...</td>\n",
       "      <td>[Forest Whitaker]</td>\n",
       "      <td>31357</td>\n",
       "      <td>False</td>\n",
       "      <td>NaN</td>\n",
       "      <td>16000000.0</td>\n",
       "      <td>[Comedy, Drama, Romance]</td>\n",
       "      <td>en</td>\n",
       "      <td>Waiting to Exhale</td>\n",
       "      <td>Cheated on, mistreated and stepped on, the wom...</td>\n",
       "      <td>...</td>\n",
       "      <td>1995-12-22</td>\n",
       "      <td>81452156.0</td>\n",
       "      <td>127.0</td>\n",
       "      <td>[English]</td>\n",
       "      <td>Released</td>\n",
       "      <td>Friends are the people who let you be yourself...</td>\n",
       "      <td>Waiting to Exhale</td>\n",
       "      <td>False</td>\n",
       "      <td>6.1</td>\n",
       "      <td>34.0</td>\n",
       "    </tr>\n",
       "    <tr>\n",
       "      <th>4</th>\n",
       "      <td>[Steve Martin, Diane Keaton, Martin Short, Kim...</td>\n",
       "      <td>[Charles Shyer]</td>\n",
       "      <td>11862</td>\n",
       "      <td>False</td>\n",
       "      <td>Father of the Bride Collection</td>\n",
       "      <td>0.0</td>\n",
       "      <td>[Comedy]</td>\n",
       "      <td>en</td>\n",
       "      <td>Father of the Bride Part II</td>\n",
       "      <td>Just when George Banks has recovered from his ...</td>\n",
       "      <td>...</td>\n",
       "      <td>1995-02-10</td>\n",
       "      <td>76578911.0</td>\n",
       "      <td>106.0</td>\n",
       "      <td>[English]</td>\n",
       "      <td>Released</td>\n",
       "      <td>Just When His World Is Back To Normal... He's ...</td>\n",
       "      <td>Father of the Bride Part II</td>\n",
       "      <td>False</td>\n",
       "      <td>5.7</td>\n",
       "      <td>173.0</td>\n",
       "    </tr>\n",
       "    <tr>\n",
       "      <th>...</th>\n",
       "      <td>...</td>\n",
       "      <td>...</td>\n",
       "      <td>...</td>\n",
       "      <td>...</td>\n",
       "      <td>...</td>\n",
       "      <td>...</td>\n",
       "      <td>...</td>\n",
       "      <td>...</td>\n",
       "      <td>...</td>\n",
       "      <td>...</td>\n",
       "      <td>...</td>\n",
       "      <td>...</td>\n",
       "      <td>...</td>\n",
       "      <td>...</td>\n",
       "      <td>...</td>\n",
       "      <td>...</td>\n",
       "      <td>...</td>\n",
       "      <td>...</td>\n",
       "      <td>...</td>\n",
       "      <td>...</td>\n",
       "      <td>...</td>\n",
       "    </tr>\n",
       "    <tr>\n",
       "      <th>45336</th>\n",
       "      <td>[Patrick Bergin, Uma Thurman, David Morrissey,...</td>\n",
       "      <td>[John Irvin]</td>\n",
       "      <td>30840</td>\n",
       "      <td>False</td>\n",
       "      <td>NaN</td>\n",
       "      <td>0.0</td>\n",
       "      <td>[Drama, Action, Romance]</td>\n",
       "      <td>en</td>\n",
       "      <td>Robin Hood</td>\n",
       "      <td>Yet another version of the classic epic, with ...</td>\n",
       "      <td>...</td>\n",
       "      <td>1991-05-13</td>\n",
       "      <td>0.0</td>\n",
       "      <td>104.0</td>\n",
       "      <td>[English]</td>\n",
       "      <td>Released</td>\n",
       "      <td>NaN</td>\n",
       "      <td>Robin Hood</td>\n",
       "      <td>False</td>\n",
       "      <td>5.7</td>\n",
       "      <td>26.0</td>\n",
       "    </tr>\n",
       "    <tr>\n",
       "      <th>45337</th>\n",
       "      <td>[Leila Hatami, Kourosh Tahami, Elham Korda]</td>\n",
       "      <td>[Hamid Nematollah]</td>\n",
       "      <td>439050</td>\n",
       "      <td>False</td>\n",
       "      <td>NaN</td>\n",
       "      <td>0.0</td>\n",
       "      <td>[Drama, Family]</td>\n",
       "      <td>fa</td>\n",
       "      <td>رگ خواب</td>\n",
       "      <td>Rising and falling between a man and woman.</td>\n",
       "      <td>...</td>\n",
       "      <td>NaT</td>\n",
       "      <td>0.0</td>\n",
       "      <td>90.0</td>\n",
       "      <td>[فارسی]</td>\n",
       "      <td>Released</td>\n",
       "      <td>Rising and falling between a man and woman</td>\n",
       "      <td>Subdue</td>\n",
       "      <td>False</td>\n",
       "      <td>4.0</td>\n",
       "      <td>1.0</td>\n",
       "    </tr>\n",
       "    <tr>\n",
       "      <th>45338</th>\n",
       "      <td>[Erika Eleniak, Adam Baldwin, Julie du Page, J...</td>\n",
       "      <td>[Mark L. Lester]</td>\n",
       "      <td>67758</td>\n",
       "      <td>False</td>\n",
       "      <td>NaN</td>\n",
       "      <td>0.0</td>\n",
       "      <td>[Action, Drama, Thriller]</td>\n",
       "      <td>en</td>\n",
       "      <td>Betrayal</td>\n",
       "      <td>When one of her hits goes wrong, a professiona...</td>\n",
       "      <td>...</td>\n",
       "      <td>2003-08-01</td>\n",
       "      <td>0.0</td>\n",
       "      <td>90.0</td>\n",
       "      <td>[English]</td>\n",
       "      <td>Released</td>\n",
       "      <td>A deadly game of wits.</td>\n",
       "      <td>Betrayal</td>\n",
       "      <td>False</td>\n",
       "      <td>3.8</td>\n",
       "      <td>6.0</td>\n",
       "    </tr>\n",
       "    <tr>\n",
       "      <th>45339</th>\n",
       "      <td>[Iwan Mosschuchin, Nathalie Lissenko, Pavel Pa...</td>\n",
       "      <td>[Yakov Protazanov]</td>\n",
       "      <td>227506</td>\n",
       "      <td>False</td>\n",
       "      <td>NaN</td>\n",
       "      <td>0.0</td>\n",
       "      <td>NaN</td>\n",
       "      <td>en</td>\n",
       "      <td>Satana likuyushchiy</td>\n",
       "      <td>In a small town live two brothers, one a minis...</td>\n",
       "      <td>...</td>\n",
       "      <td>1917-10-21</td>\n",
       "      <td>0.0</td>\n",
       "      <td>87.0</td>\n",
       "      <td>NaN</td>\n",
       "      <td>Released</td>\n",
       "      <td>NaN</td>\n",
       "      <td>Satan Triumphant</td>\n",
       "      <td>False</td>\n",
       "      <td>0.0</td>\n",
       "      <td>0.0</td>\n",
       "    </tr>\n",
       "    <tr>\n",
       "      <th>45340</th>\n",
       "      <td>[]</td>\n",
       "      <td>[Daisy Asquith]</td>\n",
       "      <td>461257</td>\n",
       "      <td>False</td>\n",
       "      <td>NaN</td>\n",
       "      <td>0.0</td>\n",
       "      <td>NaN</td>\n",
       "      <td>en</td>\n",
       "      <td>Queerama</td>\n",
       "      <td>50 years after decriminalisation of homosexual...</td>\n",
       "      <td>...</td>\n",
       "      <td>2017-06-09</td>\n",
       "      <td>0.0</td>\n",
       "      <td>75.0</td>\n",
       "      <td>[English]</td>\n",
       "      <td>Released</td>\n",
       "      <td>NaN</td>\n",
       "      <td>Queerama</td>\n",
       "      <td>False</td>\n",
       "      <td>0.0</td>\n",
       "      <td>0.0</td>\n",
       "    </tr>\n",
       "  </tbody>\n",
       "</table>\n",
       "<p>45341 rows × 23 columns</p>\n",
       "</div>"
      ],
      "text/plain": [
       "                                                    cast                crew  \\\n",
       "0      [Tom Hanks, Tim Allen, Don Rickles, Jim Varney...     [John Lasseter]   \n",
       "1      [Robin Williams, Jonathan Hyde, Kirsten Dunst,...      [Joe Johnston]   \n",
       "2      [Walter Matthau, Jack Lemmon, Ann-Margret, Sop...     [Howard Deutch]   \n",
       "3      [Whitney Houston, Angela Bassett, Loretta Devi...   [Forest Whitaker]   \n",
       "4      [Steve Martin, Diane Keaton, Martin Short, Kim...     [Charles Shyer]   \n",
       "...                                                  ...                 ...   \n",
       "45336  [Patrick Bergin, Uma Thurman, David Morrissey,...        [John Irvin]   \n",
       "45337        [Leila Hatami, Kourosh Tahami, Elham Korda]  [Hamid Nematollah]   \n",
       "45338  [Erika Eleniak, Adam Baldwin, Julie du Page, J...    [Mark L. Lester]   \n",
       "45339  [Iwan Mosschuchin, Nathalie Lissenko, Pavel Pa...  [Yakov Protazanov]   \n",
       "45340                                                 []     [Daisy Asquith]   \n",
       "\n",
       "           id  adult           belongs_to_collection      budget  \\\n",
       "0         862  False            Toy Story Collection  30000000.0   \n",
       "1        8844  False                             NaN  65000000.0   \n",
       "2       15602  False       Grumpy Old Men Collection         0.0   \n",
       "3       31357  False                             NaN  16000000.0   \n",
       "4       11862  False  Father of the Bride Collection         0.0   \n",
       "...       ...    ...                             ...         ...   \n",
       "45336   30840  False                             NaN         0.0   \n",
       "45337  439050  False                             NaN         0.0   \n",
       "45338   67758  False                             NaN         0.0   \n",
       "45339  227506  False                             NaN         0.0   \n",
       "45340  461257  False                             NaN         0.0   \n",
       "\n",
       "                             genres original_language  \\\n",
       "0       [Animation, Comedy, Family]                en   \n",
       "1      [Adventure, Fantasy, Family]                en   \n",
       "2                 [Romance, Comedy]                en   \n",
       "3          [Comedy, Drama, Romance]                en   \n",
       "4                          [Comedy]                en   \n",
       "...                             ...               ...   \n",
       "45336      [Drama, Action, Romance]                en   \n",
       "45337               [Drama, Family]                fa   \n",
       "45338     [Action, Drama, Thriller]                en   \n",
       "45339                           NaN                en   \n",
       "45340                           NaN                en   \n",
       "\n",
       "                    original_title  \\\n",
       "0                        Toy Story   \n",
       "1                          Jumanji   \n",
       "2                 Grumpier Old Men   \n",
       "3                Waiting to Exhale   \n",
       "4      Father of the Bride Part II   \n",
       "...                            ...   \n",
       "45336                   Robin Hood   \n",
       "45337                      رگ خواب   \n",
       "45338                     Betrayal   \n",
       "45339          Satana likuyushchiy   \n",
       "45340                     Queerama   \n",
       "\n",
       "                                                overview  ...  release_date  \\\n",
       "0      Led by Woody, Andy's toys live happily in his ...  ...    1995-10-30   \n",
       "1      When siblings Judy and Peter discover an encha...  ...    1995-12-15   \n",
       "2      A family wedding reignites the ancient feud be...  ...    1995-12-22   \n",
       "3      Cheated on, mistreated and stepped on, the wom...  ...    1995-12-22   \n",
       "4      Just when George Banks has recovered from his ...  ...    1995-02-10   \n",
       "...                                                  ...  ...           ...   \n",
       "45336  Yet another version of the classic epic, with ...  ...    1991-05-13   \n",
       "45337        Rising and falling between a man and woman.  ...           NaT   \n",
       "45338  When one of her hits goes wrong, a professiona...  ...    2003-08-01   \n",
       "45339  In a small town live two brothers, one a minis...  ...    1917-10-21   \n",
       "45340  50 years after decriminalisation of homosexual...  ...    2017-06-09   \n",
       "\n",
       "           revenue runtime     spoken_languages    status  \\\n",
       "0      373554033.0    81.0            [English]  Released   \n",
       "1      262797249.0   104.0  [English, Français]  Released   \n",
       "2              0.0   101.0            [English]  Released   \n",
       "3       81452156.0   127.0            [English]  Released   \n",
       "4       76578911.0   106.0            [English]  Released   \n",
       "...            ...     ...                  ...       ...   \n",
       "45336          0.0   104.0            [English]  Released   \n",
       "45337          0.0    90.0              [فارسی]  Released   \n",
       "45338          0.0    90.0            [English]  Released   \n",
       "45339          0.0    87.0                  NaN  Released   \n",
       "45340          0.0    75.0            [English]  Released   \n",
       "\n",
       "                                                 tagline  \\\n",
       "0                                                    NaN   \n",
       "1              Roll the dice and unleash the excitement!   \n",
       "2      Still Yelling. Still Fighting. Still Ready for...   \n",
       "3      Friends are the people who let you be yourself...   \n",
       "4      Just When His World Is Back To Normal... He's ...   \n",
       "...                                                  ...   \n",
       "45336                                                NaN   \n",
       "45337         Rising and falling between a man and woman   \n",
       "45338                             A deadly game of wits.   \n",
       "45339                                                NaN   \n",
       "45340                                                NaN   \n",
       "\n",
       "                             title  video vote_average vote_count  \n",
       "0                        Toy Story  False          7.7     5415.0  \n",
       "1                          Jumanji  False          6.9     2413.0  \n",
       "2                 Grumpier Old Men  False          6.5       92.0  \n",
       "3                Waiting to Exhale  False          6.1       34.0  \n",
       "4      Father of the Bride Part II  False          5.7      173.0  \n",
       "...                            ...    ...          ...        ...  \n",
       "45336                   Robin Hood  False          5.7       26.0  \n",
       "45337                       Subdue  False          4.0        1.0  \n",
       "45338                     Betrayal  False          3.8        6.0  \n",
       "45339             Satan Triumphant  False          0.0        0.0  \n",
       "45340                     Queerama  False          0.0        0.0  \n",
       "\n",
       "[45341 rows x 23 columns]"
      ]
     },
     "execution_count": 297,
     "metadata": {},
     "output_type": "execute_result"
    }
   ],
   "source": [
    "data2 "
   ]
  },
  {
   "cell_type": "code",
   "execution_count": null,
   "metadata": {},
   "outputs": [],
   "source": []
  },
  {
   "cell_type": "code",
   "execution_count": 298,
   "metadata": {},
   "outputs": [],
   "source": [
    "def clean_data(x):\n",
    "    if isinstance(x, list):\n",
    "        return [str.lower(i.replace(\" \", \"\")) for i in x]\n",
    "    else:\n",
    "        if isinstance(x, str):\n",
    "            return str.lower(x.replace(\" \", \"\"))\n",
    "        else:\n",
    "            return ''"
   ]
  },
  {
   "cell_type": "code",
   "execution_count": 299,
   "metadata": {},
   "outputs": [],
   "source": [
    "features = ['cast', 'crew', 'genres']\n",
    "\n",
    "for feature in features:\n",
    "    data2[feature] = data2[feature].apply(clean_data)"
   ]
  },
  {
   "cell_type": "code",
   "execution_count": 300,
   "metadata": {},
   "outputs": [
    {
     "data": {
      "text/html": [
       "<div>\n",
       "<style scoped>\n",
       "    .dataframe tbody tr th:only-of-type {\n",
       "        vertical-align: middle;\n",
       "    }\n",
       "\n",
       "    .dataframe tbody tr th {\n",
       "        vertical-align: top;\n",
       "    }\n",
       "\n",
       "    .dataframe thead th {\n",
       "        text-align: right;\n",
       "    }\n",
       "</style>\n",
       "<table border=\"1\" class=\"dataframe\">\n",
       "  <thead>\n",
       "    <tr style=\"text-align: right;\">\n",
       "      <th></th>\n",
       "      <th>cast</th>\n",
       "      <th>crew</th>\n",
       "      <th>id</th>\n",
       "      <th>adult</th>\n",
       "      <th>belongs_to_collection</th>\n",
       "      <th>budget</th>\n",
       "      <th>genres</th>\n",
       "      <th>original_language</th>\n",
       "      <th>original_title</th>\n",
       "      <th>overview</th>\n",
       "      <th>...</th>\n",
       "      <th>release_date</th>\n",
       "      <th>revenue</th>\n",
       "      <th>runtime</th>\n",
       "      <th>spoken_languages</th>\n",
       "      <th>status</th>\n",
       "      <th>tagline</th>\n",
       "      <th>title</th>\n",
       "      <th>video</th>\n",
       "      <th>vote_average</th>\n",
       "      <th>vote_count</th>\n",
       "    </tr>\n",
       "  </thead>\n",
       "  <tbody>\n",
       "    <tr>\n",
       "      <th>0</th>\n",
       "      <td>[tomhanks, timallen, donrickles, jimvarney, wa...</td>\n",
       "      <td>[johnlasseter]</td>\n",
       "      <td>862</td>\n",
       "      <td>False</td>\n",
       "      <td>Toy Story Collection</td>\n",
       "      <td>30000000.0</td>\n",
       "      <td>[animation, comedy, family]</td>\n",
       "      <td>en</td>\n",
       "      <td>Toy Story</td>\n",
       "      <td>Led by Woody, Andy's toys live happily in his ...</td>\n",
       "      <td>...</td>\n",
       "      <td>1995-10-30</td>\n",
       "      <td>373554033.0</td>\n",
       "      <td>81.0</td>\n",
       "      <td>[English]</td>\n",
       "      <td>Released</td>\n",
       "      <td>NaN</td>\n",
       "      <td>Toy Story</td>\n",
       "      <td>False</td>\n",
       "      <td>7.7</td>\n",
       "      <td>5415.0</td>\n",
       "    </tr>\n",
       "    <tr>\n",
       "      <th>1</th>\n",
       "      <td>[robinwilliams, jonathanhyde, kirstendunst, br...</td>\n",
       "      <td>[joejohnston]</td>\n",
       "      <td>8844</td>\n",
       "      <td>False</td>\n",
       "      <td>NaN</td>\n",
       "      <td>65000000.0</td>\n",
       "      <td>[adventure, fantasy, family]</td>\n",
       "      <td>en</td>\n",
       "      <td>Jumanji</td>\n",
       "      <td>When siblings Judy and Peter discover an encha...</td>\n",
       "      <td>...</td>\n",
       "      <td>1995-12-15</td>\n",
       "      <td>262797249.0</td>\n",
       "      <td>104.0</td>\n",
       "      <td>[English, Français]</td>\n",
       "      <td>Released</td>\n",
       "      <td>Roll the dice and unleash the excitement!</td>\n",
       "      <td>Jumanji</td>\n",
       "      <td>False</td>\n",
       "      <td>6.9</td>\n",
       "      <td>2413.0</td>\n",
       "    </tr>\n",
       "    <tr>\n",
       "      <th>2</th>\n",
       "      <td>[waltermatthau, jacklemmon, ann-margret, sophi...</td>\n",
       "      <td>[howarddeutch]</td>\n",
       "      <td>15602</td>\n",
       "      <td>False</td>\n",
       "      <td>Grumpy Old Men Collection</td>\n",
       "      <td>0.0</td>\n",
       "      <td>[romance, comedy]</td>\n",
       "      <td>en</td>\n",
       "      <td>Grumpier Old Men</td>\n",
       "      <td>A family wedding reignites the ancient feud be...</td>\n",
       "      <td>...</td>\n",
       "      <td>1995-12-22</td>\n",
       "      <td>0.0</td>\n",
       "      <td>101.0</td>\n",
       "      <td>[English]</td>\n",
       "      <td>Released</td>\n",
       "      <td>Still Yelling. Still Fighting. Still Ready for...</td>\n",
       "      <td>Grumpier Old Men</td>\n",
       "      <td>False</td>\n",
       "      <td>6.5</td>\n",
       "      <td>92.0</td>\n",
       "    </tr>\n",
       "    <tr>\n",
       "      <th>3</th>\n",
       "      <td>[whitneyhouston, angelabassett, lorettadevine,...</td>\n",
       "      <td>[forestwhitaker]</td>\n",
       "      <td>31357</td>\n",
       "      <td>False</td>\n",
       "      <td>NaN</td>\n",
       "      <td>16000000.0</td>\n",
       "      <td>[comedy, drama, romance]</td>\n",
       "      <td>en</td>\n",
       "      <td>Waiting to Exhale</td>\n",
       "      <td>Cheated on, mistreated and stepped on, the wom...</td>\n",
       "      <td>...</td>\n",
       "      <td>1995-12-22</td>\n",
       "      <td>81452156.0</td>\n",
       "      <td>127.0</td>\n",
       "      <td>[English]</td>\n",
       "      <td>Released</td>\n",
       "      <td>Friends are the people who let you be yourself...</td>\n",
       "      <td>Waiting to Exhale</td>\n",
       "      <td>False</td>\n",
       "      <td>6.1</td>\n",
       "      <td>34.0</td>\n",
       "    </tr>\n",
       "    <tr>\n",
       "      <th>4</th>\n",
       "      <td>[stevemartin, dianekeaton, martinshort, kimber...</td>\n",
       "      <td>[charlesshyer]</td>\n",
       "      <td>11862</td>\n",
       "      <td>False</td>\n",
       "      <td>Father of the Bride Collection</td>\n",
       "      <td>0.0</td>\n",
       "      <td>[comedy]</td>\n",
       "      <td>en</td>\n",
       "      <td>Father of the Bride Part II</td>\n",
       "      <td>Just when George Banks has recovered from his ...</td>\n",
       "      <td>...</td>\n",
       "      <td>1995-02-10</td>\n",
       "      <td>76578911.0</td>\n",
       "      <td>106.0</td>\n",
       "      <td>[English]</td>\n",
       "      <td>Released</td>\n",
       "      <td>Just When His World Is Back To Normal... He's ...</td>\n",
       "      <td>Father of the Bride Part II</td>\n",
       "      <td>False</td>\n",
       "      <td>5.7</td>\n",
       "      <td>173.0</td>\n",
       "    </tr>\n",
       "    <tr>\n",
       "      <th>...</th>\n",
       "      <td>...</td>\n",
       "      <td>...</td>\n",
       "      <td>...</td>\n",
       "      <td>...</td>\n",
       "      <td>...</td>\n",
       "      <td>...</td>\n",
       "      <td>...</td>\n",
       "      <td>...</td>\n",
       "      <td>...</td>\n",
       "      <td>...</td>\n",
       "      <td>...</td>\n",
       "      <td>...</td>\n",
       "      <td>...</td>\n",
       "      <td>...</td>\n",
       "      <td>...</td>\n",
       "      <td>...</td>\n",
       "      <td>...</td>\n",
       "      <td>...</td>\n",
       "      <td>...</td>\n",
       "      <td>...</td>\n",
       "      <td>...</td>\n",
       "    </tr>\n",
       "    <tr>\n",
       "      <th>45336</th>\n",
       "      <td>[patrickbergin, umathurman, davidmorrissey, jü...</td>\n",
       "      <td>[johnirvin]</td>\n",
       "      <td>30840</td>\n",
       "      <td>False</td>\n",
       "      <td>NaN</td>\n",
       "      <td>0.0</td>\n",
       "      <td>[drama, action, romance]</td>\n",
       "      <td>en</td>\n",
       "      <td>Robin Hood</td>\n",
       "      <td>Yet another version of the classic epic, with ...</td>\n",
       "      <td>...</td>\n",
       "      <td>1991-05-13</td>\n",
       "      <td>0.0</td>\n",
       "      <td>104.0</td>\n",
       "      <td>[English]</td>\n",
       "      <td>Released</td>\n",
       "      <td>NaN</td>\n",
       "      <td>Robin Hood</td>\n",
       "      <td>False</td>\n",
       "      <td>5.7</td>\n",
       "      <td>26.0</td>\n",
       "    </tr>\n",
       "    <tr>\n",
       "      <th>45337</th>\n",
       "      <td>[leilahatami, kouroshtahami, elhamkorda]</td>\n",
       "      <td>[hamidnematollah]</td>\n",
       "      <td>439050</td>\n",
       "      <td>False</td>\n",
       "      <td>NaN</td>\n",
       "      <td>0.0</td>\n",
       "      <td>[drama, family]</td>\n",
       "      <td>fa</td>\n",
       "      <td>رگ خواب</td>\n",
       "      <td>Rising and falling between a man and woman.</td>\n",
       "      <td>...</td>\n",
       "      <td>NaT</td>\n",
       "      <td>0.0</td>\n",
       "      <td>90.0</td>\n",
       "      <td>[فارسی]</td>\n",
       "      <td>Released</td>\n",
       "      <td>Rising and falling between a man and woman</td>\n",
       "      <td>Subdue</td>\n",
       "      <td>False</td>\n",
       "      <td>4.0</td>\n",
       "      <td>1.0</td>\n",
       "    </tr>\n",
       "    <tr>\n",
       "      <th>45338</th>\n",
       "      <td>[erikaeleniak, adambaldwin, juliedupage, james...</td>\n",
       "      <td>[markl.lester]</td>\n",
       "      <td>67758</td>\n",
       "      <td>False</td>\n",
       "      <td>NaN</td>\n",
       "      <td>0.0</td>\n",
       "      <td>[action, drama, thriller]</td>\n",
       "      <td>en</td>\n",
       "      <td>Betrayal</td>\n",
       "      <td>When one of her hits goes wrong, a professiona...</td>\n",
       "      <td>...</td>\n",
       "      <td>2003-08-01</td>\n",
       "      <td>0.0</td>\n",
       "      <td>90.0</td>\n",
       "      <td>[English]</td>\n",
       "      <td>Released</td>\n",
       "      <td>A deadly game of wits.</td>\n",
       "      <td>Betrayal</td>\n",
       "      <td>False</td>\n",
       "      <td>3.8</td>\n",
       "      <td>6.0</td>\n",
       "    </tr>\n",
       "    <tr>\n",
       "      <th>45339</th>\n",
       "      <td>[iwanmosschuchin, nathalielissenko, pavelpavlo...</td>\n",
       "      <td>[yakovprotazanov]</td>\n",
       "      <td>227506</td>\n",
       "      <td>False</td>\n",
       "      <td>NaN</td>\n",
       "      <td>0.0</td>\n",
       "      <td></td>\n",
       "      <td>en</td>\n",
       "      <td>Satana likuyushchiy</td>\n",
       "      <td>In a small town live two brothers, one a minis...</td>\n",
       "      <td>...</td>\n",
       "      <td>1917-10-21</td>\n",
       "      <td>0.0</td>\n",
       "      <td>87.0</td>\n",
       "      <td>NaN</td>\n",
       "      <td>Released</td>\n",
       "      <td>NaN</td>\n",
       "      <td>Satan Triumphant</td>\n",
       "      <td>False</td>\n",
       "      <td>0.0</td>\n",
       "      <td>0.0</td>\n",
       "    </tr>\n",
       "    <tr>\n",
       "      <th>45340</th>\n",
       "      <td>[]</td>\n",
       "      <td>[daisyasquith]</td>\n",
       "      <td>461257</td>\n",
       "      <td>False</td>\n",
       "      <td>NaN</td>\n",
       "      <td>0.0</td>\n",
       "      <td></td>\n",
       "      <td>en</td>\n",
       "      <td>Queerama</td>\n",
       "      <td>50 years after decriminalisation of homosexual...</td>\n",
       "      <td>...</td>\n",
       "      <td>2017-06-09</td>\n",
       "      <td>0.0</td>\n",
       "      <td>75.0</td>\n",
       "      <td>[English]</td>\n",
       "      <td>Released</td>\n",
       "      <td>NaN</td>\n",
       "      <td>Queerama</td>\n",
       "      <td>False</td>\n",
       "      <td>0.0</td>\n",
       "      <td>0.0</td>\n",
       "    </tr>\n",
       "  </tbody>\n",
       "</table>\n",
       "<p>45341 rows × 23 columns</p>\n",
       "</div>"
      ],
      "text/plain": [
       "                                                    cast               crew  \\\n",
       "0      [tomhanks, timallen, donrickles, jimvarney, wa...     [johnlasseter]   \n",
       "1      [robinwilliams, jonathanhyde, kirstendunst, br...      [joejohnston]   \n",
       "2      [waltermatthau, jacklemmon, ann-margret, sophi...     [howarddeutch]   \n",
       "3      [whitneyhouston, angelabassett, lorettadevine,...   [forestwhitaker]   \n",
       "4      [stevemartin, dianekeaton, martinshort, kimber...     [charlesshyer]   \n",
       "...                                                  ...                ...   \n",
       "45336  [patrickbergin, umathurman, davidmorrissey, jü...        [johnirvin]   \n",
       "45337           [leilahatami, kouroshtahami, elhamkorda]  [hamidnematollah]   \n",
       "45338  [erikaeleniak, adambaldwin, juliedupage, james...     [markl.lester]   \n",
       "45339  [iwanmosschuchin, nathalielissenko, pavelpavlo...  [yakovprotazanov]   \n",
       "45340                                                 []     [daisyasquith]   \n",
       "\n",
       "           id  adult           belongs_to_collection      budget  \\\n",
       "0         862  False            Toy Story Collection  30000000.0   \n",
       "1        8844  False                             NaN  65000000.0   \n",
       "2       15602  False       Grumpy Old Men Collection         0.0   \n",
       "3       31357  False                             NaN  16000000.0   \n",
       "4       11862  False  Father of the Bride Collection         0.0   \n",
       "...       ...    ...                             ...         ...   \n",
       "45336   30840  False                             NaN         0.0   \n",
       "45337  439050  False                             NaN         0.0   \n",
       "45338   67758  False                             NaN         0.0   \n",
       "45339  227506  False                             NaN         0.0   \n",
       "45340  461257  False                             NaN         0.0   \n",
       "\n",
       "                             genres original_language  \\\n",
       "0       [animation, comedy, family]                en   \n",
       "1      [adventure, fantasy, family]                en   \n",
       "2                 [romance, comedy]                en   \n",
       "3          [comedy, drama, romance]                en   \n",
       "4                          [comedy]                en   \n",
       "...                             ...               ...   \n",
       "45336      [drama, action, romance]                en   \n",
       "45337               [drama, family]                fa   \n",
       "45338     [action, drama, thriller]                en   \n",
       "45339                                              en   \n",
       "45340                                              en   \n",
       "\n",
       "                    original_title  \\\n",
       "0                        Toy Story   \n",
       "1                          Jumanji   \n",
       "2                 Grumpier Old Men   \n",
       "3                Waiting to Exhale   \n",
       "4      Father of the Bride Part II   \n",
       "...                            ...   \n",
       "45336                   Robin Hood   \n",
       "45337                      رگ خواب   \n",
       "45338                     Betrayal   \n",
       "45339          Satana likuyushchiy   \n",
       "45340                     Queerama   \n",
       "\n",
       "                                                overview  ...  release_date  \\\n",
       "0      Led by Woody, Andy's toys live happily in his ...  ...    1995-10-30   \n",
       "1      When siblings Judy and Peter discover an encha...  ...    1995-12-15   \n",
       "2      A family wedding reignites the ancient feud be...  ...    1995-12-22   \n",
       "3      Cheated on, mistreated and stepped on, the wom...  ...    1995-12-22   \n",
       "4      Just when George Banks has recovered from his ...  ...    1995-02-10   \n",
       "...                                                  ...  ...           ...   \n",
       "45336  Yet another version of the classic epic, with ...  ...    1991-05-13   \n",
       "45337        Rising and falling between a man and woman.  ...           NaT   \n",
       "45338  When one of her hits goes wrong, a professiona...  ...    2003-08-01   \n",
       "45339  In a small town live two brothers, one a minis...  ...    1917-10-21   \n",
       "45340  50 years after decriminalisation of homosexual...  ...    2017-06-09   \n",
       "\n",
       "           revenue runtime     spoken_languages    status  \\\n",
       "0      373554033.0    81.0            [English]  Released   \n",
       "1      262797249.0   104.0  [English, Français]  Released   \n",
       "2              0.0   101.0            [English]  Released   \n",
       "3       81452156.0   127.0            [English]  Released   \n",
       "4       76578911.0   106.0            [English]  Released   \n",
       "...            ...     ...                  ...       ...   \n",
       "45336          0.0   104.0            [English]  Released   \n",
       "45337          0.0    90.0              [فارسی]  Released   \n",
       "45338          0.0    90.0            [English]  Released   \n",
       "45339          0.0    87.0                  NaN  Released   \n",
       "45340          0.0    75.0            [English]  Released   \n",
       "\n",
       "                                                 tagline  \\\n",
       "0                                                    NaN   \n",
       "1              Roll the dice and unleash the excitement!   \n",
       "2      Still Yelling. Still Fighting. Still Ready for...   \n",
       "3      Friends are the people who let you be yourself...   \n",
       "4      Just When His World Is Back To Normal... He's ...   \n",
       "...                                                  ...   \n",
       "45336                                                NaN   \n",
       "45337         Rising and falling between a man and woman   \n",
       "45338                             A deadly game of wits.   \n",
       "45339                                                NaN   \n",
       "45340                                                NaN   \n",
       "\n",
       "                             title  video vote_average vote_count  \n",
       "0                        Toy Story  False          7.7     5415.0  \n",
       "1                          Jumanji  False          6.9     2413.0  \n",
       "2                 Grumpier Old Men  False          6.5       92.0  \n",
       "3                Waiting to Exhale  False          6.1       34.0  \n",
       "4      Father of the Bride Part II  False          5.7      173.0  \n",
       "...                            ...    ...          ...        ...  \n",
       "45336                   Robin Hood  False          5.7       26.0  \n",
       "45337                       Subdue  False          4.0        1.0  \n",
       "45338                     Betrayal  False          3.8        6.0  \n",
       "45339             Satan Triumphant  False          0.0        0.0  \n",
       "45340                     Queerama  False          0.0        0.0  \n",
       "\n",
       "[45341 rows x 23 columns]"
      ]
     },
     "execution_count": 300,
     "metadata": {},
     "output_type": "execute_result"
    }
   ],
   "source": [
    "data2"
   ]
  },
  {
   "cell_type": "code",
   "execution_count": null,
   "metadata": {},
   "outputs": [],
   "source": []
  },
  {
   "cell_type": "code",
   "execution_count": 301,
   "metadata": {},
   "outputs": [],
   "source": [
    "def create_rec_element(data_features):\n",
    "    listtt=[]\n",
    "    for row in data_features:\n",
    "        listt=[]\n",
    "        listt.append(\" \".join(row))\n",
    "        listtt.append(listt)\n",
    "    return listtt"
   ]
  },
  {
   "cell_type": "code",
   "execution_count": 302,
   "metadata": {},
   "outputs": [],
   "source": [
    "data2[\"cast\"]=create_rec_element(data2[\"cast\"])\n",
    "data2[\"crew\"]=create_rec_element(data2[\"crew\"])\n",
    "data2[\"genres\"]=create_rec_element(data2[\"genres\"])"
   ]
  },
  {
   "cell_type": "code",
   "execution_count": 303,
   "metadata": {
    "scrolled": false
   },
   "outputs": [
    {
     "data": {
      "text/html": [
       "<div>\n",
       "<style scoped>\n",
       "    .dataframe tbody tr th:only-of-type {\n",
       "        vertical-align: middle;\n",
       "    }\n",
       "\n",
       "    .dataframe tbody tr th {\n",
       "        vertical-align: top;\n",
       "    }\n",
       "\n",
       "    .dataframe thead th {\n",
       "        text-align: right;\n",
       "    }\n",
       "</style>\n",
       "<table border=\"1\" class=\"dataframe\">\n",
       "  <thead>\n",
       "    <tr style=\"text-align: right;\">\n",
       "      <th></th>\n",
       "      <th>cast</th>\n",
       "      <th>crew</th>\n",
       "      <th>id</th>\n",
       "      <th>adult</th>\n",
       "      <th>belongs_to_collection</th>\n",
       "      <th>budget</th>\n",
       "      <th>genres</th>\n",
       "      <th>original_language</th>\n",
       "      <th>original_title</th>\n",
       "      <th>overview</th>\n",
       "      <th>...</th>\n",
       "      <th>release_date</th>\n",
       "      <th>revenue</th>\n",
       "      <th>runtime</th>\n",
       "      <th>spoken_languages</th>\n",
       "      <th>status</th>\n",
       "      <th>tagline</th>\n",
       "      <th>title</th>\n",
       "      <th>video</th>\n",
       "      <th>vote_average</th>\n",
       "      <th>vote_count</th>\n",
       "    </tr>\n",
       "  </thead>\n",
       "  <tbody>\n",
       "    <tr>\n",
       "      <th>0</th>\n",
       "      <td>[tomhanks timallen donrickles jimvarney wallac...</td>\n",
       "      <td>[johnlasseter]</td>\n",
       "      <td>862</td>\n",
       "      <td>False</td>\n",
       "      <td>Toy Story Collection</td>\n",
       "      <td>30000000.0</td>\n",
       "      <td>[animation comedy family]</td>\n",
       "      <td>en</td>\n",
       "      <td>Toy Story</td>\n",
       "      <td>Led by Woody, Andy's toys live happily in his ...</td>\n",
       "      <td>...</td>\n",
       "      <td>1995-10-30</td>\n",
       "      <td>373554033.0</td>\n",
       "      <td>81.0</td>\n",
       "      <td>[English]</td>\n",
       "      <td>Released</td>\n",
       "      <td>NaN</td>\n",
       "      <td>Toy Story</td>\n",
       "      <td>False</td>\n",
       "      <td>7.7</td>\n",
       "      <td>5415.0</td>\n",
       "    </tr>\n",
       "    <tr>\n",
       "      <th>1</th>\n",
       "      <td>[robinwilliams jonathanhyde kirstendunst bradl...</td>\n",
       "      <td>[joejohnston]</td>\n",
       "      <td>8844</td>\n",
       "      <td>False</td>\n",
       "      <td>NaN</td>\n",
       "      <td>65000000.0</td>\n",
       "      <td>[adventure fantasy family]</td>\n",
       "      <td>en</td>\n",
       "      <td>Jumanji</td>\n",
       "      <td>When siblings Judy and Peter discover an encha...</td>\n",
       "      <td>...</td>\n",
       "      <td>1995-12-15</td>\n",
       "      <td>262797249.0</td>\n",
       "      <td>104.0</td>\n",
       "      <td>[English, Français]</td>\n",
       "      <td>Released</td>\n",
       "      <td>Roll the dice and unleash the excitement!</td>\n",
       "      <td>Jumanji</td>\n",
       "      <td>False</td>\n",
       "      <td>6.9</td>\n",
       "      <td>2413.0</td>\n",
       "    </tr>\n",
       "    <tr>\n",
       "      <th>2</th>\n",
       "      <td>[waltermatthau jacklemmon ann-margret sophialo...</td>\n",
       "      <td>[howarddeutch]</td>\n",
       "      <td>15602</td>\n",
       "      <td>False</td>\n",
       "      <td>Grumpy Old Men Collection</td>\n",
       "      <td>0.0</td>\n",
       "      <td>[romance comedy]</td>\n",
       "      <td>en</td>\n",
       "      <td>Grumpier Old Men</td>\n",
       "      <td>A family wedding reignites the ancient feud be...</td>\n",
       "      <td>...</td>\n",
       "      <td>1995-12-22</td>\n",
       "      <td>0.0</td>\n",
       "      <td>101.0</td>\n",
       "      <td>[English]</td>\n",
       "      <td>Released</td>\n",
       "      <td>Still Yelling. Still Fighting. Still Ready for...</td>\n",
       "      <td>Grumpier Old Men</td>\n",
       "      <td>False</td>\n",
       "      <td>6.5</td>\n",
       "      <td>92.0</td>\n",
       "    </tr>\n",
       "    <tr>\n",
       "      <th>3</th>\n",
       "      <td>[whitneyhouston angelabassett lorettadevine le...</td>\n",
       "      <td>[forestwhitaker]</td>\n",
       "      <td>31357</td>\n",
       "      <td>False</td>\n",
       "      <td>NaN</td>\n",
       "      <td>16000000.0</td>\n",
       "      <td>[comedy drama romance]</td>\n",
       "      <td>en</td>\n",
       "      <td>Waiting to Exhale</td>\n",
       "      <td>Cheated on, mistreated and stepped on, the wom...</td>\n",
       "      <td>...</td>\n",
       "      <td>1995-12-22</td>\n",
       "      <td>81452156.0</td>\n",
       "      <td>127.0</td>\n",
       "      <td>[English]</td>\n",
       "      <td>Released</td>\n",
       "      <td>Friends are the people who let you be yourself...</td>\n",
       "      <td>Waiting to Exhale</td>\n",
       "      <td>False</td>\n",
       "      <td>6.1</td>\n",
       "      <td>34.0</td>\n",
       "    </tr>\n",
       "    <tr>\n",
       "      <th>4</th>\n",
       "      <td>[stevemartin dianekeaton martinshort kimberlyw...</td>\n",
       "      <td>[charlesshyer]</td>\n",
       "      <td>11862</td>\n",
       "      <td>False</td>\n",
       "      <td>Father of the Bride Collection</td>\n",
       "      <td>0.0</td>\n",
       "      <td>[comedy]</td>\n",
       "      <td>en</td>\n",
       "      <td>Father of the Bride Part II</td>\n",
       "      <td>Just when George Banks has recovered from his ...</td>\n",
       "      <td>...</td>\n",
       "      <td>1995-02-10</td>\n",
       "      <td>76578911.0</td>\n",
       "      <td>106.0</td>\n",
       "      <td>[English]</td>\n",
       "      <td>Released</td>\n",
       "      <td>Just When His World Is Back To Normal... He's ...</td>\n",
       "      <td>Father of the Bride Part II</td>\n",
       "      <td>False</td>\n",
       "      <td>5.7</td>\n",
       "      <td>173.0</td>\n",
       "    </tr>\n",
       "    <tr>\n",
       "      <th>...</th>\n",
       "      <td>...</td>\n",
       "      <td>...</td>\n",
       "      <td>...</td>\n",
       "      <td>...</td>\n",
       "      <td>...</td>\n",
       "      <td>...</td>\n",
       "      <td>...</td>\n",
       "      <td>...</td>\n",
       "      <td>...</td>\n",
       "      <td>...</td>\n",
       "      <td>...</td>\n",
       "      <td>...</td>\n",
       "      <td>...</td>\n",
       "      <td>...</td>\n",
       "      <td>...</td>\n",
       "      <td>...</td>\n",
       "      <td>...</td>\n",
       "      <td>...</td>\n",
       "      <td>...</td>\n",
       "      <td>...</td>\n",
       "      <td>...</td>\n",
       "    </tr>\n",
       "    <tr>\n",
       "      <th>45336</th>\n",
       "      <td>[patrickbergin umathurman davidmorrissey jürge...</td>\n",
       "      <td>[johnirvin]</td>\n",
       "      <td>30840</td>\n",
       "      <td>False</td>\n",
       "      <td>NaN</td>\n",
       "      <td>0.0</td>\n",
       "      <td>[drama action romance]</td>\n",
       "      <td>en</td>\n",
       "      <td>Robin Hood</td>\n",
       "      <td>Yet another version of the classic epic, with ...</td>\n",
       "      <td>...</td>\n",
       "      <td>1991-05-13</td>\n",
       "      <td>0.0</td>\n",
       "      <td>104.0</td>\n",
       "      <td>[English]</td>\n",
       "      <td>Released</td>\n",
       "      <td>NaN</td>\n",
       "      <td>Robin Hood</td>\n",
       "      <td>False</td>\n",
       "      <td>5.7</td>\n",
       "      <td>26.0</td>\n",
       "    </tr>\n",
       "    <tr>\n",
       "      <th>45337</th>\n",
       "      <td>[leilahatami kouroshtahami elhamkorda]</td>\n",
       "      <td>[hamidnematollah]</td>\n",
       "      <td>439050</td>\n",
       "      <td>False</td>\n",
       "      <td>NaN</td>\n",
       "      <td>0.0</td>\n",
       "      <td>[drama family]</td>\n",
       "      <td>fa</td>\n",
       "      <td>رگ خواب</td>\n",
       "      <td>Rising and falling between a man and woman.</td>\n",
       "      <td>...</td>\n",
       "      <td>NaT</td>\n",
       "      <td>0.0</td>\n",
       "      <td>90.0</td>\n",
       "      <td>[فارسی]</td>\n",
       "      <td>Released</td>\n",
       "      <td>Rising and falling between a man and woman</td>\n",
       "      <td>Subdue</td>\n",
       "      <td>False</td>\n",
       "      <td>4.0</td>\n",
       "      <td>1.0</td>\n",
       "    </tr>\n",
       "    <tr>\n",
       "      <th>45338</th>\n",
       "      <td>[erikaeleniak adambaldwin juliedupage jamesrem...</td>\n",
       "      <td>[markl.lester]</td>\n",
       "      <td>67758</td>\n",
       "      <td>False</td>\n",
       "      <td>NaN</td>\n",
       "      <td>0.0</td>\n",
       "      <td>[action drama thriller]</td>\n",
       "      <td>en</td>\n",
       "      <td>Betrayal</td>\n",
       "      <td>When one of her hits goes wrong, a professiona...</td>\n",
       "      <td>...</td>\n",
       "      <td>2003-08-01</td>\n",
       "      <td>0.0</td>\n",
       "      <td>90.0</td>\n",
       "      <td>[English]</td>\n",
       "      <td>Released</td>\n",
       "      <td>A deadly game of wits.</td>\n",
       "      <td>Betrayal</td>\n",
       "      <td>False</td>\n",
       "      <td>3.8</td>\n",
       "      <td>6.0</td>\n",
       "    </tr>\n",
       "    <tr>\n",
       "      <th>45339</th>\n",
       "      <td>[iwanmosschuchin nathalielissenko pavelpavlov ...</td>\n",
       "      <td>[yakovprotazanov]</td>\n",
       "      <td>227506</td>\n",
       "      <td>False</td>\n",
       "      <td>NaN</td>\n",
       "      <td>0.0</td>\n",
       "      <td>[]</td>\n",
       "      <td>en</td>\n",
       "      <td>Satana likuyushchiy</td>\n",
       "      <td>In a small town live two brothers, one a minis...</td>\n",
       "      <td>...</td>\n",
       "      <td>1917-10-21</td>\n",
       "      <td>0.0</td>\n",
       "      <td>87.0</td>\n",
       "      <td>NaN</td>\n",
       "      <td>Released</td>\n",
       "      <td>NaN</td>\n",
       "      <td>Satan Triumphant</td>\n",
       "      <td>False</td>\n",
       "      <td>0.0</td>\n",
       "      <td>0.0</td>\n",
       "    </tr>\n",
       "    <tr>\n",
       "      <th>45340</th>\n",
       "      <td>[]</td>\n",
       "      <td>[daisyasquith]</td>\n",
       "      <td>461257</td>\n",
       "      <td>False</td>\n",
       "      <td>NaN</td>\n",
       "      <td>0.0</td>\n",
       "      <td>[]</td>\n",
       "      <td>en</td>\n",
       "      <td>Queerama</td>\n",
       "      <td>50 years after decriminalisation of homosexual...</td>\n",
       "      <td>...</td>\n",
       "      <td>2017-06-09</td>\n",
       "      <td>0.0</td>\n",
       "      <td>75.0</td>\n",
       "      <td>[English]</td>\n",
       "      <td>Released</td>\n",
       "      <td>NaN</td>\n",
       "      <td>Queerama</td>\n",
       "      <td>False</td>\n",
       "      <td>0.0</td>\n",
       "      <td>0.0</td>\n",
       "    </tr>\n",
       "  </tbody>\n",
       "</table>\n",
       "<p>45341 rows × 23 columns</p>\n",
       "</div>"
      ],
      "text/plain": [
       "                                                    cast               crew  \\\n",
       "0      [tomhanks timallen donrickles jimvarney wallac...     [johnlasseter]   \n",
       "1      [robinwilliams jonathanhyde kirstendunst bradl...      [joejohnston]   \n",
       "2      [waltermatthau jacklemmon ann-margret sophialo...     [howarddeutch]   \n",
       "3      [whitneyhouston angelabassett lorettadevine le...   [forestwhitaker]   \n",
       "4      [stevemartin dianekeaton martinshort kimberlyw...     [charlesshyer]   \n",
       "...                                                  ...                ...   \n",
       "45336  [patrickbergin umathurman davidmorrissey jürge...        [johnirvin]   \n",
       "45337             [leilahatami kouroshtahami elhamkorda]  [hamidnematollah]   \n",
       "45338  [erikaeleniak adambaldwin juliedupage jamesrem...     [markl.lester]   \n",
       "45339  [iwanmosschuchin nathalielissenko pavelpavlov ...  [yakovprotazanov]   \n",
       "45340                                                 []     [daisyasquith]   \n",
       "\n",
       "           id  adult           belongs_to_collection      budget  \\\n",
       "0         862  False            Toy Story Collection  30000000.0   \n",
       "1        8844  False                             NaN  65000000.0   \n",
       "2       15602  False       Grumpy Old Men Collection         0.0   \n",
       "3       31357  False                             NaN  16000000.0   \n",
       "4       11862  False  Father of the Bride Collection         0.0   \n",
       "...       ...    ...                             ...         ...   \n",
       "45336   30840  False                             NaN         0.0   \n",
       "45337  439050  False                             NaN         0.0   \n",
       "45338   67758  False                             NaN         0.0   \n",
       "45339  227506  False                             NaN         0.0   \n",
       "45340  461257  False                             NaN         0.0   \n",
       "\n",
       "                           genres original_language  \\\n",
       "0       [animation comedy family]                en   \n",
       "1      [adventure fantasy family]                en   \n",
       "2                [romance comedy]                en   \n",
       "3          [comedy drama romance]                en   \n",
       "4                        [comedy]                en   \n",
       "...                           ...               ...   \n",
       "45336      [drama action romance]                en   \n",
       "45337              [drama family]                fa   \n",
       "45338     [action drama thriller]                en   \n",
       "45339                          []                en   \n",
       "45340                          []                en   \n",
       "\n",
       "                    original_title  \\\n",
       "0                        Toy Story   \n",
       "1                          Jumanji   \n",
       "2                 Grumpier Old Men   \n",
       "3                Waiting to Exhale   \n",
       "4      Father of the Bride Part II   \n",
       "...                            ...   \n",
       "45336                   Robin Hood   \n",
       "45337                      رگ خواب   \n",
       "45338                     Betrayal   \n",
       "45339          Satana likuyushchiy   \n",
       "45340                     Queerama   \n",
       "\n",
       "                                                overview  ...  release_date  \\\n",
       "0      Led by Woody, Andy's toys live happily in his ...  ...    1995-10-30   \n",
       "1      When siblings Judy and Peter discover an encha...  ...    1995-12-15   \n",
       "2      A family wedding reignites the ancient feud be...  ...    1995-12-22   \n",
       "3      Cheated on, mistreated and stepped on, the wom...  ...    1995-12-22   \n",
       "4      Just when George Banks has recovered from his ...  ...    1995-02-10   \n",
       "...                                                  ...  ...           ...   \n",
       "45336  Yet another version of the classic epic, with ...  ...    1991-05-13   \n",
       "45337        Rising and falling between a man and woman.  ...           NaT   \n",
       "45338  When one of her hits goes wrong, a professiona...  ...    2003-08-01   \n",
       "45339  In a small town live two brothers, one a minis...  ...    1917-10-21   \n",
       "45340  50 years after decriminalisation of homosexual...  ...    2017-06-09   \n",
       "\n",
       "           revenue runtime     spoken_languages    status  \\\n",
       "0      373554033.0    81.0            [English]  Released   \n",
       "1      262797249.0   104.0  [English, Français]  Released   \n",
       "2              0.0   101.0            [English]  Released   \n",
       "3       81452156.0   127.0            [English]  Released   \n",
       "4       76578911.0   106.0            [English]  Released   \n",
       "...            ...     ...                  ...       ...   \n",
       "45336          0.0   104.0            [English]  Released   \n",
       "45337          0.0    90.0              [فارسی]  Released   \n",
       "45338          0.0    90.0            [English]  Released   \n",
       "45339          0.0    87.0                  NaN  Released   \n",
       "45340          0.0    75.0            [English]  Released   \n",
       "\n",
       "                                                 tagline  \\\n",
       "0                                                    NaN   \n",
       "1              Roll the dice and unleash the excitement!   \n",
       "2      Still Yelling. Still Fighting. Still Ready for...   \n",
       "3      Friends are the people who let you be yourself...   \n",
       "4      Just When His World Is Back To Normal... He's ...   \n",
       "...                                                  ...   \n",
       "45336                                                NaN   \n",
       "45337         Rising and falling between a man and woman   \n",
       "45338                             A deadly game of wits.   \n",
       "45339                                                NaN   \n",
       "45340                                                NaN   \n",
       "\n",
       "                             title  video vote_average vote_count  \n",
       "0                        Toy Story  False          7.7     5415.0  \n",
       "1                          Jumanji  False          6.9     2413.0  \n",
       "2                 Grumpier Old Men  False          6.5       92.0  \n",
       "3                Waiting to Exhale  False          6.1       34.0  \n",
       "4      Father of the Bride Part II  False          5.7      173.0  \n",
       "...                            ...    ...          ...        ...  \n",
       "45336                   Robin Hood  False          5.7       26.0  \n",
       "45337                       Subdue  False          4.0        1.0  \n",
       "45338                     Betrayal  False          3.8        6.0  \n",
       "45339             Satan Triumphant  False          0.0        0.0  \n",
       "45340                     Queerama  False          0.0        0.0  \n",
       "\n",
       "[45341 rows x 23 columns]"
      ]
     },
     "execution_count": 303,
     "metadata": {},
     "output_type": "execute_result"
    }
   ],
   "source": [
    "data2"
   ]
  },
  {
   "cell_type": "code",
   "execution_count": 304,
   "metadata": {},
   "outputs": [],
   "source": [
    "def create_rec(x):       \n",
    "    return ' '.join(x['cast']) + ' ' + ' '.join(x['crew']) \n",
    "data2['rec'] = data2.apply(create_rec, axis=1)"
   ]
  },
  {
   "cell_type": "code",
   "execution_count": 305,
   "metadata": {},
   "outputs": [
    {
     "data": {
      "text/plain": [
       "'michaeldouglas annettebening michaelj.fox martinsheen annadeaveresmith shawnawaldron samanthamathis davidpaymer richarddreyfuss ninasiemaszko wendiemalick beaubillingslea gailstrickland joshuamalina clementvonfranckenstein johnmahoney johnmahon gabrieljarret robreiner'"
      ]
     },
     "execution_count": 305,
     "metadata": {},
     "output_type": "execute_result"
    }
   ],
   "source": [
    "data2[\"rec\"][10]"
   ]
  },
  {
   "cell_type": "code",
   "execution_count": null,
   "metadata": {},
   "outputs": [],
   "source": []
  },
  {
   "cell_type": "code",
   "execution_count": 306,
   "metadata": {},
   "outputs": [],
   "source": [
    "from sklearn.feature_extraction.text import TfidfVectorizer\n",
    "tfidf = TfidfVectorizer(stop_words='english')"
   ]
  },
  {
   "cell_type": "code",
   "execution_count": 307,
   "metadata": {},
   "outputs": [],
   "source": [
    "data2[\"rec\"] = data2[\"rec\"].fillna(\"\")"
   ]
  },
  {
   "cell_type": "code",
   "execution_count": 308,
   "metadata": {},
   "outputs": [
    {
     "data": {
      "text/plain": [
       "(45341, 218784)"
      ]
     },
     "execution_count": 308,
     "metadata": {},
     "output_type": "execute_result"
    }
   ],
   "source": [
    "feature_vect_simple = tfidf.fit_transform(data2[\"rec\"])\n",
    "feature_vect_simple.shape"
   ]
  },
  {
   "cell_type": "code",
   "execution_count": null,
   "metadata": {},
   "outputs": [],
   "source": []
  },
  {
   "cell_type": "code",
   "execution_count": 309,
   "metadata": {},
   "outputs": [],
   "source": [
    "from sklearn.metrics.pairwise import cosine_similarity"
   ]
  },
  {
   "cell_type": "code",
   "execution_count": 310,
   "metadata": {},
   "outputs": [
    {
     "ename": "MemoryError",
     "evalue": "Unable to allocate 15.3 GiB for an array with shape (45341, 45341) and data type float64",
     "output_type": "error",
     "traceback": [
      "\u001b[1;31m---------------------------------------------------------------------------\u001b[0m",
      "\u001b[1;31mMemoryError\u001b[0m                               Traceback (most recent call last)",
      "\u001b[1;32m<ipython-input-310-7ff2535dc211>\u001b[0m in \u001b[0;36m<module>\u001b[1;34m\u001b[0m\n\u001b[1;32m----> 1\u001b[1;33m \u001b[0msim_pair\u001b[0m \u001b[1;33m=\u001b[0m \u001b[0mcosine_similarity\u001b[0m\u001b[1;33m(\u001b[0m\u001b[0mfeature_vect_simple\u001b[0m\u001b[1;33m,\u001b[0m \u001b[0mfeature_vect_simple\u001b[0m\u001b[1;33m)\u001b[0m\u001b[1;33m\u001b[0m\u001b[1;33m\u001b[0m\u001b[0m\n\u001b[0m",
      "\u001b[1;32mC:\\ProgramData\\Anaconda3\\envs\\testtest\\lib\\site-packages\\sklearn\\metrics\\pairwise.py\u001b[0m in \u001b[0;36mcosine_similarity\u001b[1;34m(X, Y, dense_output)\u001b[0m\n\u001b[0;32m   1186\u001b[0m \u001b[1;33m\u001b[0m\u001b[0m\n\u001b[0;32m   1187\u001b[0m     K = safe_sparse_dot(X_normalized, Y_normalized.T,\n\u001b[1;32m-> 1188\u001b[1;33m                         dense_output=dense_output)\n\u001b[0m\u001b[0;32m   1189\u001b[0m \u001b[1;33m\u001b[0m\u001b[0m\n\u001b[0;32m   1190\u001b[0m     \u001b[1;32mreturn\u001b[0m \u001b[0mK\u001b[0m\u001b[1;33m\u001b[0m\u001b[1;33m\u001b[0m\u001b[0m\n",
      "\u001b[1;32mC:\\ProgramData\\Anaconda3\\envs\\testtest\\lib\\site-packages\\sklearn\\utils\\validation.py\u001b[0m in \u001b[0;36minner_f\u001b[1;34m(*args, **kwargs)\u001b[0m\n\u001b[0;32m     70\u001b[0m                           FutureWarning)\n\u001b[0;32m     71\u001b[0m         \u001b[0mkwargs\u001b[0m\u001b[1;33m.\u001b[0m\u001b[0mupdate\u001b[0m\u001b[1;33m(\u001b[0m\u001b[1;33m{\u001b[0m\u001b[0mk\u001b[0m\u001b[1;33m:\u001b[0m \u001b[0marg\u001b[0m \u001b[1;32mfor\u001b[0m \u001b[0mk\u001b[0m\u001b[1;33m,\u001b[0m \u001b[0marg\u001b[0m \u001b[1;32min\u001b[0m \u001b[0mzip\u001b[0m\u001b[1;33m(\u001b[0m\u001b[0msig\u001b[0m\u001b[1;33m.\u001b[0m\u001b[0mparameters\u001b[0m\u001b[1;33m,\u001b[0m \u001b[0margs\u001b[0m\u001b[1;33m)\u001b[0m\u001b[1;33m}\u001b[0m\u001b[1;33m)\u001b[0m\u001b[1;33m\u001b[0m\u001b[1;33m\u001b[0m\u001b[0m\n\u001b[1;32m---> 72\u001b[1;33m         \u001b[1;32mreturn\u001b[0m \u001b[0mf\u001b[0m\u001b[1;33m(\u001b[0m\u001b[1;33m**\u001b[0m\u001b[0mkwargs\u001b[0m\u001b[1;33m)\u001b[0m\u001b[1;33m\u001b[0m\u001b[1;33m\u001b[0m\u001b[0m\n\u001b[0m\u001b[0;32m     73\u001b[0m     \u001b[1;32mreturn\u001b[0m \u001b[0minner_f\u001b[0m\u001b[1;33m\u001b[0m\u001b[1;33m\u001b[0m\u001b[0m\n\u001b[0;32m     74\u001b[0m \u001b[1;33m\u001b[0m\u001b[0m\n",
      "\u001b[1;32mC:\\ProgramData\\Anaconda3\\envs\\testtest\\lib\\site-packages\\sklearn\\utils\\extmath.py\u001b[0m in \u001b[0;36msafe_sparse_dot\u001b[1;34m(a, b, dense_output)\u001b[0m\n\u001b[0;32m    155\u001b[0m     if (sparse.issparse(a) and sparse.issparse(b)\n\u001b[0;32m    156\u001b[0m             and dense_output and hasattr(ret, \"toarray\")):\n\u001b[1;32m--> 157\u001b[1;33m         \u001b[1;32mreturn\u001b[0m \u001b[0mret\u001b[0m\u001b[1;33m.\u001b[0m\u001b[0mtoarray\u001b[0m\u001b[1;33m(\u001b[0m\u001b[1;33m)\u001b[0m\u001b[1;33m\u001b[0m\u001b[1;33m\u001b[0m\u001b[0m\n\u001b[0m\u001b[0;32m    158\u001b[0m     \u001b[1;32mreturn\u001b[0m \u001b[0mret\u001b[0m\u001b[1;33m\u001b[0m\u001b[1;33m\u001b[0m\u001b[0m\n\u001b[0;32m    159\u001b[0m \u001b[1;33m\u001b[0m\u001b[0m\n",
      "\u001b[1;32mC:\\ProgramData\\Anaconda3\\envs\\testtest\\lib\\site-packages\\scipy\\sparse\\compressed.py\u001b[0m in \u001b[0;36mtoarray\u001b[1;34m(self, order, out)\u001b[0m\n\u001b[0;32m   1023\u001b[0m         \u001b[1;32mif\u001b[0m \u001b[0mout\u001b[0m \u001b[1;32mis\u001b[0m \u001b[1;32mNone\u001b[0m \u001b[1;32mand\u001b[0m \u001b[0morder\u001b[0m \u001b[1;32mis\u001b[0m \u001b[1;32mNone\u001b[0m\u001b[1;33m:\u001b[0m\u001b[1;33m\u001b[0m\u001b[1;33m\u001b[0m\u001b[0m\n\u001b[0;32m   1024\u001b[0m             \u001b[0morder\u001b[0m \u001b[1;33m=\u001b[0m \u001b[0mself\u001b[0m\u001b[1;33m.\u001b[0m\u001b[0m_swap\u001b[0m\u001b[1;33m(\u001b[0m\u001b[1;34m'cf'\u001b[0m\u001b[1;33m)\u001b[0m\u001b[1;33m[\u001b[0m\u001b[1;36m0\u001b[0m\u001b[1;33m]\u001b[0m\u001b[1;33m\u001b[0m\u001b[1;33m\u001b[0m\u001b[0m\n\u001b[1;32m-> 1025\u001b[1;33m         \u001b[0mout\u001b[0m \u001b[1;33m=\u001b[0m \u001b[0mself\u001b[0m\u001b[1;33m.\u001b[0m\u001b[0m_process_toarray_args\u001b[0m\u001b[1;33m(\u001b[0m\u001b[0morder\u001b[0m\u001b[1;33m,\u001b[0m \u001b[0mout\u001b[0m\u001b[1;33m)\u001b[0m\u001b[1;33m\u001b[0m\u001b[1;33m\u001b[0m\u001b[0m\n\u001b[0m\u001b[0;32m   1026\u001b[0m         \u001b[1;32mif\u001b[0m \u001b[1;32mnot\u001b[0m \u001b[1;33m(\u001b[0m\u001b[0mout\u001b[0m\u001b[1;33m.\u001b[0m\u001b[0mflags\u001b[0m\u001b[1;33m.\u001b[0m\u001b[0mc_contiguous\u001b[0m \u001b[1;32mor\u001b[0m \u001b[0mout\u001b[0m\u001b[1;33m.\u001b[0m\u001b[0mflags\u001b[0m\u001b[1;33m.\u001b[0m\u001b[0mf_contiguous\u001b[0m\u001b[1;33m)\u001b[0m\u001b[1;33m:\u001b[0m\u001b[1;33m\u001b[0m\u001b[1;33m\u001b[0m\u001b[0m\n\u001b[0;32m   1027\u001b[0m             \u001b[1;32mraise\u001b[0m \u001b[0mValueError\u001b[0m\u001b[1;33m(\u001b[0m\u001b[1;34m'Output array must be C or F contiguous'\u001b[0m\u001b[1;33m)\u001b[0m\u001b[1;33m\u001b[0m\u001b[1;33m\u001b[0m\u001b[0m\n",
      "\u001b[1;32mC:\\ProgramData\\Anaconda3\\envs\\testtest\\lib\\site-packages\\scipy\\sparse\\base.py\u001b[0m in \u001b[0;36m_process_toarray_args\u001b[1;34m(self, order, out)\u001b[0m\n\u001b[0;32m   1183\u001b[0m             \u001b[1;32mreturn\u001b[0m \u001b[0mout\u001b[0m\u001b[1;33m\u001b[0m\u001b[1;33m\u001b[0m\u001b[0m\n\u001b[0;32m   1184\u001b[0m         \u001b[1;32melse\u001b[0m\u001b[1;33m:\u001b[0m\u001b[1;33m\u001b[0m\u001b[1;33m\u001b[0m\u001b[0m\n\u001b[1;32m-> 1185\u001b[1;33m             \u001b[1;32mreturn\u001b[0m \u001b[0mnp\u001b[0m\u001b[1;33m.\u001b[0m\u001b[0mzeros\u001b[0m\u001b[1;33m(\u001b[0m\u001b[0mself\u001b[0m\u001b[1;33m.\u001b[0m\u001b[0mshape\u001b[0m\u001b[1;33m,\u001b[0m \u001b[0mdtype\u001b[0m\u001b[1;33m=\u001b[0m\u001b[0mself\u001b[0m\u001b[1;33m.\u001b[0m\u001b[0mdtype\u001b[0m\u001b[1;33m,\u001b[0m \u001b[0morder\u001b[0m\u001b[1;33m=\u001b[0m\u001b[0morder\u001b[0m\u001b[1;33m)\u001b[0m\u001b[1;33m\u001b[0m\u001b[1;33m\u001b[0m\u001b[0m\n\u001b[0m\u001b[0;32m   1186\u001b[0m \u001b[1;33m\u001b[0m\u001b[0m\n\u001b[0;32m   1187\u001b[0m \u001b[1;33m\u001b[0m\u001b[0m\n",
      "\u001b[1;31mMemoryError\u001b[0m: Unable to allocate 15.3 GiB for an array with shape (45341, 45341) and data type float64"
     ]
    }
   ],
   "source": [
    "sim_pair = cosine_similarity(feature_vect_simple, feature_vect_simple)"
   ]
  },
  {
   "cell_type": "code",
   "execution_count": null,
   "metadata": {},
   "outputs": [],
   "source": []
  },
  {
   "cell_type": "code",
   "execution_count": null,
   "metadata": {},
   "outputs": [],
   "source": [
    "data2 = data2.reset_index()\n",
    "indices = pd.Series(data2.index, index=data2['title'])"
   ]
  },
  {
   "cell_type": "code",
   "execution_count": null,
   "metadata": {},
   "outputs": [],
   "source": []
  },
  {
   "cell_type": "code",
   "execution_count": null,
   "metadata": {},
   "outputs": [],
   "source": []
  },
  {
   "cell_type": "code",
   "execution_count": null,
   "metadata": {},
   "outputs": [],
   "source": []
  },
  {
   "cell_type": "code",
   "execution_count": null,
   "metadata": {},
   "outputs": [],
   "source": []
  }
 ],
 "metadata": {
  "kernelspec": {
   "display_name": "testtest",
   "language": "python",
   "name": "testtest"
  },
  "language_info": {
   "codemirror_mode": {
    "name": "ipython",
    "version": 3
   },
   "file_extension": ".py",
   "mimetype": "text/x-python",
   "name": "python",
   "nbconvert_exporter": "python",
   "pygments_lexer": "ipython3",
   "version": "3.7.9"
  }
 },
 "nbformat": 4,
 "nbformat_minor": 4
}
